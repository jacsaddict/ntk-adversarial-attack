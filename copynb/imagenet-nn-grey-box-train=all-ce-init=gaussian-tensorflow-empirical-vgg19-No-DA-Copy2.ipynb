{
 "cells": [
  {
   "cell_type": "code",
   "execution_count": 1,
   "metadata": {},
   "outputs": [],
   "source": [
    "import numpy as onp\n",
    "import tensorflow as tf\n",
    "import matplotlib.pyplot as plt\n",
    "\n",
    "from utils import *"
   ]
  },
  {
   "cell_type": "code",
   "execution_count": 2,
   "metadata": {},
   "outputs": [
    {
     "name": "stdout",
     "output_type": "stream",
     "text": [
      "1 Physical GPUs, 1 Logical GPU\n"
     ]
    }
   ],
   "source": [
    "gpus = tf.config.experimental.list_physical_devices('GPU')\n",
    "if gpus:\n",
    "  # Restrict TensorFlow to only use the first GPU\n",
    "    try:\n",
    "        tf.config.experimental.set_visible_devices(gpus[0], 'GPU')\n",
    "        logical_gpus = tf.config.experimental.list_logical_devices('GPU')\n",
    "        print(len(gpus), \"Physical GPUs,\", len(logical_gpus), \"Logical GPU\")\n",
    "    except RuntimeError as e:\n",
    "    # Visible devices must be set before GPUs have been initialized\n",
    "        print(e)"
   ]
  },
  {
   "cell_type": "markdown",
   "metadata": {},
   "source": [
    "# data"
   ]
  },
  {
   "cell_type": "code",
   "execution_count": 3,
   "metadata": {},
   "outputs": [],
   "source": [
    "DATASET = 'imagenet'\n",
    "class_num   = 2\n",
    "image_shape = (224, 224, 3)\n",
    "\n",
    "batch_size = 32\n",
    "train_size = None\n",
    "test_size = 100\n",
    "\n",
    "epochs = 50\n",
    "eps = 0.03"
   ]
  },
  {
   "cell_type": "code",
   "execution_count": 4,
   "metadata": {},
   "outputs": [],
   "source": [
    "def one_hot(x, k, dtype=np.float64):\n",
    "    \"\"\"Create a one-hot encoding of x of size k.\"\"\"\n",
    "    return onp.array(x[:, None] == onp.arange(k), dtype)"
   ]
  },
  {
   "cell_type": "code",
   "execution_count": 5,
   "metadata": {},
   "outputs": [],
   "source": [
    "x_train = onp.load('../../Jimmy/ntk_nngp/source/dataset/imagenet_x_train.npy')[:2000]\n",
    "y_train = onp.load('../../Jimmy/ntk_nngp/source/dataset/imagenet_y_train.npy')[:2000]\n",
    "\n",
    "x_valid = onp.load('../../Jimmy/ntk_nngp/source/dataset/imagenet_x_train.npy')[2000:]\n",
    "y_valid = onp.load('../../Jimmy/ntk_nngp/source/dataset/imagenet_y_train.npy')[2000:]\n",
    "\n",
    "x_test = onp.load('../../Jimmy/ntk_nngp/source/dataset/imagenet_x_test.npy')\n",
    "y_test = onp.load('../../Jimmy/ntk_nngp/source/dataset/imagenet_y_test.npy')"
   ]
  },
  {
   "cell_type": "code",
   "execution_count": 6,
   "metadata": {},
   "outputs": [],
   "source": [
    "# shuffle\n",
    "seed = 0\n",
    "x_train, y_train = shaffle(x_train, y_train, seed)"
   ]
  },
  {
   "cell_type": "code",
   "execution_count": 7,
   "metadata": {},
   "outputs": [],
   "source": [
    "train_ds = tf.data.Dataset.from_tensor_slices((x_train, y_train))\n",
    "train_ds = train_ds.shuffle(\n",
    "    5000\n",
    ").batch(\n",
    "    batch_size\n",
    ").prefetch(10)"
   ]
  },
  {
   "cell_type": "code",
   "execution_count": 8,
   "metadata": {},
   "outputs": [],
   "source": [
    "valid_ds = tf.data.Dataset.from_tensor_slices((x_valid, y_valid))\n",
    "valid_ds = valid_ds.batch(20).prefetch(10)"
   ]
  },
  {
   "cell_type": "markdown",
   "metadata": {},
   "source": [
    "# model"
   ]
  },
  {
   "cell_type": "code",
   "execution_count": 9,
   "metadata": {},
   "outputs": [],
   "source": [
    "layers = tf.keras.layers"
   ]
  },
  {
   "cell_type": "code",
   "execution_count": 10,
   "metadata": {},
   "outputs": [],
   "source": [
    "img_input = layers.Input(shape=image_shape)\n",
    "x = layers.Conv2D(64, (3, 3), activation='relu', padding='same', \n",
    "                  kernel_initializer=tf.keras.initializers.GlorotNormal())(img_input)\n",
    "x = layers.Conv2D(64, (3, 3), activation='relu', padding='same',\n",
    "                 kernel_initializer=tf.keras.initializers.GlorotNormal())(x)\n",
    "x = layers.Conv2D(64, (3, 3), activation='relu', padding='same',\n",
    "                 kernel_initializer=tf.keras.initializers.GlorotNormal())(x)\n",
    "x = layers.Flatten()(x)\n",
    "x = layers.Dense(64, activation='relu', kernel_initializer=tf.keras.initializers.GlorotNormal())(x)\n",
    "out = layers.Dense(class_num, kernel_initializer=tf.keras.initializers.GlorotNormal())(x)\n",
    "\n",
    "model = tf.keras.Model(inputs=img_input, outputs=out)"
   ]
  },
  {
   "cell_type": "code",
   "execution_count": 11,
   "metadata": {},
   "outputs": [],
   "source": [
    "def scheduler(epoch, lr):\n",
    "    if epoch < 10:\n",
    "        return 1e-3\n",
    "    elif epoch < 90:\n",
    "        return 1e-2\n",
    "    elif epoch < 150:\n",
    "        return 1e-3\n",
    "    else:\n",
    "        return 1e-4"
   ]
  },
  {
   "cell_type": "code",
   "execution_count": 12,
   "metadata": {},
   "outputs": [],
   "source": [
    "model.compile(optimizer=tf.keras.optimizers.SGD(momentum=0.5),\n",
    "              loss=tf.keras.losses.CategoricalCrossentropy(from_logits=True),\n",
    "              metrics=['accuracy'])"
   ]
  },
  {
   "cell_type": "code",
   "execution_count": 13,
   "metadata": {},
   "outputs": [],
   "source": [
    "callback = tf.keras.callbacks.LearningRateScheduler(scheduler)"
   ]
  },
  {
   "cell_type": "code",
   "execution_count": 14,
   "metadata": {
    "scrolled": true
   },
   "outputs": [
    {
     "name": "stdout",
     "output_type": "stream",
     "text": [
      "Epoch 1/50\n",
      "63/63 [==============================] - 17s 264ms/step - loss: 0.4165 - accuracy: 0.8210 - val_loss: 0.0000e+00 - val_accuracy: 0.0000e+00\n",
      "Epoch 2/50\n",
      "63/63 [==============================] - 8s 133ms/step - loss: 0.2532 - accuracy: 0.9095 - val_loss: 0.4656 - val_accuracy: 0.8364\n",
      "Epoch 3/50\n",
      "63/63 [==============================] - 3s 52ms/step - loss: 0.2469 - accuracy: 0.9195 - val_loss: 0.4218 - val_accuracy: 0.8636\n",
      "Epoch 4/50\n",
      "63/63 [==============================] - 3s 49ms/step - loss: 0.2315 - accuracy: 0.9195 - val_loss: 0.4239 - val_accuracy: 0.8545\n",
      "Epoch 5/50\n",
      "63/63 [==============================] - 3s 48ms/step - loss: 0.2143 - accuracy: 0.9300 - val_loss: 0.4176 - val_accuracy: 0.8545\n",
      "Epoch 6/50\n",
      "63/63 [==============================] - 3s 49ms/step - loss: 0.2075 - accuracy: 0.9345 - val_loss: 0.2851 - val_accuracy: 0.8909\n",
      "Epoch 7/50\n",
      "63/63 [==============================] - 3s 46ms/step - loss: 0.1990 - accuracy: 0.9310 - val_loss: 0.2402 - val_accuracy: 0.9136\n",
      "Epoch 8/50\n",
      "63/63 [==============================] - 3s 46ms/step - loss: 0.1915 - accuracy: 0.9320 - val_loss: 0.1596 - val_accuracy: 0.9273\n",
      "Epoch 9/50\n",
      "63/63 [==============================] - 3s 47ms/step - loss: 0.1953 - accuracy: 0.9310 - val_loss: 0.2512 - val_accuracy: 0.9091\n",
      "Epoch 10/50\n",
      "63/63 [==============================] - 3s 47ms/step - loss: 0.1810 - accuracy: 0.9400 - val_loss: 0.3797 - val_accuracy: 0.8591\n",
      "Epoch 11/50\n",
      "63/63 [==============================] - 3s 46ms/step - loss: 0.4118 - accuracy: 0.8650 - val_loss: 0.6419 - val_accuracy: 0.8182\n",
      "Epoch 12/50\n",
      "63/63 [==============================] - 3s 46ms/step - loss: 0.2435 - accuracy: 0.9130 - val_loss: 0.2892 - val_accuracy: 0.8909\n",
      "Epoch 13/50\n",
      "63/63 [==============================] - 3s 46ms/step - loss: 0.1985 - accuracy: 0.9290 - val_loss: 0.1361 - val_accuracy: 0.9500\n",
      "Epoch 14/50\n",
      "63/63 [==============================] - 3s 46ms/step - loss: 0.1945 - accuracy: 0.9395 - val_loss: 0.2032 - val_accuracy: 0.9000\n",
      "Epoch 15/50\n",
      "63/63 [==============================] - 3s 46ms/step - loss: 0.2084 - accuracy: 0.9300 - val_loss: 0.3122 - val_accuracy: 0.8909\n",
      "Epoch 16/50\n",
      "63/63 [==============================] - 3s 47ms/step - loss: 0.1833 - accuracy: 0.9365 - val_loss: 0.1034 - val_accuracy: 0.9455\n",
      "Epoch 17/50\n",
      "63/63 [==============================] - 3s 47ms/step - loss: 0.1535 - accuracy: 0.9520 - val_loss: 0.3234 - val_accuracy: 0.8909\n",
      "Epoch 18/50\n",
      "63/63 [==============================] - 3s 47ms/step - loss: 0.1263 - accuracy: 0.9550 - val_loss: 0.1420 - val_accuracy: 0.9273\n",
      "Epoch 19/50\n",
      "63/63 [==============================] - 3s 46ms/step - loss: 0.1230 - accuracy: 0.9560 - val_loss: 0.2515 - val_accuracy: 0.8955\n",
      "Epoch 20/50\n",
      "63/63 [==============================] - 3s 46ms/step - loss: 0.1040 - accuracy: 0.9615 - val_loss: 0.0564 - val_accuracy: 0.9682\n",
      "Epoch 21/50\n",
      "63/63 [==============================] - 3s 46ms/step - loss: 0.0853 - accuracy: 0.9730 - val_loss: 0.4333 - val_accuracy: 0.8455\n",
      "Epoch 22/50\n",
      "63/63 [==============================] - 3s 46ms/step - loss: 0.0813 - accuracy: 0.9710 - val_loss: 0.1634 - val_accuracy: 0.9318\n",
      "Epoch 23/50\n",
      "63/63 [==============================] - 3s 46ms/step - loss: 0.0869 - accuracy: 0.9760 - val_loss: 0.0599 - val_accuracy: 0.9727\n",
      "Epoch 24/50\n",
      "63/63 [==============================] - 3s 47ms/step - loss: 0.0668 - accuracy: 0.9760 - val_loss: 0.2007 - val_accuracy: 0.9500\n",
      "Epoch 25/50\n",
      "63/63 [==============================] - 3s 47ms/step - loss: 0.0489 - accuracy: 0.9865 - val_loss: 0.2599 - val_accuracy: 0.9227\n",
      "Epoch 26/50\n",
      "63/63 [==============================] - 3s 46ms/step - loss: 0.0413 - accuracy: 0.9860 - val_loss: 0.2579 - val_accuracy: 0.9227\n",
      "Epoch 27/50\n",
      "63/63 [==============================] - 3s 46ms/step - loss: 0.0745 - accuracy: 0.9775 - val_loss: 0.1373 - val_accuracy: 0.9500\n",
      "Epoch 28/50\n",
      "63/63 [==============================] - 3s 47ms/step - loss: 0.0286 - accuracy: 0.9915 - val_loss: 0.2686 - val_accuracy: 0.9273\n",
      "Epoch 29/50\n",
      "63/63 [==============================] - 3s 46ms/step - loss: 0.0220 - accuracy: 0.9940 - val_loss: 0.1165 - val_accuracy: 0.9727\n",
      "Epoch 30/50\n",
      "63/63 [==============================] - 3s 46ms/step - loss: 0.0413 - accuracy: 0.9825 - val_loss: 3.5868 - val_accuracy: 0.4636\n",
      "Epoch 31/50\n",
      "63/63 [==============================] - 3s 46ms/step - loss: 0.1754 - accuracy: 0.9435 - val_loss: 0.3237 - val_accuracy: 0.9000\n",
      "Epoch 32/50\n",
      "63/63 [==============================] - 3s 46ms/step - loss: 0.0563 - accuracy: 0.9815 - val_loss: 0.2065 - val_accuracy: 0.9227\n",
      "Epoch 33/50\n",
      "63/63 [==============================] - 3s 46ms/step - loss: 0.0652 - accuracy: 0.9785 - val_loss: 0.1750 - val_accuracy: 0.9455\n",
      "Epoch 34/50\n",
      "63/63 [==============================] - 3s 46ms/step - loss: 0.0235 - accuracy: 0.9945 - val_loss: 0.2239 - val_accuracy: 0.9455\n",
      "Epoch 35/50\n",
      "63/63 [==============================] - 3s 47ms/step - loss: 0.0149 - accuracy: 0.9955 - val_loss: 0.2017 - val_accuracy: 0.9591\n",
      "Epoch 36/50\n",
      "63/63 [==============================] - 3s 47ms/step - loss: 0.0113 - accuracy: 0.9980 - val_loss: 0.1469 - val_accuracy: 0.9591\n",
      "Epoch 37/50\n",
      "63/63 [==============================] - 3s 46ms/step - loss: 0.0274 - accuracy: 0.9925 - val_loss: 0.1544 - val_accuracy: 0.9455\n",
      "Epoch 38/50\n",
      "63/63 [==============================] - 3s 47ms/step - loss: 0.0275 - accuracy: 0.9935 - val_loss: 0.2897 - val_accuracy: 0.9545\n",
      "Epoch 39/50\n",
      "63/63 [==============================] - 3s 47ms/step - loss: 0.0308 - accuracy: 0.9915 - val_loss: 0.2451 - val_accuracy: 0.9455\n",
      "Epoch 40/50\n",
      "63/63 [==============================] - 3s 46ms/step - loss: 0.0397 - accuracy: 0.9870 - val_loss: 0.2971 - val_accuracy: 0.9182\n",
      "Epoch 41/50\n",
      "63/63 [==============================] - 3s 47ms/step - loss: 0.0450 - accuracy: 0.9845 - val_loss: 0.1385 - val_accuracy: 0.9773\n",
      "Epoch 42/50\n",
      "63/63 [==============================] - 3s 46ms/step - loss: 0.0147 - accuracy: 0.9950 - val_loss: 0.2980 - val_accuracy: 0.9409\n",
      "Epoch 43/50\n",
      "63/63 [==============================] - 3s 46ms/step - loss: 0.0068 - accuracy: 0.9985 - val_loss: 0.3172 - val_accuracy: 0.9409\n",
      "Epoch 44/50\n",
      "63/63 [==============================] - 3s 47ms/step - loss: 0.0049 - accuracy: 0.9990 - val_loss: 0.2081 - val_accuracy: 0.9727\n",
      "Epoch 45/50\n",
      "63/63 [==============================] - 3s 46ms/step - loss: 0.0060 - accuracy: 0.9990 - val_loss: 0.2369 - val_accuracy: 0.9591\n",
      "Epoch 46/50\n",
      "63/63 [==============================] - 3s 46ms/step - loss: 0.0033 - accuracy: 0.9995 - val_loss: 0.2917 - val_accuracy: 0.9500\n",
      "Epoch 47/50\n",
      "63/63 [==============================] - 3s 47ms/step - loss: 0.0016 - accuracy: 1.0000 - val_loss: 0.2723 - val_accuracy: 0.9500\n",
      "Epoch 48/50\n",
      "63/63 [==============================] - 3s 46ms/step - loss: 0.0011 - accuracy: 1.0000 - val_loss: 0.3293 - val_accuracy: 0.9500\n",
      "Epoch 49/50\n",
      "63/63 [==============================] - 3s 46ms/step - loss: 8.9404e-04 - accuracy: 1.0000 - val_loss: 0.3364 - val_accuracy: 0.9500\n",
      "Epoch 50/50\n",
      "63/63 [==============================] - 3s 47ms/step - loss: 7.6757e-04 - accuracy: 1.0000 - val_loss: 0.3400 - val_accuracy: 0.9500\n"
     ]
    },
    {
     "data": {
      "text/plain": [
       "<tensorflow.python.keras.callbacks.History at 0x7f69782e1e80>"
      ]
     },
     "execution_count": 14,
     "metadata": {},
     "output_type": "execute_result"
    }
   ],
   "source": [
    "model.fit(x=train_ds, validation_data=valid_ds, epochs=epochs, callbacks=[callback])"
   ]
  },
  {
   "cell_type": "code",
   "execution_count": 15,
   "metadata": {},
   "outputs": [],
   "source": [
    "model.save_weights('./model_weights/simple_cnn_train=imagenet_all-without-DA_ce.h5')"
   ]
  },
  {
   "cell_type": "code",
   "execution_count": 16,
   "metadata": {},
   "outputs": [
    {
     "data": {
      "text/plain": [
       "[0.7330503940582276, 0.92]"
      ]
     },
     "execution_count": 16,
     "metadata": {},
     "output_type": "execute_result"
    }
   ],
   "source": [
    "model.evaluate(x=x_test, y=y_test, verbose=0)"
   ]
  },
  {
   "cell_type": "code",
   "execution_count": null,
   "metadata": {},
   "outputs": [],
   "source": []
  },
  {
   "cell_type": "code",
   "execution_count": null,
   "metadata": {},
   "outputs": [],
   "source": []
  },
  {
   "cell_type": "code",
   "execution_count": null,
   "metadata": {},
   "outputs": [],
   "source": []
  },
  {
   "cell_type": "code",
   "execution_count": null,
   "metadata": {},
   "outputs": [],
   "source": []
  },
  {
   "cell_type": "code",
   "execution_count": null,
   "metadata": {},
   "outputs": [],
   "source": []
  },
  {
   "cell_type": "code",
   "execution_count": null,
   "metadata": {},
   "outputs": [],
   "source": []
  },
  {
   "cell_type": "code",
   "execution_count": null,
   "metadata": {},
   "outputs": [],
   "source": []
  }
 ],
 "metadata": {
  "kernelspec": {
   "display_name": "Python 3",
   "language": "python",
   "name": "python3"
  },
  "language_info": {
   "codemirror_mode": {
    "name": "ipython",
    "version": 3
   },
   "file_extension": ".py",
   "mimetype": "text/x-python",
   "name": "python",
   "nbconvert_exporter": "python",
   "pygments_lexer": "ipython3",
   "version": "3.6.8"
  }
 },
 "nbformat": 4,
 "nbformat_minor": 2
}
