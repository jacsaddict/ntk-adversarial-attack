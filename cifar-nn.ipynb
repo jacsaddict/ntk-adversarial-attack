{
 "cells": [
  {
   "cell_type": "code",
   "execution_count": 1,
   "metadata": {},
   "outputs": [],
   "source": [
    "import numpy as onp\n",
    "import tensorflow as tf\n",
    "import matplotlib.pyplot as plt\n",
    "\n",
    "from utils import *"
   ]
  },
  {
   "cell_type": "code",
   "execution_count": 2,
   "metadata": {},
   "outputs": [
    {
     "name": "stdout",
     "output_type": "stream",
     "text": [
      "1 Physical GPUs, 1 Logical GPU\n"
     ]
    }
   ],
   "source": [
    "gpus = tf.config.experimental.list_physical_devices('GPU')\n",
    "if gpus:\n",
    "  # Restrict TensorFlow to only use the first GPU\n",
    "    try:\n",
    "        tf.config.experimental.set_visible_devices(gpus[0], 'GPU')\n",
    "        logical_gpus = tf.config.experimental.list_logical_devices('GPU')\n",
    "        print(len(gpus), \"Physical GPUs,\", len(logical_gpus), \"Logical GPU\")\n",
    "    except RuntimeError as e:\n",
    "    # Visible devices must be set before GPUs have been initialized\n",
    "        print(e)"
   ]
  },
  {
   "cell_type": "markdown",
   "metadata": {},
   "source": [
    "# hyperparameters"
   ]
  },
  {
   "cell_type": "code",
   "execution_count": 3,
   "metadata": {},
   "outputs": [],
   "source": [
    "#data\n",
    "DATASET = 'cifar10'\n",
    "class_num   = 10\n",
    "test_size   = 2048\n",
    "image_shape = None\n",
    "\n",
    "if DATASET =='mnist':\n",
    "    image_shape = (28, 28)\n",
    "elif DATASET == 'cifar10':\n",
    "    image_shape = (32, 32, 3)\n",
    "\n",
    "#training\n",
    "run = 10\n",
    "batch_size = 64\n",
    "epoch = 1000/10"
   ]
  },
  {
   "cell_type": "code",
   "execution_count": 4,
   "metadata": {},
   "outputs": [],
   "source": [
    "x_train_all, y_train_all, x_test_all, y_test_all = tuple(onp.array(x) for x in get_dataset(DATASET, None, None, \n",
    "                                                                                  do_flatten_and_normalize=False))"
   ]
  },
  {
   "cell_type": "code",
   "execution_count": 5,
   "metadata": {},
   "outputs": [],
   "source": [
    "FGSM = []\n",
    "PGD_10 = []\n",
    "PGD_100 = []\n",
    "for base_model_layer in range(0, 51, 10):\n",
    "    FGSM.append(onp.load(\"./npy/%s_FGSM_%d_layer.npy\"%(DATASET, base_model_layer)))\n",
    "    PGD_10.append(onp.load(\"./npy/%s_PGD_10_%d_layer.npy\"%(DATASET, base_model_layer)))\n",
    "    PGD_100.append(onp.load(\"./npy/%s_PGD_10_%d_layer.npy\"%(DATASET, base_model_layer)))"
   ]
  },
  {
   "cell_type": "code",
   "execution_count": 6,
   "metadata": {},
   "outputs": [],
   "source": [
    "y_test = onp.load(\"./npy/%s_y_test.npy\"%(DATASET))"
   ]
  },
  {
   "cell_type": "code",
   "execution_count": 7,
   "metadata": {},
   "outputs": [],
   "source": [
    "x_test = onp.load(\"./npy/%s_x_test.npy\"%(DATASET))"
   ]
  },
  {
   "cell_type": "code",
   "execution_count": 8,
   "metadata": {},
   "outputs": [],
   "source": [
    "class Model(tf.keras.Model):\n",
    "    def __init__(self, layers):\n",
    "        super(Model, self).__init__()\n",
    "        self.layers_num = layers\n",
    "        self.conv = [tf.keras.layers.Conv2D(64, (3,3)) for i in range(self.layers_num)]\n",
    "        self.flatten = tf.keras.layers.Flatten()\n",
    "        self.out = tf.keras.layers.Dense(10)\n",
    "        \n",
    "    def call(self, inputs):\n",
    "        x = inputs\n",
    "        for f in self.conv:\n",
    "            x = f(x)\n",
    "            x = tf.math.erf(x)\n",
    "            \n",
    "        x = self.flatten(x)\n",
    "        out = self.out(x)\n",
    "        return out"
   ]
  },
  {
   "cell_type": "code",
   "execution_count": 9,
   "metadata": {},
   "outputs": [],
   "source": [
    "model = Model(9)\n",
    "model.compile(optimizer='adam',\n",
    "          loss=tf.keras.losses.CategoricalCrossentropy(from_logits=True),\n",
    "          metrics=['accuracy'])"
   ]
  },
  {
   "cell_type": "code",
   "execution_count": 10,
   "metadata": {},
   "outputs": [],
   "source": [
    "x_train_all, x_test_all = x_train_all.reshape(-1, 32, 32, 3), x_test_all.reshape(-1, 32, 32, 3)"
   ]
  },
  {
   "cell_type": "code",
   "execution_count": 13,
   "metadata": {},
   "outputs": [
    {
     "name": "stdout",
     "output_type": "stream",
     "text": [
      "Train on 45000 samples, validate on 5000 samples\n",
      "Epoch 1/20\n",
      "45000/45000 [==============================] - 4s 97us/sample - loss: 1.4938 - accuracy: 0.6013 - val_loss: 2.4261 - val_accuracy: 0.4790\n",
      "Epoch 2/20\n",
      "45000/45000 [==============================] - 4s 96us/sample - loss: 1.5111 - accuracy: 0.6028 - val_loss: 2.3497 - val_accuracy: 0.4944\n",
      "Epoch 3/20\n",
      "45000/45000 [==============================] - 4s 97us/sample - loss: 1.4862 - accuracy: 0.6136 - val_loss: 2.5096 - val_accuracy: 0.4716\n",
      "Epoch 4/20\n",
      "45000/45000 [==============================] - 4s 97us/sample - loss: 1.4725 - accuracy: 0.6208 - val_loss: 2.5305 - val_accuracy: 0.4850\n",
      "Epoch 5/20\n",
      "45000/45000 [==============================] - 4s 96us/sample - loss: 1.4780 - accuracy: 0.6256 - val_loss: 2.7737 - val_accuracy: 0.4780\n",
      "Epoch 6/20\n",
      "45000/45000 [==============================] - 4s 95us/sample - loss: 1.5053 - accuracy: 0.6263 - val_loss: 2.7730 - val_accuracy: 0.4662\n",
      "Epoch 7/20\n",
      "45000/45000 [==============================] - 4s 96us/sample - loss: 1.4891 - accuracy: 0.6314 - val_loss: 3.0650 - val_accuracy: 0.4410\n",
      "Epoch 8/20\n",
      "45000/45000 [==============================] - 4s 97us/sample - loss: 1.4981 - accuracy: 0.6377 - val_loss: 2.8816 - val_accuracy: 0.4812\n",
      "Epoch 9/20\n",
      "45000/45000 [==============================] - 4s 97us/sample - loss: 1.4606 - accuracy: 0.6448 - val_loss: 2.8800 - val_accuracy: 0.4852\n",
      "Epoch 10/20\n",
      "45000/45000 [==============================] - 4s 96us/sample - loss: 1.4961 - accuracy: 0.6419 - val_loss: 2.9195 - val_accuracy: 0.4868\n",
      "Epoch 11/20\n",
      "45000/45000 [==============================] - 4s 96us/sample - loss: 1.5339 - accuracy: 0.6396 - val_loss: 2.9369 - val_accuracy: 0.4932\n",
      "Epoch 12/20\n",
      "45000/45000 [==============================] - 4s 95us/sample - loss: 1.5089 - accuracy: 0.6515 - val_loss: 3.1499 - val_accuracy: 0.4728\n",
      "Epoch 13/20\n",
      "45000/45000 [==============================] - 4s 96us/sample - loss: 1.5187 - accuracy: 0.6552 - val_loss: 3.1092 - val_accuracy: 0.4866\n",
      "Epoch 14/20\n",
      "45000/45000 [==============================] - 4s 98us/sample - loss: 1.4852 - accuracy: 0.6577 - val_loss: 3.3067 - val_accuracy: 0.4788\n",
      "Epoch 15/20\n",
      "45000/45000 [==============================] - 4s 96us/sample - loss: 1.5843 - accuracy: 0.6474 - val_loss: 3.2384 - val_accuracy: 0.4786\n",
      "Epoch 16/20\n",
      "45000/45000 [==============================] - 4s 95us/sample - loss: 1.5160 - accuracy: 0.6585 - val_loss: 3.2925 - val_accuracy: 0.4814\n",
      "Epoch 17/20\n",
      "45000/45000 [==============================] - 4s 96us/sample - loss: 1.5873 - accuracy: 0.6554 - val_loss: 3.3654 - val_accuracy: 0.4716\n",
      "Epoch 18/20\n",
      "45000/45000 [==============================] - 4s 97us/sample - loss: 1.5724 - accuracy: 0.6574 - val_loss: 3.4193 - val_accuracy: 0.4820\n",
      "Epoch 19/20\n",
      "45000/45000 [==============================] - 4s 96us/sample - loss: 1.5246 - accuracy: 0.6632 - val_loss: 3.4979 - val_accuracy: 0.4664\n",
      "Epoch 20/20\n",
      "45000/45000 [==============================] - 4s 96us/sample - loss: 1.5766 - accuracy: 0.6582 - val_loss: 3.4641 - val_accuracy: 0.4866\n"
     ]
    },
    {
     "data": {
      "text/plain": [
       "<tensorflow.python.keras.callbacks.History at 0x7fc56224d0f0>"
      ]
     },
     "execution_count": 13,
     "metadata": {},
     "output_type": "execute_result"
    }
   ],
   "source": [
    "model.fit(x_train_all, y_train_all, batch_size=batch_size, epochs=20, validation_split=0.1)"
   ]
  },
  {
   "cell_type": "code",
   "execution_count": 12,
   "metadata": {},
   "outputs": [
    {
     "data": {
      "text/plain": [
       "[2.493234734982252, 0.46142578]"
      ]
     },
     "execution_count": 12,
     "metadata": {},
     "output_type": "execute_result"
    }
   ],
   "source": [
    "model.evaluate(x_test.reshape(-1, 32, 32, 3), y_test, verbose=0)"
   ]
  },
  {
   "cell_type": "code",
   "execution_count": null,
   "metadata": {},
   "outputs": [],
   "source": [
    "model.evaluate(FGSM[2].reshape(-1, 32, 32, 3), y_test, verbose=0)"
   ]
  },
  {
   "cell_type": "code",
   "execution_count": null,
   "metadata": {},
   "outputs": [],
   "source": [
    "loss_curve = []\n",
    "acc_curve  = []\n",
    "\n",
    "loss_curve_FGSM = {idx*10+1: [] for idx in range(len(FGSM))}\n",
    "acc_curve_FGSM  = {idx*10+1: [] for idx in range(len(FGSM))}\n",
    "\n",
    "loss_curve_PGD_10 = {idx*10+1: [] for idx in range(len(FGSM))}\n",
    "acc_curve_PGD_10  = {idx*10+1: [] for idx in range(len(FGSM))}\n",
    "\n",
    "loss_curve_PGD_100 = {idx*10+1: [] for idx in range(len(FGSM))}\n",
    "acc_curve_PGD_100  = {idx*10+1: [] for idx in range(len(FGSM))}\n",
    "\n",
    "for i in range(run):\n",
    "    model = Model(10)\n",
    "    model.compile(optimizer='adam',\n",
    "              loss=tf.keras.losses.CategoricalCrossentropy(from_logits=True),\n",
    "              metrics=['accuracy'])\n",
    "    \n",
    "    for j in range(int(epoch)):\n",
    "        model.fit(x_train_all, y_train_all, batch_size=batch_size, epochs=10)\n",
    "        # CLEAN\n",
    "        r = model.evaluate(x_test, y_test, verbose=0)\n",
    "        loss_curve.append(r[0])\n",
    "        acc_curve.append(r[1])\n",
    "        \n",
    "        for idx, (F, _10, _100) in enumerate(zip(FGSM, PGD_10, PGD_100)):\n",
    "                \n",
    "            r = model.evaluate(F,    y_test, verbose=0)\n",
    "            print(\"FGSM    %d,  loss: %.3f, acc: %.3f\"%(idx*10+1, r[0], r[1]))\n",
    "            loss_curve_FGSM[idx*10+1].append(r[0])\n",
    "            acc_curve_FGSM[idx*10+1].append(r[1])\n",
    "        \n",
    "            r = model.evaluate(_10,  y_test, verbose=0)\n",
    "            print(\"PGD-10  %d,  loss: %.3f, acc: %.3f\"%(idx*10+1, r[0], r[1]))\n",
    "            loss_curve_PGD_10[idx*10+1].append(r[0])\n",
    "            acc_curve_PGD_10[idx*10+1].append(r[1])\n",
    "            \n",
    "            r = model.evaluate(_100, y_test, verbose=0)\n",
    "            print(\"PGD-100 %d,  loss: %.3f, acc: %.3f\"%(idx*10+1, r[0], r[1]))\n",
    "            loss_curve_PGD_100[idx*10+1].append(r[0])\n",
    "            acc_curve_PGD_100[idx*10+1].append(r[1])\n",
    "            "
   ]
  },
  {
   "cell_type": "code",
   "execution_count": null,
   "metadata": {},
   "outputs": [],
   "source": [
    "loss_curve_FGSM"
   ]
  },
  {
   "cell_type": "code",
   "execution_count": null,
   "metadata": {},
   "outputs": [],
   "source": [
    "for idx, (F, _10, _100) in enumerate(zip(FGSM, PGD_10, PGD_100)):\n",
    "    r = model.evaluate(F,    y_test, verbose=0)\n",
    "    print(\"FGSM    %d,  loss: %.3f, acc: %.3f\"%(idx*10+1, r[0], r[1]))\n",
    "    r = model.evaluate(_10,  y_test, verbose=0)\n",
    "    print(\"PGD-10  %d,  loss: %.3f, acc: %.3f\"%(idx*10+1, r[0], r[1]))\n",
    "    r = model.evaluate(_100, y_test, verbose=0)\n",
    "    print(\"PGD-100 %d,  loss: %.3f, acc: %.3f\"%(idx*10+1, r[0], r[1]))"
   ]
  },
  {
   "cell_type": "code",
   "execution_count": null,
   "metadata": {},
   "outputs": [],
   "source": []
  }
 ],
 "metadata": {
  "kernelspec": {
   "display_name": "Python 3",
   "language": "python",
   "name": "python3"
  },
  "language_info": {
   "codemirror_mode": {
    "name": "ipython",
    "version": 3
   },
   "file_extension": ".py",
   "mimetype": "text/x-python",
   "name": "python",
   "nbconvert_exporter": "python",
   "pygments_lexer": "ipython3",
   "version": "3.6.9"
  }
 },
 "nbformat": 4,
 "nbformat_minor": 2
}
