{
 "cells": [
  {
   "cell_type": "code",
   "execution_count": 1,
   "metadata": {},
   "outputs": [],
   "source": [
    "import numpy as onp\n",
    "import tensorflow as tf\n",
    "import matplotlib.pyplot as plt\n",
    "\n",
    "from utils import *"
   ]
  },
  {
   "cell_type": "code",
   "execution_count": 2,
   "metadata": {},
   "outputs": [
    {
     "name": "stdout",
     "output_type": "stream",
     "text": [
      "1 Physical GPUs, 1 Logical GPU\n"
     ]
    }
   ],
   "source": [
    "gpus = tf.config.experimental.list_physical_devices('GPU')\n",
    "if gpus:\n",
    "  # Restrict TensorFlow to only use the first GPU\n",
    "    try:\n",
    "        tf.config.experimental.set_visible_devices(gpus[0], 'GPU')\n",
    "        logical_gpus = tf.config.experimental.list_logical_devices('GPU')\n",
    "        print(len(gpus), \"Physical GPUs,\", len(logical_gpus), \"Logical GPU\")\n",
    "    except RuntimeError as e:\n",
    "    # Visible devices must be set before GPUs have been initialized\n",
    "        print(e)"
   ]
  },
  {
   "cell_type": "markdown",
   "metadata": {},
   "source": [
    "# hyperparameters"
   ]
  },
  {
   "cell_type": "code",
   "execution_count": 3,
   "metadata": {},
   "outputs": [],
   "source": [
    "#data\n",
    "DATASET = 'mnist'\n",
    "class_num   = 10\n",
    "test_size   = None\n",
    "train_size  = 512\n",
    "image_shape = None\n",
    "\n",
    "if DATASET =='mnist':\n",
    "    image_shape = (28, 28, 1)\n",
    "elif DATASET == 'cifar10':\n",
    "    image_shape = (32, 32, 3)\n",
    "\n",
    "batch_size = 256\n",
    "epochs = 50"
   ]
  },
  {
   "cell_type": "code",
   "execution_count": 29,
   "metadata": {},
   "outputs": [],
   "source": [
    "if DATASET == 'mnist':\n",
    "    eps = 0.3\n",
    "    eps_iter_10 = (eps/10)*1.1\n",
    "    eps_iter_100 = (eps/100)*1.1\n",
    "    eps_iter_1000 = (eps/1000)*1.1\n",
    "    \n",
    "elif DATASET == 'cifar10':\n",
    "    eps = 0.03\n",
    "    eps_iter_10 = (eps/10)*1.1\n",
    "    eps_iter_100 = (eps/100)*1.1"
   ]
  },
  {
   "cell_type": "code",
   "execution_count": 4,
   "metadata": {
    "scrolled": true
   },
   "outputs": [],
   "source": [
    "x_train_all, y_train_all, x_test_all, y_test_all = tuple(onp.array(x) for x in get_dataset(DATASET, None, None, \n",
    "                                                                                  do_flatten_and_normalize=False))"
   ]
  },
  {
   "cell_type": "code",
   "execution_count": 5,
   "metadata": {},
   "outputs": [],
   "source": [
    "# shuffle\n",
    "seed = 0\n",
    "x_train_all, y_train_all = shaffle(x_train_all, y_train_all, seed)"
   ]
  },
  {
   "cell_type": "code",
   "execution_count": 6,
   "metadata": {},
   "outputs": [],
   "source": [
    "x_train_all = x_train_all.astype(onp.float32)\n",
    "x_test_all  = x_test_all.astype(onp.float32)"
   ]
  },
  {
   "cell_type": "code",
   "execution_count": 7,
   "metadata": {},
   "outputs": [],
   "source": [
    "# down sample\n",
    "x_train = x_train_all[:train_size]\n",
    "y_train = y_train_all[:train_size]\n",
    "\n",
    "x_valid = x_train_all[train_size:]\n",
    "y_valid = y_train_all[train_size:]\n",
    "\n",
    "x_test = x_test_all[:test_size]\n",
    "y_test = y_test_all[:test_size]"
   ]
  },
  {
   "cell_type": "code",
   "execution_count": 8,
   "metadata": {},
   "outputs": [],
   "source": [
    "x_train, x_valid, x_test = x_train.reshape((-1, *image_shape)), x_valid.reshape((-1, *image_shape)), x_test.reshape((-1, *image_shape))"
   ]
  },
  {
   "cell_type": "code",
   "execution_count": 9,
   "metadata": {},
   "outputs": [],
   "source": [
    "train_ds = tf.data.Dataset.from_tensor_slices((x_train, y_train))\n",
    "train_ds = train_ds.shuffle(\n",
    "    100000\n",
    ").batch(\n",
    "    batch_size\n",
    ").prefetch(10)"
   ]
  },
  {
   "cell_type": "code",
   "execution_count": 10,
   "metadata": {},
   "outputs": [],
   "source": [
    "valid_ds = tf.data.Dataset.from_tensor_slices((x_valid, y_valid)).batch(batch_size)"
   ]
  },
  {
   "cell_type": "code",
   "execution_count": 11,
   "metadata": {},
   "outputs": [],
   "source": [
    "layers = tf.keras.layers"
   ]
  },
  {
   "cell_type": "code",
   "execution_count": 12,
   "metadata": {},
   "outputs": [],
   "source": [
    "img_input = layers.Input(shape=image_shape)\n",
    "x = layers.Conv2D(64, (3, 3), activation='relu', padding='same', \n",
    "                  kernel_initializer=tf.keras.initializers.GlorotNormal())(img_input)\n",
    "x = layers.Conv2D(64, (3, 3), activation='relu', padding='same',\n",
    "                 kernel_initializer=tf.keras.initializers.GlorotNormal())(x)\n",
    "x = layers.Conv2D(64, (3, 3), activation='relu', padding='same',\n",
    "                 kernel_initializer=tf.keras.initializers.GlorotNormal())(x)\n",
    "x = layers.Flatten()(x)\n",
    "x = layers.Dense(64, activation='relu', kernel_initializer=tf.keras.initializers.GlorotNormal())(x)\n",
    "out = layers.Dense(10, kernel_initializer=tf.keras.initializers.GlorotNormal())(x)\n",
    "\n",
    "model = tf.keras.Model(inputs=img_input, outputs=out)"
   ]
  },
  {
   "cell_type": "code",
   "execution_count": 13,
   "metadata": {},
   "outputs": [],
   "source": [
    "def scheduler(epoch, lr):\n",
    "    if epoch < 10:\n",
    "        return 1e-3\n",
    "    elif epoch < 20:\n",
    "        return 1e-2\n",
    "    elif epoch < 35:\n",
    "        return 1e-3\n",
    "    else:\n",
    "        return 1e-4"
   ]
  },
  {
   "cell_type": "code",
   "execution_count": 14,
   "metadata": {},
   "outputs": [],
   "source": [
    "model.compile(optimizer=tf.keras.optimizers.SGD(momentum=0.9),\n",
    "              loss=tf.keras.losses.CategoricalCrossentropy(from_logits=True),\n",
    "              metrics=['accuracy'])"
   ]
  },
  {
   "cell_type": "code",
   "execution_count": 15,
   "metadata": {},
   "outputs": [],
   "source": [
    "callback = tf.keras.callbacks.LearningRateScheduler(scheduler)"
   ]
  },
  {
   "cell_type": "code",
   "execution_count": 16,
   "metadata": {
    "scrolled": true
   },
   "outputs": [
    {
     "name": "stdout",
     "output_type": "stream",
     "text": [
      "Epoch 1/50\n",
      "2/2 [==============================] - 5s 2s/step - loss: 2.3033 - accuracy: 0.1074 - val_loss: 0.0000e+00 - val_accuracy: 0.0000e+00\n",
      "Epoch 2/50\n",
      "2/2 [==============================] - 1s 655ms/step - loss: 2.3025 - accuracy: 0.1113 - val_loss: 2.3011 - val_accuracy: 0.1082\n",
      "Epoch 3/50\n",
      "2/2 [==============================] - 1s 379ms/step - loss: 2.2998 - accuracy: 0.1172 - val_loss: 2.2986 - val_accuracy: 0.1231\n",
      "Epoch 4/50\n",
      "2/2 [==============================] - 1s 373ms/step - loss: 2.2979 - accuracy: 0.1309 - val_loss: 2.2956 - val_accuracy: 0.1405\n",
      "Epoch 5/50\n",
      "2/2 [==============================] - 1s 365ms/step - loss: 2.2939 - accuracy: 0.1582 - val_loss: 2.2923 - val_accuracy: 0.1577\n",
      "Epoch 6/50\n",
      "2/2 [==============================] - 1s 370ms/step - loss: 2.2906 - accuracy: 0.1797 - val_loss: 2.2888 - val_accuracy: 0.1759\n",
      "Epoch 7/50\n",
      "2/2 [==============================] - 1s 374ms/step - loss: 2.2856 - accuracy: 0.1953 - val_loss: 2.2851 - val_accuracy: 0.1887\n",
      "Epoch 8/50\n",
      "2/2 [==============================] - 1s 368ms/step - loss: 2.2827 - accuracy: 0.2070 - val_loss: 2.2813 - val_accuracy: 0.2020\n",
      "Epoch 9/50\n",
      "2/2 [==============================] - 1s 368ms/step - loss: 2.2797 - accuracy: 0.2266 - val_loss: 2.2773 - val_accuracy: 0.2158\n",
      "Epoch 10/50\n",
      "2/2 [==============================] - 1s 375ms/step - loss: 2.2742 - accuracy: 0.2344 - val_loss: 2.2731 - val_accuracy: 0.2286\n",
      "Epoch 11/50\n",
      "2/2 [==============================] - 1s 376ms/step - loss: 2.2684 - accuracy: 0.2656 - val_loss: 2.2607 - val_accuracy: 0.2745\n",
      "Epoch 12/50\n",
      "2/2 [==============================] - 1s 377ms/step - loss: 2.2537 - accuracy: 0.2988 - val_loss: 2.2350 - val_accuracy: 0.3352\n",
      "Epoch 13/50\n",
      "2/2 [==============================] - 1s 378ms/step - loss: 2.2250 - accuracy: 0.3438 - val_loss: 2.1889 - val_accuracy: 0.3924\n",
      "Epoch 14/50\n",
      "2/2 [==============================] - 1s 374ms/step - loss: 2.1707 - accuracy: 0.4199 - val_loss: 2.1036 - val_accuracy: 0.4754\n",
      "Epoch 15/50\n",
      "2/2 [==============================] - 1s 377ms/step - loss: 2.0695 - accuracy: 0.5117 - val_loss: 1.9425 - val_accuracy: 0.5323\n",
      "Epoch 16/50\n",
      "2/2 [==============================] - 1s 374ms/step - loss: 1.8914 - accuracy: 0.5762 - val_loss: 1.6359 - val_accuracy: 0.6035\n",
      "Epoch 17/50\n",
      "2/2 [==============================] - 1s 374ms/step - loss: 1.5302 - accuracy: 0.6523 - val_loss: 1.1478 - val_accuracy: 0.7001\n",
      "Epoch 18/50\n",
      "2/2 [==============================] - 1s 368ms/step - loss: 1.0501 - accuracy: 0.7539 - val_loss: 0.7470 - val_accuracy: 0.7850\n",
      "Epoch 19/50\n",
      "2/2 [==============================] - 1s 371ms/step - loss: 0.6242 - accuracy: 0.8320 - val_loss: 0.6367 - val_accuracy: 0.8108\n",
      "Epoch 20/50\n",
      "2/2 [==============================] - 1s 370ms/step - loss: 0.5241 - accuracy: 0.8320 - val_loss: 0.8949 - val_accuracy: 0.7849\n",
      "Epoch 21/50\n",
      "2/2 [==============================] - 1s 372ms/step - loss: 0.8509 - accuracy: 0.7559 - val_loss: 1.8545 - val_accuracy: 0.7214\n",
      "Epoch 22/50\n",
      "2/2 [==============================] - 1s 377ms/step - loss: 1.3773 - accuracy: 0.7832 - val_loss: 1.2097 - val_accuracy: 0.7886\n",
      "Epoch 23/50\n",
      "2/2 [==============================] - 1s 377ms/step - loss: 0.7817 - accuracy: 0.8262 - val_loss: 1.4516 - val_accuracy: 0.7869\n",
      "Epoch 24/50\n",
      "2/2 [==============================] - 1s 381ms/step - loss: 0.9061 - accuracy: 0.8359 - val_loss: 1.1606 - val_accuracy: 0.8254\n",
      "Epoch 25/50\n",
      "2/2 [==============================] - 1s 378ms/step - loss: 0.5719 - accuracy: 0.8926 - val_loss: 1.4309 - val_accuracy: 0.8217\n",
      "Epoch 26/50\n",
      "2/2 [==============================] - 1s 380ms/step - loss: 0.6402 - accuracy: 0.8750 - val_loss: 1.5988 - val_accuracy: 0.8115\n",
      "Epoch 27/50\n",
      "2/2 [==============================] - 1s 373ms/step - loss: 0.5577 - accuracy: 0.9023 - val_loss: 1.4008 - val_accuracy: 0.8267\n",
      "Epoch 28/50\n",
      "2/2 [==============================] - 1s 380ms/step - loss: 0.4535 - accuracy: 0.8945 - val_loss: 1.4091 - val_accuracy: 0.8230\n",
      "Epoch 29/50\n",
      "2/2 [==============================] - 1s 374ms/step - loss: 0.4460 - accuracy: 0.9062 - val_loss: 1.2549 - val_accuracy: 0.8498\n",
      "Epoch 30/50\n",
      "2/2 [==============================] - 1s 372ms/step - loss: 0.4437 - accuracy: 0.9180 - val_loss: 1.3814 - val_accuracy: 0.8437\n",
      "Epoch 31/50\n",
      "2/2 [==============================] - 1s 372ms/step - loss: 0.4312 - accuracy: 0.9336 - val_loss: 1.4897 - val_accuracy: 0.8329\n",
      "Epoch 32/50\n",
      "2/2 [==============================] - 1s 373ms/step - loss: 0.3206 - accuracy: 0.9277 - val_loss: 1.3962 - val_accuracy: 0.8397\n",
      "Epoch 33/50\n",
      "2/2 [==============================] - 1s 370ms/step - loss: 0.2849 - accuracy: 0.9434 - val_loss: 1.3010 - val_accuracy: 0.8435\n",
      "Epoch 34/50\n",
      "2/2 [==============================] - 1s 377ms/step - loss: 0.2265 - accuracy: 0.9453 - val_loss: 1.2451 - val_accuracy: 0.8465\n",
      "Epoch 35/50\n",
      "2/2 [==============================] - 1s 381ms/step - loss: 0.2292 - accuracy: 0.9531 - val_loss: 1.2230 - val_accuracy: 0.8497\n",
      "Epoch 36/50\n",
      "2/2 [==============================] - 1s 380ms/step - loss: 0.1781 - accuracy: 0.9512 - val_loss: 1.2810 - val_accuracy: 0.8446\n",
      "Epoch 37/50\n",
      "2/2 [==============================] - 1s 378ms/step - loss: 0.1761 - accuracy: 0.9395 - val_loss: 1.3638 - val_accuracy: 0.8357\n",
      "Epoch 38/50\n",
      "2/2 [==============================] - 1s 380ms/step - loss: 0.2899 - accuracy: 0.9336 - val_loss: 1.4265 - val_accuracy: 0.8284\n",
      "Epoch 39/50\n",
      "2/2 [==============================] - 1s 382ms/step - loss: 0.2247 - accuracy: 0.9258 - val_loss: 1.4471 - val_accuracy: 0.8259\n",
      "Epoch 40/50\n",
      "2/2 [==============================] - 1s 374ms/step - loss: 0.2911 - accuracy: 0.9219 - val_loss: 1.4187 - val_accuracy: 0.8291\n",
      "Epoch 41/50\n",
      "2/2 [==============================] - 1s 381ms/step - loss: 0.2711 - accuracy: 0.9297 - val_loss: 1.3645 - val_accuracy: 0.8348\n",
      "Epoch 42/50\n",
      "2/2 [==============================] - 1s 374ms/step - loss: 0.2266 - accuracy: 0.9375 - val_loss: 1.3078 - val_accuracy: 0.8406\n",
      "Epoch 43/50\n",
      "2/2 [==============================] - 1s 370ms/step - loss: 0.1775 - accuracy: 0.9434 - val_loss: 1.2624 - val_accuracy: 0.8443\n",
      "Epoch 44/50\n",
      "2/2 [==============================] - 1s 372ms/step - loss: 0.1761 - accuracy: 0.9551 - val_loss: 1.2321 - val_accuracy: 0.8467\n",
      "Epoch 45/50\n",
      "2/2 [==============================] - 1s 374ms/step - loss: 0.1392 - accuracy: 0.9531 - val_loss: 1.2135 - val_accuracy: 0.8476\n",
      "Epoch 46/50\n",
      "2/2 [==============================] - 1s 374ms/step - loss: 0.1466 - accuracy: 0.9590 - val_loss: 1.2020 - val_accuracy: 0.8469\n",
      "Epoch 47/50\n",
      "2/2 [==============================] - 1s 379ms/step - loss: 0.1546 - accuracy: 0.9590 - val_loss: 1.1923 - val_accuracy: 0.8476\n",
      "Epoch 48/50\n",
      "2/2 [==============================] - 1s 377ms/step - loss: 0.1341 - accuracy: 0.9629 - val_loss: 1.1815 - val_accuracy: 0.8484\n",
      "Epoch 49/50\n",
      "2/2 [==============================] - 1s 371ms/step - loss: 0.1387 - accuracy: 0.9629 - val_loss: 1.1708 - val_accuracy: 0.8494\n",
      "Epoch 50/50\n",
      "2/2 [==============================] - 1s 375ms/step - loss: 0.1160 - accuracy: 0.9629 - val_loss: 1.1627 - val_accuracy: 0.8497\n"
     ]
    },
    {
     "data": {
      "text/plain": [
       "<tensorflow.python.keras.callbacks.History at 0x7fe54008bf98>"
      ]
     },
     "execution_count": 16,
     "metadata": {},
     "output_type": "execute_result"
    }
   ],
   "source": [
    "model.fit(x=train_ds, validation_data=valid_ds, epochs=epochs, callbacks=[callback])"
   ]
  },
  {
   "cell_type": "code",
   "execution_count": 17,
   "metadata": {},
   "outputs": [],
   "source": [
    "model.save_weights('./model_weights/mnist-simple_cnn_thin_train=512-without-DA_ce.h5')"
   ]
  },
  {
   "cell_type": "code",
   "execution_count": 18,
   "metadata": {},
   "outputs": [
    {
     "data": {
      "text/plain": [
       "[1.14113631169945, 0.8549]"
      ]
     },
     "execution_count": 18,
     "metadata": {},
     "output_type": "execute_result"
    }
   ],
   "source": [
    "model.evaluate(x=x_test, y=y_test_all, verbose=0)"
   ]
  },
  {
   "cell_type": "code",
   "execution_count": 19,
   "metadata": {},
   "outputs": [],
   "source": [
    "def tangent_feature(model, xs):\n",
    "    n = len(xs)\n",
    "    with tf.GradientTape() as tape:\n",
    "        output = model(xs)\n",
    "    subgradients = tape.jacobian(output, model.trainable_weights)\n",
    "    flattened = [tf.reshape(sg, [n, -1]) for sg in subgradients]\n",
    "    gradients = tf.concat(flattened, 1)\n",
    "    return gradients\n",
    "\n",
    "@tf.function\n",
    "def kernel(model, x, y):\n",
    "    dot = tf.reduce_sum(tf.multiply(tangent_feature(model, x), tangent_feature(model, y)))\n",
    "    return dot"
   ]
  },
  {
   "cell_type": "code",
   "execution_count": 20,
   "metadata": {},
   "outputs": [],
   "source": [
    "ce_loss = tf.keras.losses.CategoricalCrossentropy(from_logits=True)\n",
    "\n",
    "@tf.function\n",
    "def targeted_fgsm(x, y_target, model, eps):\n",
    "    with tf.GradientTape() as tp:\n",
    "        tp.watch(x)\n",
    "        y = model(x)\n",
    "        loss = ce_loss(y_target, y)\n",
    "    grad = tp.gradient(loss, x)\n",
    "    return tf.clip_by_value(x - eps * tf.sign(grad), 0, 1)\n",
    "\n",
    "@tf.function\n",
    "def untargeted_fgsm(x, y_true, model, eps):\n",
    "    with tf.GradientTape() as tp:\n",
    "        tp.watch(x)\n",
    "        y = model(x)\n",
    "        loss = ce_loss(y_true, y)\n",
    "    grad = tp.gradient(loss, x)\n",
    "    return tf.clip_by_value(x + eps * tf.sign(grad), 0, 1)"
   ]
  },
  {
   "cell_type": "code",
   "execution_count": 21,
   "metadata": {},
   "outputs": [],
   "source": [
    "from tqdm import tqdm"
   ]
  },
  {
   "cell_type": "code",
   "execution_count": 22,
   "metadata": {},
   "outputs": [],
   "source": [
    "k_train_train = onp.zeros((train_size, train_size), dtype=onp.float32)"
   ]
  },
  {
   "cell_type": "code",
   "execution_count": 65,
   "metadata": {},
   "outputs": [],
   "source": [
    "k_train_train = k_train_train.astype(onp.float64)"
   ]
  },
  {
   "cell_type": "code",
   "execution_count": 74,
   "metadata": {},
   "outputs": [],
   "source": [
    "# onp.save('k_train_train.npy', k_train_train)"
   ]
  },
  {
   "cell_type": "code",
   "execution_count": 76,
   "metadata": {},
   "outputs": [],
   "source": [
    "# onp.save('k_test_train.npy', k_test_train)"
   ]
  },
  {
   "cell_type": "code",
   "execution_count": 23,
   "metadata": {},
   "outputs": [
    {
     "name": "stderr",
     "output_type": "stream",
     "text": [
      "100%|██████████| 512/512 [05:31<00:00,  1.54it/s]\n"
     ]
    }
   ],
   "source": [
    "for i in tqdm(range(train_size)):\n",
    "    for j in range(i, train_size):\n",
    "        k_train_train[i][j] = kernel(model, x_train[i][None], x_train[j][None])\n",
    "        k_train_train[j][i] = k_train_train[i][j]"
   ]
  },
  {
   "cell_type": "code",
   "execution_count": 24,
   "metadata": {},
   "outputs": [],
   "source": [
    "def inv(k):\n",
    "    #inverse with diag_reg\n",
    "    return onp.linalg.inv(k + 1e-5 * onp.eye(k.shape[0]))"
   ]
  },
  {
   "cell_type": "code",
   "execution_count": 66,
   "metadata": {},
   "outputs": [],
   "source": [
    "k_train_train_inv = inv(k_train_train)"
   ]
  },
  {
   "cell_type": "code",
   "execution_count": 32,
   "metadata": {},
   "outputs": [],
   "source": [
    "# downsample\n",
    "x_test = x_test[:train_size]"
   ]
  },
  {
   "cell_type": "code",
   "execution_count": 33,
   "metadata": {},
   "outputs": [],
   "source": [
    "k_test_train = onp.zeros((train_size, train_size), dtype=onp.float32)"
   ]
  },
  {
   "cell_type": "code",
   "execution_count": 56,
   "metadata": {},
   "outputs": [
    {
     "name": "stderr",
     "output_type": "stream",
     "text": [
      "100%|██████████| 512/512 [10:53<00:00,  1.28s/it]\n"
     ]
    }
   ],
   "source": [
    "for i in tqdm(range(train_size)):\n",
    "    for j in range(train_size):\n",
    "        k_test_train[i][j] = kernel(model, x_test[i][None], x_train[j][None])"
   ]
  },
  {
   "cell_type": "code",
   "execution_count": 70,
   "metadata": {},
   "outputs": [],
   "source": [
    "ans = onp.matmul(k_test_train, onp.matmul(k_train_train_inv, y_train[:train_size]))"
   ]
  },
  {
   "cell_type": "code",
   "execution_count": 79,
   "metadata": {
    "scrolled": true
   },
   "outputs": [],
   "source": [
    "# onp.argmax(ans, axis=1) == onp.argmax(y_test[:512], axis=1)"
   ]
  },
  {
   "cell_type": "code",
   "execution_count": null,
   "metadata": {},
   "outputs": [],
   "source": []
  }
 ],
 "metadata": {
  "kernelspec": {
   "display_name": "Python 3",
   "language": "python",
   "name": "python3"
  },
  "language_info": {
   "codemirror_mode": {
    "name": "ipython",
    "version": 3
   },
   "file_extension": ".py",
   "mimetype": "text/x-python",
   "name": "python",
   "nbconvert_exporter": "python",
   "pygments_lexer": "ipython3",
   "version": "3.6.8"
  }
 },
 "nbformat": 4,
 "nbformat_minor": 2
}
