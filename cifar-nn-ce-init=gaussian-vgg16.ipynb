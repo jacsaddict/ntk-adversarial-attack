{
 "cells": [
  {
   "cell_type": "code",
   "execution_count": 1,
   "metadata": {},
   "outputs": [],
   "source": [
    "import numpy as onp\n",
    "import tensorflow as tf\n",
    "import matplotlib.pyplot as plt\n",
    "\n",
    "from utils import *"
   ]
  },
  {
   "cell_type": "code",
   "execution_count": 2,
   "metadata": {},
   "outputs": [
    {
     "name": "stdout",
     "output_type": "stream",
     "text": [
      "4 Physical GPUs, 1 Logical GPU\n"
     ]
    }
   ],
   "source": [
    "gpus = tf.config.experimental.list_physical_devices('GPU')\n",
    "if gpus:\n",
    "  # Restrict TensorFlow to only use the first GPU\n",
    "    try:\n",
    "        tf.config.experimental.set_visible_devices(gpus[0], 'GPU')\n",
    "        logical_gpus = tf.config.experimental.list_logical_devices('GPU')\n",
    "        print(len(gpus), \"Physical GPUs,\", len(logical_gpus), \"Logical GPU\")\n",
    "    except RuntimeError as e:\n",
    "    # Visible devices must be set before GPUs have been initialized\n",
    "        print(e)"
   ]
  },
  {
   "cell_type": "markdown",
   "metadata": {},
   "source": [
    "# hyperparameters"
   ]
  },
  {
   "cell_type": "code",
   "execution_count": 3,
   "metadata": {},
   "outputs": [],
   "source": [
    "#data\n",
    "DATASET = 'cifar10'\n",
    "class_num   = 10\n",
    "test_size   = None\n",
    "train_size  = 45000\n",
    "image_shape = None\n",
    "\n",
    "if DATASET =='mnist':\n",
    "    image_shape = (28, 28, 1)\n",
    "elif DATASET == 'cifar10':\n",
    "    image_shape = (32, 32, 3)\n",
    "\n",
    "#training\n",
    "batch_size = 256\n",
    "epochs = 200"
   ]
  },
  {
   "cell_type": "code",
   "execution_count": 4,
   "metadata": {
    "scrolled": true
   },
   "outputs": [
    {
     "name": "stdout",
     "output_type": "stream",
     "text": [
      "WARNING:tensorflow:The operation `tf.image.convert_image_dtype` will be skipped since the input and output dtypes are identical.\n"
     ]
    },
    {
     "name": "stderr",
     "output_type": "stream",
     "text": [
      "WARNING:tensorflow:The operation `tf.image.convert_image_dtype` will be skipped since the input and output dtypes are identical.\n"
     ]
    },
    {
     "name": "stdout",
     "output_type": "stream",
     "text": [
      "WARNING:tensorflow:The operation `tf.image.convert_image_dtype` will be skipped since the input and output dtypes are identical.\n"
     ]
    },
    {
     "name": "stderr",
     "output_type": "stream",
     "text": [
      "WARNING:tensorflow:The operation `tf.image.convert_image_dtype` will be skipped since the input and output dtypes are identical.\n"
     ]
    },
    {
     "name": "stdout",
     "output_type": "stream",
     "text": [
      "WARNING:tensorflow:The operation `tf.image.convert_image_dtype` will be skipped since the input and output dtypes are identical.\n"
     ]
    },
    {
     "name": "stderr",
     "output_type": "stream",
     "text": [
      "WARNING:tensorflow:The operation `tf.image.convert_image_dtype` will be skipped since the input and output dtypes are identical.\n"
     ]
    },
    {
     "name": "stdout",
     "output_type": "stream",
     "text": [
      "WARNING:tensorflow:The operation `tf.image.convert_image_dtype` will be skipped since the input and output dtypes are identical.\n"
     ]
    },
    {
     "name": "stderr",
     "output_type": "stream",
     "text": [
      "WARNING:tensorflow:The operation `tf.image.convert_image_dtype` will be skipped since the input and output dtypes are identical.\n"
     ]
    },
    {
     "name": "stdout",
     "output_type": "stream",
     "text": [
      "WARNING:tensorflow:The operation `tf.image.convert_image_dtype` will be skipped since the input and output dtypes are identical.\n"
     ]
    },
    {
     "name": "stderr",
     "output_type": "stream",
     "text": [
      "WARNING:tensorflow:The operation `tf.image.convert_image_dtype` will be skipped since the input and output dtypes are identical.\n"
     ]
    },
    {
     "name": "stdout",
     "output_type": "stream",
     "text": [
      "WARNING:tensorflow:The operation `tf.image.convert_image_dtype` will be skipped since the input and output dtypes are identical.\n"
     ]
    },
    {
     "name": "stderr",
     "output_type": "stream",
     "text": [
      "WARNING:tensorflow:The operation `tf.image.convert_image_dtype` will be skipped since the input and output dtypes are identical.\n"
     ]
    },
    {
     "name": "stdout",
     "output_type": "stream",
     "text": [
      "WARNING:tensorflow:The operation `tf.image.convert_image_dtype` will be skipped since the input and output dtypes are identical.\n"
     ]
    },
    {
     "name": "stderr",
     "output_type": "stream",
     "text": [
      "WARNING:tensorflow:The operation `tf.image.convert_image_dtype` will be skipped since the input and output dtypes are identical.\n"
     ]
    },
    {
     "name": "stdout",
     "output_type": "stream",
     "text": [
      "WARNING:tensorflow:The operation `tf.image.convert_image_dtype` will be skipped since the input and output dtypes are identical.\n"
     ]
    },
    {
     "name": "stderr",
     "output_type": "stream",
     "text": [
      "WARNING:tensorflow:The operation `tf.image.convert_image_dtype` will be skipped since the input and output dtypes are identical.\n"
     ]
    }
   ],
   "source": [
    "x_train_all, y_train_all, x_test_all, y_test_all = tuple(onp.array(x) for x in get_dataset(DATASET, None, None, \n",
    "                                                                                  do_flatten_and_normalize=False))"
   ]
  },
  {
   "cell_type": "code",
   "execution_count": 5,
   "metadata": {},
   "outputs": [],
   "source": [
    "# shuffle\n",
    "seed = 0\n",
    "x_train_all, y_train_all = shaffle(x_train_all, y_train_all, seed)"
   ]
  },
  {
   "cell_type": "code",
   "execution_count": 6,
   "metadata": {},
   "outputs": [],
   "source": [
    "# down sample\n",
    "x_train = x_train_all[:train_size]\n",
    "y_train = y_train_all[:train_size]\n",
    "\n",
    "x_valid = x_train_all[train_size:]\n",
    "y_valid = y_train_all[train_size:]\n",
    "\n",
    "x_test = x_test_all[:test_size]\n",
    "y_test = y_test_all[:test_size]"
   ]
  },
  {
   "cell_type": "code",
   "execution_count": 7,
   "metadata": {},
   "outputs": [],
   "source": [
    "x_train, x_valid, x_test = x_train.reshape((-1, *image_shape)), x_valid.reshape((-1, *image_shape)), x_test.reshape((-1, *image_shape))"
   ]
  },
  {
   "cell_type": "code",
   "execution_count": 8,
   "metadata": {},
   "outputs": [
    {
     "name": "stdout",
     "output_type": "stream",
     "text": [
      "WARNING:tensorflow:The operation `tf.image.convert_image_dtype` will not automatically renormalize input data since input and output dtypes are both floating point formats.\n"
     ]
    },
    {
     "name": "stderr",
     "output_type": "stream",
     "text": [
      "WARNING:tensorflow:The operation `tf.image.convert_image_dtype` will not automatically renormalize input data since input and output dtypes are both floating point formats.\n"
     ]
    },
    {
     "name": "stdout",
     "output_type": "stream",
     "text": [
      "WARNING:tensorflow:The operation `tf.image.convert_image_dtype` will not automatically renormalize input data since input and output dtypes are both floating point formats.\n"
     ]
    },
    {
     "name": "stderr",
     "output_type": "stream",
     "text": [
      "WARNING:tensorflow:The operation `tf.image.convert_image_dtype` will not automatically renormalize input data since input and output dtypes are both floating point formats.\n"
     ]
    }
   ],
   "source": [
    "train_ds = tf.data.Dataset.from_tensor_slices((x_train, y_train))\n",
    "train_ds = train_ds.map(\n",
    "    lambda image, label: (tf.image.random_flip_left_right(image), label)\n",
    ").map(\n",
    "    lambda image, label: (tf.image.resize_with_crop_or_pad(image, image_shape[0]+6, image_shape[1]+6), label)\n",
    ").map(\n",
    "    lambda image, label: (tf.image.random_crop(image, (image_shape[0], image_shape[1], image_shape[2])), label)\n",
    ").map(\n",
    "    lambda image, label: (tf.image.random_contrast(image, lower=0.2, upper=1.0), label)\n",
    ").shuffle(\n",
    "    100000\n",
    ").batch(\n",
    "    batch_size\n",
    ").prefetch(10)"
   ]
  },
  {
   "cell_type": "code",
   "execution_count": 9,
   "metadata": {},
   "outputs": [],
   "source": [
    "valid_ds = tf.data.Dataset.from_tensor_slices((x_valid, y_valid)).batch(batch_size)"
   ]
  },
  {
   "cell_type": "code",
   "execution_count": 10,
   "metadata": {},
   "outputs": [],
   "source": [
    "layers = tf.keras.layers"
   ]
  },
  {
   "cell_type": "code",
   "execution_count": 11,
   "metadata": {},
   "outputs": [],
   "source": [
    "img_input = layers.Input(shape=image_shape)\n",
    "x = layers.Conv2D(64, (3, 3), activation='relu', padding='same', \n",
    "                  kernel_initializer=tf.keras.initializers.GlorotNormal())(img_input)\n",
    "x = layers.Conv2D(64, (3, 3), activation='relu', padding='same',\n",
    "                 kernel_initializer=tf.keras.initializers.GlorotNormal())(x)\n",
    "x = layers.MaxPooling2D()(x)\n",
    "x = layers.Conv2D(128, (3, 3), activation='relu', padding='same', \n",
    "                  kernel_initializer=tf.keras.initializers.GlorotNormal())(x)\n",
    "x = layers.Conv2D(128, (3, 3), activation='relu', padding='same',\n",
    "                 kernel_initializer=tf.keras.initializers.GlorotNormal())(x)\n",
    "x = layers.MaxPooling2D()(x)\n",
    "x = layers.Conv2D(256, (3, 3), activation='relu', padding='same', \n",
    "                  kernel_initializer=tf.keras.initializers.GlorotNormal())(x)\n",
    "x = layers.Conv2D(256, (3, 3), activation='relu', padding='same',\n",
    "                 kernel_initializer=tf.keras.initializers.GlorotNormal())(x)\n",
    "x = layers.Conv2D(256, (3, 3), activation='relu', padding='same',\n",
    "                 kernel_initializer=tf.keras.initializers.GlorotNormal())(x)\n",
    "x = layers.MaxPooling2D()(x)\n",
    "x = layers.Conv2D(512, (3, 3), activation='relu', padding='same', \n",
    "                  kernel_initializer=tf.keras.initializers.GlorotNormal())(x)\n",
    "x = layers.Conv2D(512, (3, 3), activation='relu', padding='same',\n",
    "                 kernel_initializer=tf.keras.initializers.GlorotNormal())(x)\n",
    "x = layers.Conv2D(512, (3, 3), activation='relu', padding='same',\n",
    "                 kernel_initializer=tf.keras.initializers.GlorotNormal())(x)\n",
    "x = layers.MaxPooling2D()(x)\n",
    "x = layers.Conv2D(512, (3, 3), activation='relu', padding='same', \n",
    "                  kernel_initializer=tf.keras.initializers.GlorotNormal())(x)\n",
    "x = layers.Conv2D(512, (3, 3), activation='relu', padding='same',\n",
    "                 kernel_initializer=tf.keras.initializers.GlorotNormal())(x)\n",
    "x = layers.Conv2D(512, (3, 3), activation='relu', padding='same',\n",
    "                 kernel_initializer=tf.keras.initializers.GlorotNormal())(x)\n",
    "x = layers.MaxPooling2D()(x)\n",
    "x = layers.Flatten()(x)\n",
    "x = layers.Dense(512, activation='relu', kernel_initializer=tf.keras.initializers.GlorotNormal())(x)\n",
    "out = layers.Dense(10, kernel_initializer=tf.keras.initializers.GlorotNormal())(x)\n",
    "\n",
    "model = tf.keras.Model(inputs=img_input, outputs=out)"
   ]
  },
  {
   "cell_type": "code",
   "execution_count": 12,
   "metadata": {},
   "outputs": [],
   "source": [
    "def scheduler(epoch, lr):\n",
    "    if epoch < 10:\n",
    "        return 1e-3\n",
    "    elif epoch < 90:\n",
    "        return 1e-2\n",
    "    elif epoch < 150:\n",
    "        return 1e-3\n",
    "    else:\n",
    "        return 1e-4"
   ]
  },
  {
   "cell_type": "code",
   "execution_count": 13,
   "metadata": {},
   "outputs": [],
   "source": [
    "model.compile(optimizer=tf.keras.optimizers.SGD(momentum=0.9),\n",
    "              loss=tf.keras.losses.CategoricalCrossentropy(from_logits=True),\n",
    "              metrics=['accuracy'])"
   ]
  },
  {
   "cell_type": "code",
   "execution_count": 14,
   "metadata": {},
   "outputs": [],
   "source": [
    "callback = tf.keras.callbacks.LearningRateScheduler(scheduler)"
   ]
  },
  {
   "cell_type": "code",
   "execution_count": 15,
   "metadata": {
    "scrolled": true
   },
   "outputs": [
    {
     "name": "stdout",
     "output_type": "stream",
     "text": [
      "Epoch 1/200\n",
      "176/176 [==============================] - 13s 76ms/step - loss: 2.3026 - accuracy: 0.1010 - val_loss: 2.3025 - val_accuracy: 0.0930\n",
      "Epoch 2/200\n",
      "176/176 [==============================] - 6s 33ms/step - loss: 2.3025 - accuracy: 0.1071 - val_loss: 2.3025 - val_accuracy: 0.0930\n",
      "Epoch 3/200\n",
      "176/176 [==============================] - 8s 48ms/step - loss: 2.3025 - accuracy: 0.1031 - val_loss: 2.3025 - val_accuracy: 0.0930\n",
      "Epoch 4/200\n",
      "176/176 [==============================] - 5s 31ms/step - loss: 2.3024 - accuracy: 0.1026 - val_loss: 2.3025 - val_accuracy: 0.0930\n",
      "Epoch 5/200\n",
      "176/176 [==============================] - 5s 31ms/step - loss: 2.3024 - accuracy: 0.1025 - val_loss: 2.3024 - val_accuracy: 0.0930\n",
      "Epoch 6/200\n",
      "176/176 [==============================] - 5s 31ms/step - loss: 2.3024 - accuracy: 0.1065 - val_loss: 2.3024 - val_accuracy: 0.0930\n",
      "Epoch 7/200\n",
      "176/176 [==============================] - 5s 31ms/step - loss: 2.3023 - accuracy: 0.1043 - val_loss: 2.3024 - val_accuracy: 0.1020\n",
      "Epoch 8/200\n",
      "176/176 [==============================] - 5s 31ms/step - loss: 2.3023 - accuracy: 0.1095 - val_loss: 2.3023 - val_accuracy: 0.1258\n",
      "Epoch 9/200\n",
      "176/176 [==============================] - 5s 31ms/step - loss: 2.3022 - accuracy: 0.1110 - val_loss: 2.3022 - val_accuracy: 0.1468\n",
      "Epoch 10/200\n",
      "176/176 [==============================] - 5s 31ms/step - loss: 2.3021 - accuracy: 0.1181 - val_loss: 2.3022 - val_accuracy: 0.0936\n",
      "Epoch 11/200\n",
      "176/176 [==============================] - 5s 31ms/step - loss: 2.3014 - accuracy: 0.1128 - val_loss: 2.2987 - val_accuracy: 0.1252\n",
      "Epoch 12/200\n",
      "176/176 [==============================] - 5s 31ms/step - loss: 2.2236 - accuracy: 0.1691 - val_loss: 2.1552 - val_accuracy: 0.1876\n",
      "Epoch 13/200\n",
      "176/176 [==============================] - 5s 31ms/step - loss: 2.0797 - accuracy: 0.2215 - val_loss: 2.0117 - val_accuracy: 0.2512\n",
      "Epoch 14/200\n",
      "176/176 [==============================] - 5s 31ms/step - loss: 1.9993 - accuracy: 0.2608 - val_loss: 1.9726 - val_accuracy: 0.2576\n",
      "Epoch 15/200\n",
      "176/176 [==============================] - 5s 31ms/step - loss: 1.9332 - accuracy: 0.2838 - val_loss: 1.8488 - val_accuracy: 0.3066\n",
      "Epoch 16/200\n",
      "176/176 [==============================] - 5s 31ms/step - loss: 1.8748 - accuracy: 0.3058 - val_loss: 1.8039 - val_accuracy: 0.3334\n",
      "Epoch 17/200\n",
      "176/176 [==============================] - 5s 31ms/step - loss: 1.8087 - accuracy: 0.3251 - val_loss: 1.7334 - val_accuracy: 0.3620\n",
      "Epoch 18/200\n",
      "176/176 [==============================] - 5s 31ms/step - loss: 1.7350 - accuracy: 0.3567 - val_loss: 1.6469 - val_accuracy: 0.3942\n",
      "Epoch 19/200\n",
      "176/176 [==============================] - 5s 31ms/step - loss: 1.6463 - accuracy: 0.3909 - val_loss: 1.5813 - val_accuracy: 0.4198\n",
      "Epoch 20/200\n",
      "176/176 [==============================] - 5s 31ms/step - loss: 1.5288 - accuracy: 0.4377 - val_loss: 1.3940 - val_accuracy: 0.4904\n",
      "Epoch 21/200\n",
      "176/176 [==============================] - 5s 31ms/step - loss: 1.4443 - accuracy: 0.4666 - val_loss: 1.4694 - val_accuracy: 0.4658\n",
      "Epoch 22/200\n",
      "176/176 [==============================] - 5s 31ms/step - loss: 1.3263 - accuracy: 0.5137 - val_loss: 1.2090 - val_accuracy: 0.5628\n",
      "Epoch 23/200\n",
      "176/176 [==============================] - 5s 31ms/step - loss: 1.2197 - accuracy: 0.5589 - val_loss: 1.1510 - val_accuracy: 0.5830\n",
      "Epoch 24/200\n",
      "176/176 [==============================] - 5s 31ms/step - loss: 1.1413 - accuracy: 0.5867 - val_loss: 1.0524 - val_accuracy: 0.6236\n",
      "Epoch 25/200\n",
      "176/176 [==============================] - 5s 31ms/step - loss: 1.0527 - accuracy: 0.6204 - val_loss: 1.0413 - val_accuracy: 0.6424\n",
      "Epoch 26/200\n",
      "176/176 [==============================] - 5s 31ms/step - loss: 0.9774 - accuracy: 0.6488 - val_loss: 1.0075 - val_accuracy: 0.6554\n",
      "Epoch 27/200\n",
      "176/176 [==============================] - 5s 31ms/step - loss: 0.9188 - accuracy: 0.6724 - val_loss: 0.8338 - val_accuracy: 0.7134\n",
      "Epoch 28/200\n",
      "176/176 [==============================] - 5s 31ms/step - loss: 0.8624 - accuracy: 0.6942 - val_loss: 0.8365 - val_accuracy: 0.7096\n",
      "Epoch 29/200\n",
      "176/176 [==============================] - 5s 31ms/step - loss: 0.8045 - accuracy: 0.7164 - val_loss: 0.7946 - val_accuracy: 0.7290\n",
      "Epoch 30/200\n",
      "176/176 [==============================] - 5s 30ms/step - loss: 0.7600 - accuracy: 0.7339 - val_loss: 0.7589 - val_accuracy: 0.7340\n",
      "Epoch 31/200\n",
      "176/176 [==============================] - 5s 30ms/step - loss: 0.7113 - accuracy: 0.7506 - val_loss: 0.8314 - val_accuracy: 0.7230\n",
      "Epoch 32/200\n",
      "176/176 [==============================] - 5s 30ms/step - loss: 0.6838 - accuracy: 0.7595 - val_loss: 0.6916 - val_accuracy: 0.7600\n",
      "Epoch 33/200\n",
      "176/176 [==============================] - 5s 31ms/step - loss: 0.6437 - accuracy: 0.7754 - val_loss: 0.6881 - val_accuracy: 0.7626\n",
      "Epoch 34/200\n",
      "176/176 [==============================] - 5s 31ms/step - loss: 0.6119 - accuracy: 0.7860 - val_loss: 0.6723 - val_accuracy: 0.7740\n",
      "Epoch 35/200\n",
      "176/176 [==============================] - 5s 30ms/step - loss: 0.5845 - accuracy: 0.7975 - val_loss: 0.6228 - val_accuracy: 0.7912\n",
      "Epoch 36/200\n",
      "176/176 [==============================] - 5s 30ms/step - loss: 0.5443 - accuracy: 0.8108 - val_loss: 0.5832 - val_accuracy: 0.8030\n",
      "Epoch 37/200\n",
      "176/176 [==============================] - 5s 30ms/step - loss: 0.5376 - accuracy: 0.8125 - val_loss: 0.6146 - val_accuracy: 0.7938\n",
      "Epoch 38/200\n",
      "176/176 [==============================] - 5s 30ms/step - loss: 0.5089 - accuracy: 0.8223 - val_loss: 0.6584 - val_accuracy: 0.7792\n",
      "Epoch 39/200\n",
      "176/176 [==============================] - 5s 30ms/step - loss: 0.4819 - accuracy: 0.8323 - val_loss: 0.6172 - val_accuracy: 0.7892\n",
      "Epoch 40/200\n",
      "176/176 [==============================] - 5s 31ms/step - loss: 0.4534 - accuracy: 0.8416 - val_loss: 0.5661 - val_accuracy: 0.8166\n",
      "Epoch 41/200\n",
      "176/176 [==============================] - 5s 31ms/step - loss: 0.4382 - accuracy: 0.8477 - val_loss: 0.5697 - val_accuracy: 0.8172\n",
      "Epoch 42/200\n",
      "176/176 [==============================] - 5s 31ms/step - loss: 0.4158 - accuracy: 0.8551 - val_loss: 0.5427 - val_accuracy: 0.8242\n",
      "Epoch 43/200\n",
      "176/176 [==============================] - 5s 31ms/step - loss: 0.3889 - accuracy: 0.8652 - val_loss: 0.5318 - val_accuracy: 0.8288\n",
      "Epoch 44/200\n",
      "176/176 [==============================] - 5s 31ms/step - loss: 0.3733 - accuracy: 0.8706 - val_loss: 0.5617 - val_accuracy: 0.8222\n",
      "Epoch 45/200\n",
      "176/176 [==============================] - 5s 31ms/step - loss: 0.3618 - accuracy: 0.8738 - val_loss: 0.5468 - val_accuracy: 0.8282\n",
      "Epoch 46/200\n",
      "176/176 [==============================] - 5s 30ms/step - loss: 0.3451 - accuracy: 0.8800 - val_loss: 0.6161 - val_accuracy: 0.8172\n",
      "Epoch 47/200\n",
      "176/176 [==============================] - 5s 30ms/step - loss: 0.3283 - accuracy: 0.8853 - val_loss: 0.5842 - val_accuracy: 0.8206\n",
      "Epoch 48/200\n",
      "176/176 [==============================] - 5s 31ms/step - loss: 0.3196 - accuracy: 0.8888 - val_loss: 0.5379 - val_accuracy: 0.8324\n",
      "Epoch 49/200\n",
      "176/176 [==============================] - 5s 30ms/step - loss: 0.3105 - accuracy: 0.8919 - val_loss: 0.5568 - val_accuracy: 0.8218\n",
      "Epoch 50/200\n",
      "176/176 [==============================] - 5s 31ms/step - loss: 0.3029 - accuracy: 0.8946 - val_loss: 0.5871 - val_accuracy: 0.8194\n",
      "Epoch 51/200\n",
      "176/176 [==============================] - 5s 30ms/step - loss: 0.2742 - accuracy: 0.9043 - val_loss: 0.5699 - val_accuracy: 0.8232\n",
      "Epoch 52/200\n",
      "176/176 [==============================] - 5s 30ms/step - loss: 0.2712 - accuracy: 0.9047 - val_loss: 0.6080 - val_accuracy: 0.8228\n",
      "Epoch 53/200\n",
      "176/176 [==============================] - 5s 30ms/step - loss: 0.2584 - accuracy: 0.9112 - val_loss: 0.5273 - val_accuracy: 0.8412\n",
      "Epoch 54/200\n",
      "176/176 [==============================] - 5s 30ms/step - loss: 0.2435 - accuracy: 0.9150 - val_loss: 0.6358 - val_accuracy: 0.8182\n",
      "Epoch 55/200\n",
      "176/176 [==============================] - 5s 30ms/step - loss: 0.2385 - accuracy: 0.9176 - val_loss: 0.5352 - val_accuracy: 0.8428\n",
      "Epoch 56/200\n",
      "176/176 [==============================] - 5s 30ms/step - loss: 0.2267 - accuracy: 0.9208 - val_loss: 0.5516 - val_accuracy: 0.8390\n",
      "Epoch 57/200\n",
      "176/176 [==============================] - 5s 30ms/step - loss: 0.2279 - accuracy: 0.9197 - val_loss: 0.5747 - val_accuracy: 0.8392\n",
      "Epoch 58/200\n",
      "176/176 [==============================] - 5s 31ms/step - loss: 0.2096 - accuracy: 0.9262 - val_loss: 0.5777 - val_accuracy: 0.8350\n",
      "Epoch 59/200\n",
      "176/176 [==============================] - 5s 31ms/step - loss: 0.2060 - accuracy: 0.9285 - val_loss: 0.6141 - val_accuracy: 0.8284\n",
      "Epoch 60/200\n",
      "176/176 [==============================] - 5s 30ms/step - loss: 0.1970 - accuracy: 0.9311 - val_loss: 0.5689 - val_accuracy: 0.8442\n",
      "Epoch 61/200\n",
      "176/176 [==============================] - 5s 31ms/step - loss: 0.1816 - accuracy: 0.9357 - val_loss: 0.5801 - val_accuracy: 0.8466\n",
      "Epoch 62/200\n",
      "176/176 [==============================] - 5s 31ms/step - loss: 0.1817 - accuracy: 0.9346 - val_loss: 0.5830 - val_accuracy: 0.8412\n",
      "Epoch 63/200\n",
      "176/176 [==============================] - 5s 30ms/step - loss: 0.1625 - accuracy: 0.9424 - val_loss: 0.5802 - val_accuracy: 0.8444\n",
      "Epoch 64/200\n",
      "176/176 [==============================] - 5s 30ms/step - loss: 0.1643 - accuracy: 0.9413 - val_loss: 0.5918 - val_accuracy: 0.8490\n",
      "Epoch 65/200\n",
      "176/176 [==============================] - 5s 30ms/step - loss: 0.1562 - accuracy: 0.9452 - val_loss: 0.6040 - val_accuracy: 0.8452\n",
      "Epoch 66/200\n",
      "176/176 [==============================] - 5s 30ms/step - loss: 0.1501 - accuracy: 0.9474 - val_loss: 0.6098 - val_accuracy: 0.8440\n",
      "Epoch 67/200\n",
      "176/176 [==============================] - 5s 31ms/step - loss: 0.1473 - accuracy: 0.9490 - val_loss: 0.6479 - val_accuracy: 0.8470\n",
      "Epoch 68/200\n",
      "176/176 [==============================] - 5s 30ms/step - loss: 0.1470 - accuracy: 0.9491 - val_loss: 0.6246 - val_accuracy: 0.8442\n",
      "Epoch 69/200\n",
      "176/176 [==============================] - 5s 30ms/step - loss: 0.1332 - accuracy: 0.9538 - val_loss: 0.5884 - val_accuracy: 0.8494\n",
      "Epoch 70/200\n",
      "176/176 [==============================] - 5s 30ms/step - loss: 0.1260 - accuracy: 0.9561 - val_loss: 0.6739 - val_accuracy: 0.8402\n",
      "Epoch 71/200\n",
      "176/176 [==============================] - 5s 31ms/step - loss: 0.1275 - accuracy: 0.9556 - val_loss: 0.5990 - val_accuracy: 0.8488\n",
      "Epoch 72/200\n",
      "176/176 [==============================] - 5s 30ms/step - loss: 0.1117 - accuracy: 0.9600 - val_loss: 0.6469 - val_accuracy: 0.8454\n",
      "Epoch 73/200\n",
      "176/176 [==============================] - 5s 31ms/step - loss: 0.1098 - accuracy: 0.9622 - val_loss: 0.6347 - val_accuracy: 0.8544\n",
      "Epoch 74/200\n",
      "176/176 [==============================] - 5s 31ms/step - loss: 0.1042 - accuracy: 0.9635 - val_loss: 0.5792 - val_accuracy: 0.8554\n",
      "Epoch 75/200\n",
      "176/176 [==============================] - 5s 30ms/step - loss: 0.1087 - accuracy: 0.9619 - val_loss: 0.7004 - val_accuracy: 0.8432\n",
      "Epoch 76/200\n",
      "176/176 [==============================] - 5s 31ms/step - loss: 0.1089 - accuracy: 0.9616 - val_loss: 0.6501 - val_accuracy: 0.8472\n",
      "Epoch 77/200\n",
      "176/176 [==============================] - 5s 30ms/step - loss: 0.0968 - accuracy: 0.9662 - val_loss: 0.6892 - val_accuracy: 0.8494\n",
      "Epoch 78/200\n",
      "176/176 [==============================] - 5s 30ms/step - loss: 0.0903 - accuracy: 0.9691 - val_loss: 0.6580 - val_accuracy: 0.8578\n",
      "Epoch 79/200\n",
      "176/176 [==============================] - 5s 31ms/step - loss: 0.0959 - accuracy: 0.9672 - val_loss: 0.6992 - val_accuracy: 0.8448\n",
      "Epoch 80/200\n",
      "176/176 [==============================] - 5s 31ms/step - loss: 0.0943 - accuracy: 0.9668 - val_loss: 0.6727 - val_accuracy: 0.8478\n",
      "Epoch 81/200\n",
      "176/176 [==============================] - 5s 31ms/step - loss: 0.0883 - accuracy: 0.9687 - val_loss: 0.6298 - val_accuracy: 0.8612\n",
      "Epoch 82/200\n",
      "176/176 [==============================] - 5s 30ms/step - loss: 0.0852 - accuracy: 0.9698 - val_loss: 0.6403 - val_accuracy: 0.8542\n",
      "Epoch 83/200\n",
      "176/176 [==============================] - 5s 30ms/step - loss: 0.0820 - accuracy: 0.9716 - val_loss: 0.6105 - val_accuracy: 0.8594\n",
      "Epoch 84/200\n",
      "176/176 [==============================] - 5s 30ms/step - loss: 0.0827 - accuracy: 0.9711 - val_loss: 0.6577 - val_accuracy: 0.8476\n",
      "Epoch 85/200\n",
      "176/176 [==============================] - 5s 31ms/step - loss: 0.0772 - accuracy: 0.9728 - val_loss: 0.6268 - val_accuracy: 0.8568\n",
      "Epoch 86/200\n",
      "176/176 [==============================] - 5s 30ms/step - loss: 0.0751 - accuracy: 0.9736 - val_loss: 0.6737 - val_accuracy: 0.8596\n",
      "Epoch 87/200\n",
      "176/176 [==============================] - 5s 30ms/step - loss: 0.0671 - accuracy: 0.9775 - val_loss: 0.6679 - val_accuracy: 0.8522\n",
      "Epoch 88/200\n",
      "176/176 [==============================] - 5s 30ms/step - loss: 0.0680 - accuracy: 0.9765 - val_loss: 0.6297 - val_accuracy: 0.8618\n",
      "Epoch 89/200\n",
      "176/176 [==============================] - 5s 31ms/step - loss: 0.0666 - accuracy: 0.9772 - val_loss: 0.7030 - val_accuracy: 0.8522\n",
      "Epoch 90/200\n",
      "176/176 [==============================] - 5s 31ms/step - loss: 0.0669 - accuracy: 0.9771 - val_loss: 0.6684 - val_accuracy: 0.8618\n",
      "Epoch 91/200\n",
      "176/176 [==============================] - 5s 31ms/step - loss: 0.0476 - accuracy: 0.9843 - val_loss: 0.6258 - val_accuracy: 0.8654\n",
      "Epoch 92/200\n",
      "176/176 [==============================] - 5s 30ms/step - loss: 0.0265 - accuracy: 0.9915 - val_loss: 0.6470 - val_accuracy: 0.8700\n",
      "Epoch 93/200\n",
      "176/176 [==============================] - 5s 30ms/step - loss: 0.0209 - accuracy: 0.9933 - val_loss: 0.6720 - val_accuracy: 0.8694\n",
      "Epoch 94/200\n",
      "176/176 [==============================] - 5s 30ms/step - loss: 0.0190 - accuracy: 0.9934 - val_loss: 0.6914 - val_accuracy: 0.8708\n",
      "Epoch 95/200\n",
      "176/176 [==============================] - 5s 30ms/step - loss: 0.0178 - accuracy: 0.9940 - val_loss: 0.6933 - val_accuracy: 0.8710\n",
      "Epoch 96/200\n",
      "176/176 [==============================] - 5s 30ms/step - loss: 0.0168 - accuracy: 0.9946 - val_loss: 0.7213 - val_accuracy: 0.8704\n",
      "Epoch 97/200\n",
      "176/176 [==============================] - 5s 31ms/step - loss: 0.0158 - accuracy: 0.9948 - val_loss: 0.7235 - val_accuracy: 0.8736\n",
      "Epoch 98/200\n",
      "176/176 [==============================] - 5s 30ms/step - loss: 0.0146 - accuracy: 0.9953 - val_loss: 0.7349 - val_accuracy: 0.8732\n",
      "Epoch 99/200\n",
      "176/176 [==============================] - 5s 31ms/step - loss: 0.0125 - accuracy: 0.9959 - val_loss: 0.7526 - val_accuracy: 0.8756\n",
      "Epoch 100/200\n",
      "176/176 [==============================] - 5s 30ms/step - loss: 0.0127 - accuracy: 0.9959 - val_loss: 0.7777 - val_accuracy: 0.8728\n",
      "Epoch 101/200\n",
      "176/176 [==============================] - 5s 31ms/step - loss: 0.0126 - accuracy: 0.9959 - val_loss: 0.7750 - val_accuracy: 0.8740\n",
      "Epoch 102/200\n",
      "176/176 [==============================] - 5s 30ms/step - loss: 0.0123 - accuracy: 0.9958 - val_loss: 0.7796 - val_accuracy: 0.8744\n",
      "Epoch 103/200\n",
      "176/176 [==============================] - 5s 30ms/step - loss: 0.0122 - accuracy: 0.9961 - val_loss: 0.7794 - val_accuracy: 0.8734\n",
      "Epoch 104/200\n",
      "176/176 [==============================] - 5s 30ms/step - loss: 0.0103 - accuracy: 0.9969 - val_loss: 0.7972 - val_accuracy: 0.8748\n",
      "Epoch 105/200\n",
      "176/176 [==============================] - 5s 30ms/step - loss: 0.0103 - accuracy: 0.9969 - val_loss: 0.8012 - val_accuracy: 0.8760\n",
      "Epoch 106/200\n",
      "176/176 [==============================] - 5s 30ms/step - loss: 0.0100 - accuracy: 0.9968 - val_loss: 0.8158 - val_accuracy: 0.8734\n",
      "Epoch 107/200\n",
      "176/176 [==============================] - 5s 31ms/step - loss: 0.0100 - accuracy: 0.9964 - val_loss: 0.8253 - val_accuracy: 0.8726\n",
      "Epoch 108/200\n",
      "176/176 [==============================] - 5s 31ms/step - loss: 0.0087 - accuracy: 0.9973 - val_loss: 0.8305 - val_accuracy: 0.8742\n",
      "Epoch 109/200\n",
      "176/176 [==============================] - 5s 31ms/step - loss: 0.0102 - accuracy: 0.9969 - val_loss: 0.8262 - val_accuracy: 0.8740\n",
      "Epoch 110/200\n",
      "176/176 [==============================] - 5s 31ms/step - loss: 0.0089 - accuracy: 0.9971 - val_loss: 0.8344 - val_accuracy: 0.8734\n",
      "Epoch 111/200\n",
      "176/176 [==============================] - 5s 30ms/step - loss: 0.0073 - accuracy: 0.9978 - val_loss: 0.8532 - val_accuracy: 0.8736\n",
      "Epoch 112/200\n",
      "176/176 [==============================] - 5s 30ms/step - loss: 0.0082 - accuracy: 0.9974 - val_loss: 0.8539 - val_accuracy: 0.8726\n",
      "Epoch 113/200\n"
     ]
    },
    {
     "name": "stdout",
     "output_type": "stream",
     "text": [
      "176/176 [==============================] - 5s 30ms/step - loss: 0.0072 - accuracy: 0.9977 - val_loss: 0.8677 - val_accuracy: 0.8740\n",
      "Epoch 114/200\n",
      "176/176 [==============================] - 5s 30ms/step - loss: 0.0076 - accuracy: 0.9975 - val_loss: 0.8748 - val_accuracy: 0.8746\n",
      "Epoch 115/200\n",
      "176/176 [==============================] - 5s 30ms/step - loss: 0.0065 - accuracy: 0.9977 - val_loss: 0.8865 - val_accuracy: 0.8758\n",
      "Epoch 116/200\n",
      "176/176 [==============================] - 5s 31ms/step - loss: 0.0064 - accuracy: 0.9981 - val_loss: 0.8970 - val_accuracy: 0.8770\n",
      "Epoch 117/200\n",
      "176/176 [==============================] - 5s 30ms/step - loss: 0.0065 - accuracy: 0.9978 - val_loss: 0.8985 - val_accuracy: 0.8756\n",
      "Epoch 118/200\n",
      "176/176 [==============================] - 5s 31ms/step - loss: 0.0062 - accuracy: 0.9980 - val_loss: 0.9152 - val_accuracy: 0.8736\n",
      "Epoch 119/200\n",
      "176/176 [==============================] - 5s 30ms/step - loss: 0.0063 - accuracy: 0.9979 - val_loss: 0.9069 - val_accuracy: 0.8738\n",
      "Epoch 120/200\n",
      "176/176 [==============================] - 5s 31ms/step - loss: 0.0069 - accuracy: 0.9978 - val_loss: 0.9131 - val_accuracy: 0.8740\n",
      "Epoch 121/200\n",
      "176/176 [==============================] - 5s 31ms/step - loss: 0.0068 - accuracy: 0.9978 - val_loss: 0.9165 - val_accuracy: 0.8740\n",
      "Epoch 122/200\n",
      "176/176 [==============================] - 5s 30ms/step - loss: 0.0062 - accuracy: 0.9979 - val_loss: 0.9135 - val_accuracy: 0.8718\n",
      "Epoch 123/200\n",
      "176/176 [==============================] - 5s 31ms/step - loss: 0.0055 - accuracy: 0.9983 - val_loss: 0.9191 - val_accuracy: 0.8736\n",
      "Epoch 124/200\n",
      "176/176 [==============================] - 5s 30ms/step - loss: 0.0054 - accuracy: 0.9983 - val_loss: 0.9369 - val_accuracy: 0.8758\n",
      "Epoch 125/200\n",
      "176/176 [==============================] - 5s 30ms/step - loss: 0.0065 - accuracy: 0.9977 - val_loss: 0.9177 - val_accuracy: 0.8750\n",
      "Epoch 126/200\n",
      "176/176 [==============================] - 5s 30ms/step - loss: 0.0049 - accuracy: 0.9985 - val_loss: 0.9458 - val_accuracy: 0.8754\n",
      "Epoch 127/200\n",
      "176/176 [==============================] - 5s 31ms/step - loss: 0.0049 - accuracy: 0.9984 - val_loss: 0.9555 - val_accuracy: 0.8740\n",
      "Epoch 128/200\n",
      "176/176 [==============================] - 5s 31ms/step - loss: 0.0060 - accuracy: 0.9982 - val_loss: 0.9636 - val_accuracy: 0.8748\n",
      "Epoch 129/200\n",
      "176/176 [==============================] - 5s 30ms/step - loss: 0.0055 - accuracy: 0.9984 - val_loss: 0.9548 - val_accuracy: 0.8756\n",
      "Epoch 130/200\n",
      "176/176 [==============================] - 5s 31ms/step - loss: 0.0056 - accuracy: 0.9980 - val_loss: 0.9521 - val_accuracy: 0.8738\n",
      "Epoch 131/200\n",
      "176/176 [==============================] - 5s 31ms/step - loss: 0.0056 - accuracy: 0.9984 - val_loss: 0.9579 - val_accuracy: 0.8754\n",
      "Epoch 132/200\n",
      "176/176 [==============================] - 5s 30ms/step - loss: 0.0053 - accuracy: 0.9982 - val_loss: 0.9619 - val_accuracy: 0.8744\n",
      "Epoch 133/200\n",
      "176/176 [==============================] - 5s 31ms/step - loss: 0.0042 - accuracy: 0.9988 - val_loss: 0.9730 - val_accuracy: 0.8728\n",
      "Epoch 134/200\n",
      "176/176 [==============================] - 5s 30ms/step - loss: 0.0049 - accuracy: 0.9984 - val_loss: 0.9937 - val_accuracy: 0.8752\n",
      "Epoch 135/200\n",
      "176/176 [==============================] - 5s 30ms/step - loss: 0.0046 - accuracy: 0.9986 - val_loss: 0.9862 - val_accuracy: 0.8742\n",
      "Epoch 136/200\n",
      "176/176 [==============================] - 5s 30ms/step - loss: 0.0052 - accuracy: 0.9983 - val_loss: 0.9930 - val_accuracy: 0.8764\n",
      "Epoch 137/200\n",
      "176/176 [==============================] - 5s 30ms/step - loss: 0.0053 - accuracy: 0.9982 - val_loss: 0.9918 - val_accuracy: 0.8742\n",
      "Epoch 138/200\n",
      "176/176 [==============================] - 5s 30ms/step - loss: 0.0047 - accuracy: 0.9985 - val_loss: 1.0043 - val_accuracy: 0.8736\n",
      "Epoch 139/200\n",
      "176/176 [==============================] - 5s 30ms/step - loss: 0.0049 - accuracy: 0.9983 - val_loss: 1.0092 - val_accuracy: 0.8744\n",
      "Epoch 140/200\n",
      "176/176 [==============================] - 5s 31ms/step - loss: 0.0046 - accuracy: 0.9986 - val_loss: 1.0337 - val_accuracy: 0.8738\n",
      "Epoch 141/200\n",
      "176/176 [==============================] - 5s 30ms/step - loss: 0.0041 - accuracy: 0.9987 - val_loss: 1.0240 - val_accuracy: 0.8744\n",
      "Epoch 142/200\n",
      "176/176 [==============================] - 5s 30ms/step - loss: 0.0046 - accuracy: 0.9986 - val_loss: 1.0117 - val_accuracy: 0.8770\n",
      "Epoch 143/200\n",
      "176/176 [==============================] - 5s 30ms/step - loss: 0.0043 - accuracy: 0.9988 - val_loss: 1.0273 - val_accuracy: 0.8750\n",
      "Epoch 144/200\n",
      "176/176 [==============================] - 5s 31ms/step - loss: 0.0038 - accuracy: 0.9988 - val_loss: 1.0176 - val_accuracy: 0.8750\n",
      "Epoch 145/200\n",
      "176/176 [==============================] - 5s 31ms/step - loss: 0.0047 - accuracy: 0.9985 - val_loss: 1.0331 - val_accuracy: 0.8748\n",
      "Epoch 146/200\n",
      "176/176 [==============================] - 5s 30ms/step - loss: 0.0041 - accuracy: 0.9988 - val_loss: 1.0391 - val_accuracy: 0.8762\n",
      "Epoch 147/200\n",
      "176/176 [==============================] - 5s 30ms/step - loss: 0.0044 - accuracy: 0.9987 - val_loss: 1.0558 - val_accuracy: 0.8738\n",
      "Epoch 148/200\n",
      "176/176 [==============================] - 5s 30ms/step - loss: 0.0038 - accuracy: 0.9989 - val_loss: 1.0483 - val_accuracy: 0.8764\n",
      "Epoch 149/200\n",
      "176/176 [==============================] - 5s 31ms/step - loss: 0.0035 - accuracy: 0.9991 - val_loss: 1.0519 - val_accuracy: 0.8740\n",
      "Epoch 150/200\n",
      "176/176 [==============================] - 5s 30ms/step - loss: 0.0037 - accuracy: 0.9988 - val_loss: 1.0478 - val_accuracy: 0.8742\n",
      "Epoch 151/200\n",
      "176/176 [==============================] - 5s 30ms/step - loss: 0.0038 - accuracy: 0.9990 - val_loss: 1.0471 - val_accuracy: 0.8734\n",
      "Epoch 152/200\n",
      "176/176 [==============================] - 5s 31ms/step - loss: 0.0034 - accuracy: 0.9989 - val_loss: 1.0476 - val_accuracy: 0.8740\n",
      "Epoch 153/200\n",
      "176/176 [==============================] - 5s 30ms/step - loss: 0.0032 - accuracy: 0.9990 - val_loss: 1.0483 - val_accuracy: 0.8740\n",
      "Epoch 154/200\n",
      "176/176 [==============================] - 5s 30ms/step - loss: 0.0037 - accuracy: 0.9989 - val_loss: 1.0517 - val_accuracy: 0.8738\n",
      "Epoch 155/200\n",
      "176/176 [==============================] - 5s 30ms/step - loss: 0.0033 - accuracy: 0.9991 - val_loss: 1.0490 - val_accuracy: 0.8748\n",
      "Epoch 156/200\n",
      "176/176 [==============================] - 5s 30ms/step - loss: 0.0029 - accuracy: 0.9991 - val_loss: 1.0496 - val_accuracy: 0.8754\n",
      "Epoch 157/200\n",
      "176/176 [==============================] - 5s 31ms/step - loss: 0.0035 - accuracy: 0.9989 - val_loss: 1.0510 - val_accuracy: 0.8756\n",
      "Epoch 158/200\n",
      "176/176 [==============================] - 5s 31ms/step - loss: 0.0033 - accuracy: 0.9989 - val_loss: 1.0521 - val_accuracy: 0.8758\n",
      "Epoch 159/200\n",
      "176/176 [==============================] - 5s 31ms/step - loss: 0.0030 - accuracy: 0.9991 - val_loss: 1.0532 - val_accuracy: 0.8752\n",
      "Epoch 160/200\n",
      "176/176 [==============================] - 5s 30ms/step - loss: 0.0033 - accuracy: 0.9989 - val_loss: 1.0528 - val_accuracy: 0.8752\n",
      "Epoch 161/200\n",
      "176/176 [==============================] - 5s 30ms/step - loss: 0.0025 - accuracy: 0.9994 - val_loss: 1.0522 - val_accuracy: 0.8756\n",
      "Epoch 162/200\n",
      "176/176 [==============================] - 5s 31ms/step - loss: 0.0029 - accuracy: 0.9990 - val_loss: 1.0540 - val_accuracy: 0.8752\n",
      "Epoch 163/200\n",
      "176/176 [==============================] - 5s 31ms/step - loss: 0.0034 - accuracy: 0.9989 - val_loss: 1.0575 - val_accuracy: 0.8760\n",
      "Epoch 164/200\n",
      "176/176 [==============================] - 5s 30ms/step - loss: 0.0031 - accuracy: 0.9991 - val_loss: 1.0573 - val_accuracy: 0.8746\n",
      "Epoch 165/200\n",
      "176/176 [==============================] - 5s 30ms/step - loss: 0.0029 - accuracy: 0.9991 - val_loss: 1.0578 - val_accuracy: 0.8746\n",
      "Epoch 166/200\n",
      "176/176 [==============================] - 5s 30ms/step - loss: 0.0028 - accuracy: 0.9991 - val_loss: 1.0593 - val_accuracy: 0.8752\n",
      "Epoch 167/200\n",
      "176/176 [==============================] - 5s 30ms/step - loss: 0.0032 - accuracy: 0.9989 - val_loss: 1.0589 - val_accuracy: 0.8754\n",
      "Epoch 168/200\n",
      "176/176 [==============================] - 5s 31ms/step - loss: 0.0029 - accuracy: 0.9991 - val_loss: 1.0582 - val_accuracy: 0.8752\n",
      "Epoch 169/200\n",
      "176/176 [==============================] - 5s 30ms/step - loss: 0.0030 - accuracy: 0.9990 - val_loss: 1.0592 - val_accuracy: 0.8758\n",
      "Epoch 170/200\n",
      "176/176 [==============================] - 5s 30ms/step - loss: 0.0029 - accuracy: 0.9992 - val_loss: 1.0596 - val_accuracy: 0.8764\n",
      "Epoch 171/200\n",
      "176/176 [==============================] - 5s 30ms/step - loss: 0.0029 - accuracy: 0.9991 - val_loss: 1.0602 - val_accuracy: 0.8760\n",
      "Epoch 172/200\n",
      "176/176 [==============================] - 5s 31ms/step - loss: 0.0028 - accuracy: 0.9991 - val_loss: 1.0603 - val_accuracy: 0.8752\n",
      "Epoch 173/200\n",
      "176/176 [==============================] - 5s 30ms/step - loss: 0.0030 - accuracy: 0.9990 - val_loss: 1.0614 - val_accuracy: 0.8754\n",
      "Epoch 174/200\n",
      "176/176 [==============================] - 5s 30ms/step - loss: 0.0028 - accuracy: 0.9992 - val_loss: 1.0634 - val_accuracy: 0.8750\n",
      "Epoch 175/200\n",
      "176/176 [==============================] - 5s 30ms/step - loss: 0.0030 - accuracy: 0.9992 - val_loss: 1.0615 - val_accuracy: 0.8756\n",
      "Epoch 176/200\n",
      "176/176 [==============================] - 5s 31ms/step - loss: 0.0026 - accuracy: 0.9993 - val_loss: 1.0631 - val_accuracy: 0.8758\n",
      "Epoch 177/200\n",
      "176/176 [==============================] - 5s 30ms/step - loss: 0.0029 - accuracy: 0.9992 - val_loss: 1.0652 - val_accuracy: 0.8768\n",
      "Epoch 178/200\n",
      "176/176 [==============================] - 5s 30ms/step - loss: 0.0029 - accuracy: 0.9991 - val_loss: 1.0671 - val_accuracy: 0.8750\n",
      "Epoch 179/200\n",
      "176/176 [==============================] - 5s 31ms/step - loss: 0.0031 - accuracy: 0.9992 - val_loss: 1.0672 - val_accuracy: 0.8754\n",
      "Epoch 180/200\n",
      "176/176 [==============================] - 5s 30ms/step - loss: 0.0025 - accuracy: 0.9994 - val_loss: 1.0664 - val_accuracy: 0.8752\n",
      "Epoch 181/200\n",
      "176/176 [==============================] - 5s 31ms/step - loss: 0.0027 - accuracy: 0.9991 - val_loss: 1.0696 - val_accuracy: 0.8762\n",
      "Epoch 182/200\n",
      "176/176 [==============================] - 5s 31ms/step - loss: 0.0023 - accuracy: 0.9993 - val_loss: 1.0696 - val_accuracy: 0.8760\n",
      "Epoch 183/200\n",
      "176/176 [==============================] - 5s 30ms/step - loss: 0.0028 - accuracy: 0.9990 - val_loss: 1.0685 - val_accuracy: 0.8760\n",
      "Epoch 184/200\n",
      "176/176 [==============================] - 5s 30ms/step - loss: 0.0025 - accuracy: 0.9993 - val_loss: 1.0696 - val_accuracy: 0.8768\n",
      "Epoch 185/200\n",
      "176/176 [==============================] - 5s 30ms/step - loss: 0.0028 - accuracy: 0.9992 - val_loss: 1.0735 - val_accuracy: 0.8770\n",
      "Epoch 186/200\n",
      "176/176 [==============================] - 5s 31ms/step - loss: 0.0027 - accuracy: 0.9992 - val_loss: 1.0730 - val_accuracy: 0.8766\n",
      "Epoch 187/200\n",
      "176/176 [==============================] - 5s 30ms/step - loss: 0.0027 - accuracy: 0.9992 - val_loss: 1.0717 - val_accuracy: 0.8756\n",
      "Epoch 188/200\n",
      "176/176 [==============================] - 5s 30ms/step - loss: 0.0028 - accuracy: 0.9991 - val_loss: 1.0727 - val_accuracy: 0.8766\n",
      "Epoch 189/200\n",
      "176/176 [==============================] - 5s 31ms/step - loss: 0.0031 - accuracy: 0.9992 - val_loss: 1.0724 - val_accuracy: 0.8764\n",
      "Epoch 190/200\n",
      "176/176 [==============================] - 5s 31ms/step - loss: 0.0027 - accuracy: 0.9991 - val_loss: 1.0724 - val_accuracy: 0.8758\n",
      "Epoch 191/200\n",
      "176/176 [==============================] - 5s 30ms/step - loss: 0.0027 - accuracy: 0.9991 - val_loss: 1.0746 - val_accuracy: 0.8760\n",
      "Epoch 192/200\n",
      "176/176 [==============================] - 5s 30ms/step - loss: 0.0029 - accuracy: 0.9990 - val_loss: 1.0741 - val_accuracy: 0.8764\n",
      "Epoch 193/200\n",
      "176/176 [==============================] - 5s 30ms/step - loss: 0.0026 - accuracy: 0.9992 - val_loss: 1.0763 - val_accuracy: 0.8762\n",
      "Epoch 194/200\n",
      "176/176 [==============================] - 5s 30ms/step - loss: 0.0027 - accuracy: 0.9992 - val_loss: 1.0784 - val_accuracy: 0.8758\n",
      "Epoch 195/200\n",
      "176/176 [==============================] - 5s 31ms/step - loss: 0.0021 - accuracy: 0.9995 - val_loss: 1.0785 - val_accuracy: 0.8762\n",
      "Epoch 196/200\n",
      "176/176 [==============================] - 5s 30ms/step - loss: 0.0028 - accuracy: 0.9991 - val_loss: 1.0785 - val_accuracy: 0.8764\n",
      "Epoch 197/200\n",
      "176/176 [==============================] - 5s 30ms/step - loss: 0.0025 - accuracy: 0.9994 - val_loss: 1.0811 - val_accuracy: 0.8764\n",
      "Epoch 198/200\n",
      "176/176 [==============================] - 5s 30ms/step - loss: 0.0027 - accuracy: 0.9992 - val_loss: 1.0802 - val_accuracy: 0.8766\n",
      "Epoch 199/200\n",
      "176/176 [==============================] - 5s 30ms/step - loss: 0.0025 - accuracy: 0.9993 - val_loss: 1.0795 - val_accuracy: 0.8770\n",
      "Epoch 200/200\n",
      "176/176 [==============================] - 5s 30ms/step - loss: 0.0027 - accuracy: 0.9990 - val_loss: 1.0801 - val_accuracy: 0.8762\n"
     ]
    },
    {
     "data": {
      "text/plain": [
       "<tensorflow.python.keras.callbacks.History at 0x7f83641f1400>"
      ]
     },
     "execution_count": 15,
     "metadata": {},
     "output_type": "execute_result"
    }
   ],
   "source": [
    "model.fit(x=train_ds, validation_data=valid_ds, epochs=epochs, callbacks=[callback])"
   ]
  },
  {
   "cell_type": "code",
   "execution_count": 15,
   "metadata": {},
   "outputs": [],
   "source": [
    "model.load_weights('./model_weights/vgg16_train=all_ce.h5')"
   ]
  },
  {
   "cell_type": "code",
   "execution_count": 16,
   "metadata": {},
   "outputs": [
    {
     "data": {
      "text/plain": [
       "[1.0804424285888672, 0.8761000633239746]"
      ]
     },
     "execution_count": 16,
     "metadata": {},
     "output_type": "execute_result"
    }
   ],
   "source": [
    "model.evaluate(x=x_test, y=y_test_all, verbose=0)"
   ]
  },
  {
   "cell_type": "code",
   "execution_count": 34,
   "metadata": {},
   "outputs": [],
   "source": [
    "# model.save('./model_weights/simple_cnn_train=all_ce.h5')"
   ]
  },
  {
   "cell_type": "code",
   "execution_count": null,
   "metadata": {},
   "outputs": [],
   "source": [
    "# with pooling, acc can reach 72.2%\n",
    "# w.o. pooling, acc is at most 67%"
   ]
  },
  {
   "cell_type": "code",
   "execution_count": 18,
   "metadata": {
    "scrolled": true
   },
   "outputs": [
    {
     "name": "stdout",
     "output_type": "stream",
     "text": [
      "==========NTK============\n"
     ]
    },
    {
     "data": {
      "text/plain": [
       "[1.726710021495819, 0.78125]"
      ]
     },
     "execution_count": 18,
     "metadata": {},
     "output_type": "execute_result"
    }
   ],
   "source": [
    "tmp = onp.load('./npy/cifar-eps-time-any-npy/cifar-fgsm-eps-0.03-time-None.npy')\n",
    "print(\"==========NTK============\")\n",
    "model.evaluate(tmp, y_test[:128], verbose=0)"
   ]
  },
  {
   "cell_type": "code",
   "execution_count": 19,
   "metadata": {},
   "outputs": [
    {
     "name": "stdout",
     "output_type": "stream",
     "text": [
      "==========CE============\n"
     ]
    },
    {
     "data": {
      "text/plain": [
       "[1.3806814041454345, 0.8310547]"
      ]
     },
     "execution_count": 19,
     "metadata": {},
     "output_type": "execute_result"
    }
   ],
   "source": [
    "tmp = onp.load('./npy/cifar-untargeted-cifar-nn-grey-box-train=4096-ce.npy')\n",
    "print(\"==========CE============\")\n",
    "model.evaluate(tmp, y_test[:2048], verbose=0)"
   ]
  },
  {
   "cell_type": "code",
   "execution_count": 20,
   "metadata": {},
   "outputs": [
    {
     "name": "stdout",
     "output_type": "stream",
     "text": [
      "==========MSE============\n"
     ]
    },
    {
     "data": {
      "text/plain": [
       "[1.373602248262614, 0.84033203]"
      ]
     },
     "execution_count": 20,
     "metadata": {},
     "output_type": "execute_result"
    }
   ],
   "source": [
    "tmp = onp.load('./npy/cifar-untargeted-cifar-nn-grey-box-train=4096-mse.npy')\n",
    "print(\"==========MSE============\")\n",
    "model.evaluate(tmp, y_test[:2048], verbose=0)"
   ]
  },
  {
   "cell_type": "code",
   "execution_count": 22,
   "metadata": {},
   "outputs": [
    {
     "data": {
      "text/plain": [
       "[1.6405316591262817, 0.8046875]"
      ]
     },
     "execution_count": 22,
     "metadata": {},
     "output_type": "execute_result"
    }
   ],
   "source": [
    "tmp = onp.load('./npy/cifar-fgsm-eps-0.03-time-None-nngp.npy')\n",
    "model.evaluate(tmp, y_test[:128], verbose=0)"
   ]
  },
  {
   "cell_type": "code",
   "execution_count": null,
   "metadata": {},
   "outputs": [],
   "source": [
    "tmp = onp.load('./batch_NTK_simple.npy')\n",
    "model.evaluate(tmp, y_test[:2048], verbose=0)"
   ]
  },
  {
   "cell_type": "code",
   "execution_count": null,
   "metadata": {},
   "outputs": [],
   "source": [
    "tmp = onp.load('./npy/cifar-untargeted-cifar-nn-grey-box-cnn19-train=all-ce.npy')\n",
    "model.evaluate(tmp, y_test[:2048], verbose=0)"
   ]
  },
  {
   "cell_type": "code",
   "execution_count": null,
   "metadata": {},
   "outputs": [],
   "source": [
    "tmp = onp.load('./batch_NTK_cnn_19.npy')\n",
    "model.evaluate(tmp, y_test[:2048], verbose=0)"
   ]
  },
  {
   "cell_type": "code",
   "execution_count": null,
   "metadata": {},
   "outputs": [],
   "source": [
    "tmp = onp.load('./npy/cifar-untargeted-cifar-nn-grey-box-train=all-ce.npy')\n",
    "print(\"==========small============\")\n",
    "model.evaluate(tmp, y_test[:2048], verbose=0)"
   ]
  },
  {
   "cell_type": "code",
   "execution_count": null,
   "metadata": {},
   "outputs": [],
   "source": []
  }
 ],
 "metadata": {
  "kernelspec": {
   "display_name": "Python 3",
   "language": "python",
   "name": "python3"
  },
  "language_info": {
   "codemirror_mode": {
    "name": "ipython",
    "version": 3
   },
   "file_extension": ".py",
   "mimetype": "text/x-python",
   "name": "python",
   "nbconvert_exporter": "python",
   "pygments_lexer": "ipython3",
   "version": "3.6.8"
  }
 },
 "nbformat": 4,
 "nbformat_minor": 2
}
