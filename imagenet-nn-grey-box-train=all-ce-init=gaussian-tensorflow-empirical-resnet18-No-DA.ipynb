{
 "cells": [
  {
   "cell_type": "code",
   "execution_count": 1,
   "metadata": {},
   "outputs": [],
   "source": [
    "import numpy as onp\n",
    "import tensorflow as tf\n",
    "import matplotlib.pyplot as plt\n",
    "\n",
    "from utils import *"
   ]
  },
  {
   "cell_type": "code",
   "execution_count": 2,
   "metadata": {},
   "outputs": [
    {
     "name": "stdout",
     "output_type": "stream",
     "text": [
      "1 Physical GPUs, 1 Logical GPU\n"
     ]
    }
   ],
   "source": [
    "gpus = tf.config.experimental.list_physical_devices('GPU')\n",
    "if gpus:\n",
    "  # Restrict TensorFlow to only use the first GPU\n",
    "    try:\n",
    "        tf.config.experimental.set_visible_devices(gpus[0], 'GPU')\n",
    "        logical_gpus = tf.config.experimental.list_logical_devices('GPU')\n",
    "        print(len(gpus), \"Physical GPUs,\", len(logical_gpus), \"Logical GPU\")\n",
    "    except RuntimeError as e:\n",
    "    # Visible devices must be set before GPUs have been initialized\n",
    "        print(e)"
   ]
  },
  {
   "cell_type": "markdown",
   "metadata": {},
   "source": [
    "# data"
   ]
  },
  {
   "cell_type": "code",
   "execution_count": 3,
   "metadata": {},
   "outputs": [],
   "source": [
    "DATASET = 'imagenet'\n",
    "class_num   = 2\n",
    "image_shape = (224, 224, 3)\n",
    "\n",
    "batch_size = 32\n",
    "train_size = None\n",
    "test_size = 100\n",
    "\n",
    "epochs = 50\n",
    "eps = 0.03"
   ]
  },
  {
   "cell_type": "code",
   "execution_count": 4,
   "metadata": {},
   "outputs": [],
   "source": [
    "def one_hot(x, k, dtype=np.float64):\n",
    "    \"\"\"Create a one-hot encoding of x of size k.\"\"\"\n",
    "    return onp.array(x[:, None] == onp.arange(k), dtype)"
   ]
  },
  {
   "cell_type": "code",
   "execution_count": 5,
   "metadata": {},
   "outputs": [],
   "source": [
    "x_train = onp.load('../../Jimmy/ntk_nngp/source/dataset/imagenet_x_train.npy')[:2000]\n",
    "y_train = onp.load('../../Jimmy/ntk_nngp/source/dataset/imagenet_y_train.npy')[:2000]\n",
    "\n",
    "x_valid = onp.load('../../Jimmy/ntk_nngp/source/dataset/imagenet_x_train.npy')[2000:]\n",
    "y_valid = onp.load('../../Jimmy/ntk_nngp/source/dataset/imagenet_y_train.npy')[2000:]\n",
    "\n",
    "x_test = onp.load('../../Jimmy/ntk_nngp/source/dataset/imagenet_x_test.npy')\n",
    "y_test = onp.load('../../Jimmy/ntk_nngp/source/dataset/imagenet_y_test.npy')"
   ]
  },
  {
   "cell_type": "code",
   "execution_count": 6,
   "metadata": {},
   "outputs": [],
   "source": [
    "# shuffle\n",
    "seed = 0\n",
    "x_train, y_train = shaffle(x_train, y_train, seed)"
   ]
  },
  {
   "cell_type": "code",
   "execution_count": 7,
   "metadata": {},
   "outputs": [],
   "source": [
    "train_ds = tf.data.Dataset.from_tensor_slices((x_train, y_train))\n",
    "train_ds = train_ds.shuffle(\n",
    "    5000\n",
    ").batch(\n",
    "    batch_size\n",
    ").prefetch(10)"
   ]
  },
  {
   "cell_type": "code",
   "execution_count": 8,
   "metadata": {},
   "outputs": [],
   "source": [
    "valid_ds = tf.data.Dataset.from_tensor_slices((x_valid, y_valid))\n",
    "valid_ds = valid_ds.batch(20).prefetch(10)"
   ]
  },
  {
   "cell_type": "markdown",
   "metadata": {},
   "source": [
    "# model"
   ]
  },
  {
   "cell_type": "code",
   "execution_count": 9,
   "metadata": {},
   "outputs": [],
   "source": [
    "layers = tf.keras.layers"
   ]
  },
  {
   "cell_type": "code",
   "execution_count": 10,
   "metadata": {},
   "outputs": [],
   "source": [
    "class BasicBlock(tf.keras.layers.Layer):\n",
    "\n",
    "    def __init__(self, filter_num, stride=1):\n",
    "        super(BasicBlock, self).__init__()\n",
    "        self.conv1 = tf.keras.layers.Conv2D(filters=filter_num,\n",
    "                                            kernel_size=(3, 3),\n",
    "                                            strides=stride,\n",
    "                                            padding=\"same\")\n",
    "        self.bn1 = tf.keras.layers.BatchNormalization()\n",
    "        self.conv2 = tf.keras.layers.Conv2D(filters=filter_num,\n",
    "                                            kernel_size=(3, 3),\n",
    "                                            strides=1,\n",
    "                                            padding=\"same\")\n",
    "        self.bn2 = tf.keras.layers.BatchNormalization()\n",
    "        if stride != 1:\n",
    "            self.downsample = tf.keras.Sequential()\n",
    "            self.downsample.add(tf.keras.layers.Conv2D(filters=filter_num,\n",
    "                                                       kernel_size=(1, 1),\n",
    "                                                       strides=stride))\n",
    "            self.downsample.add(tf.keras.layers.BatchNormalization())\n",
    "        else:\n",
    "            self.downsample = lambda x: x\n",
    "\n",
    "    def call(self, inputs, training=None, **kwargs):\n",
    "        residual = self.downsample(inputs)\n",
    "\n",
    "        x = self.conv1(inputs)\n",
    "        x = self.bn1(x, training=training)\n",
    "        x = tf.nn.relu(x)\n",
    "        x = self.conv2(x)\n",
    "        x = self.bn2(x, training=training)\n",
    "\n",
    "        output = tf.nn.relu(tf.keras.layers.add([residual, x]))\n",
    "\n",
    "        return output\n",
    "\n",
    "def make_basic_block_layer(filter_num, blocks, stride=1):\n",
    "    res_block = tf.keras.Sequential()\n",
    "    res_block.add(BasicBlock(filter_num, stride=stride))\n",
    "\n",
    "    for _ in range(1, blocks):\n",
    "        res_block.add(BasicBlock(filter_num, stride=1))\n",
    "\n",
    "    return res_block"
   ]
  },
  {
   "cell_type": "code",
   "execution_count": 11,
   "metadata": {},
   "outputs": [],
   "source": [
    "class ResNetTypeI(tf.keras.Model):\n",
    "    def __init__(self, layer_params):\n",
    "        super(ResNetTypeI, self).__init__()\n",
    "\n",
    "        self.conv1 = tf.keras.layers.Conv2D(filters=64,\n",
    "                                            kernel_size=(7, 7),\n",
    "                                            strides=(2, 2),\n",
    "                                            padding=\"same\")\n",
    "        \n",
    "        self.maxpool = tf.keras.layers.MaxPool2D(strides=(2, 2))\n",
    "        self.bn1 = tf.keras.layers.BatchNormalization()\n",
    "\n",
    "        self.layer1 = make_basic_block_layer(filter_num=64,\n",
    "                                             blocks=layer_params[0])\n",
    "        self.layer2 = make_basic_block_layer(filter_num=128,\n",
    "                                             blocks=layer_params[1],\n",
    "                                             stride=2)\n",
    "        self.layer3 = make_basic_block_layer(filter_num=256,\n",
    "                                             blocks=layer_params[2],\n",
    "                                             stride=2)\n",
    "        self.layer4 = make_basic_block_layer(filter_num=512,\n",
    "                                             blocks=layer_params[3],\n",
    "                                             stride=2)\n",
    "        self.avgpool = tf.keras.layers.GlobalAveragePooling2D()\n",
    "        self.fc = tf.keras.layers.Dense(class_num)\n",
    "\n",
    "    def call(self, inputs, training=None, mask=None):\n",
    "        x = self.conv1(inputs)\n",
    "        x = self.maxpool(x)\n",
    "        x = self.bn1(x, training=training)\n",
    "        x = tf.nn.relu(x)\n",
    "        x = self.layer1(x, training=training)\n",
    "        x = self.layer2(x, training=training)\n",
    "        x = self.layer3(x, training=training)\n",
    "        x = self.layer4(x, training=training)\n",
    "        x = self.avgpool(x)\n",
    "        output = self.fc(x)\n",
    "\n",
    "        return output"
   ]
  },
  {
   "cell_type": "code",
   "execution_count": 12,
   "metadata": {},
   "outputs": [],
   "source": [
    "model = ResNetTypeI([2, 2, 2, 2])"
   ]
  },
  {
   "cell_type": "code",
   "execution_count": 13,
   "metadata": {},
   "outputs": [],
   "source": [
    "def scheduler(epoch, lr):\n",
    "    if epoch < 10:\n",
    "        return 1e-3\n",
    "    else:\n",
    "        return 1e-4"
   ]
  },
  {
   "cell_type": "code",
   "execution_count": 14,
   "metadata": {},
   "outputs": [],
   "source": [
    "model.compile(optimizer=tf.keras.optimizers.SGD(momentum=0.5),\n",
    "              loss=tf.keras.losses.CategoricalCrossentropy(from_logits=True),\n",
    "              metrics=['accuracy'])"
   ]
  },
  {
   "cell_type": "code",
   "execution_count": 15,
   "metadata": {},
   "outputs": [],
   "source": [
    "callback = tf.keras.callbacks.LearningRateScheduler(scheduler)"
   ]
  },
  {
   "cell_type": "code",
   "execution_count": 16,
   "metadata": {
    "scrolled": true
   },
   "outputs": [
    {
     "name": "stdout",
     "output_type": "stream",
     "text": [
      "Epoch 1/50\n",
      "63/63 [==============================] - 15s 235ms/step - loss: 0.3145 - accuracy: 0.8745 - val_loss: 0.0000e+00 - val_accuracy: 0.0000e+00\n",
      "Epoch 2/50\n",
      "63/63 [==============================] - 8s 122ms/step - loss: 0.1934 - accuracy: 0.9245 - val_loss: 0.4705 - val_accuracy: 1.0000\n",
      "Epoch 3/50\n",
      "63/63 [==============================] - 3s 43ms/step - loss: 0.1669 - accuracy: 0.9355 - val_loss: 0.3895 - val_accuracy: 0.9955\n",
      "Epoch 4/50\n",
      "63/63 [==============================] - 3s 43ms/step - loss: 0.1635 - accuracy: 0.9385 - val_loss: 0.2126 - val_accuracy: 1.0000\n",
      "Epoch 5/50\n",
      "63/63 [==============================] - 3s 40ms/step - loss: 0.1357 - accuracy: 0.9550 - val_loss: 0.2684 - val_accuracy: 0.9909\n",
      "Epoch 6/50\n",
      "63/63 [==============================] - 3s 40ms/step - loss: 0.1275 - accuracy: 0.9570 - val_loss: 0.1967 - val_accuracy: 0.9545\n",
      "Epoch 7/50\n",
      "63/63 [==============================] - 3s 40ms/step - loss: 0.0997 - accuracy: 0.9655 - val_loss: 0.2310 - val_accuracy: 0.9182\n",
      "Epoch 8/50\n",
      "63/63 [==============================] - 3s 40ms/step - loss: 0.1010 - accuracy: 0.9620 - val_loss: 0.2142 - val_accuracy: 0.9455\n",
      "Epoch 9/50\n",
      "63/63 [==============================] - 3s 40ms/step - loss: 0.0867 - accuracy: 0.9705 - val_loss: 0.3624 - val_accuracy: 0.8727\n",
      "Epoch 10/50\n",
      "63/63 [==============================] - 3s 40ms/step - loss: 0.0799 - accuracy: 0.9720 - val_loss: 0.0905 - val_accuracy: 0.9545\n",
      "Epoch 11/50\n",
      "63/63 [==============================] - 2s 40ms/step - loss: 0.0757 - accuracy: 0.9765 - val_loss: 0.1350 - val_accuracy: 0.9318\n",
      "Epoch 12/50\n",
      "63/63 [==============================] - 3s 40ms/step - loss: 0.0641 - accuracy: 0.9790 - val_loss: 0.1332 - val_accuracy: 0.9364\n",
      "Epoch 13/50\n",
      "63/63 [==============================] - 3s 40ms/step - loss: 0.0691 - accuracy: 0.9745 - val_loss: 0.1392 - val_accuracy: 0.9409\n",
      "Epoch 14/50\n",
      "63/63 [==============================] - 3s 40ms/step - loss: 0.0570 - accuracy: 0.9850 - val_loss: 0.1474 - val_accuracy: 0.9409\n",
      "Epoch 15/50\n",
      "63/63 [==============================] - 2s 40ms/step - loss: 0.0687 - accuracy: 0.9760 - val_loss: 0.1296 - val_accuracy: 0.9409\n",
      "Epoch 16/50\n",
      "63/63 [==============================] - 3s 40ms/step - loss: 0.0621 - accuracy: 0.9825 - val_loss: 0.1392 - val_accuracy: 0.9409\n",
      "Epoch 17/50\n",
      "63/63 [==============================] - 3s 40ms/step - loss: 0.0613 - accuracy: 0.9810 - val_loss: 0.1311 - val_accuracy: 0.9455\n",
      "Epoch 18/50\n",
      "63/63 [==============================] - 3s 40ms/step - loss: 0.0633 - accuracy: 0.9800 - val_loss: 0.1097 - val_accuracy: 0.9500\n",
      "Epoch 19/50\n",
      "63/63 [==============================] - 3s 40ms/step - loss: 0.0589 - accuracy: 0.9830 - val_loss: 0.1143 - val_accuracy: 0.9500\n",
      "Epoch 20/50\n",
      "63/63 [==============================] - 3s 40ms/step - loss: 0.0552 - accuracy: 0.9810 - val_loss: 0.1309 - val_accuracy: 0.9409\n",
      "Epoch 21/50\n",
      "63/63 [==============================] - 3s 40ms/step - loss: 0.0538 - accuracy: 0.9845 - val_loss: 0.1271 - val_accuracy: 0.9455\n",
      "Epoch 22/50\n",
      "63/63 [==============================] - 3s 40ms/step - loss: 0.0510 - accuracy: 0.9855 - val_loss: 0.1248 - val_accuracy: 0.9409\n",
      "Epoch 23/50\n",
      "63/63 [==============================] - 3s 40ms/step - loss: 0.0476 - accuracy: 0.9855 - val_loss: 0.1253 - val_accuracy: 0.9455\n",
      "Epoch 24/50\n",
      "63/63 [==============================] - 3s 40ms/step - loss: 0.0553 - accuracy: 0.9790 - val_loss: 0.1626 - val_accuracy: 0.9318\n",
      "Epoch 25/50\n",
      "63/63 [==============================] - 3s 40ms/step - loss: 0.0554 - accuracy: 0.9835 - val_loss: 0.1296 - val_accuracy: 0.9364\n",
      "Epoch 26/50\n",
      "63/63 [==============================] - 3s 40ms/step - loss: 0.0569 - accuracy: 0.9830 - val_loss: 0.1235 - val_accuracy: 0.9455\n",
      "Epoch 27/50\n",
      "63/63 [==============================] - 3s 40ms/step - loss: 0.0541 - accuracy: 0.9855 - val_loss: 0.1489 - val_accuracy: 0.9318\n",
      "Epoch 28/50\n",
      "63/63 [==============================] - 3s 40ms/step - loss: 0.0514 - accuracy: 0.9860 - val_loss: 0.1258 - val_accuracy: 0.9409\n",
      "Epoch 29/50\n",
      "63/63 [==============================] - 3s 40ms/step - loss: 0.0524 - accuracy: 0.9830 - val_loss: 0.1348 - val_accuracy: 0.9364\n",
      "Epoch 30/50\n",
      "63/63 [==============================] - 3s 40ms/step - loss: 0.0421 - accuracy: 0.9890 - val_loss: 0.1235 - val_accuracy: 0.9364\n",
      "Epoch 31/50\n",
      "63/63 [==============================] - 3s 40ms/step - loss: 0.0545 - accuracy: 0.9820 - val_loss: 0.1177 - val_accuracy: 0.9500\n",
      "Epoch 32/50\n",
      "63/63 [==============================] - 3s 40ms/step - loss: 0.0433 - accuracy: 0.9880 - val_loss: 0.1205 - val_accuracy: 0.9455\n",
      "Epoch 33/50\n",
      "63/63 [==============================] - 3s 40ms/step - loss: 0.0552 - accuracy: 0.9830 - val_loss: 0.1201 - val_accuracy: 0.9409\n",
      "Epoch 34/50\n",
      "63/63 [==============================] - 3s 40ms/step - loss: 0.0538 - accuracy: 0.9850 - val_loss: 0.1139 - val_accuracy: 0.9500\n",
      "Epoch 35/50\n",
      "63/63 [==============================] - 2s 40ms/step - loss: 0.0465 - accuracy: 0.9885 - val_loss: 0.1160 - val_accuracy: 0.9545\n",
      "Epoch 36/50\n",
      "63/63 [==============================] - 3s 40ms/step - loss: 0.0403 - accuracy: 0.9895 - val_loss: 0.1403 - val_accuracy: 0.9455\n",
      "Epoch 37/50\n",
      "63/63 [==============================] - 3s 40ms/step - loss: 0.0438 - accuracy: 0.9875 - val_loss: 0.1287 - val_accuracy: 0.9500\n",
      "Epoch 38/50\n",
      "63/63 [==============================] - 3s 40ms/step - loss: 0.0500 - accuracy: 0.9865 - val_loss: 0.1183 - val_accuracy: 0.9455\n",
      "Epoch 39/50\n",
      "63/63 [==============================] - 3s 40ms/step - loss: 0.0508 - accuracy: 0.9830 - val_loss: 0.1632 - val_accuracy: 0.9273\n",
      "Epoch 40/50\n",
      "63/63 [==============================] - 3s 40ms/step - loss: 0.0414 - accuracy: 0.9890 - val_loss: 0.1137 - val_accuracy: 0.9409\n",
      "Epoch 41/50\n",
      "63/63 [==============================] - 3s 40ms/step - loss: 0.0471 - accuracy: 0.9850 - val_loss: 0.1275 - val_accuracy: 0.9500\n",
      "Epoch 42/50\n",
      "63/63 [==============================] - 3s 40ms/step - loss: 0.0534 - accuracy: 0.9835 - val_loss: 0.1079 - val_accuracy: 0.9545\n",
      "Epoch 43/50\n",
      "63/63 [==============================] - 3s 40ms/step - loss: 0.0576 - accuracy: 0.9830 - val_loss: 0.1073 - val_accuracy: 0.9500\n",
      "Epoch 44/50\n",
      "63/63 [==============================] - 3s 40ms/step - loss: 0.0448 - accuracy: 0.9865 - val_loss: 0.0882 - val_accuracy: 0.9591\n",
      "Epoch 45/50\n",
      "63/63 [==============================] - 3s 40ms/step - loss: 0.0400 - accuracy: 0.9900 - val_loss: 0.1212 - val_accuracy: 0.9364\n",
      "Epoch 46/50\n",
      "63/63 [==============================] - 3s 40ms/step - loss: 0.0397 - accuracy: 0.9895 - val_loss: 0.1282 - val_accuracy: 0.9409\n",
      "Epoch 47/50\n",
      "63/63 [==============================] - 3s 40ms/step - loss: 0.0417 - accuracy: 0.9875 - val_loss: 0.1026 - val_accuracy: 0.9545\n",
      "Epoch 48/50\n",
      "63/63 [==============================] - 3s 40ms/step - loss: 0.0403 - accuracy: 0.9910 - val_loss: 0.1124 - val_accuracy: 0.9500\n",
      "Epoch 49/50\n",
      "63/63 [==============================] - 3s 40ms/step - loss: 0.0353 - accuracy: 0.9915 - val_loss: 0.1267 - val_accuracy: 0.9455\n",
      "Epoch 50/50\n",
      "63/63 [==============================] - 3s 40ms/step - loss: 0.0388 - accuracy: 0.9905 - val_loss: 0.1147 - val_accuracy: 0.9455\n"
     ]
    },
    {
     "data": {
      "text/plain": [
       "<tensorflow.python.keras.callbacks.History at 0x7f71c8050b70>"
      ]
     },
     "execution_count": 16,
     "metadata": {},
     "output_type": "execute_result"
    }
   ],
   "source": [
    "model.fit(x=train_ds, validation_data=valid_ds, epochs=epochs, callbacks=[callback])"
   ]
  },
  {
   "cell_type": "code",
   "execution_count": 17,
   "metadata": {},
   "outputs": [],
   "source": [
    "model.save_weights('./model_weights/resnet18_train=imagenet_all-without-DA_ce.h5')"
   ]
  },
  {
   "cell_type": "code",
   "execution_count": 18,
   "metadata": {},
   "outputs": [
    {
     "data": {
      "text/plain": [
       "[0.0686690377315972, 0.98]"
      ]
     },
     "execution_count": 18,
     "metadata": {},
     "output_type": "execute_result"
    }
   ],
   "source": [
    "model.evaluate(x=x_test, y=y_test, verbose=0)"
   ]
  },
  {
   "cell_type": "code",
   "execution_count": null,
   "metadata": {},
   "outputs": [],
   "source": []
  },
  {
   "cell_type": "code",
   "execution_count": null,
   "metadata": {},
   "outputs": [],
   "source": []
  },
  {
   "cell_type": "code",
   "execution_count": null,
   "metadata": {},
   "outputs": [],
   "source": []
  },
  {
   "cell_type": "code",
   "execution_count": null,
   "metadata": {},
   "outputs": [],
   "source": []
  },
  {
   "cell_type": "code",
   "execution_count": null,
   "metadata": {},
   "outputs": [],
   "source": []
  },
  {
   "cell_type": "code",
   "execution_count": null,
   "metadata": {},
   "outputs": [],
   "source": []
  },
  {
   "cell_type": "code",
   "execution_count": null,
   "metadata": {},
   "outputs": [],
   "source": []
  }
 ],
 "metadata": {
  "kernelspec": {
   "display_name": "Python 3",
   "language": "python",
   "name": "python3"
  },
  "language_info": {
   "codemirror_mode": {
    "name": "ipython",
    "version": 3
   },
   "file_extension": ".py",
   "mimetype": "text/x-python",
   "name": "python",
   "nbconvert_exporter": "python",
   "pygments_lexer": "ipython3",
   "version": "3.6.8"
  }
 },
 "nbformat": 4,
 "nbformat_minor": 2
}
