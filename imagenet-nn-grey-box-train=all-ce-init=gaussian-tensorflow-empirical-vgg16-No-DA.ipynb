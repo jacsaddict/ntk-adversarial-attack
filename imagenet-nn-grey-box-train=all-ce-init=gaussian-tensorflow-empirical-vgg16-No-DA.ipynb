{
 "cells": [
  {
   "cell_type": "code",
   "execution_count": 1,
   "metadata": {},
   "outputs": [],
   "source": [
    "import numpy as onp\n",
    "import tensorflow as tf\n",
    "import matplotlib.pyplot as plt\n",
    "\n",
    "from utils import *"
   ]
  },
  {
   "cell_type": "code",
   "execution_count": 2,
   "metadata": {},
   "outputs": [
    {
     "name": "stdout",
     "output_type": "stream",
     "text": [
      "1 Physical GPUs, 1 Logical GPU\n"
     ]
    }
   ],
   "source": [
    "gpus = tf.config.experimental.list_physical_devices('GPU')\n",
    "if gpus:\n",
    "  # Restrict TensorFlow to only use the first GPU\n",
    "    try:\n",
    "        tf.config.experimental.set_visible_devices(gpus[0], 'GPU')\n",
    "        logical_gpus = tf.config.experimental.list_logical_devices('GPU')\n",
    "        print(len(gpus), \"Physical GPUs,\", len(logical_gpus), \"Logical GPU\")\n",
    "    except RuntimeError as e:\n",
    "    # Visible devices must be set before GPUs have been initialized\n",
    "        print(e)"
   ]
  },
  {
   "cell_type": "markdown",
   "metadata": {},
   "source": [
    "# data"
   ]
  },
  {
   "cell_type": "code",
   "execution_count": 3,
   "metadata": {},
   "outputs": [],
   "source": [
    "DATASET = 'imagenet'\n",
    "class_num   = 2\n",
    "image_shape = (224, 224, 3)\n",
    "\n",
    "batch_size = 32\n",
    "train_size = None\n",
    "test_size = 100\n",
    "\n",
    "epochs = 50\n",
    "eps = 0.03"
   ]
  },
  {
   "cell_type": "code",
   "execution_count": 4,
   "metadata": {},
   "outputs": [],
   "source": [
    "def one_hot(x, k, dtype=np.float64):\n",
    "    \"\"\"Create a one-hot encoding of x of size k.\"\"\"\n",
    "    return onp.array(x[:, None] == onp.arange(k), dtype)"
   ]
  },
  {
   "cell_type": "code",
   "execution_count": 5,
   "metadata": {},
   "outputs": [],
   "source": [
    "x_train = onp.load('../../Jimmy/ntk_nngp/source/dataset/imagenet_x_train.npy')[:2000]\n",
    "y_train = onp.load('../../Jimmy/ntk_nngp/source/dataset/imagenet_y_train.npy')[:2000]\n",
    "\n",
    "x_valid = onp.load('../../Jimmy/ntk_nngp/source/dataset/imagenet_x_train.npy')[2000:]\n",
    "y_valid = onp.load('../../Jimmy/ntk_nngp/source/dataset/imagenet_y_train.npy')[2000:]\n",
    "\n",
    "x_test = onp.load('../../Jimmy/ntk_nngp/source/dataset/imagenet_x_test.npy')\n",
    "y_test = onp.load('../../Jimmy/ntk_nngp/source/dataset/imagenet_y_test.npy')"
   ]
  },
  {
   "cell_type": "code",
   "execution_count": 6,
   "metadata": {},
   "outputs": [],
   "source": [
    "# shuffle\n",
    "seed = 0\n",
    "x_train, y_train = shaffle(x_train, y_train, seed)"
   ]
  },
  {
   "cell_type": "code",
   "execution_count": 7,
   "metadata": {},
   "outputs": [],
   "source": [
    "train_ds = tf.data.Dataset.from_tensor_slices((x_train, y_train))\n",
    "train_ds = train_ds.shuffle(\n",
    "    5000\n",
    ").batch(\n",
    "    batch_size\n",
    ").prefetch(10)"
   ]
  },
  {
   "cell_type": "code",
   "execution_count": 8,
   "metadata": {},
   "outputs": [],
   "source": [
    "valid_ds = tf.data.Dataset.from_tensor_slices((x_valid, y_valid))\n",
    "valid_ds = valid_ds.batch(20).prefetch(10)"
   ]
  },
  {
   "cell_type": "markdown",
   "metadata": {},
   "source": [
    "# model"
   ]
  },
  {
   "cell_type": "code",
   "execution_count": 9,
   "metadata": {},
   "outputs": [],
   "source": [
    "layers = tf.keras.layers"
   ]
  },
  {
   "cell_type": "code",
   "execution_count": 10,
   "metadata": {},
   "outputs": [],
   "source": [
    "img_input = layers.Input(shape=image_shape)\n",
    "x = layers.Conv2D(64, (3, 3), activation='relu', padding='same', \n",
    "                  kernel_initializer=tf.keras.initializers.GlorotNormal())(img_input)\n",
    "x = layers.Conv2D(64, (3, 3), activation='relu', padding='same',\n",
    "                 kernel_initializer=tf.keras.initializers.GlorotNormal())(x)\n",
    "x = layers.MaxPooling2D()(x)\n",
    "x = layers.Conv2D(128, (3, 3), activation='relu', padding='same', \n",
    "                  kernel_initializer=tf.keras.initializers.GlorotNormal())(x)\n",
    "x = layers.Conv2D(128, (3, 3), activation='relu', padding='same',\n",
    "                 kernel_initializer=tf.keras.initializers.GlorotNormal())(x)\n",
    "x = layers.MaxPooling2D()(x)\n",
    "x = layers.Conv2D(256, (3, 3), activation='relu', padding='same', \n",
    "                  kernel_initializer=tf.keras.initializers.GlorotNormal())(x)\n",
    "x = layers.Conv2D(256, (3, 3), activation='relu', padding='same',\n",
    "                 kernel_initializer=tf.keras.initializers.GlorotNormal())(x)\n",
    "x = layers.Conv2D(256, (3, 3), activation='relu', padding='same',\n",
    "                 kernel_initializer=tf.keras.initializers.GlorotNormal())(x)\n",
    "x = layers.MaxPooling2D()(x)\n",
    "x = layers.Conv2D(512, (3, 3), activation='relu', padding='same', \n",
    "                  kernel_initializer=tf.keras.initializers.GlorotNormal())(x)\n",
    "x = layers.Conv2D(512, (3, 3), activation='relu', padding='same',\n",
    "                 kernel_initializer=tf.keras.initializers.GlorotNormal())(x)\n",
    "x = layers.Conv2D(512, (3, 3), activation='relu', padding='same',\n",
    "                 kernel_initializer=tf.keras.initializers.GlorotNormal())(x)\n",
    "x = layers.MaxPooling2D()(x)\n",
    "x = layers.Conv2D(512, (3, 3), activation='relu', padding='same', \n",
    "                  kernel_initializer=tf.keras.initializers.GlorotNormal())(x)\n",
    "x = layers.Conv2D(512, (3, 3), activation='relu', padding='same',\n",
    "                 kernel_initializer=tf.keras.initializers.GlorotNormal())(x)\n",
    "x = layers.Conv2D(512, (3, 3), activation='relu', padding='same',\n",
    "                 kernel_initializer=tf.keras.initializers.GlorotNormal())(x)\n",
    "x = layers.MaxPooling2D()(x)\n",
    "x = layers.Flatten()(x)\n",
    "x = layers.Dense(512, activation='relu', kernel_initializer=tf.keras.initializers.GlorotNormal())(x)\n",
    "out = layers.Dense(class_num, kernel_initializer=tf.keras.initializers.GlorotNormal())(x)\n",
    "\n",
    "model = tf.keras.Model(inputs=img_input, outputs=out)"
   ]
  },
  {
   "cell_type": "code",
   "execution_count": 11,
   "metadata": {},
   "outputs": [],
   "source": [
    "def scheduler(epoch, lr):\n",
    "    if epoch < 10:\n",
    "        return 1e-3\n",
    "    elif epoch < 90:\n",
    "        return 1e-2\n",
    "    elif epoch < 150:\n",
    "        return 1e-3\n",
    "    else:\n",
    "        return 1e-4"
   ]
  },
  {
   "cell_type": "code",
   "execution_count": 12,
   "metadata": {},
   "outputs": [],
   "source": [
    "model.compile(optimizer=tf.keras.optimizers.SGD(momentum=0.5),\n",
    "              loss=tf.keras.losses.CategoricalCrossentropy(from_logits=True),\n",
    "              metrics=['accuracy'])"
   ]
  },
  {
   "cell_type": "code",
   "execution_count": 13,
   "metadata": {},
   "outputs": [],
   "source": [
    "callback = tf.keras.callbacks.LearningRateScheduler(scheduler)"
   ]
  },
  {
   "cell_type": "code",
   "execution_count": 14,
   "metadata": {
    "scrolled": true
   },
   "outputs": [
    {
     "name": "stdout",
     "output_type": "stream",
     "text": [
      "Epoch 1/50\n",
      "63/63 [==============================] - 14s 221ms/step - loss: 0.6911 - accuracy: 0.5550 - val_loss: 0.0000e+00 - val_accuracy: 0.0000e+00\n",
      "Epoch 2/50\n",
      "63/63 [==============================] - 8s 121ms/step - loss: 0.6885 - accuracy: 0.5550 - val_loss: 0.7237 - val_accuracy: 0.0000e+00\n",
      "Epoch 3/50\n",
      "63/63 [==============================] - 5s 75ms/step - loss: 0.6868 - accuracy: 0.5550 - val_loss: 0.7340 - val_accuracy: 0.0000e+00\n",
      "Epoch 4/50\n",
      "63/63 [==============================] - 5s 74ms/step - loss: 0.6845 - accuracy: 0.5550 - val_loss: 0.7438 - val_accuracy: 0.0000e+00\n",
      "Epoch 5/50\n",
      "63/63 [==============================] - 5s 72ms/step - loss: 0.6820 - accuracy: 0.5550 - val_loss: 0.7533 - val_accuracy: 0.0000e+00\n",
      "Epoch 6/50\n",
      "63/63 [==============================] - 5s 72ms/step - loss: 0.6789 - accuracy: 0.5550 - val_loss: 0.7585 - val_accuracy: 0.0000e+00\n",
      "Epoch 7/50\n",
      "63/63 [==============================] - 5s 72ms/step - loss: 0.6742 - accuracy: 0.5550 - val_loss: 0.7628 - val_accuracy: 0.0000e+00\n",
      "Epoch 8/50\n",
      "63/63 [==============================] - 5s 71ms/step - loss: 0.6677 - accuracy: 0.5550 - val_loss: 0.7664 - val_accuracy: 0.0000e+00\n",
      "Epoch 9/50\n",
      "63/63 [==============================] - 5s 72ms/step - loss: 0.6567 - accuracy: 0.5550 - val_loss: 0.7643 - val_accuracy: 0.0000e+00\n",
      "Epoch 10/50\n",
      "63/63 [==============================] - 4s 71ms/step - loss: 0.6379 - accuracy: 0.5795 - val_loss: 0.7725 - val_accuracy: 0.2136\n",
      "Epoch 11/50\n",
      "63/63 [==============================] - 5s 72ms/step - loss: 0.4458 - accuracy: 0.8150 - val_loss: 1.2805 - val_accuracy: 0.4818\n",
      "Epoch 12/50\n",
      "63/63 [==============================] - 5s 71ms/step - loss: 0.2931 - accuracy: 0.9060 - val_loss: 0.3377 - val_accuracy: 0.8409\n",
      "Epoch 13/50\n",
      "63/63 [==============================] - 4s 71ms/step - loss: 0.2648 - accuracy: 0.9070 - val_loss: 0.1638 - val_accuracy: 0.9091\n",
      "Epoch 14/50\n",
      "63/63 [==============================] - 4s 71ms/step - loss: 0.2532 - accuracy: 0.9175 - val_loss: 0.2621 - val_accuracy: 0.8818\n",
      "Epoch 15/50\n",
      "63/63 [==============================] - 4s 71ms/step - loss: 0.2421 - accuracy: 0.9095 - val_loss: 0.1608 - val_accuracy: 0.9045\n",
      "Epoch 16/50\n",
      "63/63 [==============================] - 5s 72ms/step - loss: 0.2386 - accuracy: 0.9200 - val_loss: 0.2588 - val_accuracy: 0.8727\n",
      "Epoch 17/50\n",
      "63/63 [==============================] - 5s 71ms/step - loss: 0.2280 - accuracy: 0.9190 - val_loss: 0.1717 - val_accuracy: 0.9136\n",
      "Epoch 18/50\n",
      "63/63 [==============================] - 4s 71ms/step - loss: 0.2370 - accuracy: 0.9165 - val_loss: 0.1538 - val_accuracy: 0.9091\n",
      "Epoch 19/50\n",
      "63/63 [==============================] - 5s 71ms/step - loss: 0.2067 - accuracy: 0.9300 - val_loss: 0.4145 - val_accuracy: 0.8455\n",
      "Epoch 20/50\n",
      "63/63 [==============================] - 4s 71ms/step - loss: 0.2053 - accuracy: 0.9280 - val_loss: 0.6276 - val_accuracy: 0.7682\n",
      "Epoch 21/50\n",
      "63/63 [==============================] - 4s 71ms/step - loss: 0.2004 - accuracy: 0.9315 - val_loss: 0.7088 - val_accuracy: 0.7455\n",
      "Epoch 22/50\n",
      "63/63 [==============================] - 4s 71ms/step - loss: 0.1940 - accuracy: 0.9310 - val_loss: 0.4387 - val_accuracy: 0.8318\n",
      "Epoch 23/50\n",
      "63/63 [==============================] - 4s 71ms/step - loss: 0.1933 - accuracy: 0.9345 - val_loss: 0.2557 - val_accuracy: 0.8909\n",
      "Epoch 24/50\n",
      "63/63 [==============================] - 4s 71ms/step - loss: 0.1784 - accuracy: 0.9405 - val_loss: 0.2703 - val_accuracy: 0.8955\n",
      "Epoch 25/50\n",
      "63/63 [==============================] - 4s 71ms/step - loss: 0.1767 - accuracy: 0.9410 - val_loss: 0.3853 - val_accuracy: 0.8500\n",
      "Epoch 26/50\n",
      "63/63 [==============================] - 4s 71ms/step - loss: 0.1749 - accuracy: 0.9410 - val_loss: 0.3657 - val_accuracy: 0.8591\n",
      "Epoch 27/50\n",
      "63/63 [==============================] - 4s 71ms/step - loss: 0.1641 - accuracy: 0.9415 - val_loss: 0.1369 - val_accuracy: 0.9318\n",
      "Epoch 28/50\n",
      "63/63 [==============================] - 4s 71ms/step - loss: 0.1572 - accuracy: 0.9480 - val_loss: 0.2055 - val_accuracy: 0.9091\n",
      "Epoch 29/50\n",
      "63/63 [==============================] - 4s 71ms/step - loss: 0.1537 - accuracy: 0.9440 - val_loss: 0.1373 - val_accuracy: 0.9364\n",
      "Epoch 30/50\n",
      "63/63 [==============================] - 4s 71ms/step - loss: 0.1701 - accuracy: 0.9395 - val_loss: 0.2702 - val_accuracy: 0.8727\n",
      "Epoch 31/50\n",
      "63/63 [==============================] - 4s 71ms/step - loss: 0.1512 - accuracy: 0.9475 - val_loss: 0.4251 - val_accuracy: 0.8455\n",
      "Epoch 32/50\n",
      "63/63 [==============================] - 4s 71ms/step - loss: 0.1522 - accuracy: 0.9450 - val_loss: 0.2093 - val_accuracy: 0.9136\n",
      "Epoch 33/50\n",
      "63/63 [==============================] - 4s 71ms/step - loss: 0.1565 - accuracy: 0.9430 - val_loss: 0.2673 - val_accuracy: 0.8909\n",
      "Epoch 34/50\n",
      "63/63 [==============================] - 4s 71ms/step - loss: 0.1383 - accuracy: 0.9465 - val_loss: 0.2731 - val_accuracy: 0.8773\n",
      "Epoch 35/50\n",
      "63/63 [==============================] - 4s 71ms/step - loss: 0.1406 - accuracy: 0.9485 - val_loss: 0.2418 - val_accuracy: 0.8909\n",
      "Epoch 36/50\n",
      "63/63 [==============================] - 4s 71ms/step - loss: 0.1359 - accuracy: 0.9510 - val_loss: 0.2441 - val_accuracy: 0.8773\n",
      "Epoch 37/50\n",
      "63/63 [==============================] - 4s 71ms/step - loss: 0.1399 - accuracy: 0.9465 - val_loss: 0.3520 - val_accuracy: 0.8818\n",
      "Epoch 38/50\n",
      "63/63 [==============================] - 4s 71ms/step - loss: 0.1233 - accuracy: 0.9570 - val_loss: 0.3122 - val_accuracy: 0.8636\n",
      "Epoch 39/50\n",
      "63/63 [==============================] - 4s 71ms/step - loss: 0.1172 - accuracy: 0.9540 - val_loss: 0.1443 - val_accuracy: 0.9500\n",
      "Epoch 40/50\n",
      "63/63 [==============================] - 4s 71ms/step - loss: 0.1266 - accuracy: 0.9550 - val_loss: 0.1846 - val_accuracy: 0.9136\n",
      "Epoch 41/50\n",
      "63/63 [==============================] - 4s 71ms/step - loss: 0.1185 - accuracy: 0.9550 - val_loss: 0.2909 - val_accuracy: 0.8773\n",
      "Epoch 42/50\n",
      "63/63 [==============================] - 4s 71ms/step - loss: 0.1100 - accuracy: 0.9610 - val_loss: 0.1761 - val_accuracy: 0.9227\n",
      "Epoch 43/50\n",
      "63/63 [==============================] - 4s 71ms/step - loss: 0.0946 - accuracy: 0.9655 - val_loss: 0.1600 - val_accuracy: 0.9318\n",
      "Epoch 44/50\n",
      "63/63 [==============================] - 5s 72ms/step - loss: 0.0942 - accuracy: 0.9625 - val_loss: 0.1398 - val_accuracy: 0.9409\n",
      "Epoch 45/50\n",
      "63/63 [==============================] - 4s 71ms/step - loss: 0.1074 - accuracy: 0.9595 - val_loss: 0.2509 - val_accuracy: 0.8955\n",
      "Epoch 46/50\n",
      "63/63 [==============================] - 4s 71ms/step - loss: 0.0937 - accuracy: 0.9635 - val_loss: 0.2123 - val_accuracy: 0.9091\n",
      "Epoch 47/50\n",
      "63/63 [==============================] - 4s 71ms/step - loss: 0.0802 - accuracy: 0.9705 - val_loss: 0.2581 - val_accuracy: 0.9091\n",
      "Epoch 48/50\n",
      "63/63 [==============================] - 4s 71ms/step - loss: 0.0849 - accuracy: 0.9645 - val_loss: 0.3057 - val_accuracy: 0.9136\n",
      "Epoch 49/50\n",
      "63/63 [==============================] - 4s 71ms/step - loss: 0.0597 - accuracy: 0.9795 - val_loss: 0.4492 - val_accuracy: 0.8682\n",
      "Epoch 50/50\n",
      "63/63 [==============================] - 4s 71ms/step - loss: 0.1036 - accuracy: 0.9625 - val_loss: 0.3849 - val_accuracy: 0.8864\n"
     ]
    },
    {
     "data": {
      "text/plain": [
       "<tensorflow.python.keras.callbacks.History at 0x7fb4b0523e80>"
      ]
     },
     "execution_count": 14,
     "metadata": {},
     "output_type": "execute_result"
    }
   ],
   "source": [
    "model.fit(x=train_ds, validation_data=valid_ds, epochs=epochs, callbacks=[callback])"
   ]
  },
  {
   "cell_type": "code",
   "execution_count": 15,
   "metadata": {},
   "outputs": [],
   "source": [
    "model.save_weights('./model_weights/vgg16_train=imagenet_all-without-DA_ce.h5')"
   ]
  },
  {
   "cell_type": "code",
   "execution_count": 16,
   "metadata": {},
   "outputs": [
    {
     "data": {
      "text/plain": [
       "[0.22463561279466376, 0.92]"
      ]
     },
     "execution_count": 16,
     "metadata": {},
     "output_type": "execute_result"
    }
   ],
   "source": [
    "model.evaluate(x=x_test, y=y_test, verbose=0)"
   ]
  },
  {
   "cell_type": "code",
   "execution_count": null,
   "metadata": {},
   "outputs": [],
   "source": []
  },
  {
   "cell_type": "code",
   "execution_count": null,
   "metadata": {},
   "outputs": [],
   "source": []
  },
  {
   "cell_type": "code",
   "execution_count": null,
   "metadata": {},
   "outputs": [],
   "source": []
  },
  {
   "cell_type": "code",
   "execution_count": null,
   "metadata": {},
   "outputs": [],
   "source": []
  },
  {
   "cell_type": "code",
   "execution_count": null,
   "metadata": {},
   "outputs": [],
   "source": []
  },
  {
   "cell_type": "code",
   "execution_count": null,
   "metadata": {},
   "outputs": [],
   "source": []
  },
  {
   "cell_type": "code",
   "execution_count": null,
   "metadata": {},
   "outputs": [],
   "source": []
  }
 ],
 "metadata": {
  "kernelspec": {
   "display_name": "Python 3",
   "language": "python",
   "name": "python3"
  },
  "language_info": {
   "codemirror_mode": {
    "name": "ipython",
    "version": 3
   },
   "file_extension": ".py",
   "mimetype": "text/x-python",
   "name": "python",
   "nbconvert_exporter": "python",
   "pygments_lexer": "ipython3",
   "version": "3.6.8"
  }
 },
 "nbformat": 4,
 "nbformat_minor": 2
}
