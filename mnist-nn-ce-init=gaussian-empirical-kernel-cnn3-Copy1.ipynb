{
 "cells": [
  {
   "cell_type": "code",
   "execution_count": 1,
   "metadata": {},
   "outputs": [],
   "source": [
    "import numpy as onp\n",
    "import tensorflow as tf\n",
    "import matplotlib.pyplot as plt\n",
    "from tqdm import tqdm\n",
    "from utils import *"
   ]
  },
  {
   "cell_type": "code",
   "execution_count": 2,
   "metadata": {},
   "outputs": [
    {
     "name": "stdout",
     "output_type": "stream",
     "text": [
      "1 Physical GPUs, 1 Logical GPU\n"
     ]
    }
   ],
   "source": [
    "gpus = tf.config.experimental.list_physical_devices('GPU')\n",
    "if gpus:\n",
    "  # Restrict TensorFlow to only use the first GPU\n",
    "    try:\n",
    "        tf.config.experimental.set_visible_devices(gpus[0], 'GPU')\n",
    "        tf.config.experimental.set_memory_growth(gpus[0], True)\n",
    "        logical_gpus = tf.config.experimental.list_logical_devices('GPU')\n",
    "        print(len(gpus), \"Physical GPUs,\", len(logical_gpus), \"Logical GPU\")\n",
    "    except RuntimeError as e:\n",
    "    # Visible devices must be set before GPUs have been initialized\n",
    "        print(e)"
   ]
  },
  {
   "cell_type": "markdown",
   "metadata": {},
   "source": [
    "# hyperparameters"
   ]
  },
  {
   "cell_type": "code",
   "execution_count": 3,
   "metadata": {},
   "outputs": [],
   "source": [
    "#data\n",
    "DATASET = 'mnist'\n",
    "class_num   = 10\n",
    "test_size   = None\n",
    "train_size  = 512\n",
    "image_shape = None\n",
    "\n",
    "if DATASET =='mnist':\n",
    "    image_shape = (28, 28, 1)\n",
    "elif DATASET == 'cifar10':\n",
    "    image_shape = (32, 32, 3)\n",
    "\n",
    "batch_size = 256\n",
    "epochs = 50"
   ]
  },
  {
   "cell_type": "code",
   "execution_count": 4,
   "metadata": {},
   "outputs": [],
   "source": [
    "if DATASET == 'mnist':\n",
    "    eps = 0.3\n",
    "    eps_iter_10 = (eps/10)*1.1\n",
    "    eps_iter_100 = (eps/100)*1.1\n",
    "    eps_iter_1000 = (eps/1000)*1.1\n",
    "    \n",
    "elif DATASET == 'cifar10':\n",
    "    eps = 0.03\n",
    "    eps_iter_10 = (eps/10)*1.1\n",
    "    eps_iter_100 = (eps/100)*1.1"
   ]
  },
  {
   "cell_type": "code",
   "execution_count": 5,
   "metadata": {
    "scrolled": true
   },
   "outputs": [],
   "source": [
    "x_train_all, y_train_all, x_test_all, y_test_all = tuple(onp.array(x) for x in get_dataset(DATASET, None, None, \n",
    "                                                                                  do_flatten_and_normalize=False))"
   ]
  },
  {
   "cell_type": "code",
   "execution_count": 6,
   "metadata": {},
   "outputs": [],
   "source": [
    "# shuffle\n",
    "seed = 0\n",
    "x_train_all, y_train_all = shaffle(x_train_all, y_train_all, seed)"
   ]
  },
  {
   "cell_type": "code",
   "execution_count": 7,
   "metadata": {},
   "outputs": [],
   "source": [
    "x_train_all = x_train_all.astype(onp.float32)\n",
    "x_test_all  = x_test_all.astype(onp.float32)"
   ]
  },
  {
   "cell_type": "code",
   "execution_count": 8,
   "metadata": {},
   "outputs": [],
   "source": [
    "# down sample\n",
    "x_train = x_train_all[:train_size]\n",
    "y_train = y_train_all[:train_size]\n",
    "\n",
    "x_valid = x_train_all[train_size:]\n",
    "y_valid = y_train_all[train_size:]\n",
    "\n",
    "x_test = x_test_all[:test_size]\n",
    "y_test = y_test_all[:test_size]"
   ]
  },
  {
   "cell_type": "code",
   "execution_count": 9,
   "metadata": {},
   "outputs": [],
   "source": [
    "x_train, x_valid, x_test = x_train.reshape((-1, *image_shape)), x_valid.reshape((-1, *image_shape)), x_test.reshape((-1, *image_shape))"
   ]
  },
  {
   "cell_type": "code",
   "execution_count": 10,
   "metadata": {},
   "outputs": [],
   "source": [
    "def tangent_feature(model, xs):\n",
    "    n = len(xs)\n",
    "    with tf.GradientTape() as tape:\n",
    "        output = model(xs)\n",
    "    subgradients = tape.jacobian(output, model.trainable_weights)\n",
    "    flattened = [tf.reshape(sg, [n, -1]) for sg in subgradients]\n",
    "    gradients = tf.concat(flattened, 1)\n",
    "    return gradients\n",
    "\n",
    "@tf.function\n",
    "def kernel(model, x, y):\n",
    "    dot = tf.reduce_sum(tf.multiply(tangent_feature(model, x), tangent_feature(model, y)))\n",
    "    return dot\n",
    "\n",
    "ce_loss = tf.keras.losses.CategoricalCrossentropy(from_logits=True)\n",
    "\n",
    "@tf.function\n",
    "def targeted_fgsm(x, y_target, model, eps):\n",
    "    with tf.GradientTape() as tp:\n",
    "        tp.watch(x)\n",
    "        y = model(x)\n",
    "        loss = ce_loss(y_target, y)\n",
    "    grad = tp.gradient(loss, x)\n",
    "    return tf.clip_by_value(x - eps * tf.sign(grad), 0, 1)\n",
    "\n",
    "@tf.function\n",
    "def untargeted_fgsm(x, y_true, model, eps):\n",
    "    with tf.GradientTape() as tp:\n",
    "        tp.watch(x)\n",
    "        y = model(x)\n",
    "        loss = ce_loss(y_true, y)\n",
    "    grad = tp.gradient(loss, x)\n",
    "    return tf.clip_by_value(x + eps * tf.sign(grad), 0, 1)"
   ]
  },
  {
   "cell_type": "code",
   "execution_count": 11,
   "metadata": {},
   "outputs": [
    {
     "data": {
      "text/plain": [
       "[1.2019844377016649, 0.8747]"
      ]
     },
     "execution_count": 11,
     "metadata": {},
     "output_type": "execute_result"
    }
   ],
   "source": [
    "layers = tf.keras.layers\n",
    "\n",
    "img_input = layers.Input(shape=image_shape)\n",
    "x = layers.Conv2D(64, (3, 3), activation='relu', padding='same', strides=(2, 2),\n",
    "                  kernel_initializer=tf.keras.initializers.GlorotNormal())(img_input)\n",
    "x = layers.Conv2D(64, (3, 3), activation='relu', padding='same', strides=(2, 2),\n",
    "                 kernel_initializer=tf.keras.initializers.GlorotNormal())(x)\n",
    "x = layers.Conv2D(64, (3, 3), activation='relu', padding='same', strides=(2, 2),\n",
    "                 kernel_initializer=tf.keras.initializers.GlorotNormal())(x)\n",
    "x = layers.Flatten()(x)\n",
    "x = layers.Dense(64, activation='relu', kernel_initializer=tf.keras.initializers.GlorotNormal())(x)\n",
    "out = layers.Dense(10, kernel_initializer=tf.keras.initializers.GlorotNormal())(x)\n",
    "\n",
    "model = tf.keras.Model(inputs=img_input, outputs=out)\n",
    "\n",
    "model.compile(optimizer=tf.keras.optimizers.SGD(momentum=0.9),\n",
    "              loss=tf.keras.losses.CategoricalCrossentropy(from_logits=True),\n",
    "              metrics=['accuracy'])\n",
    "\n",
    "model.load_weights('./model_weights/mnist-simple_cnn_stride_thin_train=512-without-DA_ce.h5')\n",
    "model.evaluate(x=x_test, y=y_test_all, verbose=0)"
   ]
  },
  {
   "cell_type": "code",
   "execution_count": 12,
   "metadata": {},
   "outputs": [],
   "source": [
    "k_train_train_inv = onp.load('k_train_train_inv.npy')\n",
    "tf.keras.backend.set_floatx('float64')"
   ]
  },
  {
   "cell_type": "code",
   "execution_count": 13,
   "metadata": {},
   "outputs": [
    {
     "name": "stderr",
     "output_type": "stream",
     "text": [
      "100%|██████████| 512/512 [23:25<00:00,  2.75s/it]\n"
     ]
    }
   ],
   "source": [
    "for i in tqdm(range(512)):\n",
    "    x1 = tf.constant(x_test[i])\n",
    "    x1 = tf.reshape(x1, (-1, *image_shape))\n",
    "    with tf.GradientTape() as tp:\n",
    "        tp.watch(x1)\n",
    "        k_test_train = tf.stack([kernel(model, x1, x_train[j][None]) for j in range(train_size)],\n",
    "                                axis=-1)\n",
    "        k_test_train = tf.reshape(k_test_train, (1, train_size))\n",
    "        k_test_train = tf.cast(k_test_train, tf.float64)\n",
    "\n",
    "        xy = tf.matmul(k_train_train_inv, y_train[:train_size].astype(onp.float64))\n",
    "        pred = tf.matmul(k_test_train, xy)\n",
    "        loss = ce_loss(y_test[i][None], pred)\n",
    "    grad = tp.gradient(loss, x1)\n",
    "\n",
    "    ans = x_test[i][None] + eps*onp.sign(grad.numpy())\n",
    "\n",
    "    onp.save('mnist-empirical-imgs/%d.npy'%(i), ans)"
   ]
  },
  {
   "cell_type": "code",
   "execution_count": 14,
   "metadata": {},
   "outputs": [
    {
     "data": {
      "text/plain": [
       "<matplotlib.image.AxesImage at 0x7f8c007d8ba8>"
      ]
     },
     "execution_count": 14,
     "metadata": {},
     "output_type": "execute_result"
    },
    {
     "data": {
      "image/png": "[encoded data removed]",
      "text/plain": [
       "<Figure size 432x288 with 1 Axes>"
      ]
     },
     "metadata": {
      "needs_background": "light"
     },
     "output_type": "display_data"
    }
   ],
   "source": [
    "plt.imshow(ans.reshape(28,28))"
   ]
  },
  {
   "cell_type": "code",
   "execution_count": 15,
   "metadata": {},
   "outputs": [
    {
     "data": {
      "text/plain": [
       "<tf.Tensor: id=35971750, shape=(1, 10), dtype=float32, numpy=\n",
       "array([[-16.009869 , -11.941151 ,  22.460455 ,   5.6970553,  24.386608 ,\n",
       "          8.52927  ,  32.018715 , -14.130447 , -14.208298 , -15.561235 ]],\n",
       "      dtype=float32)>"
      ]
     },
     "execution_count": 15,
     "metadata": {},
     "output_type": "execute_result"
    }
   ],
   "source": [
    "model(ans)"
   ]
  },
  {
   "cell_type": "code",
   "execution_count": 19,
   "metadata": {},
   "outputs": [
    {
     "data": {
      "text/plain": [
       "(512, 28, 28, 1)"
      ]
     },
     "execution_count": 19,
     "metadata": {},
     "output_type": "execute_result"
    }
   ],
   "source": [
    "tmp = []\n",
    "for i in range(train_size):\n",
    "    tmp.append(onp.load('mnist-empirical-imgs/%d.npy'%(i)))\n",
    "tmp = onp.concatenate(tmp)\n",
    "tmp.shape"
   ]
  },
  {
   "cell_type": "code",
   "execution_count": 20,
   "metadata": {},
   "outputs": [],
   "source": [
    "onp.save('mnist-empirical-imgs/all.npy', tmp)"
   ]
  },
  {
   "cell_type": "code",
   "execution_count": null,
   "metadata": {},
   "outputs": [],
   "source": []
  }
 ],
 "metadata": {
  "kernelspec": {
   "display_name": "Python 3",
   "language": "python",
   "name": "python3"
  },
  "language_info": {
   "codemirror_mode": {
    "name": "ipython",
    "version": 3
   },
   "file_extension": ".py",
   "mimetype": "text/x-python",
   "name": "python",
   "nbconvert_exporter": "python",
   "pygments_lexer": "ipython3",
   "version": "3.6.8"
  }
 },
 "nbformat": 4,
 "nbformat_minor": 2
}
