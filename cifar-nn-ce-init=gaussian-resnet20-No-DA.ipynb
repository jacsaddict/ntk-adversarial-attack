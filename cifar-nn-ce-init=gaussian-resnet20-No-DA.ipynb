{
 "cells": [
  {
   "cell_type": "code",
   "execution_count": 1,
   "metadata": {},
   "outputs": [],
   "source": [
    "import numpy as onp\n",
    "import tensorflow as tf\n",
    "import matplotlib.pyplot as plt\n",
    "\n",
    "from utils import *"
   ]
  },
  {
   "cell_type": "code",
   "execution_count": 2,
   "metadata": {},
   "outputs": [
    {
     "name": "stdout",
     "output_type": "stream",
     "text": [
      "1 Physical GPUs, 1 Logical GPU\n"
     ]
    }
   ],
   "source": [
    "gpus = tf.config.experimental.list_physical_devices('GPU')\n",
    "if gpus:\n",
    "  # Restrict TensorFlow to only use the first GPU\n",
    "    try:\n",
    "        tf.config.experimental.set_visible_devices(gpus[0], 'GPU')\n",
    "        logical_gpus = tf.config.experimental.list_logical_devices('GPU')\n",
    "        print(len(gpus), \"Physical GPUs,\", len(logical_gpus), \"Logical GPU\")\n",
    "    except RuntimeError as e:\n",
    "    # Visible devices must be set before GPUs have been initialized\n",
    "        print(e)"
   ]
  },
  {
   "cell_type": "markdown",
   "metadata": {},
   "source": [
    "# hyperparameters"
   ]
  },
  {
   "cell_type": "code",
   "execution_count": 3,
   "metadata": {},
   "outputs": [],
   "source": [
    "#data\n",
    "DATASET = 'cifar10'\n",
    "class_num   = 10\n",
    "test_size   = None\n",
    "train_size  = 45000\n",
    "image_shape = None\n",
    "\n",
    "if DATASET =='mnist':\n",
    "    image_shape = (28, 28, 1)\n",
    "elif DATASET == 'cifar10':\n",
    "    image_shape = (32, 32, 3)\n",
    "\n",
    "#training\n",
    "batch_size = 256\n",
    "epochs = 200"
   ]
  },
  {
   "cell_type": "code",
   "execution_count": 4,
   "metadata": {
    "scrolled": true
   },
   "outputs": [],
   "source": [
    "x_train_all, y_train_all, x_test_all, y_test_all = tuple(onp.array(x) for x in get_dataset(DATASET, None, None, \n",
    "                                                                                  do_flatten_and_normalize=False))"
   ]
  },
  {
   "cell_type": "code",
   "execution_count": 5,
   "metadata": {},
   "outputs": [],
   "source": [
    "# shuffle\n",
    "seed = 0\n",
    "x_train_all, y_train_all = shaffle(x_train_all, y_train_all, seed)"
   ]
  },
  {
   "cell_type": "code",
   "execution_count": 6,
   "metadata": {},
   "outputs": [],
   "source": [
    "# down sample\n",
    "x_train = x_train_all[:train_size]\n",
    "y_train = y_train_all[:train_size]\n",
    "\n",
    "x_valid = x_train_all[train_size:]\n",
    "y_valid = y_train_all[train_size:]\n",
    "\n",
    "x_test = x_test_all[:test_size]\n",
    "y_test = y_test_all[:test_size]"
   ]
  },
  {
   "cell_type": "code",
   "execution_count": 7,
   "metadata": {},
   "outputs": [],
   "source": [
    "x_train, x_valid, x_test = x_train.reshape((-1, *image_shape)), x_valid.reshape((-1, *image_shape)), x_test.reshape((-1, *image_shape))"
   ]
  },
  {
   "cell_type": "code",
   "execution_count": 8,
   "metadata": {},
   "outputs": [],
   "source": [
    "train_ds = tf.data.Dataset.from_tensor_slices((x_train, y_train))\n",
    "train_ds = train_ds.shuffle(\n",
    "    100000\n",
    ").batch(\n",
    "    batch_size\n",
    ").prefetch(10)"
   ]
  },
  {
   "cell_type": "code",
   "execution_count": 9,
   "metadata": {},
   "outputs": [],
   "source": [
    "valid_ds = tf.data.Dataset.from_tensor_slices((x_valid, y_valid)).batch(batch_size)"
   ]
  },
  {
   "cell_type": "code",
   "execution_count": 10,
   "metadata": {},
   "outputs": [],
   "source": [
    "layers = tf.keras.layers"
   ]
  },
  {
   "cell_type": "code",
   "execution_count": 11,
   "metadata": {},
   "outputs": [],
   "source": [
    "class BasicBlock(tf.keras.layers.Layer):\n",
    "\n",
    "    def __init__(self, filter_num, stride=1):\n",
    "        super(BasicBlock, self).__init__()\n",
    "        self.conv1 = tf.keras.layers.Conv2D(filters=filter_num,\n",
    "                                            kernel_size=(3, 3),\n",
    "                                            strides=stride,\n",
    "                                            padding=\"same\")\n",
    "        self.bn1 = tf.keras.layers.BatchNormalization()\n",
    "        self.conv2 = tf.keras.layers.Conv2D(filters=filter_num,\n",
    "                                            kernel_size=(3, 3),\n",
    "                                            strides=1,\n",
    "                                            padding=\"same\")\n",
    "        self.bn2 = tf.keras.layers.BatchNormalization()\n",
    "        if stride != 1:\n",
    "            self.downsample = tf.keras.Sequential()\n",
    "            self.downsample.add(tf.keras.layers.Conv2D(filters=filter_num,\n",
    "                                                       kernel_size=(1, 1),\n",
    "                                                       strides=stride))\n",
    "            self.downsample.add(tf.keras.layers.BatchNormalization())\n",
    "        else:\n",
    "            self.downsample = lambda x: x\n",
    "\n",
    "    def call(self, inputs, training=None, **kwargs):\n",
    "        residual = self.downsample(inputs)\n",
    "\n",
    "        x = self.conv1(inputs)\n",
    "        x = self.bn1(x, training=training)\n",
    "        x = tf.nn.relu(x)\n",
    "        x = self.conv2(x)\n",
    "        x = self.bn2(x, training=training)\n",
    "\n",
    "        output = tf.nn.relu(tf.keras.layers.add([residual, x]))\n",
    "\n",
    "        return output\n",
    "\n",
    "def make_basic_block_layer(filter_num, blocks, stride=1):\n",
    "    res_block = tf.keras.Sequential()\n",
    "    res_block.add(BasicBlock(filter_num, stride=stride))\n",
    "\n",
    "    for _ in range(1, blocks):\n",
    "        res_block.add(BasicBlock(filter_num, stride=1))\n",
    "\n",
    "    return res_block"
   ]
  },
  {
   "cell_type": "code",
   "execution_count": 12,
   "metadata": {},
   "outputs": [],
   "source": [
    "class ResNetTypeI(tf.keras.Model):\n",
    "    def __init__(self, layer_params):\n",
    "        super(ResNetTypeI, self).__init__()\n",
    "\n",
    "        self.conv1 = tf.keras.layers.Conv2D(filters=16,\n",
    "                                            kernel_size=(3, 3),\n",
    "                                            padding=\"same\")\n",
    "        self.bn1 = tf.keras.layers.BatchNormalization()\n",
    "\n",
    "        self.layer1 = make_basic_block_layer(filter_num=16,\n",
    "                                             blocks=layer_params[0])\n",
    "        self.layer2 = make_basic_block_layer(filter_num=32,\n",
    "                                             blocks=layer_params[1],\n",
    "                                             stride=2)\n",
    "        self.layer3 = make_basic_block_layer(filter_num=64,\n",
    "                                             blocks=layer_params[2],\n",
    "                                             stride=2)\n",
    "        self.avgpool = tf.keras.layers.GlobalAveragePooling2D()\n",
    "        self.fc = tf.keras.layers.Dense(10)\n",
    "\n",
    "    def call(self, inputs, training=None, mask=None):\n",
    "        x = self.conv1(inputs)\n",
    "        x = self.bn1(x, training=training)\n",
    "        x = tf.nn.relu(x)\n",
    "        x = self.layer1(x, training=training)\n",
    "        x = self.layer2(x, training=training)\n",
    "        x = self.layer3(x, training=training)\n",
    "        x = self.avgpool(x)\n",
    "        output = self.fc(x)\n",
    "\n",
    "        return output"
   ]
  },
  {
   "cell_type": "code",
   "execution_count": 13,
   "metadata": {},
   "outputs": [],
   "source": [
    "model = ResNetTypeI([3, 3, 3])"
   ]
  },
  {
   "cell_type": "code",
   "execution_count": 14,
   "metadata": {},
   "outputs": [],
   "source": [
    "model.build(input_shape=(batch_size,*image_shape))"
   ]
  },
  {
   "cell_type": "code",
   "execution_count": 15,
   "metadata": {},
   "outputs": [],
   "source": [
    "def scheduler(epoch, lr):\n",
    "    if epoch < 10:\n",
    "        return 1e-3\n",
    "    elif epoch < 90:\n",
    "        return 1e-2\n",
    "    elif epoch < 150:\n",
    "        return 1e-3\n",
    "    else:\n",
    "        return 1e-4"
   ]
  },
  {
   "cell_type": "code",
   "execution_count": 16,
   "metadata": {},
   "outputs": [],
   "source": [
    "model.compile(optimizer=tf.keras.optimizers.SGD(momentum=0.9),\n",
    "              loss=tf.keras.losses.CategoricalCrossentropy(from_logits=True),\n",
    "              metrics=['accuracy'])"
   ]
  },
  {
   "cell_type": "code",
   "execution_count": 17,
   "metadata": {},
   "outputs": [],
   "source": [
    "callback = tf.keras.callbacks.LearningRateScheduler(scheduler)"
   ]
  },
  {
   "cell_type": "code",
   "execution_count": 18,
   "metadata": {
    "scrolled": true
   },
   "outputs": [],
   "source": [
    "# model.fit(x=train_ds, validation_data=valid_ds, epochs=epochs, callbacks=[callback])"
   ]
  },
  {
   "cell_type": "code",
   "execution_count": 19,
   "metadata": {},
   "outputs": [],
   "source": [
    "# model.save_weights('./model_weights/resnet20_train_without_DA=all_ce.h5')"
   ]
  },
  {
   "cell_type": "code",
   "execution_count": 20,
   "metadata": {},
   "outputs": [],
   "source": [
    "model.load_weights('./model_weights/resnet20_train_without_DA=all_ce.h5')"
   ]
  },
  {
   "cell_type": "code",
   "execution_count": 22,
   "metadata": {},
   "outputs": [
    {
     "data": {
      "text/plain": [
       "[2.245407313108444, 0.6621094]"
      ]
     },
     "execution_count": 22,
     "metadata": {},
     "output_type": "execute_result"
    }
   ],
   "source": [
    "tmp = onp.load('./npy/cifar-untargeted-cifar-nn-grey-box-train=all-ce-without-momentum.npy')\n",
    "model.evaluate(x=tmp[:512], y=y_test_all[:512], verbose=0)"
   ]
  },
  {
   "cell_type": "code",
   "execution_count": 23,
   "metadata": {},
   "outputs": [
    {
     "data": {
      "text/plain": [
       "[1.336675858783722, 0.7674]"
      ]
     },
     "execution_count": 23,
     "metadata": {},
     "output_type": "execute_result"
    }
   ],
   "source": [
    "model.evaluate(x=x_test, y=y_test_all, verbose=0)"
   ]
  },
  {
   "cell_type": "code",
   "execution_count": 22,
   "metadata": {},
   "outputs": [],
   "source": [
    "time = [1e3, 5e3, 1e4, 2e4, 4e4, 8e4, 16e4]\n",
    "for i, t in enumerate(time):\n",
    "    time[i] = str(int(t))\n",
    "time.append('None')\n",
    "\n",
    "csv_file_name = \"resnet20\"\n",
    "table = onp.zeros((3, 8))\n",
    "\n",
    "for i, t in enumerate(time):\n",
    "    \n",
    "    tmp = onp.load('./batch_NTK_simple_time=%s.npy'%(t))\n",
    "    result = model.evaluate(tmp, y_test[:512], verbose=0)\n",
    "    table[0][i] = result[1]\n",
    "    \n",
    "    tmp = onp.load('./batch_NTK_simple_no_dense_time=%s.npy'%(t))\n",
    "    result = model.evaluate(tmp, y_test[:512], verbose=0)\n",
    "    table[1][i] = result[1]\n",
    "    \n",
    "    tmp = onp.load('./batch_NTK_simple_stride_no_dense_time=%s.npy'%(t))\n",
    "    result = model.evaluate(tmp, y_test[:512], verbose=0)\n",
    "    table[2][i] = result[1]\n",
    "    \n",
    "onp.savetxt(csv_file_name+\".csv\", table, delimiter=\",\", fmt='%.3f')"
   ]
  },
  {
   "cell_type": "code",
   "execution_count": 22,
   "metadata": {},
   "outputs": [],
   "source": [
    "# model.evaluate(x=x_test, y=y_test_all)"
   ]
  },
  {
   "cell_type": "code",
   "execution_count": 23,
   "metadata": {},
   "outputs": [],
   "source": [
    "# with pooling, acc can reach 72.2%\n",
    "# w.o. pooling, acc is at most 67%"
   ]
  },
  {
   "cell_type": "code",
   "execution_count": 24,
   "metadata": {},
   "outputs": [
    {
     "data": {
      "text/plain": [
       "[2.277487996034324, 0.6435547]"
      ]
     },
     "execution_count": 24,
     "metadata": {},
     "output_type": "execute_result"
    }
   ],
   "source": [
    "tmp = onp.load('batch_NTK_simple_no_dense.npy')\n",
    "model.evaluate(x=tmp, y=y_test_all[:2048], verbose=0)"
   ]
  },
  {
   "cell_type": "code",
   "execution_count": 25,
   "metadata": {},
   "outputs": [
    {
     "data": {
      "text/plain": [
       "[2.150093875825405, 0.6611328]"
      ]
     },
     "execution_count": 25,
     "metadata": {},
     "output_type": "execute_result"
    }
   ],
   "source": [
    "tmp = onp.load('batch_NTK_simple_stride_no_dense.npy')\n",
    "model.evaluate(x=tmp, y=y_test_all[:2048], verbose=0)"
   ]
  },
  {
   "cell_type": "code",
   "execution_count": 24,
   "metadata": {},
   "outputs": [],
   "source": [
    "csv_file_name = \"resnet20_decrease\"\n",
    "table = onp.zeros((4, 8))\n",
    "lambd = [\"0.00\", \"0.25\", \"0.50\", \"0.75\"]\n",
    "for l in range(4):\n",
    "    lamb = lambd[l]\n",
    "    for idx, t in enumerate(np.load('time.npy')):\n",
    "        file = './variance-and-time/decrease/batch_NTK_simple_decrease_variance_lambda=' + lamb + '_time=%d.npy'%(t)\n",
    "        tmp = onp.load(file)\n",
    "        # print('evaluating file: %s'%(file))\n",
    "        result = model.evaluate(tmp, y_test[:512], verbose=0)\n",
    "        table[l][idx] = result[1]\n",
    "        # print(result)\n",
    "onp.savetxt(csv_file_name+\".csv\", table, delimiter=\",\", fmt='%.3f')"
   ]
  },
  {
   "cell_type": "code",
   "execution_count": 25,
   "metadata": {},
   "outputs": [],
   "source": [
    "csv_file_name = \"resnet20_increase\"\n",
    "table = onp.zeros((4, 8))\n",
    "lambd = [\"0.00\", \"0.25\", \"0.50\", \"0.75\"]\n",
    "for l in range(4):\n",
    "    lamb = lambd[l]\n",
    "    for idx, t in enumerate(np.load('time.npy')):\n",
    "        file = './variance-and-time/increase/batch_NTK_simple_increase_variance_lambda=' + lamb + '_time=%d.npy'%(t)\n",
    "        tmp = onp.load(file)\n",
    "        # print('evaluating file: %s'%(file))\n",
    "        result = model.evaluate(tmp, y_test[:512], verbose=0)\n",
    "        table[l][idx] = result[1]\n",
    "        # print(result)\n",
    "onp.savetxt(csv_file_name+\".csv\", table, delimiter=\",\", fmt='%.3f')"
   ]
  },
  {
   "cell_type": "code",
   "execution_count": 24,
   "metadata": {},
   "outputs": [],
   "source": [
    "csv_file_name = \"resnet20_decrease\"\n",
    "table = onp.zeros((8, 4))\n",
    "for l in range(8):\n",
    "    lamb = 10**l\n",
    "    for idx, t in enumerate([1e5, 5e5, 1e6, 2.3e6]):\n",
    "        file = './batch_NTK_simple_increase_variance_lambda=%d_time=%d.npy'%(lamb, t)\n",
    "        tmp = onp.load(file)\n",
    "        # print('evaluating file: %s'%(file))\n",
    "        result = model.evaluate(tmp, y_test[:512], verbose=0)\n",
    "        table[l][idx] = result[1]\n",
    "        # print(result)\n",
    "onp.savetxt(csv_file_name+\".csv\", table, delimiter=\",\", fmt='%.3f')"
   ]
  },
  {
   "cell_type": "code",
   "execution_count": 25,
   "metadata": {},
   "outputs": [
    {
     "name": "stdout",
     "output_type": "stream",
     "text": [
      "evaluating file: ./variance-and-time/cifar-fgsm-eps-0.03-time-500000.npy\n",
      "[1.959726344794035, 0.6875]\n",
      "evaluating file: ./variance-and-time/cifar-fgsm-eps-0.03-time-100000.npy\n",
      "[1.9627806320786476, 0.6875]\n",
      "evaluating file: ./variance-and-time/cifar-fgsm-eps-0.03-time-1000000.npy\n",
      "[1.959726344794035, 0.6875]\n",
      "evaluating file: ./variance-and-time/cifar-fgsm-eps-0.03-time-2300000.npy\n",
      "[1.959726344794035, 0.6875]\n",
      "evaluating file: ./npy/batch_NTK_simple.npy\n",
      "[1.959726344794035, 0.6875]\n",
      "evaluating file: ./npy/cifar-untargeted-cifar-nn-grey-box-train=all-ce.npy\n",
      "[2.445124965161085, 0.6152344]\n",
      "evaluating file: ./npy/batch_NTK_cnn19.npy\n",
      "[1.772544089704752, 0.7050781]\n",
      "evaluating file: ./npy/cifar-untargeted-cifar-nn-grey-box-cnn19-train=all-ce.npy\n",
      "[1.8797385208308697, 0.6777344]\n"
     ]
    }
   ],
   "source": [
    "file_list = ['./variance-and-time/cifar-fgsm-eps-0.03-time-500000.npy',\n",
    "             './variance-and-time/cifar-fgsm-eps-0.03-time-100000.npy',\n",
    "             './variance-and-time/cifar-fgsm-eps-0.03-time-1000000.npy',\n",
    "             './variance-and-time/cifar-fgsm-eps-0.03-time-2300000.npy',\n",
    "             './npy/batch_NTK_simple.npy',\n",
    "             './npy/cifar-untargeted-cifar-nn-grey-box-train=all-ce.npy',\n",
    "             './npy/batch_NTK_cnn19.npy',\n",
    "             './npy/cifar-untargeted-cifar-nn-grey-box-cnn19-train=all-ce.npy']\n",
    "\n",
    "for f in file_list:\n",
    "    tmp = onp.load(f)\n",
    "    print('evaluating file: %s'%(f))\n",
    "    result = model.evaluate(tmp[:512], y_test[:512], verbose=0)\n",
    "    print(result)"
   ]
  },
  {
   "cell_type": "code",
   "execution_count": 21,
   "metadata": {},
   "outputs": [
    {
     "name": "stdout",
     "output_type": "stream",
     "text": [
      "evaluating file: ./batch_NTK_simple-targeted-fgsm-x-t=100000.npy\n",
      "WARNING:tensorflow:Layer res_net_type_i is casting an input tensor from dtype float64 to the layer's dtype of float32, which is new behavior in TensorFlow 2.  The layer has dtype float32 because it's dtype defaults to floatx.\n",
      "\n",
      "If you intended to run this layer in float32, you can safely ignore this warning. If in doubt, this warning is likely only an issue if you are porting a TensorFlow 1.X model to TensorFlow 2.\n",
      "\n",
      "To change all layers to have dtype float64 by default, call `tf.keras.backend.set_floatx('float64')`. To change just this layer, pass dtype='float64' to the layer constructor. If you are the author of this layer, you can disable autocasting by passing autocast=False to the base Layer constructor.\n",
      "\n"
     ]
    },
    {
     "name": "stderr",
     "output_type": "stream",
     "text": [
      "WARNING:tensorflow:Layer res_net_type_i is casting an input tensor from dtype float64 to the layer's dtype of float32, which is new behavior in TensorFlow 2.  The layer has dtype float32 because it's dtype defaults to floatx.\n",
      "\n",
      "If you intended to run this layer in float32, you can safely ignore this warning. If in doubt, this warning is likely only an issue if you are porting a TensorFlow 1.X model to TensorFlow 2.\n",
      "\n",
      "To change all layers to have dtype float64 by default, call `tf.keras.backend.set_floatx('float64')`. To change just this layer, pass dtype='float64' to the layer constructor. If you are the author of this layer, you can disable autocasting by passing autocast=False to the base Layer constructor.\n",
      "\n"
     ]
    },
    {
     "name": "stdout",
     "output_type": "stream",
     "text": [
      "0.009765625\n",
      "evaluating file: ./batch_NTK_simple-targeted-fgsm-x-t=500000.npy\n",
      "0.009765625\n",
      "evaluating file: ./batch_NTK_simple-targeted-fgsm-x-t=1000000.npy\n",
      "0.009765625\n",
      "evaluating file: ./batch_NTK_simple-targeted-fgsm-x-t=2300000.npy\n",
      "0.009765625\n",
      "evaluating file: ./npy/cifar-targeted-simple-cnn-fgsm.npy\n",
      "0.029296875\n"
     ]
    }
   ],
   "source": [
    "# targted\n",
    "targeted_clean_x = onp.load('./cifar-targeted-clean-x.npy')\n",
    "targeted_clean_y = onp.load('./cifar-targeted-clean-y.npy')\n",
    "\n",
    "file_list = ['./batch_NTK_simple-targeted-fgsm-x-t=100000.npy',\n",
    "             './batch_NTK_simple-targeted-fgsm-x-t=500000.npy',\n",
    "             './batch_NTK_simple-targeted-fgsm-x-t=1000000.npy',\n",
    "             './batch_NTK_simple-targeted-fgsm-x-t=2300000.npy',\n",
    "             './npy/cifar-targeted-simple-cnn-fgsm.npy'\n",
    "            ]\n",
    "\n",
    "for f in file_list:\n",
    "    tmp = onp.load(f)\n",
    "    print('evaluating file: %s'%(f))\n",
    "    correct = onp.argmax(model(targeted_clean_x), axis=1) == onp.argmax(targeted_clean_y, axis=1)\n",
    "    adv_example = onp.load(f)[:512]\n",
    "    attack_targeted = onp.argmax(model(adv_example), axis=1) == 0\n",
    "    success = correct & attack_targeted\n",
    "    print(onp.mean(success))"
   ]
  },
  {
   "cell_type": "code",
   "execution_count": 38,
   "metadata": {},
   "outputs": [
    {
     "name": "stdout",
     "output_type": "stream",
     "text": [
      "evaluating file: ./npy/batch_NTK_cnn19_decrease_variance.npy\n",
      "[1.913414136506617, 0.6821289]\n",
      "evaluating file: ./npy/batch_NTK_cnn19_increase_variance.npy\n",
      "[1.9139123363420367, 0.6850586]\n",
      "evaluating file: ./npy/batch_NTK_simple_decrease_variance.npy\n",
      "[2.141031106002629, 0.66259766]\n",
      "evaluating file: ./npy/batch_NTK_simple_increase_variance.npy\n",
      "[2.1489807683974504, 0.66064453]\n"
     ]
    }
   ],
   "source": [
    "file_list= [\"./npy/batch_NTK_cnn19_decrease_variance.npy\",\n",
    "            \"./npy/batch_NTK_cnn19_increase_variance.npy\",\n",
    "            \"./npy/batch_NTK_simple_decrease_variance.npy\",\n",
    "            \"./npy/batch_NTK_simple_increase_variance.npy\"]\n",
    "\n",
    "for f in file_list:\n",
    "    tmp = onp.load(f)\n",
    "    print('evaluating file: %s'%(f))\n",
    "    result = model.evaluate(tmp, y_test[:2048], verbose=0)\n",
    "    print(result)"
   ]
  },
  {
   "cell_type": "code",
   "execution_count": null,
   "metadata": {},
   "outputs": [],
   "source": [
    "tmp = onp.load('./npy/cifar-eps-time-any-npy/cifar-fgsm-eps-0.03-time-None.npy')\n",
    "print(\"==========NTK============\")\n",
    "model.evaluate(tmp, y_test[:128], verbose=0)"
   ]
  },
  {
   "cell_type": "code",
   "execution_count": null,
   "metadata": {},
   "outputs": [],
   "source": [
    "tmp = onp.load('./npy/cifar-untargeted-cifar-nn-grey-box-train=4096-ce.npy')\n",
    "print(\"==========CE============\")\n",
    "model.evaluate(tmp, y_test[:2048], verbose=0)"
   ]
  },
  {
   "cell_type": "code",
   "execution_count": null,
   "metadata": {},
   "outputs": [],
   "source": [
    "tmp = onp.load('./npy/cifar-untargeted-cifar-nn-grey-box-train=4096-mse.npy')\n",
    "print(\"==========MSE============\")\n",
    "model.evaluate(tmp, y_test[:2048], verbose=0)"
   ]
  },
  {
   "cell_type": "code",
   "execution_count": null,
   "metadata": {},
   "outputs": [],
   "source": [
    "tmp = onp.load('./npy/cifar-fgsm-eps-0.03-time-None-nngp.npy')\n",
    "model.evaluate(tmp, y_test[:128], verbose=0)"
   ]
  },
  {
   "cell_type": "code",
   "execution_count": null,
   "metadata": {},
   "outputs": [],
   "source": [
    "tmp = onp.load('./batch_NTK_cnn_19.npy')\n",
    "model.evaluate(tmp, y_test[:2048], verbose=0)"
   ]
  },
  {
   "cell_type": "code",
   "execution_count": null,
   "metadata": {},
   "outputs": [],
   "source": [
    "tmp = onp.load('./batch_NTK_simple.npy')\n",
    "model.evaluate(tmp, y_test[:2048], verbose=0)"
   ]
  },
  {
   "cell_type": "code",
   "execution_count": null,
   "metadata": {},
   "outputs": [],
   "source": [
    "tmp = onp.load('./npy/cifar-untargeted-cifar-nn-grey-box-train=all-ce.npy')\n",
    "print(\"==========small============\")\n",
    "model.evaluate(tmp, y_test[:2048], verbose=0)"
   ]
  },
  {
   "cell_type": "code",
   "execution_count": null,
   "metadata": {},
   "outputs": [],
   "source": [
    "tmp = onp.load('./npy/cifar-untargeted-cifar-nn-grey-box-cnn19-train=all-ce.npy')\n",
    "model.evaluate(tmp, y_test[:2048], verbose=0)"
   ]
  },
  {
   "cell_type": "code",
   "execution_count": null,
   "metadata": {},
   "outputs": [],
   "source": []
  }
 ],
 "metadata": {
  "kernelspec": {
   "display_name": "Python 3",
   "language": "python",
   "name": "python3"
  },
  "language_info": {
   "codemirror_mode": {
    "name": "ipython",
    "version": 3
   },
   "file_extension": ".py",
   "mimetype": "text/x-python",
   "name": "python",
   "nbconvert_exporter": "python",
   "pygments_lexer": "ipython3",
   "version": "3.6.8"
  }
 },
 "nbformat": 4,
 "nbformat_minor": 2
}
