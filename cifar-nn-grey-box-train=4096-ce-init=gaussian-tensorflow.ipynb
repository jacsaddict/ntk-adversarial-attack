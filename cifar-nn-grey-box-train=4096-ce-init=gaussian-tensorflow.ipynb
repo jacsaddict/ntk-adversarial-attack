{
 "cells": [
  {
   "cell_type": "code",
   "execution_count": 1,
   "metadata": {},
   "outputs": [],
   "source": [
    "import numpy as onp\n",
    "import tensorflow as tf\n",
    "import matplotlib.pyplot as plt\n",
    "\n",
    "from utils import *"
   ]
  },
  {
   "cell_type": "code",
   "execution_count": 3,
   "metadata": {},
   "outputs": [
    {
     "name": "stdout",
     "output_type": "stream",
     "text": [
      "1 Physical GPUs, 1 Logical GPU\n"
     ]
    }
   ],
   "source": [
    "gpus = tf.config.experimental.list_physical_devices('GPU')\n",
    "if gpus:\n",
    "  # Restrict TensorFlow to only use the first GPU\n",
    "    try:\n",
    "        tf.config.experimental.set_visible_devices(gpus[0], 'GPU')\n",
    "        logical_gpus = tf.config.experimental.list_logical_devices('GPU')\n",
    "        print(len(gpus), \"Physical GPUs,\", len(logical_gpus), \"Logical GPU\")\n",
    "    except RuntimeError as e:\n",
    "    # Visible devices must be set before GPUs have been initialized\n",
    "        print(e)"
   ]
  },
  {
   "cell_type": "markdown",
   "metadata": {},
   "source": [
    "# hyperparameters"
   ]
  },
  {
   "cell_type": "code",
   "execution_count": 4,
   "metadata": {},
   "outputs": [],
   "source": [
    "#data\n",
    "DATASET = 'cifar10'\n",
    "class_num   = 10\n",
    "test_size   = 2048\n",
    "train_size  = 4096\n",
    "image_shape = None\n",
    "\n",
    "if DATASET =='mnist':\n",
    "    image_shape = (28, 28, 1)\n",
    "elif DATASET == 'cifar10':\n",
    "    image_shape = (32, 32, 3)\n",
    "\n",
    "#training\n",
    "run = 10\n",
    "batch_size = 256\n",
    "epochs = 200"
   ]
  },
  {
   "cell_type": "code",
   "execution_count": 5,
   "metadata": {
    "scrolled": true
   },
   "outputs": [],
   "source": [
    "x_train_all, y_train_all, x_test_all, y_test_all = tuple(onp.array(x) for x in get_dataset(DATASET, None, None, \n",
    "                                                                                  do_flatten_and_normalize=False))"
   ]
  },
  {
   "cell_type": "code",
   "execution_count": 6,
   "metadata": {},
   "outputs": [],
   "source": [
    "# shuffle\n",
    "seed = 0\n",
    "x_train_all, y_train_all = shaffle(x_train_all, y_train_all, seed)"
   ]
  },
  {
   "cell_type": "code",
   "execution_count": 7,
   "metadata": {},
   "outputs": [],
   "source": [
    "# down sample\n",
    "x_train = x_train_all[:train_size]\n",
    "y_train = y_train_all[:train_size]\n",
    "\n",
    "x_test = x_test_all[:test_size]\n",
    "y_test = y_test_all[:test_size]"
   ]
  },
  {
   "cell_type": "code",
   "execution_count": 8,
   "metadata": {},
   "outputs": [],
   "source": [
    "x_train, x_test = x_train.reshape((-1, *image_shape)), x_test.reshape((-1, *image_shape))"
   ]
  },
  {
   "cell_type": "code",
   "execution_count": 9,
   "metadata": {},
   "outputs": [],
   "source": [
    "layers = tf.keras.layers"
   ]
  },
  {
   "cell_type": "code",
   "execution_count": 10,
   "metadata": {},
   "outputs": [],
   "source": [
    "gaussian_initializer=tf.keras.initializers.GlorotNormal()"
   ]
  },
  {
   "cell_type": "code",
   "execution_count": 11,
   "metadata": {},
   "outputs": [],
   "source": [
    "img_input = layers.Input(shape=image_shape)\n",
    "x = layers.Conv2D(64, (3, 3), activation='relu', padding='same', \n",
    "                  kernel_initializer=tf.keras.initializers.GlorotNormal())(img_input)\n",
    "\n",
    "x = layers.Conv2D(64, (3, 3), activation='relu', padding='same',\n",
    "                 kernel_initializer=tf.keras.initializers.GlorotNormal())(x)\n",
    "\n",
    "x = layers.Conv2D(64, (3, 3), activation='relu', padding='same',\n",
    "                 kernel_initializer=tf.keras.initializers.GlorotNormal())(x)\n",
    "\n",
    "x = layers.Flatten()(x)\n",
    "x = layers.Dense(256, activation='relu', kernel_initializer=tf.keras.initializers.GlorotNormal())(x)\n",
    "out = layers.Dense(10, kernel_initializer=tf.keras.initializers.GlorotNormal())(x)\n",
    "\n",
    "model = tf.keras.Model(inputs=img_input, outputs=out)"
   ]
  },
  {
   "cell_type": "code",
   "execution_count": 12,
   "metadata": {},
   "outputs": [],
   "source": [
    "def scheduler(epoch, lr):\n",
    "    if epoch < 5:\n",
    "        return 1e-4\n",
    "    elif epoch < 55:\n",
    "        return 1e-2\n",
    "    elif epoch < 105:\n",
    "        return 1e-2\n",
    "    else:\n",
    "        return 1e-4"
   ]
  },
  {
   "cell_type": "code",
   "execution_count": 13,
   "metadata": {},
   "outputs": [],
   "source": [
    "model.compile(optimizer=tf.keras.optimizers.SGD(0.01),\n",
    "              loss=tf.keras.losses.CategoricalCrossentropy(from_logits=True),\n",
    "              metrics=['accuracy'])"
   ]
  },
  {
   "cell_type": "code",
   "execution_count": 14,
   "metadata": {},
   "outputs": [],
   "source": [
    "callback = tf.keras.callbacks.LearningRateScheduler(scheduler)"
   ]
  },
  {
   "cell_type": "code",
   "execution_count": null,
   "metadata": {
    "scrolled": true
   },
   "outputs": [
    {
     "name": "stdout",
     "output_type": "stream",
     "text": [
      "Train on 3686 samples, validate on 410 samples\n",
      "Epoch 1/200\n",
      "3686/3686 [==============================] - 4s 1ms/sample - loss: 2.3102 - accuracy: 0.0936 - val_loss: 2.3040 - val_accuracy: 0.1268\n",
      "Epoch 2/200\n",
      "3686/3686 [==============================] - 2s 473us/sample - loss: 2.3091 - accuracy: 0.0941 - val_loss: 2.3032 - val_accuracy: 0.1268\n",
      "Epoch 3/200\n",
      "3686/3686 [==============================] - 0s 36us/sample - loss: 2.3081 - accuracy: 0.0944 - val_loss: 2.3024 - val_accuracy: 0.1293\n",
      "Epoch 4/200\n",
      "3686/3686 [==============================] - 0s 34us/sample - loss: 2.3071 - accuracy: 0.0947 - val_loss: 2.3016 - val_accuracy: 0.1293\n",
      "Epoch 5/200\n",
      "3686/3686 [==============================] - 0s 33us/sample - loss: 2.3061 - accuracy: 0.0952 - val_loss: 2.3009 - val_accuracy: 0.1293\n",
      "Epoch 6/200\n",
      "3686/3686 [==============================] - 0s 31us/sample - loss: 2.2862 - accuracy: 0.1213 - val_loss: 2.2668 - val_accuracy: 0.2073\n",
      "Epoch 7/200\n",
      "3686/3686 [==============================] - 0s 33us/sample - loss: 2.2501 - accuracy: 0.1845 - val_loss: 2.2229 - val_accuracy: 0.1268\n",
      "Epoch 8/200\n",
      "3686/3686 [==============================] - 0s 32us/sample - loss: 2.1974 - accuracy: 0.2151 - val_loss: 2.1813 - val_accuracy: 0.1951\n",
      "Epoch 9/200\n",
      "3686/3686 [==============================] - 0s 32us/sample - loss: 2.1254 - accuracy: 0.2390 - val_loss: 2.1077 - val_accuracy: 0.2146\n",
      "Epoch 10/200\n",
      "3686/3686 [==============================] - 0s 33us/sample - loss: 2.1131 - accuracy: 0.2409 - val_loss: 2.1085 - val_accuracy: 0.1610\n",
      "Epoch 11/200\n",
      "3686/3686 [==============================] - 0s 32us/sample - loss: 2.0900 - accuracy: 0.2206 - val_loss: 2.0651 - val_accuracy: 0.2659\n",
      "Epoch 12/200\n",
      "3686/3686 [==============================] - 0s 31us/sample - loss: 2.0445 - accuracy: 0.2618 - val_loss: 2.0802 - val_accuracy: 0.2366\n",
      "Epoch 13/200\n",
      "3686/3686 [==============================] - 0s 31us/sample - loss: 2.0104 - accuracy: 0.2811 - val_loss: 1.9583 - val_accuracy: 0.3098\n",
      "Epoch 14/200\n",
      "3686/3686 [==============================] - 0s 32us/sample - loss: 1.9747 - accuracy: 0.3041 - val_loss: 1.9245 - val_accuracy: 0.3366\n",
      "Epoch 15/200\n",
      "3686/3686 [==============================] - 0s 31us/sample - loss: 1.9549 - accuracy: 0.3030 - val_loss: 1.9799 - val_accuracy: 0.2732\n",
      "Epoch 16/200\n",
      "3686/3686 [==============================] - 0s 31us/sample - loss: 1.9331 - accuracy: 0.3256 - val_loss: 1.8887 - val_accuracy: 0.3537\n",
      "Epoch 17/200\n",
      "3686/3686 [==============================] - 0s 33us/sample - loss: 1.9002 - accuracy: 0.3378 - val_loss: 1.8639 - val_accuracy: 0.3537\n",
      "Epoch 18/200\n",
      "3686/3686 [==============================] - 0s 32us/sample - loss: 1.8825 - accuracy: 0.3340 - val_loss: 1.9075 - val_accuracy: 0.3000\n",
      "Epoch 19/200\n",
      "3686/3686 [==============================] - 0s 39us/sample - loss: 1.8475 - accuracy: 0.3475 - val_loss: 1.9189 - val_accuracy: 0.2902\n",
      "Epoch 20/200\n",
      "3686/3686 [==============================] - 0s 32us/sample - loss: 1.8440 - accuracy: 0.3527 - val_loss: 1.8893 - val_accuracy: 0.3049\n",
      "Epoch 21/200\n",
      "3686/3686 [==============================] - 0s 32us/sample - loss: 1.8347 - accuracy: 0.3554 - val_loss: 1.8848 - val_accuracy: 0.3610\n",
      "Epoch 22/200\n",
      "3686/3686 [==============================] - 0s 32us/sample - loss: 1.7795 - accuracy: 0.3790 - val_loss: 1.8851 - val_accuracy: 0.3537\n",
      "Epoch 23/200\n",
      "3686/3686 [==============================] - 0s 31us/sample - loss: 1.7717 - accuracy: 0.3798 - val_loss: 1.8595 - val_accuracy: 0.3561\n",
      "Epoch 24/200\n",
      " 256/3686 [=>............................] - ETA: 0s - loss: 1.7253 - accuracy: 0.3828"
     ]
    }
   ],
   "source": [
    "model.fit(x_train, y_train, batch_size=batch_size, epochs=epochs, validation_split=0.1, callbacks=[callback])"
   ]
  },
  {
   "cell_type": "code",
   "execution_count": null,
   "metadata": {},
   "outputs": [],
   "source": []
  },
  {
   "cell_type": "code",
   "execution_count": null,
   "metadata": {},
   "outputs": [],
   "source": []
  },
  {
   "cell_type": "code",
   "execution_count": 16,
   "metadata": {},
   "outputs": [
    {
     "name": "stdout",
     "output_type": "stream",
     "text": [
      "==========NTK============\n",
      "4/4 [==============================] - 1s 226ms/step - loss: 3.7244 - accuracy: 0.1797\n",
      "==========CE============\n",
      "64/64 [==============================] - 0s 1ms/step - loss: 5.6641 - accuracy: 0.0723\n",
      "==========MSE============\n",
      "64/64 [==============================] - 0s 1ms/step - loss: 4.4032 - accuracy: 0.1240\n"
     ]
    },
    {
     "data": {
      "text/plain": [
       "[4.403232097625732, 0.1240234375]"
      ]
     },
     "execution_count": 16,
     "metadata": {},
     "output_type": "execute_result"
    }
   ],
   "source": [
    "tmp = onp.load('./npy/cifar-eps-time-any-npy/cifar-fgsm-eps-0.03-time-None.npy')\n",
    "print(\"==========NTK============\")\n",
    "model.evaluate(tmp, y_test[:128])\n",
    "\n",
    "tmp = onp.load('./npy/cifar-untargeted-cifar-nn-grey-box-train=4096-ce.npy')\n",
    "print(\"==========CE============\")\n",
    "model.evaluate(tmp, y_test)\n",
    "\n",
    "tmp = onp.load('./npy/cifar-untargeted-cifar-nn-grey-box-train=4096-mse.npy')\n",
    "print(\"==========MSE============\")\n",
    "model.evaluate(tmp, y_test)"
   ]
  },
  {
   "cell_type": "code",
   "execution_count": 22,
   "metadata": {},
   "outputs": [
    {
     "name": "stdout",
     "output_type": "stream",
     "text": [
      "64/64 [==============================] - 0s 1ms/step - loss: 2.2073 - accuracy: 0.4199\n"
     ]
    },
    {
     "data": {
      "text/plain": [
       "[2.207260847091675, 0.419921875]"
      ]
     },
     "execution_count": 22,
     "metadata": {},
     "output_type": "execute_result"
    }
   ],
   "source": [
    "model.evaluate(x_test, y_test)"
   ]
  },
  {
   "cell_type": "code",
   "execution_count": 16,
   "metadata": {},
   "outputs": [
    {
     "name": "stdout",
     "output_type": "stream",
     "text": [
      "4/4 [==============================] - 1s 215ms/step - loss: 2.8603 - accuracy: 0.3047\n"
     ]
    },
    {
     "data": {
      "text/plain": [
       "[2.8603286743164062, 0.3046875]"
      ]
     },
     "execution_count": 16,
     "metadata": {},
     "output_type": "execute_result"
    }
   ],
   "source": [
    "tmp = onp.load('./npy/cifar-fgsm-eps-0.03-time-None-nngp.npy')\n",
    "model.evaluate(tmp, y_test[:128])"
   ]
  },
  {
   "cell_type": "code",
   "execution_count": null,
   "metadata": {},
   "outputs": [],
   "source": []
  }
 ],
 "metadata": {
  "kernelspec": {
   "display_name": "Python 3",
   "language": "python",
   "name": "python3"
  },
  "language_info": {
   "codemirror_mode": {
    "name": "ipython",
    "version": 3
   },
   "file_extension": ".py",
   "mimetype": "text/x-python",
   "name": "python",
   "nbconvert_exporter": "python",
   "pygments_lexer": "ipython3",
   "version": "3.6.9"
  }
 },
 "nbformat": 4,
 "nbformat_minor": 2
}
