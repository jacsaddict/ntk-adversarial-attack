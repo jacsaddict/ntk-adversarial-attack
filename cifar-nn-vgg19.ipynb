{
 "cells": [
  {
   "cell_type": "code",
   "execution_count": 1,
   "metadata": {},
   "outputs": [],
   "source": [
    "import numpy as onp\n",
    "import tensorflow as tf\n",
    "import matplotlib.pyplot as plt\n",
    "\n",
    "from utils import *"
   ]
  },
  {
   "cell_type": "code",
   "execution_count": 2,
   "metadata": {},
   "outputs": [
    {
     "name": "stdout",
     "output_type": "stream",
     "text": [
      "1 Physical GPUs, 1 Logical GPU\n"
     ]
    }
   ],
   "source": [
    "gpus = tf.config.experimental.list_physical_devices('GPU')\n",
    "if gpus:\n",
    "  # Restrict TensorFlow to only use the first GPU\n",
    "    try:\n",
    "        tf.config.experimental.set_visible_devices(gpus[0], 'GPU')\n",
    "        logical_gpus = tf.config.experimental.list_logical_devices('GPU')\n",
    "        print(len(gpus), \"Physical GPUs,\", len(logical_gpus), \"Logical GPU\")\n",
    "    except RuntimeError as e:\n",
    "    # Visible devices must be set before GPUs have been initialized\n",
    "        print(e)"
   ]
  },
  {
   "cell_type": "markdown",
   "metadata": {},
   "source": [
    "# hyperparameters"
   ]
  },
  {
   "cell_type": "code",
   "execution_count": 3,
   "metadata": {},
   "outputs": [],
   "source": [
    "#data\n",
    "DATASET = 'cifar10'\n",
    "class_num   = 10\n",
    "test_size   = 2048\n",
    "image_shape = None\n",
    "\n",
    "if DATASET =='mnist':\n",
    "    image_shape = (28, 28, 1)\n",
    "elif DATASET == 'cifar10':\n",
    "    image_shape = (32, 32, 3)\n",
    "\n",
    "#training\n",
    "batch_size = 64\n",
    "epoch = 100"
   ]
  },
  {
   "cell_type": "code",
   "execution_count": 4,
   "metadata": {
    "scrolled": true
   },
   "outputs": [
    {
     "name": "stdout",
     "output_type": "stream",
     "text": [
      "WARNING:tensorflow:The operation `tf.image.convert_image_dtype` will be skipped since the input and output dtypes are identical.\n"
     ]
    },
    {
     "name": "stderr",
     "output_type": "stream",
     "text": [
      "WARNING:tensorflow:The operation `tf.image.convert_image_dtype` will be skipped since the input and output dtypes are identical.\n"
     ]
    },
    {
     "name": "stdout",
     "output_type": "stream",
     "text": [
      "WARNING:tensorflow:The operation `tf.image.convert_image_dtype` will be skipped since the input and output dtypes are identical.\n"
     ]
    },
    {
     "name": "stderr",
     "output_type": "stream",
     "text": [
      "WARNING:tensorflow:The operation `tf.image.convert_image_dtype` will be skipped since the input and output dtypes are identical.\n"
     ]
    },
    {
     "name": "stdout",
     "output_type": "stream",
     "text": [
      "WARNING:tensorflow:The operation `tf.image.convert_image_dtype` will be skipped since the input and output dtypes are identical.\n"
     ]
    },
    {
     "name": "stderr",
     "output_type": "stream",
     "text": [
      "WARNING:tensorflow:The operation `tf.image.convert_image_dtype` will be skipped since the input and output dtypes are identical.\n"
     ]
    },
    {
     "name": "stdout",
     "output_type": "stream",
     "text": [
      "WARNING:tensorflow:The operation `tf.image.convert_image_dtype` will be skipped since the input and output dtypes are identical.\n"
     ]
    },
    {
     "name": "stderr",
     "output_type": "stream",
     "text": [
      "WARNING:tensorflow:The operation `tf.image.convert_image_dtype` will be skipped since the input and output dtypes are identical.\n"
     ]
    },
    {
     "name": "stdout",
     "output_type": "stream",
     "text": [
      "WARNING:tensorflow:The operation `tf.image.convert_image_dtype` will be skipped since the input and output dtypes are identical.\n"
     ]
    },
    {
     "name": "stderr",
     "output_type": "stream",
     "text": [
      "WARNING:tensorflow:The operation `tf.image.convert_image_dtype` will be skipped since the input and output dtypes are identical.\n"
     ]
    },
    {
     "name": "stdout",
     "output_type": "stream",
     "text": [
      "WARNING:tensorflow:The operation `tf.image.convert_image_dtype` will be skipped since the input and output dtypes are identical.\n"
     ]
    },
    {
     "name": "stderr",
     "output_type": "stream",
     "text": [
      "WARNING:tensorflow:The operation `tf.image.convert_image_dtype` will be skipped since the input and output dtypes are identical.\n"
     ]
    },
    {
     "name": "stdout",
     "output_type": "stream",
     "text": [
      "WARNING:tensorflow:The operation `tf.image.convert_image_dtype` will be skipped since the input and output dtypes are identical.\n"
     ]
    },
    {
     "name": "stderr",
     "output_type": "stream",
     "text": [
      "WARNING:tensorflow:The operation `tf.image.convert_image_dtype` will be skipped since the input and output dtypes are identical.\n"
     ]
    },
    {
     "name": "stdout",
     "output_type": "stream",
     "text": [
      "WARNING:tensorflow:The operation `tf.image.convert_image_dtype` will be skipped since the input and output dtypes are identical.\n"
     ]
    },
    {
     "name": "stderr",
     "output_type": "stream",
     "text": [
      "WARNING:tensorflow:The operation `tf.image.convert_image_dtype` will be skipped since the input and output dtypes are identical.\n"
     ]
    }
   ],
   "source": [
    "x_train_all, y_train_all, x_test_all, y_test_all = tuple(onp.array(x) for x in get_dataset(DATASET, None, None, \n",
    "                                                                                  do_flatten_and_normalize=False))"
   ]
  },
  {
   "cell_type": "code",
   "execution_count": 5,
   "metadata": {},
   "outputs": [],
   "source": [
    "FGSM = onp.load('./cifar-targeted-fgsm-x.npy')\n",
    "I_FGSM = onp.load('./cifar-targeted-ifgsm-x.npy')"
   ]
  },
  {
   "cell_type": "code",
   "execution_count": 6,
   "metadata": {},
   "outputs": [],
   "source": [
    "y_test = onp.load(\"./cifar-targeted-clean-y.npy\")"
   ]
  },
  {
   "cell_type": "code",
   "execution_count": 7,
   "metadata": {},
   "outputs": [],
   "source": [
    "x_test = onp.load(\"./cifar-targeted-clean-x.npy\")"
   ]
  },
  {
   "cell_type": "code",
   "execution_count": 8,
   "metadata": {},
   "outputs": [],
   "source": [
    "layers = tf.keras.layers"
   ]
  },
  {
   "cell_type": "code",
   "execution_count": 9,
   "metadata": {},
   "outputs": [],
   "source": [
    "img_input = layers.Input(shape=image_shape)\n",
    "x = layers.Conv2D(64,  (3, 3), activation='relu', padding='same')(img_input)\n",
    "x = layers.Conv2D(64,  (3, 3), activation='relu', padding='same')(x)\n",
    "x = layers.MaxPool2D()(x)\n",
    "x = layers.Conv2D(128, (3, 3), activation='relu', padding='same')(x)\n",
    "x = layers.Conv2D(128, (3, 3), activation='relu', padding='same')(x)\n",
    "x = layers.MaxPool2D()(x)\n",
    "x = layers.Conv2D(256, (3, 3), activation='relu', padding='same')(x)\n",
    "x = layers.Conv2D(256, (3, 3), activation='relu', padding='same')(x)\n",
    "x = layers.MaxPool2D()(x)\n",
    "x = layers.Conv2D(512, (3, 3), activation='relu', padding='same')(x)\n",
    "x = layers.Conv2D(512, (3, 3), activation='relu', padding='same')(x)\n",
    "x = layers.Conv2D(512, (3, 3), activation='relu', padding='same')(x)\n",
    "x = layers.Conv2D(512, (3, 3), activation='relu', padding='same')(x)\n",
    "x = layers.MaxPool2D()(x)\n",
    "x = layers.Conv2D(512, (3, 3), activation='relu', padding='same')(x)\n",
    "x = layers.Conv2D(512, (3, 3), activation='relu', padding='same')(x)\n",
    "x = layers.Conv2D(512, (3, 3), activation='relu', padding='same')(x)\n",
    "x = layers.Conv2D(512, (3, 3), activation='relu', padding='same')(x)\n",
    "x = layers.MaxPool2D()(x)\n",
    "x = layers.Flatten()(x)\n",
    "x = layers.Dense(256, activation='relu')(x)\n",
    "x = layers.Dense(256, activation='relu')(x)\n",
    "x = layers.Dense(256, activation='relu')(x)\n",
    "out = layers.Dense(10)(x)\n",
    "\n",
    "model = tf.keras.Model(inputs=img_input, outputs=out)"
   ]
  },
  {
   "cell_type": "code",
   "execution_count": 18,
   "metadata": {},
   "outputs": [],
   "source": [
    "def scheduler(epoch, lr):\n",
    "    if epoch < 5:\n",
    "        return 1e-4\n",
    "    elif epoch < 55:\n",
    "        return 1e-2\n",
    "    elif epoch < 105:\n",
    "        return 1e-2\n",
    "    else:\n",
    "        return 1e-4"
   ]
  },
  {
   "cell_type": "code",
   "execution_count": 19,
   "metadata": {},
   "outputs": [],
   "source": [
    "# model.compile(optimizer=tf.keras.optimizers.SGD(),\n",
    "#               loss=tf.keras.losses.CategoricalCrossentropy(from_logits=True),\n",
    "#               metrics=['accuracy'])"
   ]
  },
  {
   "cell_type": "code",
   "execution_count": 20,
   "metadata": {},
   "outputs": [],
   "source": [
    "model.compile(optimizer=tf.keras.optimizers.SGD(),\n",
    "              loss=tf.keras.losses.MSE,\n",
    "              metrics=['accuracy'])"
   ]
  },
  {
   "cell_type": "code",
   "execution_count": 21,
   "metadata": {},
   "outputs": [],
   "source": [
    "callback = tf.keras.callbacks.LearningRateScheduler(scheduler)"
   ]
  },
  {
   "cell_type": "code",
   "execution_count": 22,
   "metadata": {
    "scrolled": true
   },
   "outputs": [
    {
     "name": "stdout",
     "output_type": "stream",
     "text": [
      "Model: \"functional_1\"\n",
      "_________________________________________________________________\n",
      "Layer (type)                 Output Shape              Param #   \n",
      "=================================================================\n",
      "input_1 (InputLayer)         [(None, 32, 32, 3)]       0         \n",
      "_________________________________________________________________\n",
      "conv2d (Conv2D)              (None, 32, 32, 64)        1792      \n",
      "_________________________________________________________________\n",
      "conv2d_1 (Conv2D)            (None, 32, 32, 64)        36928     \n",
      "_________________________________________________________________\n",
      "max_pooling2d (MaxPooling2D) (None, 16, 16, 64)        0         \n",
      "_________________________________________________________________\n",
      "conv2d_2 (Conv2D)            (None, 16, 16, 128)       73856     \n",
      "_________________________________________________________________\n",
      "conv2d_3 (Conv2D)            (None, 16, 16, 128)       147584    \n",
      "_________________________________________________________________\n",
      "max_pooling2d_1 (MaxPooling2 (None, 8, 8, 128)         0         \n",
      "_________________________________________________________________\n",
      "conv2d_4 (Conv2D)            (None, 8, 8, 256)         295168    \n",
      "_________________________________________________________________\n",
      "conv2d_5 (Conv2D)            (None, 8, 8, 256)         590080    \n",
      "_________________________________________________________________\n",
      "max_pooling2d_2 (MaxPooling2 (None, 4, 4, 256)         0         \n",
      "_________________________________________________________________\n",
      "conv2d_6 (Conv2D)            (None, 4, 4, 512)         1180160   \n",
      "_________________________________________________________________\n",
      "conv2d_7 (Conv2D)            (None, 4, 4, 512)         2359808   \n",
      "_________________________________________________________________\n",
      "conv2d_8 (Conv2D)            (None, 4, 4, 512)         2359808   \n",
      "_________________________________________________________________\n",
      "conv2d_9 (Conv2D)            (None, 4, 4, 512)         2359808   \n",
      "_________________________________________________________________\n",
      "max_pooling2d_3 (MaxPooling2 (None, 2, 2, 512)         0         \n",
      "_________________________________________________________________\n",
      "conv2d_10 (Conv2D)           (None, 2, 2, 512)         2359808   \n",
      "_________________________________________________________________\n",
      "conv2d_11 (Conv2D)           (None, 2, 2, 512)         2359808   \n",
      "_________________________________________________________________\n",
      "conv2d_12 (Conv2D)           (None, 2, 2, 512)         2359808   \n",
      "_________________________________________________________________\n",
      "conv2d_13 (Conv2D)           (None, 2, 2, 512)         2359808   \n",
      "_________________________________________________________________\n",
      "max_pooling2d_4 (MaxPooling2 (None, 1, 1, 512)         0         \n",
      "_________________________________________________________________\n",
      "flatten (Flatten)            (None, 512)               0         \n",
      "_________________________________________________________________\n",
      "dense (Dense)                (None, 256)               131328    \n",
      "_________________________________________________________________\n",
      "dense_1 (Dense)              (None, 256)               65792     \n",
      "_________________________________________________________________\n",
      "dense_2 (Dense)              (None, 256)               65792     \n",
      "_________________________________________________________________\n",
      "dense_3 (Dense)              (None, 10)                2570      \n",
      "=================================================================\n",
      "Total params: 19,109,706\n",
      "Trainable params: 19,109,706\n",
      "Non-trainable params: 0\n",
      "_________________________________________________________________\n"
     ]
    }
   ],
   "source": [
    "model.summary()"
   ]
  },
  {
   "cell_type": "code",
   "execution_count": 23,
   "metadata": {},
   "outputs": [],
   "source": [
    "x_train_all, x_test_all = x_train_all.reshape(-1, 32, 32, 3), x_test_all.reshape(-1, 32, 32, 3)"
   ]
  },
  {
   "cell_type": "code",
   "execution_count": 25,
   "metadata": {
    "scrolled": true
   },
   "outputs": [
    {
     "name": "stdout",
     "output_type": "stream",
     "text": [
      "Epoch 1/150\n",
      "704/704 [==============================] - 10s 15ms/step - loss: 0.0521 - accuracy: 0.6066 - val_loss: 0.0533 - val_accuracy: 0.5910\n",
      "Epoch 2/150\n",
      "704/704 [==============================] - 10s 14ms/step - loss: 0.0521 - accuracy: 0.6058 - val_loss: 0.0533 - val_accuracy: 0.5916\n",
      "Epoch 3/150\n",
      "704/704 [==============================] - 10s 14ms/step - loss: 0.0521 - accuracy: 0.6062 - val_loss: 0.0533 - val_accuracy: 0.5908\n",
      "Epoch 4/150\n",
      "704/704 [==============================] - 10s 14ms/step - loss: 0.0521 - accuracy: 0.6070 - val_loss: 0.0533 - val_accuracy: 0.5908\n",
      "Epoch 5/150\n",
      "704/704 [==============================] - 10s 14ms/step - loss: 0.0521 - accuracy: 0.6064 - val_loss: 0.0532 - val_accuracy: 0.5912\n",
      "Epoch 6/150\n",
      "704/704 [==============================] - 10s 14ms/step - loss: 0.0539 - accuracy: 0.5893 - val_loss: 0.0677 - val_accuracy: 0.4620\n",
      "Epoch 7/150\n",
      "704/704 [==============================] - 10s 14ms/step - loss: 0.0537 - accuracy: 0.5909 - val_loss: 0.0641 - val_accuracy: 0.4964\n",
      "Epoch 8/150\n",
      "704/704 [==============================] - 10s 14ms/step - loss: 0.0532 - accuracy: 0.5949 - val_loss: 0.0671 - val_accuracy: 0.4774\n",
      "Epoch 9/150\n",
      "704/704 [==============================] - 10s 14ms/step - loss: 0.0531 - accuracy: 0.5970 - val_loss: 0.0619 - val_accuracy: 0.5114\n",
      "Epoch 10/150\n",
      "704/704 [==============================] - 10s 14ms/step - loss: 0.0526 - accuracy: 0.6020 - val_loss: 0.0626 - val_accuracy: 0.5100\n",
      "Epoch 11/150\n",
      "704/704 [==============================] - 10s 14ms/step - loss: 0.0524 - accuracy: 0.6043 - val_loss: 0.0717 - val_accuracy: 0.4614\n",
      "Epoch 12/150\n",
      "704/704 [==============================] - 10s 14ms/step - loss: 0.0522 - accuracy: 0.6054 - val_loss: 0.0694 - val_accuracy: 0.4646\n",
      "Epoch 13/150\n",
      "704/704 [==============================] - 10s 14ms/step - loss: 0.0519 - accuracy: 0.6086 - val_loss: 0.0778 - val_accuracy: 0.3862\n",
      "Epoch 14/150\n",
      "704/704 [==============================] - 10s 14ms/step - loss: 0.0515 - accuracy: 0.6106 - val_loss: 0.0678 - val_accuracy: 0.4794\n",
      "Epoch 15/150\n",
      "704/704 [==============================] - 10s 14ms/step - loss: 0.0513 - accuracy: 0.6117 - val_loss: 0.0584 - val_accuracy: 0.5462\n",
      "Epoch 16/150\n",
      "704/704 [==============================] - 10s 14ms/step - loss: 0.0510 - accuracy: 0.6143 - val_loss: 0.0696 - val_accuracy: 0.4628\n",
      "Epoch 17/150\n",
      "704/704 [==============================] - 10s 14ms/step - loss: 0.0508 - accuracy: 0.6176 - val_loss: 0.0632 - val_accuracy: 0.5138\n",
      "Epoch 18/150\n",
      "704/704 [==============================] - 10s 14ms/step - loss: 0.0504 - accuracy: 0.6201 - val_loss: 0.0579 - val_accuracy: 0.5518\n",
      "Epoch 19/150\n",
      "704/704 [==============================] - 10s 14ms/step - loss: 0.0502 - accuracy: 0.6229 - val_loss: 0.0643 - val_accuracy: 0.4890\n",
      "Epoch 20/150\n",
      "704/704 [==============================] - 10s 14ms/step - loss: 0.0498 - accuracy: 0.6247 - val_loss: 0.0564 - val_accuracy: 0.5646\n",
      "Epoch 21/150\n",
      "704/704 [==============================] - 10s 14ms/step - loss: 0.0496 - accuracy: 0.6278 - val_loss: 0.0790 - val_accuracy: 0.3956\n",
      "Epoch 22/150\n",
      "704/704 [==============================] - 10s 14ms/step - loss: 0.0493 - accuracy: 0.6312 - val_loss: 0.0515 - val_accuracy: 0.6012\n",
      "Epoch 23/150\n",
      "704/704 [==============================] - 10s 14ms/step - loss: 0.0490 - accuracy: 0.6332 - val_loss: 0.0504 - val_accuracy: 0.6064\n",
      "Epoch 24/150\n",
      "704/704 [==============================] - 10s 14ms/step - loss: 0.0488 - accuracy: 0.6346 - val_loss: 0.0620 - val_accuracy: 0.5256\n",
      "Epoch 25/150\n",
      "704/704 [==============================] - 10s 14ms/step - loss: 0.0484 - accuracy: 0.6393 - val_loss: 0.0658 - val_accuracy: 0.4786\n",
      "Epoch 26/150\n",
      "704/704 [==============================] - 10s 14ms/step - loss: 0.0481 - accuracy: 0.6384 - val_loss: 0.0542 - val_accuracy: 0.5912\n",
      "Epoch 27/150\n",
      "704/704 [==============================] - 10s 14ms/step - loss: 0.0478 - accuracy: 0.6425 - val_loss: 0.0608 - val_accuracy: 0.5328\n",
      "Epoch 28/150\n",
      "704/704 [==============================] - 10s 14ms/step - loss: 0.0476 - accuracy: 0.6445 - val_loss: 0.0641 - val_accuracy: 0.5020\n",
      "Epoch 29/150\n",
      "704/704 [==============================] - 10s 14ms/step - loss: 0.0474 - accuracy: 0.6466 - val_loss: 0.0613 - val_accuracy: 0.5320\n",
      "Epoch 30/150\n",
      "704/704 [==============================] - 10s 14ms/step - loss: 0.0469 - accuracy: 0.6522 - val_loss: 0.0747 - val_accuracy: 0.4458\n",
      "Epoch 31/150\n",
      "704/704 [==============================] - 10s 14ms/step - loss: 0.0467 - accuracy: 0.6534 - val_loss: 0.0508 - val_accuracy: 0.6038\n",
      "Epoch 32/150\n",
      "704/704 [==============================] - 10s 14ms/step - loss: 0.0465 - accuracy: 0.6545 - val_loss: 0.0672 - val_accuracy: 0.4976\n",
      "Epoch 33/150\n",
      "704/704 [==============================] - 10s 14ms/step - loss: 0.0461 - accuracy: 0.6579 - val_loss: 0.0607 - val_accuracy: 0.5236\n",
      "Epoch 34/150\n",
      "704/704 [==============================] - 10s 14ms/step - loss: 0.0458 - accuracy: 0.6611 - val_loss: 0.0494 - val_accuracy: 0.6256\n",
      "Epoch 35/150\n",
      "704/704 [==============================] - 10s 14ms/step - loss: 0.0455 - accuracy: 0.6649 - val_loss: 0.0553 - val_accuracy: 0.5744\n",
      "Epoch 36/150\n",
      "704/704 [==============================] - 10s 14ms/step - loss: 0.0452 - accuracy: 0.6659 - val_loss: 0.0527 - val_accuracy: 0.6000\n",
      "Epoch 37/150\n",
      "704/704 [==============================] - 10s 14ms/step - loss: 0.0450 - accuracy: 0.6691 - val_loss: 0.0536 - val_accuracy: 0.5868\n",
      "Epoch 38/150\n",
      "704/704 [==============================] - 10s 14ms/step - loss: 0.0446 - accuracy: 0.6712 - val_loss: 0.0487 - val_accuracy: 0.6260\n",
      "Epoch 39/150\n",
      "704/704 [==============================] - 10s 14ms/step - loss: 0.0442 - accuracy: 0.6755 - val_loss: 0.0537 - val_accuracy: 0.5950\n",
      "Epoch 40/150\n",
      "704/704 [==============================] - 10s 14ms/step - loss: 0.0441 - accuracy: 0.6759 - val_loss: 0.0515 - val_accuracy: 0.6112\n",
      "Epoch 41/150\n",
      "704/704 [==============================] - 10s 14ms/step - loss: 0.0438 - accuracy: 0.6788 - val_loss: 0.0699 - val_accuracy: 0.4830\n",
      "Epoch 42/150\n",
      "704/704 [==============================] - 10s 14ms/step - loss: 0.0435 - accuracy: 0.6803 - val_loss: 0.0611 - val_accuracy: 0.5336\n",
      "Epoch 43/150\n",
      "704/704 [==============================] - 10s 14ms/step - loss: 0.0432 - accuracy: 0.6831 - val_loss: 0.0525 - val_accuracy: 0.5980\n",
      "Epoch 44/150\n",
      "704/704 [==============================] - 10s 14ms/step - loss: 0.0428 - accuracy: 0.6891 - val_loss: 0.0518 - val_accuracy: 0.6060\n",
      "Epoch 45/150\n",
      "704/704 [==============================] - 10s 14ms/step - loss: 0.0425 - accuracy: 0.6883 - val_loss: 0.0620 - val_accuracy: 0.5262\n",
      "Epoch 46/150\n",
      "704/704 [==============================] - 10s 14ms/step - loss: 0.0423 - accuracy: 0.6913 - val_loss: 0.0616 - val_accuracy: 0.5308\n",
      "Epoch 47/150\n",
      "704/704 [==============================] - 10s 14ms/step - loss: 0.0419 - accuracy: 0.6958 - val_loss: 0.0564 - val_accuracy: 0.5690\n",
      "Epoch 48/150\n",
      "704/704 [==============================] - 10s 14ms/step - loss: 0.0417 - accuracy: 0.6964 - val_loss: 0.0517 - val_accuracy: 0.6104\n",
      "Epoch 49/150\n",
      "704/704 [==============================] - 10s 14ms/step - loss: 0.0413 - accuracy: 0.6998 - val_loss: 0.0664 - val_accuracy: 0.5034\n",
      "Epoch 50/150\n",
      "704/704 [==============================] - 10s 14ms/step - loss: 0.0410 - accuracy: 0.7025 - val_loss: 0.0591 - val_accuracy: 0.5352\n",
      "Epoch 51/150\n",
      "704/704 [==============================] - 10s 14ms/step - loss: 0.0407 - accuracy: 0.7072 - val_loss: 0.0564 - val_accuracy: 0.5722\n",
      "Epoch 52/150\n",
      "704/704 [==============================] - 10s 14ms/step - loss: 0.0404 - accuracy: 0.7087 - val_loss: 0.0575 - val_accuracy: 0.5704\n",
      "Epoch 53/150\n",
      "704/704 [==============================] - 10s 14ms/step - loss: 0.0401 - accuracy: 0.7106 - val_loss: 0.0491 - val_accuracy: 0.6294\n",
      "Epoch 54/150\n",
      "704/704 [==============================] - 10s 14ms/step - loss: 0.0397 - accuracy: 0.7140 - val_loss: 0.0603 - val_accuracy: 0.5514\n",
      "Epoch 55/150\n",
      "704/704 [==============================] - 10s 14ms/step - loss: 0.0395 - accuracy: 0.7162 - val_loss: 0.0944 - val_accuracy: 0.3570\n",
      "Epoch 56/150\n",
      "704/704 [==============================] - 10s 14ms/step - loss: 0.0392 - accuracy: 0.7198 - val_loss: 0.0652 - val_accuracy: 0.5228\n",
      "Epoch 57/150\n"
     ]
    },
    {
     "name": "stdout",
     "output_type": "stream",
     "text": [
      "704/704 [==============================] - 10s 14ms/step - loss: 0.0388 - accuracy: 0.7229 - val_loss: 0.0666 - val_accuracy: 0.5008\n",
      "Epoch 58/150\n",
      "704/704 [==============================] - 10s 14ms/step - loss: 0.0385 - accuracy: 0.7259 - val_loss: 0.0584 - val_accuracy: 0.5678\n",
      "Epoch 59/150\n",
      "704/704 [==============================] - 10s 14ms/step - loss: 0.0381 - accuracy: 0.7267 - val_loss: 0.0528 - val_accuracy: 0.6120\n",
      "Epoch 60/150\n",
      "704/704 [==============================] - 10s 14ms/step - loss: 0.0378 - accuracy: 0.7302 - val_loss: 0.0486 - val_accuracy: 0.6348\n",
      "Epoch 61/150\n",
      "704/704 [==============================] - 10s 14ms/step - loss: 0.0375 - accuracy: 0.7339 - val_loss: 0.0469 - val_accuracy: 0.6500\n",
      "Epoch 62/150\n",
      "704/704 [==============================] - 10s 14ms/step - loss: 0.0372 - accuracy: 0.7359 - val_loss: 0.0499 - val_accuracy: 0.6274\n",
      "Epoch 63/150\n",
      "704/704 [==============================] - 10s 14ms/step - loss: 0.0369 - accuracy: 0.7392 - val_loss: 0.0562 - val_accuracy: 0.5760\n",
      "Epoch 64/150\n",
      "704/704 [==============================] - 10s 14ms/step - loss: 0.0365 - accuracy: 0.7416 - val_loss: 0.0584 - val_accuracy: 0.5704\n",
      "Epoch 65/150\n",
      "704/704 [==============================] - 10s 14ms/step - loss: 0.0362 - accuracy: 0.7436 - val_loss: 0.0521 - val_accuracy: 0.6148\n",
      "Epoch 66/150\n",
      "704/704 [==============================] - 10s 14ms/step - loss: 0.0359 - accuracy: 0.7480 - val_loss: 0.0488 - val_accuracy: 0.6414\n",
      "Epoch 67/150\n",
      "704/704 [==============================] - 10s 14ms/step - loss: 0.0355 - accuracy: 0.7500 - val_loss: 0.0543 - val_accuracy: 0.5888\n",
      "Epoch 68/150\n",
      "704/704 [==============================] - 10s 14ms/step - loss: 0.0352 - accuracy: 0.7539 - val_loss: 0.0543 - val_accuracy: 0.5952\n",
      "Epoch 69/150\n",
      "704/704 [==============================] - 10s 14ms/step - loss: 0.0348 - accuracy: 0.7572 - val_loss: 0.0513 - val_accuracy: 0.6192\n",
      "Epoch 70/150\n",
      "704/704 [==============================] - 10s 14ms/step - loss: 0.0345 - accuracy: 0.7594 - val_loss: 0.0452 - val_accuracy: 0.6620\n",
      "Epoch 71/150\n",
      "704/704 [==============================] - 10s 14ms/step - loss: 0.0343 - accuracy: 0.7605 - val_loss: 0.0504 - val_accuracy: 0.6264\n",
      "Epoch 72/150\n",
      "704/704 [==============================] - 10s 14ms/step - loss: 0.0339 - accuracy: 0.7640 - val_loss: 0.0499 - val_accuracy: 0.6228\n",
      "Epoch 73/150\n",
      "704/704 [==============================] - 10s 14ms/step - loss: 0.0336 - accuracy: 0.7683 - val_loss: 0.0561 - val_accuracy: 0.5900\n",
      "Epoch 74/150\n",
      "704/704 [==============================] - 10s 14ms/step - loss: 0.0333 - accuracy: 0.7710 - val_loss: 0.0482 - val_accuracy: 0.6442\n",
      "Epoch 75/150\n",
      "704/704 [==============================] - 10s 14ms/step - loss: 0.0331 - accuracy: 0.7710 - val_loss: 0.0573 - val_accuracy: 0.5790\n",
      "Epoch 76/150\n",
      "704/704 [==============================] - 10s 14ms/step - loss: 0.0326 - accuracy: 0.7750 - val_loss: 0.0489 - val_accuracy: 0.6374\n",
      "Epoch 77/150\n",
      "704/704 [==============================] - 10s 14ms/step - loss: 0.0322 - accuracy: 0.7784 - val_loss: 0.0501 - val_accuracy: 0.6260\n",
      "Epoch 78/150\n",
      "704/704 [==============================] - 10s 14ms/step - loss: 0.0318 - accuracy: 0.7807 - val_loss: 0.0451 - val_accuracy: 0.6674\n",
      "Epoch 79/150\n",
      "704/704 [==============================] - 10s 14ms/step - loss: 0.0317 - accuracy: 0.7828 - val_loss: 0.0474 - val_accuracy: 0.6480\n",
      "Epoch 80/150\n",
      "704/704 [==============================] - 10s 14ms/step - loss: 0.0310 - accuracy: 0.7897 - val_loss: 0.0530 - val_accuracy: 0.6074\n",
      "Epoch 81/150\n",
      "704/704 [==============================] - 10s 14ms/step - loss: 0.0308 - accuracy: 0.7905 - val_loss: 0.0685 - val_accuracy: 0.5264\n",
      "Epoch 82/150\n",
      "704/704 [==============================] - 10s 14ms/step - loss: 0.0306 - accuracy: 0.7927 - val_loss: 0.0494 - val_accuracy: 0.6406\n",
      "Epoch 83/150\n",
      "704/704 [==============================] - 10s 14ms/step - loss: 0.0303 - accuracy: 0.7950 - val_loss: 0.0523 - val_accuracy: 0.6190\n",
      "Epoch 84/150\n",
      "704/704 [==============================] - 10s 14ms/step - loss: 0.0298 - accuracy: 0.7970 - val_loss: 0.0509 - val_accuracy: 0.6314\n",
      "Epoch 85/150\n",
      "704/704 [==============================] - 10s 14ms/step - loss: 0.0294 - accuracy: 0.8020 - val_loss: 0.0473 - val_accuracy: 0.6486\n",
      "Epoch 86/150\n",
      "704/704 [==============================] - 10s 14ms/step - loss: 0.0292 - accuracy: 0.8013 - val_loss: 0.0518 - val_accuracy: 0.6258\n",
      "Epoch 87/150\n",
      "704/704 [==============================] - 10s 14ms/step - loss: 0.0288 - accuracy: 0.8064 - val_loss: 0.0533 - val_accuracy: 0.6136\n",
      "Epoch 88/150\n",
      "704/704 [==============================] - 10s 14ms/step - loss: 0.0283 - accuracy: 0.8106 - val_loss: 0.0457 - val_accuracy: 0.6600\n",
      "Epoch 89/150\n",
      "704/704 [==============================] - 10s 14ms/step - loss: 0.0281 - accuracy: 0.8126 - val_loss: 0.0599 - val_accuracy: 0.5672\n",
      "Epoch 90/150\n",
      "704/704 [==============================] - 10s 14ms/step - loss: 0.0277 - accuracy: 0.8165 - val_loss: 0.0517 - val_accuracy: 0.6308\n",
      "Epoch 91/150\n",
      "704/704 [==============================] - 10s 14ms/step - loss: 0.0273 - accuracy: 0.8194 - val_loss: 0.0803 - val_accuracy: 0.4434\n",
      "Epoch 92/150\n",
      "704/704 [==============================] - 10s 14ms/step - loss: 0.0270 - accuracy: 0.8217 - val_loss: 0.0524 - val_accuracy: 0.6142\n",
      "Epoch 93/150\n",
      "704/704 [==============================] - 10s 14ms/step - loss: 0.0265 - accuracy: 0.8258 - val_loss: 0.0460 - val_accuracy: 0.6638\n",
      "Epoch 94/150\n",
      "704/704 [==============================] - 10s 14ms/step - loss: 0.0264 - accuracy: 0.8255 - val_loss: 0.0508 - val_accuracy: 0.6390\n",
      "Epoch 95/150\n",
      "704/704 [==============================] - 10s 14ms/step - loss: 0.0258 - accuracy: 0.8301 - val_loss: 0.0440 - val_accuracy: 0.6808\n",
      "Epoch 96/150\n",
      "704/704 [==============================] - 10s 14ms/step - loss: 0.0255 - accuracy: 0.8335 - val_loss: 0.0518 - val_accuracy: 0.6240\n",
      "Epoch 97/150\n",
      "704/704 [==============================] - 10s 14ms/step - loss: 0.0250 - accuracy: 0.8383 - val_loss: 0.0540 - val_accuracy: 0.6016\n",
      "Epoch 98/150\n",
      "704/704 [==============================] - 10s 14ms/step - loss: 0.0248 - accuracy: 0.8388 - val_loss: 0.0471 - val_accuracy: 0.6574\n",
      "Epoch 99/150\n",
      "704/704 [==============================] - 10s 14ms/step - loss: 0.0244 - accuracy: 0.8405 - val_loss: 0.0453 - val_accuracy: 0.6694\n",
      "Epoch 100/150\n",
      "704/704 [==============================] - 10s 14ms/step - loss: 0.0238 - accuracy: 0.8466 - val_loss: 0.0563 - val_accuracy: 0.5990\n",
      "Epoch 101/150\n",
      "704/704 [==============================] - 10s 14ms/step - loss: 0.0238 - accuracy: 0.8475 - val_loss: 0.0721 - val_accuracy: 0.5048\n",
      "Epoch 102/150\n",
      "704/704 [==============================] - 10s 14ms/step - loss: 0.0236 - accuracy: 0.8475 - val_loss: 0.0531 - val_accuracy: 0.6196\n",
      "Epoch 103/150\n",
      "704/704 [==============================] - 10s 14ms/step - loss: 0.0228 - accuracy: 0.8552 - val_loss: 0.0619 - val_accuracy: 0.5636\n",
      "Epoch 104/150\n",
      "704/704 [==============================] - 10s 14ms/step - loss: 0.0228 - accuracy: 0.8542 - val_loss: 0.0510 - val_accuracy: 0.6324\n",
      "Epoch 105/150\n",
      "704/704 [==============================] - 10s 14ms/step - loss: 0.0224 - accuracy: 0.8553 - val_loss: 0.0723 - val_accuracy: 0.5132\n",
      "Epoch 106/150\n",
      "704/704 [==============================] - 10s 14ms/step - loss: 0.0220 - accuracy: 0.8635 - val_loss: 0.0436 - val_accuracy: 0.6824\n",
      "Epoch 107/150\n",
      "704/704 [==============================] - 10s 14ms/step - loss: 0.0187 - accuracy: 0.8883 - val_loss: 0.0436 - val_accuracy: 0.6832\n",
      "Epoch 108/150\n",
      "704/704 [==============================] - 10s 14ms/step - loss: 0.0185 - accuracy: 0.8893 - val_loss: 0.0436 - val_accuracy: 0.6828\n",
      "Epoch 109/150\n",
      "704/704 [==============================] - 10s 14ms/step - loss: 0.0184 - accuracy: 0.8900 - val_loss: 0.0436 - val_accuracy: 0.6832\n",
      "Epoch 110/150\n",
      "704/704 [==============================] - 10s 14ms/step - loss: 0.0183 - accuracy: 0.8903 - val_loss: 0.0436 - val_accuracy: 0.6828\n",
      "Epoch 111/150\n",
      "704/704 [==============================] - 10s 14ms/step - loss: 0.0183 - accuracy: 0.8908 - val_loss: 0.0436 - val_accuracy: 0.6832\n",
      "Epoch 112/150\n",
      "704/704 [==============================] - 10s 14ms/step - loss: 0.0182 - accuracy: 0.8911 - val_loss: 0.0437 - val_accuracy: 0.6834\n",
      "Epoch 113/150\n"
     ]
    },
    {
     "name": "stdout",
     "output_type": "stream",
     "text": [
      "704/704 [==============================] - 10s 14ms/step - loss: 0.0182 - accuracy: 0.8914 - val_loss: 0.0437 - val_accuracy: 0.6832\n",
      "Epoch 114/150\n",
      "704/704 [==============================] - 10s 14ms/step - loss: 0.0181 - accuracy: 0.8917 - val_loss: 0.0437 - val_accuracy: 0.6830\n",
      "Epoch 115/150\n",
      "704/704 [==============================] - 10s 14ms/step - loss: 0.0181 - accuracy: 0.8918 - val_loss: 0.0437 - val_accuracy: 0.6842\n",
      "Epoch 116/150\n",
      "704/704 [==============================] - 10s 14ms/step - loss: 0.0181 - accuracy: 0.8922 - val_loss: 0.0438 - val_accuracy: 0.6846\n",
      "Epoch 117/150\n",
      "704/704 [==============================] - 10s 14ms/step - loss: 0.0180 - accuracy: 0.8923 - val_loss: 0.0438 - val_accuracy: 0.6832\n",
      "Epoch 118/150\n",
      "704/704 [==============================] - 10s 14ms/step - loss: 0.0180 - accuracy: 0.8924 - val_loss: 0.0438 - val_accuracy: 0.6836\n",
      "Epoch 119/150\n",
      "704/704 [==============================] - 10s 14ms/step - loss: 0.0180 - accuracy: 0.8930 - val_loss: 0.0438 - val_accuracy: 0.6830\n",
      "Epoch 120/150\n",
      "704/704 [==============================] - 10s 14ms/step - loss: 0.0180 - accuracy: 0.8929 - val_loss: 0.0438 - val_accuracy: 0.6830\n",
      "Epoch 121/150\n",
      "704/704 [==============================] - 10s 14ms/step - loss: 0.0180 - accuracy: 0.8931 - val_loss: 0.0439 - val_accuracy: 0.6840\n",
      "Epoch 122/150\n",
      "704/704 [==============================] - 10s 14ms/step - loss: 0.0179 - accuracy: 0.8934 - val_loss: 0.0438 - val_accuracy: 0.6822\n",
      "Epoch 123/150\n",
      "704/704 [==============================] - 10s 14ms/step - loss: 0.0179 - accuracy: 0.8933 - val_loss: 0.0439 - val_accuracy: 0.6836\n",
      "Epoch 124/150\n",
      "704/704 [==============================] - 10s 14ms/step - loss: 0.0179 - accuracy: 0.8938 - val_loss: 0.0439 - val_accuracy: 0.6830\n",
      "Epoch 125/150\n",
      "704/704 [==============================] - 10s 14ms/step - loss: 0.0179 - accuracy: 0.8934 - val_loss: 0.0439 - val_accuracy: 0.6832\n",
      "Epoch 126/150\n",
      "704/704 [==============================] - 10s 14ms/step - loss: 0.0179 - accuracy: 0.8938 - val_loss: 0.0439 - val_accuracy: 0.6830\n",
      "Epoch 127/150\n",
      "704/704 [==============================] - 10s 14ms/step - loss: 0.0179 - accuracy: 0.8941 - val_loss: 0.0439 - val_accuracy: 0.6830\n",
      "Epoch 128/150\n",
      "704/704 [==============================] - 10s 14ms/step - loss: 0.0178 - accuracy: 0.8942 - val_loss: 0.0440 - val_accuracy: 0.6824\n",
      "Epoch 129/150\n",
      "704/704 [==============================] - 10s 14ms/step - loss: 0.0178 - accuracy: 0.8941 - val_loss: 0.0440 - val_accuracy: 0.6830\n",
      "Epoch 130/150\n",
      "704/704 [==============================] - 10s 14ms/step - loss: 0.0178 - accuracy: 0.8942 - val_loss: 0.0439 - val_accuracy: 0.6830\n",
      "Epoch 131/150\n",
      "704/704 [==============================] - 10s 14ms/step - loss: 0.0178 - accuracy: 0.8945 - val_loss: 0.0440 - val_accuracy: 0.6834\n",
      "Epoch 132/150\n",
      "704/704 [==============================] - 10s 14ms/step - loss: 0.0178 - accuracy: 0.8946 - val_loss: 0.0440 - val_accuracy: 0.6842\n",
      "Epoch 133/150\n",
      "704/704 [==============================] - 10s 14ms/step - loss: 0.0178 - accuracy: 0.8949 - val_loss: 0.0439 - val_accuracy: 0.6812\n",
      "Epoch 134/150\n",
      "704/704 [==============================] - 10s 14ms/step - loss: 0.0178 - accuracy: 0.8947 - val_loss: 0.0440 - val_accuracy: 0.6824\n",
      "Epoch 135/150\n",
      "704/704 [==============================] - 10s 14ms/step - loss: 0.0177 - accuracy: 0.8950 - val_loss: 0.0440 - val_accuracy: 0.6826\n",
      "Epoch 136/150\n",
      "704/704 [==============================] - 10s 14ms/step - loss: 0.0177 - accuracy: 0.8952 - val_loss: 0.0440 - val_accuracy: 0.6828\n",
      "Epoch 137/150\n",
      "704/704 [==============================] - 10s 14ms/step - loss: 0.0177 - accuracy: 0.8952 - val_loss: 0.0440 - val_accuracy: 0.6828\n",
      "Epoch 138/150\n",
      "704/704 [==============================] - 10s 14ms/step - loss: 0.0177 - accuracy: 0.8952 - val_loss: 0.0440 - val_accuracy: 0.6830\n",
      "Epoch 139/150\n",
      "704/704 [==============================] - 10s 14ms/step - loss: 0.0177 - accuracy: 0.8956 - val_loss: 0.0440 - val_accuracy: 0.6824\n",
      "Epoch 140/150\n",
      "704/704 [==============================] - 10s 14ms/step - loss: 0.0177 - accuracy: 0.8954 - val_loss: 0.0441 - val_accuracy: 0.6824\n",
      "Epoch 141/150\n",
      "704/704 [==============================] - 10s 14ms/step - loss: 0.0177 - accuracy: 0.8954 - val_loss: 0.0440 - val_accuracy: 0.6830\n",
      "Epoch 142/150\n",
      "704/704 [==============================] - 10s 14ms/step - loss: 0.0177 - accuracy: 0.8954 - val_loss: 0.0441 - val_accuracy: 0.6816\n",
      "Epoch 143/150\n",
      "704/704 [==============================] - 10s 14ms/step - loss: 0.0177 - accuracy: 0.8957 - val_loss: 0.0441 - val_accuracy: 0.6824\n",
      "Epoch 144/150\n",
      "704/704 [==============================] - 10s 14ms/step - loss: 0.0176 - accuracy: 0.8957 - val_loss: 0.0441 - val_accuracy: 0.6830\n",
      "Epoch 145/150\n",
      "704/704 [==============================] - 10s 14ms/step - loss: 0.0176 - accuracy: 0.8959 - val_loss: 0.0441 - val_accuracy: 0.6838\n",
      "Epoch 146/150\n",
      "704/704 [==============================] - 10s 14ms/step - loss: 0.0176 - accuracy: 0.8962 - val_loss: 0.0441 - val_accuracy: 0.6828\n",
      "Epoch 147/150\n",
      "704/704 [==============================] - 10s 14ms/step - loss: 0.0176 - accuracy: 0.8961 - val_loss: 0.0441 - val_accuracy: 0.6818\n",
      "Epoch 148/150\n",
      "704/704 [==============================] - 10s 14ms/step - loss: 0.0176 - accuracy: 0.8963 - val_loss: 0.0441 - val_accuracy: 0.6830\n",
      "Epoch 149/150\n",
      "704/704 [==============================] - 10s 14ms/step - loss: 0.0176 - accuracy: 0.8966 - val_loss: 0.0441 - val_accuracy: 0.6802\n",
      "Epoch 150/150\n",
      "704/704 [==============================] - 10s 14ms/step - loss: 0.0176 - accuracy: 0.8964 - val_loss: 0.0441 - val_accuracy: 0.6816\n"
     ]
    },
    {
     "data": {
      "text/plain": [
       "<tensorflow.python.keras.callbacks.History at 0x7f587c74c6a0>"
      ]
     },
     "execution_count": 25,
     "metadata": {},
     "output_type": "execute_result"
    }
   ],
   "source": [
    "# model = tf.keras.models.load_model('./vgg-19-cifar10-lr-schedule.h5')\n",
    "model.fit(x_train_all, y_train_all, batch_size=batch_size, epochs=150, validation_split=0.1, callbacks=[callback])"
   ]
  },
  {
   "cell_type": "code",
   "execution_count": 19,
   "metadata": {},
   "outputs": [],
   "source": [
    "tmp = onp.load('./cifar-untargeted-variance-fgsm.npy')"
   ]
  },
  {
   "cell_type": "code",
   "execution_count": 20,
   "metadata": {},
   "outputs": [],
   "source": [
    "clean_x = onp.load('./cifar-clean-x.npy')\n",
    "clean_y = onp.load('./cifar-clean-y.npy')"
   ]
  },
  {
   "cell_type": "code",
   "execution_count": 21,
   "metadata": {},
   "outputs": [
    {
     "name": "stdout",
     "output_type": "stream",
     "text": [
      "4/4 [==============================] - 1s 296ms/step - loss: 1.6793 - accuracy: 0.8047\n"
     ]
    },
    {
     "data": {
      "text/plain": [
       "[1.679345726966858, 0.8046875]"
      ]
     },
     "execution_count": 21,
     "metadata": {},
     "output_type": "execute_result"
    }
   ],
   "source": [
    "model.evaluate(clean_x, clean_y)"
   ]
  },
  {
   "cell_type": "code",
   "execution_count": 22,
   "metadata": {},
   "outputs": [],
   "source": [
    "tmp = onp.load('./cifar-untargeted-simple-fgsm.npy')"
   ]
  },
  {
   "cell_type": "code",
   "execution_count": 23,
   "metadata": {},
   "outputs": [
    {
     "name": "stdout",
     "output_type": "stream",
     "text": [
      "4/4 [==============================] - 0s 8ms/step - loss: 4.0191 - accuracy: 0.5391\n"
     ]
    },
    {
     "data": {
      "text/plain": [
       "[4.019050121307373, 0.5390625]"
      ]
     },
     "execution_count": 23,
     "metadata": {},
     "output_type": "execute_result"
    }
   ],
   "source": [
    "model.evaluate(tmp, clean_y)"
   ]
  },
  {
   "cell_type": "code",
   "execution_count": 21,
   "metadata": {},
   "outputs": [
    {
     "name": "stdout",
     "output_type": "stream",
     "text": [
      "4/4 [==============================] - 0s 14ms/step - loss: 1.9319 - accuracy: 0.7344\n"
     ]
    },
    {
     "data": {
      "text/plain": [
       "[1.9318859577178955, 0.734375]"
      ]
     },
     "execution_count": 21,
     "metadata": {},
     "output_type": "execute_result"
    }
   ],
   "source": [
    "model.evaluate(tmp, clean_y)"
   ]
  },
  {
   "cell_type": "code",
   "execution_count": 20,
   "metadata": {},
   "outputs": [
    {
     "data": {
      "text/plain": [
       "array([0.05399792])"
      ]
     },
     "execution_count": 20,
     "metadata": {},
     "output_type": "execute_result"
    }
   ],
   "source": [
    "sum(onp.argmax(model(tmp), axis=1)[onp.argmax(model(x_test), axis=1) == onp.argmax(y_test, axis=1)]==0) /\\\n",
    "onp.argmax(model(x_test), axis=1)[onp.argmax(model(x_test), axis=1) == onp.argmax(y_test, axis=1)].shape"
   ]
  }
 ],
 "metadata": {
  "kernelspec": {
   "display_name": "Python 3",
   "language": "python",
   "name": "python3"
  },
  "language_info": {
   "codemirror_mode": {
    "name": "ipython",
    "version": 3
   },
   "file_extension": ".py",
   "mimetype": "text/x-python",
   "name": "python",
   "nbconvert_exporter": "python",
   "pygments_lexer": "ipython3",
   "version": "3.6.9"
  }
 },
 "nbformat": 4,
 "nbformat_minor": 2
}
