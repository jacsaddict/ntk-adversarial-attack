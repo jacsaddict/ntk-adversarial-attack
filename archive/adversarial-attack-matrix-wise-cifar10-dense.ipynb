{
 "cells": [
  {
   "cell_type": "code",
   "execution_count": 1,
   "metadata": {},
   "outputs": [],
   "source": [
    "import numpy as onp\n",
    "import jax.numpy as np\n",
    "\n",
    "from jax import lax, random\n",
    "from jax.api import grad, jit, vmap\n",
    "from jax.config import config\n",
    "from jax.experimental import optimizers\n",
    "\n",
    "config.update('jax_enable_x64', True)\n",
    "\n",
    "from functools import partial\n",
    "from jax import random\n",
    "\n",
    "from neural_tangents import stax\n",
    "\n",
    "# Attacking\n",
    "from jax.experimental.stax import logsoftmax\n",
    "from cleverhans.utils import clip_eta, one_hot\n",
    "\n",
    "# Plotting\n",
    "from IPython.display import set_matplotlib_formats\n",
    "set_matplotlib_formats('pdf', 'svg')\n",
    "import matplotlib.pyplot as plt\n",
    "import seaborn as sns\n",
    "from mpl_toolkits.axes_grid1 import make_axes_locatable\n",
    "\n",
    "from utils import *\n",
    "sns.set_style(style='white')\n",
    "colors = plt.rcParams['axes.prop_cycle'].by_key()['color']\n",
    "\n",
    "\"\"\"\n",
    "diag_reg:\n",
    "    a scalar representing the strength of the diagonal regularization for\n",
    "    `k_train_train`, i.e. computing `k_train_train + diag_reg * I` during\n",
    "    Cholesky factorization or eigendecomposition.\n",
    "\"\"\"\n",
    "diag_reg = 1e-4\n",
    "batch_size = 30"
   ]
  },
  {
   "cell_type": "code",
   "execution_count": 2,
   "metadata": {},
   "outputs": [],
   "source": [
    "x_train_all, y_train_all, x_test_all, y_test_all = tuple(onp.array(x) for x in get_dataset('cifar10', None, None, \n",
    "                                                                                  do_flatten_and_normalize=False))"
   ]
  },
  {
   "cell_type": "code",
   "execution_count": 3,
   "metadata": {},
   "outputs": [],
   "source": [
    "seed = 0\n",
    "x_train_all, y_train_all = shaffle(x_train_all, y_train_all, seed)"
   ]
  },
  {
   "cell_type": "code",
   "execution_count": 4,
   "metadata": {},
   "outputs": [],
   "source": [
    "train_size = 256\n",
    "x_train = x_train_all[:train_size]\n",
    "y_train = y_train_all[:train_size]\n",
    "\n",
    "test_size = 256\n",
    "x_test = x_test_all[:test_size]\n",
    "y_test = y_test_all[:test_size]\n",
    "\n",
    "shape = (x_train.shape[0], 32, 32, 3)"
   ]
  },
  {
   "cell_type": "code",
   "execution_count": 5,
   "metadata": {},
   "outputs": [],
   "source": [
    "x_train = np.asarray(x_train)\n",
    "y_train = np.asarray(y_train)\n",
    "\n",
    "x_test = np.asarray(x_test)\n",
    "y_test = np.asarray(y_test)"
   ]
  },
  {
   "cell_type": "markdown",
   "metadata": {},
   "source": [
    "# Objective - Matrix"
   ]
  },
  {
   "cell_type": "code",
   "execution_count": 6,
   "metadata": {},
   "outputs": [],
   "source": [
    "def accuracy(mean, ys):\n",
    "    return np.mean(np.argmax(mean, axis=-1) == np.argmax(ys, axis=-1))"
   ]
  },
  {
   "cell_type": "code",
   "execution_count": 7,
   "metadata": {},
   "outputs": [],
   "source": [
    "def DenseBlock(neurons, W_std, b_std):\n",
    "    return stax.serial(stax.Dense(neurons, W_std, b_std), \n",
    "                       stax.Erf())\n",
    "\n",
    "def DenseGroup(n, neurons, W_std, b_std):\n",
    "    blocks = []\n",
    "    for _ in range(n):\n",
    "        blocks += [DenseBlock(neurons, W_std, b_std)]\n",
    "    return stax.serial(*blocks)"
   ]
  },
  {
   "cell_type": "raw",
   "metadata": {},
   "source": [
    "# b = 0.05\n",
    "b = 0.18\n",
    "W = [1., 1.76, 2.5]\n",
    "phase_list = ['Ordered', 'Critical', 'Chaotic']\n",
    "layers = np.arange(19, 100, 20)\n",
    "layer = 5\n",
    "num_classes = 10\n",
    "\n",
    "kernel_list = []\n",
    "fx_train_0_list = []\n",
    "fx_test_0_list = []\n",
    "\n",
    "key = random.PRNGKey(0)\n",
    "\n",
    "b_std = np.sqrt(b)\n",
    "for w in W:\n",
    "    W_std = np.sqrt(w)\n",
    "\n",
    "    init_fn, apply_fn, kernel_fn = stax.serial(DenseGroup(layer, 1024, W_std, b_std))\n",
    "    \n",
    "    # Inference with a single infinite width / linearized network\n",
    "    apply_fn = jit(apply_fn)\n",
    "    kernel_fn = jit(kernel_fn, static_argnums=(2,))\n",
    "    kernel_list.append(kernel_fn)"
   ]
  },
  {
   "cell_type": "code",
   "execution_count": 8,
   "metadata": {},
   "outputs": [],
   "source": [
    "def model_fn(kernel_fn, obj_fn, x_train=None, x_test=None, fx_train_0=0., fx_test_0=0., t=None):\n",
    "    # Kernel\n",
    "    ntk_train_train = kernel_fn(x_train, x_train, 'ntk')\n",
    "    \n",
    "    if obj_fn == 'train':\n",
    "        return ntk_train_train\n",
    "    elif obj_fn == 'test':\n",
    "        ntk_test_train = kernel_fn(x_test, x_train, 'ntk')\n",
    "        # Prediction\n",
    "        predict_fn = nt.predict.gradient_descent_mse(ntk_train_train, y_train, diag_reg=diag_reg) # no convariance\n",
    "        return predict_fn(t, fx_train_0, fx_test_0, ntk_test_train) # fx_train_0, fx_test_0 = (0, 0) for infinite width\n",
    "    else:\n",
    "        raise ValueError(\"Objective function must be either train(ntk_train_train) or test(predict_fn)\")"
   ]
  },
  {
   "cell_type": "code",
   "execution_count": 9,
   "metadata": {},
   "outputs": [],
   "source": [
    "@jit\n",
    "def l2_loss_v1(logits, labels, weighting=1):\n",
    "    \"\"\"\n",
    "    Tensorflow version of L2 loss (without sqrt)\n",
    "    \"\"\"\n",
    "    return np.sum(((logits - labels)**2) * weighting) / 2\n",
    "    \n",
    "@jit\n",
    "def l2_loss_v2(logits, lables):\n",
    "    \"\"\"\n",
    "    Normal L2 loss\n",
    "    \"\"\"\n",
    "    return np.linalg.norm(logits - labels)\n",
    "\n",
    "@jit\n",
    "def cross_entropy_loss(logits, lables):\n",
    "    return -np.sum(logsoftmax(logits) * lables)\n",
    "    \n",
    "@jit\n",
    "def mse_loss(logits, lables):\n",
    "    return 0.5 * np.mean((logits - lables) ** 2)"
   ]
  },
  {
   "cell_type": "code",
   "execution_count": 10,
   "metadata": {},
   "outputs": [],
   "source": [
    "def train_loss_adv(x_train, y, kernel_fn, weighting):\n",
    "    # Compute NTK on training data\n",
    "    ntk_train_train = kernel_fn(x_train, x_train, 'ntk')\n",
    "    loss = - l2_loss_v1(ntk_train_train, y, weighting) # y = matrix of 1 / diagnal\n",
    "    return loss\n",
    "\n",
    "# train_grads_fn = grad(train_loss_adv)\n",
    "train_grads_fn = jit(grad(train_loss_adv), static_argnums=(2,)) # static arg: expanding {if / else} loops for graph mode"
   ]
  },
  {
   "cell_type": "code",
   "execution_count": 11,
   "metadata": {},
   "outputs": [],
   "source": [
    "def test_loss_adv_matrix(x_train, x_test, kernel_fn, c, t=None):\n",
    "    # Kernel -> matrix of constant c\n",
    "    # assert type(c) == int\n",
    "    \n",
    "    ntk_train_train = kernel_fn(x_train, x_train, 'ntk')\n",
    "    ntk_test_train = kernel_fn(x_test, x_train, 'ntk')\n",
    "    \n",
    "    # Θ(test, train)Θ(train, train)^-1\n",
    "    def inv(k):\n",
    "        #inverse with diag_reg\n",
    "        return np.linalg.inv(k + diag_reg * np.eye(k.shape[0]))\n",
    "    \n",
    "    mean_predictor = np.einsum('ij,jk->ik', ntk_test_train, inv(ntk_train_train))\n",
    "    \n",
    "    # Loss\n",
    "    loss = - l2_loss_v1(mean_predictor, np.ones_like(mean_predictor)*c)\n",
    "    return loss\n",
    "\n",
    "test_grads_fn = jit(grad(test_loss_adv_matrix, argnums=0), static_argnums=(2,))\n",
    "test_c_grads_fn = jit(grad(test_loss_adv_matrix, argnums=3), static_argnums=(2,))"
   ]
  },
  {
   "cell_type": "code",
   "execution_count": 12,
   "metadata": {},
   "outputs": [
    {
     "name": "stdout",
     "output_type": "stream",
     "text": [
      "[[0.1 0.4]\n",
      " [0.3 0.8]]\n",
      "\n",
      "\n",
      "[[0.1 0.2]\n",
      " [0.6 0.8]]\n"
     ]
    }
   ],
   "source": [
    "a = onp.asarray(a=[\n",
    "    [1,2],\n",
    "    [3,4]\n",
    "], dtype=onp.float32)\n",
    "b = onp.asarray(a=[\n",
    "    [.1,.2]\n",
    "], dtype=onp.float32)\n",
    "\n",
    "print(a*b)\n",
    "print('\\n')\n",
    "print(a*b.T)"
   ]
  },
  {
   "cell_type": "code",
   "execution_count": 13,
   "metadata": {},
   "outputs": [
    {
     "data": {
      "text/plain": [
       "(1, 2)"
      ]
     },
     "execution_count": 13,
     "metadata": {},
     "output_type": "execute_result"
    }
   ],
   "source": [
    "tmp = np.asarray(a=[1,2])\n",
    "\n",
    "b.shape"
   ]
  },
  {
   "cell_type": "code",
   "execution_count": 14,
   "metadata": {},
   "outputs": [],
   "source": [
    "def test_loss_adv_col(x_train, x_test, kernel_fn, c, t=None):\n",
    "    \"\"\"\n",
    "    Kernel -> matrix with constant cols\n",
    "    \n",
    "    c is a vector of constant. c.shape should be (1, ndim)\n",
    "    \n",
    "    \"\"\" \n",
    "    assert c.shape[0] == 1\n",
    "    assert len(c.shape) == 2\n",
    "    \n",
    "    ntk_train_train = kernel_fn(x_train, x_train, 'ntk')\n",
    "    ntk_test_train = kernel_fn(x_test, x_train, 'ntk')\n",
    "    \n",
    "    # Θ(test, train)Θ(train, train)^-1\n",
    "    #inverse with diag_reg\n",
    "    def inv(k):\n",
    "        return np.linalg.inv(k + diag_reg * np.eye(k.shape[0]))\n",
    "    \n",
    "    mean_predictor = np.einsum('ij,jk->ik', ntk_test_train, inv(ntk_train_train))\n",
    "    \n",
    "    # Loss\n",
    "    loss = - l2_loss_v1(mean_predictor, np.ones_like(mean_predictor)*c)\n",
    "    return loss\n",
    "\n",
    "test_col_wise_grads_fn = jit(grad(test_loss_adv_col, argnums=0), static_argnums=(2,))\n",
    "test_col_wise_c_grads_fn = jit(grad(test_loss_adv_col, argnums=3), static_argnums=(2,))"
   ]
  },
  {
   "cell_type": "code",
   "execution_count": 15,
   "metadata": {},
   "outputs": [],
   "source": [
    "def test_loss_adv_row(x_train, x_test, kernel_fn, c, t=None):\n",
    "    \"\"\"\n",
    "    Kernel -> matrix with constant rows\n",
    "    \n",
    "    c is a vector of constant. c.shape should be (1, ndim)\n",
    "    \n",
    "    \"\"\" \n",
    "    assert c.shape[0] == 1\n",
    "    assert len(c.shape) == 2\n",
    "    \n",
    "    ntk_train_train = kernel_fn(x_train, x_train, 'ntk')\n",
    "    ntk_test_train = kernel_fn(x_test, x_train, 'ntk')\n",
    "    \n",
    "    # Θ(test, train)Θ(train, train)^-1\n",
    "    # inverse with diag_reg\n",
    "    def inv(k):\n",
    "        return np.linalg.inv(k + diag_reg * np.eye(k.shape[0]))\n",
    "    \n",
    "    mean_predictor = np.einsum('ij,jk->ik', ntk_test_train, inv(ntk_train_train))\n",
    "    \n",
    "    # Loss\n",
    "    loss = - l2_loss_v1(mean_predictor, np.ones_like(mean_predictor)*c)\n",
    "    return loss\n",
    "\n",
    "test_row_wise_grads_fn = jit(grad(test_loss_adv_row, argnums=0), static_argnums=(2,))\n",
    "test_row_wise_c_grads_fn = jit(grad(test_loss_adv_row, argnums=3), static_argnums=(2,))"
   ]
  },
  {
   "cell_type": "code",
   "execution_count": 16,
   "metadata": {},
   "outputs": [],
   "source": [
    "def test_pred_loss_adv(x_train, x_test, y_train, y, kernel_fn, loss='mse', t=None):\n",
    "    \"\"\" update {Kernel_M,N x Kernel_N,N x (dynamic of t)} \"\"\"\n",
    "    \n",
    "    ntk_train_train = kernel_fn(x_train, x_train, 'ntk')\n",
    "    ntk_test_train = kernel_fn(x_test, x_train, 'ntk')\n",
    "    \n",
    "    # Prediction\n",
    "    predict_fn = nt.predict.gradient_descent_mse(ntk_train_train, y_train, diag_reg=diag_reg) # diag_reg: add to easier inverse\n",
    "    fx = predict_fn(t, 0., 0., ntk_test_train)[1]\n",
    "    \n",
    "    # Loss\n",
    "    if loss == 'cross-entropy':\n",
    "        loss = cross_entropy_loss(fx, y)\n",
    "    elif loss == 'mse':\n",
    "        loss = mse_loss(fx, y)\n",
    "    return loss\n",
    "\n",
    "test_pred_grads_fn = jit(grad(test_pred_loss_adv, argnums=0), static_argnums=(4, 5))"
   ]
  },
  {
   "cell_type": "code",
   "execution_count": 17,
   "metadata": {},
   "outputs": [],
   "source": [
    "def fast_gradient_method(model_fn, kernel_fn, obj_fn, grads_fn, grads_c_fn=None, x_train=None, y_train=None, x_test=None, \n",
    "                         y=None, t=None, c=None, update_c=False, loss='cross-entropy', loss_weighting=None, phase=None, \n",
    "                         fx_train_0=0., fx_test_0=0., eps=0.3, norm=np.inf, clip_min=None, clip_max=None, targeted=False):\n",
    "    \"\"\"\n",
    "    JAX implementation of the Fast Gradient Method.\n",
    "    :param model_fn: a callable that takes an input tensor and returns the model logits.\n",
    "    :param x: input tensor.\n",
    "    :param eps: epsilon (input variation parameter); see https://arxiv.org/abs/1412.6572.\n",
    "    :param norm: Order of the norm (mimics NumPy). Possible values: np.inf or 2.\n",
    "    :param clip_min: (optional) float. Minimum float value for adversarial example components.\n",
    "    :param clip_max: (optional) float. Maximum float value for adversarial example components.\n",
    "    :param y: (optional) Tensor with one-hot true labels. If targeted is true, then provide the\n",
    "            target one-hot label. Otherwise, only provide this parameter if you'd like to use true\n",
    "            labels when crafting adversarial samples. Otherwise, model predictions are used\n",
    "            as labels to avoid the \"label leaking\" effect (explained in this paper:\n",
    "            https://arxiv.org/abs/1611.01236). Default is None. This argument does not have\n",
    "            to be a binary one-hot label (e.g., [0, 1, 0, 0]), it can be floating points values\n",
    "            that sum up to 1 (e.g., [0.05, 0.85, 0.05, 0.05]).\n",
    "    :param targeted: (optional) bool. Is the attack targeted or untargeted?\n",
    "            Untargeted, the default, will try to make the label incorrect.\n",
    "            Targeted will instead try to move in the direction of being more like y.\n",
    "    :return: a tensor for the adversarial example\n",
    "    \"\"\"\n",
    "    if norm not in [np.inf, 2]:\n",
    "        raise ValueError(\"Norm order must be either np.inf or 2.\")\n",
    "        \n",
    "    x = x_test\n",
    "    # Obtain y\n",
    "    if obj_fn == 'test':\n",
    "        if y is None:\n",
    "            # Using model predictions as ground truth to avoid label leaking\n",
    "            x_labels = np.argmax(model_fn(kernel_fn, 'test', x_train, x_test, fx_train_0, fx_test_0)[1], 1)\n",
    "            y = one_hot(x_labels, 10)\n",
    "            \n",
    "    elif obj_fn == 'train':\n",
    "        if y is None:\n",
    "            # Compute NTK on training data\n",
    "            ntk_train_train = model_fn(kernel_fn=kernel_fn, obj_fn='train', x_train=x_train)\n",
    "            \n",
    "            # Construct diagonal\n",
    "            if phase == 'ordered':\n",
    "                y = np.ones(ntk_train_train.shape)*100\n",
    "            elif phase == 'chaotic':\n",
    "                y = np.eye(ntk_train_train.shape[0])*100\n",
    "            else:\n",
    "                raise ValueError(\"Phase must be either 'ordered' or 'critical'\")\n",
    "    \n",
    "    # Obtain gradient\n",
    "    # Obj - Θ(train, train)\n",
    "    if obj_fn == 'train':\n",
    "        grads = grads_fn(x_train, y, kernel_fn, loss_weighting)\n",
    "        \n",
    "    # Obj - Θ(test, train)Θ(train, train)^-1\n",
    "    elif obj_fn == 'test_c':\n",
    "        grads = 0\n",
    "        grads_c = 0\n",
    "        for i in range(int(len(x_test)/batch_size)):\n",
    "            grads += grads_fn(x_train, x_test[batch_size*i:batch_size*(i+1)], kernel_fn, c, t)\n",
    "            if update_c is True:\n",
    "                grads_c += grads_c_fn(x_train, x_test[batch_size*i:batch_size*(i+1)], kernel_fn, c, t)\n",
    "                \n",
    "        grads_c = 3e-6 * np.sign(grads_c) # grads_c = 5e-2 * np.sign(grads_c)\n",
    "        \n",
    "        \n",
    "    # Obj - Θ(test, train)Θ(train, train)^-1 y_train\n",
    "    elif obj_fn == 'test':\n",
    "        grads = 0\n",
    "        for i in range(int(len(x_test)/batch_size)):\n",
    "            batch_grads = grads_fn(x_train, \n",
    "                                   x_test[batch_size*i:batch_size*(i+1)], \n",
    "                                   y_train, \n",
    "                                   y[batch_size*i:batch_size*(i+1)], \n",
    "                                   kernel_fn, \n",
    "                                   loss,\n",
    "                                   t)\n",
    "            grads += batch_grads\n",
    "    else:\n",
    "        raise ValueError(\"Objective function must be either train(ntk_train_train) or test(predict_fn)\")\n",
    "\n",
    "    axis = list(range(1, len(grads.shape)))\n",
    "    eps_div = 1e-12\n",
    "    \n",
    "    if norm == np.inf:\n",
    "        perturbation = eps * np.sign(grads)\n",
    "    elif norm == 1:\n",
    "        raise NotImplementedError(\"L_1 norm has not been implemented yet.\")\n",
    "    elif norm == 2:\n",
    "        square = np.maximum(eps_div, np.sum(np.square(grads), axis=axis, keepdims=True))\n",
    "        perturbation = grads / np.sqrt(square)\n",
    "    \n",
    "    adv_x = x + perturbation\n",
    "    \n",
    "    # If clipping is needed, reset all values outside of [clip_min, clip_max]\n",
    "    if (clip_min is not None) or (clip_max is not None):\n",
    "        # We don't currently support one-sided clipping\n",
    "        assert clip_min is not None and clip_max is not None\n",
    "        adv_x = np.clip(adv_x, a_min=clip_min, a_max=clip_max)\n",
    "    \n",
    "    if obj_fn == 'test_c':\n",
    "        c += grads_c\n",
    "        \n",
    "        return adv_x, c\n",
    "    \n",
    "    return adv_x"
   ]
  },
  {
   "cell_type": "code",
   "execution_count": 18,
   "metadata": {},
   "outputs": [],
   "source": [
    "def projected_gradient_descent(model_fn, kernel_fn, obj_fn, grads_fn, grads_c_fn=None, x_train=None, y_train=None,\n",
    "                               x_test=None, y=None, t=None, c=None, update_c=None, loss='cross-entropy', loss_weighting=None, \n",
    "                               phase=None, fx_train_0=0., fx_test_0=0., eps=0.3, eps_iter=0.03, nb_iter=10, norm=np.inf, \n",
    "                               clip_min=None, clip_max=None, targeted=False, rand_init=None, rand_minmax=0.3):\n",
    "    \"\"\"\n",
    "    This class implements either the Basic Iterative Method\n",
    "    (Kurakin et al. 2016) when rand_init is set to 0. or the\n",
    "    Madry et al. (2017) method when rand_minmax is larger than 0.\n",
    "    Paper link (Kurakin et al. 2016): https://arxiv.org/pdf/1607.02533.pdf\n",
    "    Paper link (Madry et al. 2017): https://arxiv.org/pdf/1706.06083.pdf\n",
    "    :param model_fn: a callable that takes an input tensor and returns the model logits.\n",
    "    :param x: input tensor.\n",
    "    :param eps: epsilon (input variation parameter); see https://arxiv.org/abs/1412.6572.\n",
    "    :param eps_iter: step size for each attack iteration\n",
    "    :param nb_iter: Number of attack iterations.\n",
    "    :param norm: Order of the norm (mimics NumPy). Possible values: np.inf or 2.\n",
    "    :param clip_min: (optional) float. Minimum float value for adversarial example components.\n",
    "    :param clip_max: (optional) float. Maximum float value for adversarial example components.\n",
    "    :param y: (optional) Tensor with true labels. If targeted is true, then provide the\n",
    "            target label. Otherwise, only provide this parameter if you'd like to use true\n",
    "            labels when crafting adversarial samples. Otherwise, model predictions are used\n",
    "            as labels to avoid the \"label leaking\" effect (explained in this paper:\n",
    "            https://arxiv.org/abs/1611.01236). Default is None.\n",
    "    :param targeted: (optional) bool. Is the attack targeted or untargeted?\n",
    "            Untargeted, the default, will try to make the label incorrect.\n",
    "            Targeted will instead try to move in the direction of being more like y.\n",
    "    :return: a tensor for the adversarial example\n",
    "    \"\"\"\n",
    "\n",
    "    assert eps_iter <= eps, (eps_iter, eps)\n",
    "    if norm == 1:\n",
    "        raise NotImplementedError(\"It's not clear that FGM is a good inner loop\"\n",
    "                                  \" step for PGD when norm=1, because norm=1 FGM \"\n",
    "                                  \" changes only one pixel at a time. We need \"\n",
    "                                  \" to rigorously test a strong norm=1 PGD \"\n",
    "                                  \"before enabling this feature.\")\n",
    "    if norm not in [np.inf, 2]:\n",
    "        raise ValueError(\"Norm order must be either np.inf or 2.\")\n",
    "        \n",
    "    x = x_test\n",
    "    # Obtain y\n",
    "    if obj_fn == 'test':\n",
    "        if y is None:\n",
    "            # Using model predictions as ground truth to avoid label leaking\n",
    "            x_labels = np.argmax(model_fn(kernel_fn, 'test', x_train, x_test, fx_train_0, fx_test_0)[1], 1)\n",
    "            y = one_hot(x_labels, 10)\n",
    "            \n",
    "    elif obj_fn == 'train':\n",
    "        if y is None:\n",
    "            # Compute NTK on training data\n",
    "            ntk_train_train = model_fn(kernel_fn=kernel_fn, obj_fn='train', x_train=x_train)\n",
    "            \n",
    "            # Construct diagonal\n",
    "            if phase == 'ordered':\n",
    "                y = np.ones(ntk_train_train.shape)*100\n",
    "            elif phase == 'chaotic':\n",
    "                y = np.eye(ntk_train_train.shape[0])*100\n",
    "            else:\n",
    "                raise ValueError(\"Phase must be either 'ordered' or 'critical'\")\n",
    "        \n",
    "    # Initialize loop variables\n",
    "    if rand_init:\n",
    "        rand_minmax = eps\n",
    "        eta = random.uniform(new_key, x.shape, minval=-rand_minmax, maxval=rand_minmax)\n",
    "    else:\n",
    "        eta = np.zeros_like(x)\n",
    "\n",
    "    # Clip eta\n",
    "    eta = clip_eta(eta, norm, eps)\n",
    "    adv_x = x + eta\n",
    "    if clip_min is not None or clip_max is not None:\n",
    "        adv_x = np.clip(adv_x, a_min=clip_min, a_max=clip_max)\n",
    "        \n",
    "    for i in range(nb_iter):\n",
    "        if update_c is not None and (i+1) % update_c == 0:\n",
    "            adv_x = fast_gradient_method(model_fn, kernel_fn, obj_fn, grads_fn, grads_c_fn, x_train, y_train, adv_x, \n",
    "                                         y, t, c, True, loss, loss_weighting, phase, fx_train_0, fx_test_0, eps_iter, norm, \n",
    "                                         clip_min, clip_max, targeted)\n",
    "        else:\n",
    "            adv_x = fast_gradient_method(model_fn, kernel_fn, obj_fn, grads_fn, grads_c_fn, x_train, y_train, adv_x, \n",
    "                                         y, t, c, False, loss, loss_weighting, phase, fx_train_0, fx_test_0, eps_iter, norm, \n",
    "                                         clip_min, clip_max, targeted)\n",
    "        \n",
    "        if obj_fn == 'test_c':\n",
    "            adv_x, c = adv_x\n",
    "\n",
    "        # Clipping perturbation eta to norm norm ball\n",
    "        eta = adv_x - x\n",
    "        eta = clip_eta(eta, norm, eps)\n",
    "        adv_x = x + eta\n",
    "\n",
    "        # Redo the clipping.\n",
    "        # FGM already did it, but subtracting and re-adding eta can add some\n",
    "        # small numerical error.\n",
    "        if clip_min is not None or clip_max is not None:\n",
    "            adv_x = np.clip(adv_x, a_min=clip_min, a_max=clip_max)\n",
    "\n",
    "    if obj_fn == 'test_c':\n",
    "        return adv_x, c\n",
    "    \n",
    "    return adv_x"
   ]
  },
  {
   "cell_type": "code",
   "execution_count": 19,
   "metadata": {},
   "outputs": [],
   "source": [
    "# b = 0.05\n",
    "b = 0.18\n",
    "W = [1., 1.76, 2.5]\n",
    "phase_list = ['Ordered', 'Critical', 'Chaotic']\n",
    "layers = np.arange(19, 100, 20)\n",
    "layer = 50\n",
    "num_classes = 10\n",
    "\n",
    "kernel_list = []\n",
    "fx_train_0_list = []\n",
    "fx_test_0_list = []\n",
    "\n",
    "key = random.PRNGKey(0)\n",
    "\n",
    "b_std = np.sqrt(b)\n",
    "for w in W:\n",
    "    W_std = np.sqrt(w)\n",
    "\n",
    "    init_fn, apply_fn, kernel_fn = stax.serial(DenseGroup(layer, 1024, W_std, b_std))\n",
    "    \n",
    "    # Inference with a single infinite width / linearized network\n",
    "    apply_fn = jit(apply_fn)\n",
    "    kernel_fn = jit(kernel_fn, static_argnums=(2,))\n",
    "    kernel_list.append(kernel_fn)"
   ]
  },
  {
   "cell_type": "code",
   "execution_count": 20,
   "metadata": {},
   "outputs": [],
   "source": [
    "# for idx, kernel_fn in enumerate(kernel_list):\n",
    "#     print(phase_list[idx])\n",
    "#     print(kernel_fn(x_train, x_train, 'ntk')[:4, :4])\n",
    "#     print()"
   ]
  },
  {
   "cell_type": "markdown",
   "metadata": {},
   "source": [
    "# Attack Hyperparameters"
   ]
  },
  {
   "cell_type": "code",
   "execution_count": 21,
   "metadata": {},
   "outputs": [],
   "source": [
    "attack_type = [\"Clean\", \"FGSM\", \"PGD-10\", \"PGD-100\"]\n",
    "\n",
    "####### MNIST #######\n",
    "# eps = 0.3\n",
    "# eps_iter_10 = 0.04\n",
    "# eps_iter_100 = 0.004\n",
    "####### MNIST #######\n",
    "\n",
    "####### CIFAR #######\n",
    "eps = 16/255\n",
    "eps_iter_10 = (eps/10)*1.1\n",
    "eps_iter_100 = (eps/100)*1.1\n",
    "####### CIFAR #######\n",
    "\n",
    "val_size = 1200\n",
    "\n",
    "# x_train_all is on host device\n",
    "x_val = x_train_all[train_size:train_size+val_size]\n",
    "y_val = y_train_all[train_size:train_size+val_size]\n",
    "\n",
    "# to gpu\n",
    "x_val = np.asarray(x_val)\n",
    "y_val = np.asarray(y_val)"
   ]
  },
  {
   "cell_type": "markdown",
   "metadata": {},
   "source": [
    "# Variance"
   ]
  },
  {
   "cell_type": "code",
   "execution_count": 22,
   "metadata": {},
   "outputs": [],
   "source": [
    "def mean_predictor(x_train, x_test, kernel_fn, c=None):\n",
    "    \"\"\"\n",
    "    return Θ(test, train)Θ(train, train)^-1 and \n",
    "    || # Θ(test, train)Θ(train, train)^-1 - target ||\n",
    "    \n",
    "    \"\"\"\n",
    "    # Kernel\n",
    "    ntk_train_train = kernel_fn(x_train, x_train, 'ntk')\n",
    "    ntk_test_train = kernel_fn(x_test, x_train, 'ntk')\n",
    "    \n",
    "    # Θ(test, train)Θ(train, train)^-1\n",
    "    def inv(k):\n",
    "        return np.linalg.inv(k + diag_reg * np.eye(k.shape[0]))\n",
    "    mean_predictor = np.einsum('ij,jk->ik', ntk_test_train, inv(ntk_train_train))\n",
    "    \n",
    "    if c is None:\n",
    "        c = np.mean(mean_predictor)\n",
    "    \n",
    "    # Loss\n",
    "    loss = l2_loss_v1(mean_predictor, np.ones_like(mean_predictor)*c)\n",
    "    return loss, mean_predictor"
   ]
  },
  {
   "cell_type": "code",
   "execution_count": 23,
   "metadata": {},
   "outputs": [],
   "source": [
    "def mean_predictor_row_col_wise(x_train, x_test, kernel_fn, c=None, row=False, col=False):\n",
    "    \"\"\"\n",
    "    return Θ(test, train)Θ(train, train)^-1 and \n",
    "    || # Θ(test, train)Θ(train, train)^-1 - target ||\n",
    "    \n",
    "    \"\"\"\n",
    "    if not row and not col:\n",
    "        raise ValueError(\"at least one of row or col should be true\")\n",
    "    # Kernel\n",
    "    ntk_train_train = kernel_fn(x_train, x_train, 'ntk')\n",
    "    ntk_test_train = kernel_fn(x_test, x_train, 'ntk')\n",
    "    \n",
    "    # Θ(test, train)Θ(train, train)^-1\n",
    "    def inv(k):\n",
    "        return np.linalg.inv(k + diag_reg * np.eye(k.shape[0]))\n",
    "    mean_predictor = np.einsum('ij,jk->ik', ntk_test_train, inv(ntk_train_train))\n",
    "    loss = 0.0\n",
    "    if c is None:\n",
    "        if row:\n",
    "            c = np.mean(mean_predictor, axis=1)\n",
    "            c = np.reshape(c, (1, -1))\n",
    "            loss = l2_loss_v1(mean_predictor, np.ones_like(mean_predictor)*c.T)\n",
    "        else:\n",
    "            c = np.mean(mean_predictor, axis=0)\n",
    "            loss = l2_loss_v1(mean_predictor, np.ones_like(mean_predictor)*c)\n",
    "    \n",
    "    return loss, mean_predictor"
   ]
  },
  {
   "cell_type": "raw",
   "metadata": {},
   "source": [
    "a = np.asarray([[1.,2.],\n",
    "                [3.,4.]])\n",
    "\n",
    "c = np.mean(a, axis=1)\n",
    "c = np.reshape(c, (1, -1))\n",
    "print(l2_loss_v1(a, np.ones_like(a)*c.T))\n",
    "a = np.asarray([[1.,2.],\n",
    "                [3.,4.]])\n",
    "\n",
    "c = np.mean(a, axis=0)\n",
    "print(l2_loss_v1(a, np.ones_like(a)*c))\n",
    "print(l2_loss_v1(a, np.ones_like(a)*np.mean(a)))"
   ]
  },
  {
   "cell_type": "raw",
   "metadata": {},
   "source": [
    "b = 0.05\n",
    "b = 0.18\n",
    "W = [1., 1.76, 2.5]\n",
    "phase_list = ['Ordered', 'Critical', 'Chaotic']\n",
    "layers = np.arange(19, 100, 20)\n",
    "layer = 100\n",
    "num_classes = 10\n",
    "\n",
    "kernel_list = []\n",
    "fx_train_0_list = []\n",
    "fx_test_0_list = []\n",
    "\n",
    "key = random.PRNGKey(0)\n",
    "\n",
    "b_std = np.sqrt(b)\n",
    "for w in W:\n",
    "    W_std = np.sqrt(w)\n",
    "\n",
    "    init_fn, apply_fn, kernel_fn = stax.serial(DenseGroup(layer, 1024, W_std, b_std))\n",
    "    \n",
    "    # Inference with a single infinite width / linearized network\n",
    "    apply_fn = jit(apply_fn)\n",
    "    kernel_fn = jit(kernel_fn, static_argnums=(2,))\n",
    "    kernel_list.append(kernel_fn)"
   ]
  },
  {
   "cell_type": "raw",
   "metadata": {},
   "source": [
    "for idx, kernel_fn in enumerate(kernel_list):\n",
    "    l, m = mean_predictor(x_train, x_val, kernel_fn)\n",
    "    print(phase_list[idx])\n",
    "    print(\"Mean: {:.8f}, Loss: {:.8f}\".format(np.mean(m), l))\n",
    "    print(m[:5, :5])\n",
    "    print()"
   ]
  },
  {
   "cell_type": "raw",
   "metadata": {},
   "source": [
    "for idx, kernel_fn in enumerate(kernel_list):\n",
    "    l, m = mean_predictor_row_col_wise(x_train, x_val, kernel_fn, row=True)\n",
    "    print(phase_list[idx])\n",
    "    print(\"Mean: {:.8f}, Loss: {:.8f}\".format(np.mean(m), l))\n",
    "    print(m[:5, :5])\n",
    "    print()"
   ]
  },
  {
   "cell_type": "code",
   "execution_count": 24,
   "metadata": {},
   "outputs": [],
   "source": [
    "def evaluate(x_train, x_test, model_fn, kernel_fn, t=None, c=0, attack_type=None):\n",
    "    y_train_predict, y_test_predict = model_fn(kernel_fn, 'test', x_train, x_test, t=t)\n",
    "    print(len(y_test_predict))\n",
    "    acc = accuracy(y_test_predict, y_test)\n",
    "    print(\"Robustness({:s}): {:.2f}\".format(attack_type, acc))\n",
    "    \n",
    "    # Mean predictor\n",
    "    l, m = mean_predictor(x_train, x_test, kernel_fn, c)\n",
    "    # print(\"c:{:.8f}, Mean: {:.8f}, Loss: {:.8f}\".format(c_list[idx], np.mean(m), l))\n",
    "    print(m[:5, :5])\n",
    "    print()\n",
    "    print('shape: ', m.shape)\n",
    "    print('mat: ', np.std(m))\n",
    "    print('row: ', np.mean(np.std(m, axis=0)))\n",
    "    print('col: ', np.mean(np.std(m, axis=1)))\n",
    "    return np.mean(m)"
   ]
  },
  {
   "cell_type": "markdown",
   "metadata": {},
   "source": [
    "# train list gen"
   ]
  },
  {
   "cell_type": "code",
   "execution_count": 25,
   "metadata": {},
   "outputs": [],
   "source": [
    "t = None\n",
    "loss_type = ['cross-entropy', 'mse']"
   ]
  },
  {
   "cell_type": "code",
   "execution_count": 26,
   "metadata": {},
   "outputs": [
    {
     "name": "stdout",
     "output_type": "stream",
     "text": [
      "256\n",
      "Robustness(Clean): 0.25\n",
      "[[-4.60302987e-03 -8.32041653e-04 -1.16442867e-03 -1.92085313e-03\n",
      "  -7.40927633e-03]\n",
      " [-1.23323076e-02  5.95170508e-05  1.62647080e-03  7.81265026e-03\n",
      "  -2.26707700e-02]\n",
      " [-1.97441516e-02 -6.77007922e-03 -2.54846396e-03 -5.93173997e-03\n",
      "   1.04543694e-02]\n",
      " [-1.34289547e-04 -2.24043571e-04 -8.33958557e-03 -2.21028641e-03\n",
      "  -4.26692355e-03]\n",
      " [-1.33878357e-02  9.33763277e-04  4.85159741e-05  8.90425599e-05\n",
      "  -7.87863653e-03]]\n",
      "\n",
      "shape:  (256, 256)\n",
      "mat:  0.017159005382208367\n",
      "row:  0.015939209460447582\n",
      "col:  0.01685852525993681\n"
     ]
    }
   ],
   "source": [
    "x_test_list = []\n",
    "c_list = []\n",
    "\n",
    "c_sample = evaluate(x_train, x_test, model_fn=model_fn, kernel_fn=kernel_list[1], t=t, c=0, attack_type='Clean')\n",
    "x_test_list.append(x_test)"
   ]
  },
  {
   "cell_type": "code",
   "execution_count": 27,
   "metadata": {},
   "outputs": [
    {
     "data": {
      "text/plain": [
       "()"
      ]
     },
     "execution_count": 27,
     "metadata": {},
     "output_type": "execute_result"
    }
   ],
   "source": [
    "c_sample.shape"
   ]
  },
  {
   "cell_type": "code",
   "execution_count": 28,
   "metadata": {},
   "outputs": [],
   "source": [
    "# c = onp.abs(onp.random.normal(size=(1, train_size)))\n",
    "# c = np.asarray(c)\n",
    "c = c_sample.reshape((1, 1))"
   ]
  },
  {
   "cell_type": "code",
   "execution_count": 29,
   "metadata": {},
   "outputs": [
    {
     "name": "stdout",
     "output_type": "stream",
     "text": [
      "256\n",
      "Robustness(Clean): 0.25\n",
      "[[-4.60302987e-03 -8.32041653e-04 -1.16442867e-03 -1.92085313e-03\n",
      "  -7.40927633e-03]\n",
      " [-1.23323076e-02  5.95170508e-05  1.62647080e-03  7.81265026e-03\n",
      "  -2.26707700e-02]\n",
      " [-1.97441516e-02 -6.77007922e-03 -2.54846396e-03 -5.93173997e-03\n",
      "   1.04543694e-02]\n",
      " [-1.34289547e-04 -2.24043571e-04 -8.33958557e-03 -2.21028641e-03\n",
      "  -4.26692355e-03]\n",
      " [-1.33878357e-02  9.33763277e-04  4.85159741e-05  8.90425599e-05\n",
      "  -7.87863653e-03]]\n",
      "\n",
      "shape:  (256, 256)\n",
      "mat:  0.017159005382208364\n",
      "row:  0.015939209460447582\n",
      "col:  0.01685852525993681\n",
      "256\n",
      "Robustness(FGSM): 0.25\n",
      "[[-8.41544444e-04 -1.12804903e-03 -1.38917285e-03 -2.63458605e-03\n",
      "  -8.44940277e-03]\n",
      " [-1.28905029e-02  3.97210499e-03  2.59920991e-03  6.63082526e-03\n",
      "  -1.86886460e-02]\n",
      " [-1.73310799e-02 -7.34080861e-03  4.33210193e-03 -4.58569391e-03\n",
      "   2.53263037e-04]\n",
      " [-1.40395521e-03 -9.10890057e-04 -7.85610661e-03 -2.99729398e-03\n",
      "  -4.92923303e-03]\n",
      " [-1.29851230e-02  1.14046971e-03 -9.47038832e-05  4.42608650e-04\n",
      "  -2.90142325e-03]]\n",
      "\n",
      "shape:  (256, 256)\n",
      "mat:  0.01600236890057789\n",
      "row:  0.015020958133278483\n",
      "col:  0.015776223593889013\n",
      "256\n",
      "Robustness(PGD-10): 0.26\n",
      "[[-0.00126316 -0.00102372 -0.00152104 -0.00268374 -0.00865667]\n",
      " [-0.0131655   0.00392059  0.00227407  0.00789987 -0.01884103]\n",
      " [-0.01793845 -0.00726745  0.00332397 -0.00408832 -0.00069747]\n",
      " [-0.00139028 -0.00113999 -0.0078721  -0.00291334 -0.00498146]\n",
      " [-0.0130265   0.00119842 -0.00015767  0.00041862 -0.00267735]]\n",
      "\n",
      "shape:  (256, 256)\n",
      "mat:  0.016157107395443758\n",
      "row:  0.015148910039238756\n",
      "col:  0.01592298038410005\n",
      "256\n",
      "Robustness(PGD-100): 0.26\n",
      "[[-0.00133331 -0.00103008 -0.00153435 -0.00269421 -0.00867721]\n",
      " [-0.01316481  0.0039312   0.00228841  0.00800893 -0.01892875]\n",
      " [-0.01802633 -0.00723493  0.00322197 -0.00410662 -0.00082374]\n",
      " [-0.00138983 -0.00116951 -0.00785784 -0.00288263 -0.00495824]\n",
      " [-0.01304941  0.00120539 -0.00016151  0.0004088  -0.00264252]]\n",
      "\n",
      "shape:  (256, 256)\n",
      "mat:  0.016158851396751644\n",
      "row:  0.015149749699192722\n",
      "col:  0.015924289039103805\n"
     ]
    }
   ],
   "source": [
    "for _ in range(1):\n",
    "    x_test_list = []\n",
    "    c_list = []\n",
    "    \n",
    "    evaluate(x_train, x_test, model_fn=model_fn, kernel_fn=kernel_list[1], t=t, c=0, attack_type='Clean')\n",
    "    x_test_list.append(x_test)\n",
    "    c_list.append(c)\n",
    "\n",
    "    # FGSM\n",
    "    adv_x, c = fast_gradient_method(model_fn=model_fn, kernel_fn=kernel_list[1], obj_fn='test_c', \n",
    "                                    grads_fn=test_grads_fn, grads_c_fn=test_grads_fn,\n",
    "                                    x_train=x_train, y_train=y_train, x_test=x_test, y=y_test, t=t, c=c,\n",
    "                                    loss=loss_type[0], eps=eps, clip_min=0, clip_max=1)\n",
    "    \n",
    "    evaluate(x_train, adv_x, model_fn=model_fn, kernel_fn=kernel_list[1], t=t, c=c, attack_type='FGSM')\n",
    "    x_test_list.append(adv_x)\n",
    "    c_list.append(c)\n",
    "    \n",
    "    # PGD 10\n",
    "    key, new_key = random.split(key)\n",
    "    c = c_sample.reshape((1,1))\n",
    "    adv_x, c = projected_gradient_descent(model_fn=model_fn, kernel_fn=kernel_list[1], obj_fn='test_c', \n",
    "                                          grads_fn=test_grads_fn, grads_c_fn=test_c_grads_fn, x_train=x_train, \n",
    "                                          y_train=y_train, x_test=x_test, y=y_test, t=t, c=c, update_c=3, \n",
    "                                          loss=loss_type[0], eps=eps, eps_iter=eps_iter_10, nb_iter=10, \n",
    "                                          clip_min=0, clip_max=1, rand_init=None, rand_minmax=eps)\n",
    "    \n",
    "    \n",
    "    evaluate(x_train, adv_x, model_fn=model_fn, kernel_fn=kernel_list[1], t=t, c=c, attack_type='PGD-10')\n",
    "    x_test_list.append(adv_x)\n",
    "    c_list.append(c)\n",
    "    \n",
    "    # PGD 100\n",
    "    key, new_key = random.split(key)\n",
    "    c = c_sample.reshape((1,1))\n",
    "    adv_x, c = projected_gradient_descent(model_fn=model_fn, kernel_fn=kernel_list[1], obj_fn='test_c', \n",
    "                                          grads_fn=test_grads_fn, grads_c_fn=test_c_grads_fn,\n",
    "                                          x_train=x_train, y_train=y_train, x_test=x_test, y=y_test, t=t, c=c, update_c=3, \n",
    "                                          loss=loss_type[0], eps=eps, eps_iter=eps_iter_100, nb_iter=100, \n",
    "                                          clip_min=0, clip_max=1, rand_init=None, rand_minmax=eps)\n",
    "    \n",
    "    evaluate(x_train, adv_x, model_fn=model_fn, kernel_fn=kernel_list[1], t=t, c=c, attack_type='PGD-100')\n",
    "    x_test_list.append(adv_x)\n",
    "    c_list.append(c)"
   ]
  },
  {
   "cell_type": "code",
   "execution_count": 30,
   "metadata": {},
   "outputs": [],
   "source": [
    "import matplotlib.pyplot as plt"
   ]
  },
  {
   "cell_type": "code",
   "execution_count": 31,
   "metadata": {},
   "outputs": [
    {
     "data": {
      "text/plain": [
       "<matplotlib.image.AxesImage at 0x7f082bf18dd8>"
      ]
     },
     "execution_count": 31,
     "metadata": {},
     "output_type": "execute_result"
    },
    {
     "data": {
      "image/png": "[encoded data removed]",
      "text/plain": [
       "<Figure size 432x288 with 1 Axes>"
      ]
     },
     "metadata": {
      "needs_background": "light"
     },
     "output_type": "display_data"
    }
   ],
   "source": [
    "plt.imshow(x_test_list[0][6].reshape((32 ,32, 3)))"
   ]
  },
  {
   "cell_type": "code",
   "execution_count": 32,
   "metadata": {},
   "outputs": [
    {
     "data": {
      "text/plain": [
       "<matplotlib.image.AxesImage at 0x7f082b9c4f28>"
      ]
     },
     "execution_count": 32,
     "metadata": {},
     "output_type": "execute_result"
    },
    {
     "data": {
      "image/png": "[encoded data removed]",
      "text/plain": [
       "<Figure size 432x288 with 1 Axes>"
      ]
     },
     "metadata": {
      "needs_background": "light"
     },
     "output_type": "display_data"
    }
   ],
   "source": [
    "plt.imshow(x_test_list[1][6].reshape((32 ,32, 3)))"
   ]
  },
  {
   "cell_type": "code",
   "execution_count": 33,
   "metadata": {},
   "outputs": [
    {
     "data": {
      "text/plain": [
       "<matplotlib.image.AxesImage at 0x7f082b974908>"
      ]
     },
     "execution_count": 33,
     "metadata": {},
     "output_type": "execute_result"
    },
    {
     "data": {
      "image/png": "[encoded data removed]",
      "text/plain": [
       "<Figure size 432x288 with 1 Axes>"
      ]
     },
     "metadata": {
      "needs_background": "light"
     },
     "output_type": "display_data"
    }
   ],
   "source": [
    "plt.imshow(x_test_list[2][6].reshape((32 ,32, 3)))"
   ]
  },
  {
   "cell_type": "code",
   "execution_count": 34,
   "metadata": {},
   "outputs": [
    {
     "data": {
      "text/plain": [
       "<matplotlib.image.AxesImage at 0x7f082b9a1dd8>"
      ]
     },
     "execution_count": 34,
     "metadata": {},
     "output_type": "execute_result"
    },
    {
     "data": {
      "image/png": "[encoded data removed]",
      "text/plain": [
       "<Figure size 432x288 with 1 Axes>"
      ]
     },
     "metadata": {
      "needs_background": "light"
     },
     "output_type": "display_data"
    }
   ],
   "source": [
    "plt.imshow(x_test_list[3][6].reshape((32 ,32, 3)))"
   ]
  },
  {
   "cell_type": "code",
   "execution_count": null,
   "metadata": {},
   "outputs": [],
   "source": [
    "\n"
   ]
  }
 ],
 "metadata": {
  "kernelspec": {
   "display_name": "Python 3",
   "language": "python",
   "name": "python3"
  },
  "language_info": {
   "codemirror_mode": {
    "name": "ipython",
    "version": 3
   },
   "file_extension": ".py",
   "mimetype": "text/x-python",
   "name": "python",
   "nbconvert_exporter": "python",
   "pygments_lexer": "ipython3",
   "version": "3.6.8"
  }
 },
 "nbformat": 4,
 "nbformat_minor": 2
}
