{
 "cells": [
  {
   "cell_type": "code",
   "execution_count": 1,
   "metadata": {},
   "outputs": [],
   "source": [
    "import numpy as onp\n",
    "import tensorflow as tf\n",
    "import matplotlib.pyplot as plt\n",
    "\n",
    "from utils import *"
   ]
  },
  {
   "cell_type": "code",
   "execution_count": 2,
   "metadata": {},
   "outputs": [
    {
     "name": "stdout",
     "output_type": "stream",
     "text": [
      "2 Physical GPUs, 1 Logical GPU\n"
     ]
    }
   ],
   "source": [
    "gpus = tf.config.experimental.list_physical_devices('GPU')\n",
    "if gpus:\n",
    "  # Restrict TensorFlow to only use the first GPU\n",
    "    try:\n",
    "        tf.config.experimental.set_visible_devices(gpus[0], 'GPU')\n",
    "        logical_gpus = tf.config.experimental.list_logical_devices('GPU')\n",
    "        print(len(gpus), \"Physical GPUs,\", len(logical_gpus), \"Logical GPU\")\n",
    "    except RuntimeError as e:\n",
    "    # Visible devices must be set before GPUs have been initialized\n",
    "        print(e)"
   ]
  },
  {
   "cell_type": "markdown",
   "metadata": {},
   "source": [
    "# hyperparameters"
   ]
  },
  {
   "cell_type": "code",
   "execution_count": 3,
   "metadata": {},
   "outputs": [],
   "source": [
    "#data\n",
    "DATASET = 'cifar10'\n",
    "class_num   = 10\n",
    "test_size   = 2048\n",
    "image_shape = None\n",
    "\n",
    "if DATASET =='mnist':\n",
    "    image_shape = (28, 28, 1)\n",
    "elif DATASET == 'cifar10':\n",
    "    image_shape = (32, 32, 3)\n",
    "\n",
    "#training\n",
    "run = 10\n",
    "batch_size = 256\n",
    "epoch = 100"
   ]
  },
  {
   "cell_type": "code",
   "execution_count": 4,
   "metadata": {
    "scrolled": true
   },
   "outputs": [
    {
     "name": "stdout",
     "output_type": "stream",
     "text": [
      "WARNING:tensorflow:The operation `tf.image.convert_image_dtype` will be skipped since the input and output dtypes are identical.\n"
     ]
    },
    {
     "name": "stderr",
     "output_type": "stream",
     "text": [
      "WARNING:tensorflow:The operation `tf.image.convert_image_dtype` will be skipped since the input and output dtypes are identical.\n"
     ]
    },
    {
     "name": "stdout",
     "output_type": "stream",
     "text": [
      "WARNING:tensorflow:The operation `tf.image.convert_image_dtype` will be skipped since the input and output dtypes are identical.\n"
     ]
    },
    {
     "name": "stderr",
     "output_type": "stream",
     "text": [
      "WARNING:tensorflow:The operation `tf.image.convert_image_dtype` will be skipped since the input and output dtypes are identical.\n"
     ]
    },
    {
     "name": "stdout",
     "output_type": "stream",
     "text": [
      "WARNING:tensorflow:The operation `tf.image.convert_image_dtype` will be skipped since the input and output dtypes are identical.\n"
     ]
    },
    {
     "name": "stderr",
     "output_type": "stream",
     "text": [
      "WARNING:tensorflow:The operation `tf.image.convert_image_dtype` will be skipped since the input and output dtypes are identical.\n"
     ]
    },
    {
     "name": "stdout",
     "output_type": "stream",
     "text": [
      "WARNING:tensorflow:The operation `tf.image.convert_image_dtype` will be skipped since the input and output dtypes are identical.\n"
     ]
    },
    {
     "name": "stderr",
     "output_type": "stream",
     "text": [
      "WARNING:tensorflow:The operation `tf.image.convert_image_dtype` will be skipped since the input and output dtypes are identical.\n"
     ]
    },
    {
     "name": "stdout",
     "output_type": "stream",
     "text": [
      "WARNING:tensorflow:The operation `tf.image.convert_image_dtype` will be skipped since the input and output dtypes are identical.\n"
     ]
    },
    {
     "name": "stderr",
     "output_type": "stream",
     "text": [
      "WARNING:tensorflow:The operation `tf.image.convert_image_dtype` will be skipped since the input and output dtypes are identical.\n"
     ]
    },
    {
     "name": "stdout",
     "output_type": "stream",
     "text": [
      "WARNING:tensorflow:The operation `tf.image.convert_image_dtype` will be skipped since the input and output dtypes are identical.\n"
     ]
    },
    {
     "name": "stderr",
     "output_type": "stream",
     "text": [
      "WARNING:tensorflow:The operation `tf.image.convert_image_dtype` will be skipped since the input and output dtypes are identical.\n"
     ]
    },
    {
     "name": "stdout",
     "output_type": "stream",
     "text": [
      "WARNING:tensorflow:The operation `tf.image.convert_image_dtype` will be skipped since the input and output dtypes are identical.\n"
     ]
    },
    {
     "name": "stderr",
     "output_type": "stream",
     "text": [
      "WARNING:tensorflow:The operation `tf.image.convert_image_dtype` will be skipped since the input and output dtypes are identical.\n"
     ]
    },
    {
     "name": "stdout",
     "output_type": "stream",
     "text": [
      "WARNING:tensorflow:The operation `tf.image.convert_image_dtype` will be skipped since the input and output dtypes are identical.\n"
     ]
    },
    {
     "name": "stderr",
     "output_type": "stream",
     "text": [
      "WARNING:tensorflow:The operation `tf.image.convert_image_dtype` will be skipped since the input and output dtypes are identical.\n"
     ]
    }
   ],
   "source": [
    "x_train_all, y_train_all, x_test_all, y_test_all = tuple(onp.array(x) for x in get_dataset(DATASET, None, None, \n",
    "                                                                                  do_flatten_and_normalize=False))"
   ]
  },
  {
   "cell_type": "code",
   "execution_count": 24,
   "metadata": {},
   "outputs": [],
   "source": [
    "FGSM = onp.load('./npy/cifar-targeted-fgsm-x.npy')\n",
    "I_FGSM = onp.load('./npy/cifar-targeted-ifgsm-x.npy')"
   ]
  },
  {
   "cell_type": "code",
   "execution_count": 25,
   "metadata": {},
   "outputs": [],
   "source": [
    "y_test = onp.load(\"./npy/cifar-targeted-clean-y.npy\")"
   ]
  },
  {
   "cell_type": "code",
   "execution_count": 26,
   "metadata": {},
   "outputs": [],
   "source": [
    "x_test = onp.load(\"./npy/cifar-targeted-clean-x.npy\")"
   ]
  },
  {
   "cell_type": "code",
   "execution_count": 27,
   "metadata": {},
   "outputs": [],
   "source": [
    "layers = tf.keras.layers"
   ]
  },
  {
   "cell_type": "code",
   "execution_count": 28,
   "metadata": {},
   "outputs": [],
   "source": [
    "img_input = layers.Input(shape=image_shape)\n",
    "x = layers.Conv2D(64, (3, 3), activation='relu', padding='same')(img_input)\n",
    "x = layers.Conv2D(64, (3, 3), activation='relu', padding='same')(x)\n",
    "x = layers.Conv2D(64, (3, 3), activation='relu', padding='same')(x)\n",
    "x = layers.Flatten()(x)\n",
    "x = layers.Dense(256, activation='relu')(x)\n",
    "out = layers.Dense(10)(x)\n",
    "\n",
    "model = tf.keras.Model(inputs=img_input, outputs=out)"
   ]
  },
  {
   "cell_type": "code",
   "execution_count": 29,
   "metadata": {},
   "outputs": [],
   "source": [
    "def scheduler(epoch, lr):\n",
    "    if epoch < 5:\n",
    "        return 1e-3\n",
    "    elif epoch < 55:\n",
    "        return 1e-2\n",
    "    elif epoch < 75:\n",
    "        return 1e-3\n",
    "    else:\n",
    "        return 1e-4"
   ]
  },
  {
   "cell_type": "code",
   "execution_count": 30,
   "metadata": {},
   "outputs": [],
   "source": [
    "model.compile(optimizer=tf.keras.optimizers.SGD(),\n",
    "              loss=tf.keras.losses.CategoricalCrossentropy(from_logits=True),\n",
    "              metrics=['accuracy'])"
   ]
  },
  {
   "cell_type": "code",
   "execution_count": 31,
   "metadata": {},
   "outputs": [],
   "source": [
    "callback = tf.keras.callbacks.LearningRateScheduler(scheduler)"
   ]
  },
  {
   "cell_type": "code",
   "execution_count": 32,
   "metadata": {},
   "outputs": [
    {
     "name": "stdout",
     "output_type": "stream",
     "text": [
      "Model: \"functional_5\"\n",
      "_________________________________________________________________\n",
      "Layer (type)                 Output Shape              Param #   \n",
      "=================================================================\n",
      "input_3 (InputLayer)         [(None, 32, 32, 3)]       0         \n",
      "_________________________________________________________________\n",
      "conv2d_6 (Conv2D)            (None, 32, 32, 64)        1792      \n",
      "_________________________________________________________________\n",
      "conv2d_7 (Conv2D)            (None, 32, 32, 64)        36928     \n",
      "_________________________________________________________________\n",
      "conv2d_8 (Conv2D)            (None, 32, 32, 64)        36928     \n",
      "_________________________________________________________________\n",
      "flatten_2 (Flatten)          (None, 65536)             0         \n",
      "_________________________________________________________________\n",
      "dense_4 (Dense)              (None, 256)               16777472  \n",
      "_________________________________________________________________\n",
      "dense_5 (Dense)              (None, 10)                2570      \n",
      "=================================================================\n",
      "Total params: 16,855,690\n",
      "Trainable params: 16,855,690\n",
      "Non-trainable params: 0\n",
      "_________________________________________________________________\n"
     ]
    }
   ],
   "source": [
    "model.summary()"
   ]
  },
  {
   "cell_type": "code",
   "execution_count": 33,
   "metadata": {},
   "outputs": [],
   "source": [
    "x_train_all, x_test_all = x_train_all.reshape(-1, 32, 32, 3), x_test_all.reshape(-1, 32, 32, 3)"
   ]
  },
  {
   "cell_type": "code",
   "execution_count": 34,
   "metadata": {
    "scrolled": true
   },
   "outputs": [
    {
     "name": "stdout",
     "output_type": "stream",
     "text": [
      "Epoch 1/200\n",
      "176/176 [==============================] - 5s 29ms/step - loss: 2.2892 - accuracy: 0.1126 - val_loss: 2.2722 - val_accuracy: 0.1268\n",
      "Epoch 2/200\n",
      "176/176 [==============================] - 2s 14ms/step - loss: 2.2524 - accuracy: 0.1522 - val_loss: 2.2256 - val_accuracy: 0.1964\n",
      "Epoch 3/200\n",
      "176/176 [==============================] - 4s 22ms/step - loss: 2.1951 - accuracy: 0.2136 - val_loss: 2.1562 - val_accuracy: 0.2260\n",
      "Epoch 4/200\n",
      "176/176 [==============================] - 2s 13ms/step - loss: 2.1282 - accuracy: 0.2441 - val_loss: 2.1002 - val_accuracy: 0.2564\n",
      "Epoch 5/200\n",
      "176/176 [==============================] - 2s 13ms/step - loss: 2.0755 - accuracy: 0.2676 - val_loss: 2.0499 - val_accuracy: 0.2742\n",
      "Epoch 6/200\n",
      "176/176 [==============================] - 2s 13ms/step - loss: 2.0020 - accuracy: 0.2908 - val_loss: 1.8983 - val_accuracy: 0.3356\n",
      "Epoch 7/200\n",
      "176/176 [==============================] - 2s 13ms/step - loss: 1.7919 - accuracy: 0.3704 - val_loss: 1.7417 - val_accuracy: 0.3800\n",
      "Epoch 8/200\n",
      "176/176 [==============================] - 2s 13ms/step - loss: 1.6853 - accuracy: 0.4082 - val_loss: 1.7083 - val_accuracy: 0.3892\n",
      "Epoch 9/200\n",
      "176/176 [==============================] - 2s 13ms/step - loss: 1.6091 - accuracy: 0.4315 - val_loss: 1.5853 - val_accuracy: 0.4318\n",
      "Epoch 10/200\n",
      "176/176 [==============================] - 2s 13ms/step - loss: 1.5523 - accuracy: 0.4518 - val_loss: 1.5851 - val_accuracy: 0.4432\n",
      "Epoch 11/200\n",
      "176/176 [==============================] - 2s 13ms/step - loss: 1.5000 - accuracy: 0.4731 - val_loss: 1.5178 - val_accuracy: 0.4534\n",
      "Epoch 12/200\n",
      "176/176 [==============================] - 2s 13ms/step - loss: 1.4574 - accuracy: 0.4884 - val_loss: 1.4268 - val_accuracy: 0.4858\n",
      "Epoch 13/200\n",
      "176/176 [==============================] - 2s 13ms/step - loss: 1.4151 - accuracy: 0.5035 - val_loss: 1.4083 - val_accuracy: 0.4968\n",
      "Epoch 14/200\n",
      "176/176 [==============================] - 2s 13ms/step - loss: 1.3872 - accuracy: 0.5147 - val_loss: 1.3902 - val_accuracy: 0.5178\n",
      "Epoch 15/200\n",
      "176/176 [==============================] - 2s 13ms/step - loss: 1.3525 - accuracy: 0.5246 - val_loss: 1.4763 - val_accuracy: 0.4862\n",
      "Epoch 16/200\n",
      "176/176 [==============================] - 2s 13ms/step - loss: 1.3188 - accuracy: 0.5359 - val_loss: 1.3308 - val_accuracy: 0.5326\n",
      "Epoch 17/200\n",
      "176/176 [==============================] - 2s 13ms/step - loss: 1.2864 - accuracy: 0.5484 - val_loss: 1.3157 - val_accuracy: 0.5272\n",
      "Epoch 18/200\n",
      "176/176 [==============================] - 2s 13ms/step - loss: 1.2618 - accuracy: 0.5553 - val_loss: 1.2692 - val_accuracy: 0.5494\n",
      "Epoch 19/200\n",
      "176/176 [==============================] - 2s 13ms/step - loss: 1.2326 - accuracy: 0.5660 - val_loss: 1.2539 - val_accuracy: 0.5566\n",
      "Epoch 20/200\n",
      "176/176 [==============================] - 2s 13ms/step - loss: 1.1983 - accuracy: 0.5780 - val_loss: 1.2606 - val_accuracy: 0.5532\n",
      "Epoch 21/200\n",
      "176/176 [==============================] - 2s 13ms/step - loss: 1.1703 - accuracy: 0.5885 - val_loss: 1.2472 - val_accuracy: 0.5592\n",
      "Epoch 22/200\n",
      "176/176 [==============================] - 2s 13ms/step - loss: 1.1388 - accuracy: 0.6005 - val_loss: 1.2769 - val_accuracy: 0.5536\n",
      "Epoch 23/200\n",
      "176/176 [==============================] - 2s 13ms/step - loss: 1.1200 - accuracy: 0.6088 - val_loss: 1.1899 - val_accuracy: 0.5802\n",
      "Epoch 24/200\n",
      "176/176 [==============================] - 2s 13ms/step - loss: 1.0811 - accuracy: 0.6186 - val_loss: 1.2103 - val_accuracy: 0.5678\n",
      "Epoch 25/200\n",
      "176/176 [==============================] - 2s 13ms/step - loss: 1.0607 - accuracy: 0.6278 - val_loss: 1.1777 - val_accuracy: 0.5778\n",
      "Epoch 26/200\n",
      "176/176 [==============================] - 2s 13ms/step - loss: 1.0172 - accuracy: 0.6435 - val_loss: 1.1786 - val_accuracy: 0.5872\n",
      "Epoch 27/200\n",
      "176/176 [==============================] - 2s 13ms/step - loss: 0.9927 - accuracy: 0.6541 - val_loss: 1.1832 - val_accuracy: 0.5924\n",
      "Epoch 28/200\n",
      "176/176 [==============================] - 2s 13ms/step - loss: 0.9644 - accuracy: 0.6625 - val_loss: 1.2996 - val_accuracy: 0.5462\n",
      "Epoch 29/200\n",
      "176/176 [==============================] - 2s 13ms/step - loss: 0.9329 - accuracy: 0.6746 - val_loss: 1.1478 - val_accuracy: 0.5944\n",
      "Epoch 30/200\n",
      "176/176 [==============================] - 2s 13ms/step - loss: 0.8993 - accuracy: 0.6882 - val_loss: 1.1329 - val_accuracy: 0.6018\n",
      "Epoch 31/200\n",
      "176/176 [==============================] - 2s 13ms/step - loss: 0.8665 - accuracy: 0.6981 - val_loss: 1.1755 - val_accuracy: 0.5936\n",
      "Epoch 32/200\n",
      "176/176 [==============================] - 2s 13ms/step - loss: 0.8418 - accuracy: 0.7054 - val_loss: 1.2160 - val_accuracy: 0.5822\n",
      "Epoch 33/200\n",
      "176/176 [==============================] - 2s 13ms/step - loss: 0.8015 - accuracy: 0.7236 - val_loss: 1.1705 - val_accuracy: 0.5880\n",
      "Epoch 34/200\n",
      "176/176 [==============================] - 2s 13ms/step - loss: 0.7742 - accuracy: 0.7323 - val_loss: 1.2117 - val_accuracy: 0.5898\n",
      "Epoch 35/200\n",
      "176/176 [==============================] - 2s 13ms/step - loss: 0.7298 - accuracy: 0.7498 - val_loss: 1.1934 - val_accuracy: 0.5942\n",
      "Epoch 36/200\n",
      "176/176 [==============================] - 2s 13ms/step - loss: 0.7040 - accuracy: 0.7563 - val_loss: 1.1915 - val_accuracy: 0.6002\n",
      "Epoch 37/200\n",
      "176/176 [==============================] - 2s 13ms/step - loss: 0.6703 - accuracy: 0.7684 - val_loss: 1.1901 - val_accuracy: 0.6102\n",
      "Epoch 38/200\n",
      "176/176 [==============================] - 2s 13ms/step - loss: 0.6321 - accuracy: 0.7834 - val_loss: 1.2500 - val_accuracy: 0.5916\n",
      "Epoch 39/200\n",
      "176/176 [==============================] - 2s 13ms/step - loss: 0.5971 - accuracy: 0.7980 - val_loss: 1.2090 - val_accuracy: 0.6116\n",
      "Epoch 40/200\n",
      "176/176 [==============================] - 2s 13ms/step - loss: 0.5601 - accuracy: 0.8093 - val_loss: 1.2012 - val_accuracy: 0.6092\n",
      "Epoch 41/200\n",
      "176/176 [==============================] - 2s 13ms/step - loss: 0.5217 - accuracy: 0.8244 - val_loss: 1.4416 - val_accuracy: 0.5654\n",
      "Epoch 42/200\n",
      "176/176 [==============================] - 2s 13ms/step - loss: 0.4940 - accuracy: 0.8348 - val_loss: 1.2244 - val_accuracy: 0.6252\n",
      "Epoch 43/200\n",
      "176/176 [==============================] - 2s 13ms/step - loss: 0.4547 - accuracy: 0.8481 - val_loss: 1.2354 - val_accuracy: 0.6220\n",
      "Epoch 44/200\n",
      "176/176 [==============================] - 2s 13ms/step - loss: 0.4198 - accuracy: 0.8628 - val_loss: 1.3819 - val_accuracy: 0.5958\n",
      "Epoch 45/200\n",
      "176/176 [==============================] - 2s 13ms/step - loss: 0.3867 - accuracy: 0.8735 - val_loss: 1.4593 - val_accuracy: 0.5956\n",
      "Epoch 46/200\n",
      "176/176 [==============================] - 2s 13ms/step - loss: 0.3466 - accuracy: 0.8884 - val_loss: 1.3296 - val_accuracy: 0.6164\n",
      "Epoch 47/200\n",
      "176/176 [==============================] - 2s 13ms/step - loss: 0.3095 - accuracy: 0.9012 - val_loss: 1.3755 - val_accuracy: 0.6124\n",
      "Epoch 48/200\n",
      "176/176 [==============================] - 2s 13ms/step - loss: 0.3031 - accuracy: 0.9099 - val_loss: 1.3765 - val_accuracy: 0.6256\n",
      "Epoch 49/200\n",
      "176/176 [==============================] - 2s 13ms/step - loss: 0.2372 - accuracy: 0.9304 - val_loss: 1.4292 - val_accuracy: 0.6196\n",
      "Epoch 50/200\n",
      "176/176 [==============================] - 2s 13ms/step - loss: 0.2197 - accuracy: 0.9361 - val_loss: 1.6936 - val_accuracy: 0.5802\n",
      "Epoch 51/200\n",
      "176/176 [==============================] - 2s 13ms/step - loss: 0.1828 - accuracy: 0.9489 - val_loss: 1.6431 - val_accuracy: 0.6152\n",
      "Epoch 52/200\n",
      "176/176 [==============================] - 2s 13ms/step - loss: 0.1670 - accuracy: 0.9551 - val_loss: 1.6664 - val_accuracy: 0.6046\n",
      "Epoch 53/200\n",
      "176/176 [==============================] - 2s 13ms/step - loss: 0.1262 - accuracy: 0.9680 - val_loss: 1.6361 - val_accuracy: 0.6166\n",
      "Epoch 54/200\n",
      "176/176 [==============================] - 2s 13ms/step - loss: 0.1589 - accuracy: 0.9641 - val_loss: 1.6130 - val_accuracy: 0.6336\n",
      "Epoch 55/200\n",
      "176/176 [==============================] - 2s 13ms/step - loss: 0.1235 - accuracy: 0.9728 - val_loss: 1.6492 - val_accuracy: 0.6262\n",
      "Epoch 56/200\n",
      "176/176 [==============================] - 2s 13ms/step - loss: 0.0530 - accuracy: 0.9941 - val_loss: 1.6486 - val_accuracy: 0.6312\n",
      "Epoch 57/200\n",
      "176/176 [==============================] - 2s 13ms/step - loss: 0.0468 - accuracy: 0.9952 - val_loss: 1.6710 - val_accuracy: 0.6314\n",
      "Epoch 58/200\n",
      "176/176 [==============================] - 2s 13ms/step - loss: 0.0441 - accuracy: 0.9957 - val_loss: 1.6918 - val_accuracy: 0.6302\n",
      "Epoch 59/200\n",
      "176/176 [==============================] - 2s 13ms/step - loss: 0.0420 - accuracy: 0.9960 - val_loss: 1.7069 - val_accuracy: 0.6296\n",
      "Epoch 60/200\n",
      "176/176 [==============================] - 2s 13ms/step - loss: 0.0403 - accuracy: 0.9962 - val_loss: 1.7191 - val_accuracy: 0.6322\n",
      "Epoch 61/200\n",
      "176/176 [==============================] - 2s 13ms/step - loss: 0.0389 - accuracy: 0.9964 - val_loss: 1.7316 - val_accuracy: 0.6294\n",
      "Epoch 62/200\n",
      "176/176 [==============================] - 2s 13ms/step - loss: 0.0376 - accuracy: 0.9965 - val_loss: 1.7439 - val_accuracy: 0.6310\n",
      "Epoch 63/200\n",
      "176/176 [==============================] - 2s 13ms/step - loss: 0.0364 - accuracy: 0.9970 - val_loss: 1.7562 - val_accuracy: 0.6296\n",
      "Epoch 64/200\n",
      "176/176 [==============================] - 2s 13ms/step - loss: 0.0354 - accuracy: 0.9970 - val_loss: 1.7666 - val_accuracy: 0.6290\n",
      "Epoch 65/200\n",
      "176/176 [==============================] - 2s 13ms/step - loss: 0.0345 - accuracy: 0.9972 - val_loss: 1.7777 - val_accuracy: 0.6290\n",
      "Epoch 66/200\n",
      "176/176 [==============================] - 2s 13ms/step - loss: 0.0335 - accuracy: 0.9972 - val_loss: 1.7866 - val_accuracy: 0.6302\n",
      "Epoch 67/200\n",
      "176/176 [==============================] - 2s 13ms/step - loss: 0.0327 - accuracy: 0.9972 - val_loss: 1.7948 - val_accuracy: 0.6296\n",
      "Epoch 68/200\n",
      "176/176 [==============================] - 2s 13ms/step - loss: 0.0319 - accuracy: 0.9975 - val_loss: 1.8034 - val_accuracy: 0.6284\n",
      "Epoch 69/200\n",
      "176/176 [==============================] - 2s 13ms/step - loss: 0.0311 - accuracy: 0.9976 - val_loss: 1.8115 - val_accuracy: 0.6308\n",
      "Epoch 70/200\n",
      "176/176 [==============================] - 2s 13ms/step - loss: 0.0304 - accuracy: 0.9978 - val_loss: 1.8170 - val_accuracy: 0.6306\n",
      "Epoch 71/200\n",
      "176/176 [==============================] - 2s 13ms/step - loss: 0.0298 - accuracy: 0.9978 - val_loss: 1.8270 - val_accuracy: 0.6302\n",
      "Epoch 72/200\n",
      "176/176 [==============================] - 2s 13ms/step - loss: 0.0290 - accuracy: 0.9979 - val_loss: 1.8355 - val_accuracy: 0.6276\n",
      "Epoch 73/200\n",
      "176/176 [==============================] - 2s 13ms/step - loss: 0.0284 - accuracy: 0.9980 - val_loss: 1.8427 - val_accuracy: 0.6294\n",
      "Epoch 74/200\n",
      "176/176 [==============================] - 2s 13ms/step - loss: 0.0278 - accuracy: 0.9981 - val_loss: 1.8514 - val_accuracy: 0.6304\n",
      "Epoch 75/200\n",
      "176/176 [==============================] - 2s 13ms/step - loss: 0.0273 - accuracy: 0.9981 - val_loss: 1.8564 - val_accuracy: 0.6294\n",
      "Epoch 76/200\n",
      "176/176 [==============================] - 2s 13ms/step - loss: 0.0263 - accuracy: 0.9983 - val_loss: 1.8574 - val_accuracy: 0.6300\n",
      "Epoch 77/200\n",
      "176/176 [==============================] - 2s 13ms/step - loss: 0.0262 - accuracy: 0.9983 - val_loss: 1.8584 - val_accuracy: 0.6294\n",
      "Epoch 78/200\n",
      "176/176 [==============================] - 2s 13ms/step - loss: 0.0261 - accuracy: 0.9982 - val_loss: 1.8592 - val_accuracy: 0.6300\n",
      "Epoch 79/200\n",
      "176/176 [==============================] - 2s 13ms/step - loss: 0.0261 - accuracy: 0.9983 - val_loss: 1.8603 - val_accuracy: 0.6302\n",
      "Epoch 80/200\n",
      "176/176 [==============================] - 2s 13ms/step - loss: 0.0260 - accuracy: 0.9983 - val_loss: 1.8609 - val_accuracy: 0.6302\n",
      "Epoch 81/200\n",
      "176/176 [==============================] - 2s 13ms/step - loss: 0.0259 - accuracy: 0.9983 - val_loss: 1.8615 - val_accuracy: 0.6296\n",
      "Epoch 82/200\n",
      "176/176 [==============================] - 2s 13ms/step - loss: 0.0259 - accuracy: 0.9983 - val_loss: 1.8625 - val_accuracy: 0.6302\n",
      "Epoch 83/200\n",
      "176/176 [==============================] - 2s 13ms/step - loss: 0.0258 - accuracy: 0.9983 - val_loss: 1.8634 - val_accuracy: 0.6298\n",
      "Epoch 84/200\n",
      "176/176 [==============================] - 2s 13ms/step - loss: 0.0258 - accuracy: 0.9983 - val_loss: 1.8642 - val_accuracy: 0.6292\n",
      "Epoch 85/200\n",
      "176/176 [==============================] - 2s 13ms/step - loss: 0.0257 - accuracy: 0.9983 - val_loss: 1.8649 - val_accuracy: 0.6298\n",
      "Epoch 86/200\n",
      "176/176 [==============================] - 2s 13ms/step - loss: 0.0257 - accuracy: 0.9983 - val_loss: 1.8655 - val_accuracy: 0.6302\n",
      "Epoch 87/200\n",
      "176/176 [==============================] - 2s 13ms/step - loss: 0.0256 - accuracy: 0.9983 - val_loss: 1.8661 - val_accuracy: 0.6296\n",
      "Epoch 88/200\n",
      "176/176 [==============================] - 2s 13ms/step - loss: 0.0256 - accuracy: 0.9983 - val_loss: 1.8670 - val_accuracy: 0.6300\n",
      "Epoch 89/200\n",
      "176/176 [==============================] - 2s 13ms/step - loss: 0.0255 - accuracy: 0.9984 - val_loss: 1.8678 - val_accuracy: 0.6308\n",
      "Epoch 90/200\n",
      "176/176 [==============================] - 2s 13ms/step - loss: 0.0255 - accuracy: 0.9984 - val_loss: 1.8686 - val_accuracy: 0.6302\n",
      "Epoch 91/200\n",
      "176/176 [==============================] - 2s 13ms/step - loss: 0.0254 - accuracy: 0.9983 - val_loss: 1.8691 - val_accuracy: 0.6300\n",
      "Epoch 92/200\n",
      "176/176 [==============================] - 2s 13ms/step - loss: 0.0254 - accuracy: 0.9984 - val_loss: 1.8699 - val_accuracy: 0.6298\n",
      "Epoch 93/200\n",
      "176/176 [==============================] - 2s 13ms/step - loss: 0.0253 - accuracy: 0.9983 - val_loss: 1.8705 - val_accuracy: 0.6300\n",
      "Epoch 94/200\n",
      "176/176 [==============================] - 2s 13ms/step - loss: 0.0253 - accuracy: 0.9984 - val_loss: 1.8712 - val_accuracy: 0.6304\n",
      "Epoch 95/200\n",
      "176/176 [==============================] - 2s 13ms/step - loss: 0.0252 - accuracy: 0.9984 - val_loss: 1.8719 - val_accuracy: 0.6298\n",
      "Epoch 96/200\n",
      "176/176 [==============================] - 2s 13ms/step - loss: 0.0252 - accuracy: 0.9983 - val_loss: 1.8726 - val_accuracy: 0.6296\n",
      "Epoch 97/200\n",
      "176/176 [==============================] - 2s 13ms/step - loss: 0.0251 - accuracy: 0.9984 - val_loss: 1.8734 - val_accuracy: 0.6300\n",
      "Epoch 98/200\n",
      "176/176 [==============================] - 2s 13ms/step - loss: 0.0251 - accuracy: 0.9984 - val_loss: 1.8741 - val_accuracy: 0.6300\n",
      "Epoch 99/200\n",
      "176/176 [==============================] - 2s 13ms/step - loss: 0.0250 - accuracy: 0.9984 - val_loss: 1.8747 - val_accuracy: 0.6298\n",
      "Epoch 100/200\n",
      "176/176 [==============================] - 2s 13ms/step - loss: 0.0250 - accuracy: 0.9984 - val_loss: 1.8755 - val_accuracy: 0.6294\n",
      "Epoch 101/200\n",
      "176/176 [==============================] - 2s 13ms/step - loss: 0.0249 - accuracy: 0.9984 - val_loss: 1.8763 - val_accuracy: 0.6294\n",
      "Epoch 102/200\n",
      "176/176 [==============================] - 2s 13ms/step - loss: 0.0249 - accuracy: 0.9984 - val_loss: 1.8770 - val_accuracy: 0.6298\n",
      "Epoch 103/200\n",
      "176/176 [==============================] - 2s 13ms/step - loss: 0.0248 - accuracy: 0.9984 - val_loss: 1.8777 - val_accuracy: 0.6300\n",
      "Epoch 104/200\n",
      "176/176 [==============================] - 2s 13ms/step - loss: 0.0248 - accuracy: 0.9984 - val_loss: 1.8783 - val_accuracy: 0.6296\n",
      "Epoch 105/200\n",
      "176/176 [==============================] - 2s 13ms/step - loss: 0.0247 - accuracy: 0.9985 - val_loss: 1.8792 - val_accuracy: 0.6302\n",
      "Epoch 106/200\n",
      "176/176 [==============================] - 2s 13ms/step - loss: 0.0247 - accuracy: 0.9984 - val_loss: 1.8797 - val_accuracy: 0.6300\n",
      "Epoch 107/200\n",
      "176/176 [==============================] - 2s 13ms/step - loss: 0.0246 - accuracy: 0.9984 - val_loss: 1.8804 - val_accuracy: 0.6296\n",
      "Epoch 108/200\n",
      "176/176 [==============================] - 2s 13ms/step - loss: 0.0246 - accuracy: 0.9985 - val_loss: 1.8809 - val_accuracy: 0.6296\n",
      "Epoch 109/200\n",
      "176/176 [==============================] - 2s 13ms/step - loss: 0.0245 - accuracy: 0.9985 - val_loss: 1.8817 - val_accuracy: 0.6298\n",
      "Epoch 110/200\n",
      "176/176 [==============================] - 2s 13ms/step - loss: 0.0245 - accuracy: 0.9985 - val_loss: 1.8823 - val_accuracy: 0.6302\n",
      "Epoch 111/200\n",
      "176/176 [==============================] - 2s 13ms/step - loss: 0.0244 - accuracy: 0.9985 - val_loss: 1.8831 - val_accuracy: 0.6298\n",
      "Epoch 112/200\n",
      "176/176 [==============================] - 2s 13ms/step - loss: 0.0244 - accuracy: 0.9985 - val_loss: 1.8836 - val_accuracy: 0.6296\n",
      "Epoch 113/200\n"
     ]
    },
    {
     "name": "stdout",
     "output_type": "stream",
     "text": [
      "176/176 [==============================] - 2s 13ms/step - loss: 0.0244 - accuracy: 0.9985 - val_loss: 1.8843 - val_accuracy: 0.6292\n",
      "Epoch 114/200\n",
      "176/176 [==============================] - 2s 13ms/step - loss: 0.0243 - accuracy: 0.9985 - val_loss: 1.8850 - val_accuracy: 0.6292\n",
      "Epoch 115/200\n",
      "176/176 [==============================] - 2s 13ms/step - loss: 0.0243 - accuracy: 0.9985 - val_loss: 1.8857 - val_accuracy: 0.6292\n",
      "Epoch 116/200\n",
      "176/176 [==============================] - 2s 13ms/step - loss: 0.0242 - accuracy: 0.9985 - val_loss: 1.8862 - val_accuracy: 0.6288\n",
      "Epoch 117/200\n",
      "176/176 [==============================] - 2s 13ms/step - loss: 0.0242 - accuracy: 0.9985 - val_loss: 1.8871 - val_accuracy: 0.6292\n",
      "Epoch 118/200\n",
      "176/176 [==============================] - 2s 13ms/step - loss: 0.0241 - accuracy: 0.9986 - val_loss: 1.8877 - val_accuracy: 0.6290\n",
      "Epoch 119/200\n",
      "176/176 [==============================] - 2s 13ms/step - loss: 0.0241 - accuracy: 0.9985 - val_loss: 1.8882 - val_accuracy: 0.6288\n",
      "Epoch 120/200\n",
      "176/176 [==============================] - 2s 13ms/step - loss: 0.0240 - accuracy: 0.9986 - val_loss: 1.8889 - val_accuracy: 0.6292\n",
      "Epoch 121/200\n",
      "176/176 [==============================] - 2s 13ms/step - loss: 0.0240 - accuracy: 0.9986 - val_loss: 1.8897 - val_accuracy: 0.6286\n",
      "Epoch 122/200\n",
      "176/176 [==============================] - 2s 13ms/step - loss: 0.0239 - accuracy: 0.9986 - val_loss: 1.8902 - val_accuracy: 0.6288\n",
      "Epoch 123/200\n",
      "176/176 [==============================] - 2s 13ms/step - loss: 0.0239 - accuracy: 0.9986 - val_loss: 1.8909 - val_accuracy: 0.6288\n",
      "Epoch 124/200\n",
      "176/176 [==============================] - 2s 13ms/step - loss: 0.0239 - accuracy: 0.9986 - val_loss: 1.8915 - val_accuracy: 0.6290\n",
      "Epoch 125/200\n",
      "176/176 [==============================] - 2s 13ms/step - loss: 0.0238 - accuracy: 0.9987 - val_loss: 1.8923 - val_accuracy: 0.6288\n",
      "Epoch 126/200\n",
      "176/176 [==============================] - 2s 13ms/step - loss: 0.0238 - accuracy: 0.9986 - val_loss: 1.8928 - val_accuracy: 0.6292\n",
      "Epoch 127/200\n",
      "176/176 [==============================] - 2s 13ms/step - loss: 0.0237 - accuracy: 0.9986 - val_loss: 1.8935 - val_accuracy: 0.6286\n",
      "Epoch 128/200\n",
      "176/176 [==============================] - 2s 13ms/step - loss: 0.0237 - accuracy: 0.9986 - val_loss: 1.8939 - val_accuracy: 0.6296\n",
      "Epoch 129/200\n",
      "176/176 [==============================] - 2s 13ms/step - loss: 0.0236 - accuracy: 0.9986 - val_loss: 1.8947 - val_accuracy: 0.6294\n",
      "Epoch 130/200\n",
      "176/176 [==============================] - 2s 13ms/step - loss: 0.0236 - accuracy: 0.9986 - val_loss: 1.8954 - val_accuracy: 0.6286\n",
      "Epoch 131/200\n",
      "176/176 [==============================] - 2s 13ms/step - loss: 0.0235 - accuracy: 0.9986 - val_loss: 1.8960 - val_accuracy: 0.6288\n",
      "Epoch 132/200\n",
      "176/176 [==============================] - 2s 13ms/step - loss: 0.0235 - accuracy: 0.9987 - val_loss: 1.8966 - val_accuracy: 0.6288\n",
      "Epoch 133/200\n",
      "176/176 [==============================] - 2s 13ms/step - loss: 0.0235 - accuracy: 0.9987 - val_loss: 1.8974 - val_accuracy: 0.6290\n",
      "Epoch 134/200\n",
      "176/176 [==============================] - 2s 13ms/step - loss: 0.0234 - accuracy: 0.9987 - val_loss: 1.8980 - val_accuracy: 0.6288\n",
      "Epoch 135/200\n",
      "176/176 [==============================] - 2s 13ms/step - loss: 0.0234 - accuracy: 0.9987 - val_loss: 1.8986 - val_accuracy: 0.6290\n",
      "Epoch 136/200\n",
      "176/176 [==============================] - 2s 13ms/step - loss: 0.0233 - accuracy: 0.9987 - val_loss: 1.8992 - val_accuracy: 0.6290\n",
      "Epoch 137/200\n",
      "176/176 [==============================] - 2s 13ms/step - loss: 0.0233 - accuracy: 0.9987 - val_loss: 1.9000 - val_accuracy: 0.6286\n",
      "Epoch 138/200\n",
      "176/176 [==============================] - 2s 13ms/step - loss: 0.0232 - accuracy: 0.9987 - val_loss: 1.9006 - val_accuracy: 0.6290\n",
      "Epoch 139/200\n",
      "176/176 [==============================] - 2s 13ms/step - loss: 0.0232 - accuracy: 0.9987 - val_loss: 1.9011 - val_accuracy: 0.6284\n",
      "Epoch 140/200\n",
      "176/176 [==============================] - 2s 13ms/step - loss: 0.0231 - accuracy: 0.9987 - val_loss: 1.9016 - val_accuracy: 0.6288\n",
      "Epoch 141/200\n",
      "176/176 [==============================] - 2s 13ms/step - loss: 0.0231 - accuracy: 0.9987 - val_loss: 1.9023 - val_accuracy: 0.6292\n",
      "Epoch 142/200\n",
      "176/176 [==============================] - 2s 13ms/step - loss: 0.0231 - accuracy: 0.9987 - val_loss: 1.9030 - val_accuracy: 0.6292\n",
      "Epoch 143/200\n",
      "176/176 [==============================] - 2s 13ms/step - loss: 0.0230 - accuracy: 0.9987 - val_loss: 1.9036 - val_accuracy: 0.6286\n",
      "Epoch 144/200\n",
      "176/176 [==============================] - 2s 13ms/step - loss: 0.0230 - accuracy: 0.9987 - val_loss: 1.9041 - val_accuracy: 0.6288\n",
      "Epoch 145/200\n",
      "176/176 [==============================] - 2s 13ms/step - loss: 0.0229 - accuracy: 0.9988 - val_loss: 1.9051 - val_accuracy: 0.6286\n",
      "Epoch 146/200\n",
      "176/176 [==============================] - 2s 13ms/step - loss: 0.0229 - accuracy: 0.9988 - val_loss: 1.9055 - val_accuracy: 0.6288\n",
      "Epoch 147/200\n",
      "176/176 [==============================] - 2s 13ms/step - loss: 0.0229 - accuracy: 0.9988 - val_loss: 1.9062 - val_accuracy: 0.6296\n",
      "Epoch 148/200\n",
      "176/176 [==============================] - 2s 13ms/step - loss: 0.0228 - accuracy: 0.9988 - val_loss: 1.9068 - val_accuracy: 0.6286\n",
      "Epoch 149/200\n",
      "176/176 [==============================] - 2s 13ms/step - loss: 0.0228 - accuracy: 0.9987 - val_loss: 1.9074 - val_accuracy: 0.6292\n",
      "Epoch 150/200\n",
      "176/176 [==============================] - 2s 13ms/step - loss: 0.0227 - accuracy: 0.9988 - val_loss: 1.9082 - val_accuracy: 0.6288\n",
      "Epoch 151/200\n",
      "176/176 [==============================] - 2s 13ms/step - loss: 0.0227 - accuracy: 0.9988 - val_loss: 1.9085 - val_accuracy: 0.6290\n",
      "Epoch 152/200\n",
      "176/176 [==============================] - 2s 13ms/step - loss: 0.0227 - accuracy: 0.9987 - val_loss: 1.9092 - val_accuracy: 0.6290\n",
      "Epoch 153/200\n",
      "176/176 [==============================] - 2s 13ms/step - loss: 0.0226 - accuracy: 0.9988 - val_loss: 1.9098 - val_accuracy: 0.6288\n",
      "Epoch 154/200\n",
      "176/176 [==============================] - 2s 13ms/step - loss: 0.0226 - accuracy: 0.9988 - val_loss: 1.9108 - val_accuracy: 0.6284\n",
      "Epoch 155/200\n",
      "176/176 [==============================] - 2s 13ms/step - loss: 0.0225 - accuracy: 0.9988 - val_loss: 1.9112 - val_accuracy: 0.6294\n",
      "Epoch 156/200\n",
      "176/176 [==============================] - 2s 13ms/step - loss: 0.0225 - accuracy: 0.9987 - val_loss: 1.9117 - val_accuracy: 0.6292\n",
      "Epoch 157/200\n",
      "176/176 [==============================] - 2s 13ms/step - loss: 0.0224 - accuracy: 0.9988 - val_loss: 1.9123 - val_accuracy: 0.6286\n",
      "Epoch 158/200\n",
      "176/176 [==============================] - 2s 13ms/step - loss: 0.0224 - accuracy: 0.9988 - val_loss: 1.9129 - val_accuracy: 0.6292\n",
      "Epoch 159/200\n",
      "176/176 [==============================] - 2s 13ms/step - loss: 0.0224 - accuracy: 0.9988 - val_loss: 1.9137 - val_accuracy: 0.6290\n",
      "Epoch 160/200\n",
      "176/176 [==============================] - 2s 13ms/step - loss: 0.0223 - accuracy: 0.9988 - val_loss: 1.9143 - val_accuracy: 0.6288\n",
      "Epoch 161/200\n",
      "176/176 [==============================] - 2s 13ms/step - loss: 0.0223 - accuracy: 0.9988 - val_loss: 1.9147 - val_accuracy: 0.6286\n",
      "Epoch 162/200\n",
      "176/176 [==============================] - 2s 13ms/step - loss: 0.0222 - accuracy: 0.9988 - val_loss: 1.9154 - val_accuracy: 0.6288\n",
      "Epoch 163/200\n",
      "176/176 [==============================] - 2s 13ms/step - loss: 0.0222 - accuracy: 0.9988 - val_loss: 1.9161 - val_accuracy: 0.6292\n",
      "Epoch 164/200\n",
      "176/176 [==============================] - 2s 13ms/step - loss: 0.0222 - accuracy: 0.9988 - val_loss: 1.9166 - val_accuracy: 0.6290\n",
      "Epoch 165/200\n",
      "176/176 [==============================] - 2s 13ms/step - loss: 0.0221 - accuracy: 0.9988 - val_loss: 1.9171 - val_accuracy: 0.6288\n",
      "Epoch 166/200\n",
      "176/176 [==============================] - 2s 13ms/step - loss: 0.0221 - accuracy: 0.9988 - val_loss: 1.9179 - val_accuracy: 0.6288\n",
      "Epoch 167/200\n",
      "176/176 [==============================] - 2s 13ms/step - loss: 0.0220 - accuracy: 0.9988 - val_loss: 1.9185 - val_accuracy: 0.6292\n",
      "Epoch 168/200\n",
      "176/176 [==============================] - 2s 13ms/step - loss: 0.0220 - accuracy: 0.9988 - val_loss: 1.9191 - val_accuracy: 0.6292\n",
      "Epoch 169/200\n",
      "176/176 [==============================] - 2s 13ms/step - loss: 0.0220 - accuracy: 0.9988 - val_loss: 1.9196 - val_accuracy: 0.6288\n",
      "Epoch 170/200\n",
      "176/176 [==============================] - 2s 13ms/step - loss: 0.0219 - accuracy: 0.9988 - val_loss: 1.9202 - val_accuracy: 0.6290\n",
      "Epoch 171/200\n",
      "176/176 [==============================] - 2s 13ms/step - loss: 0.0219 - accuracy: 0.9988 - val_loss: 1.9207 - val_accuracy: 0.6290\n",
      "Epoch 172/200\n",
      "176/176 [==============================] - 2s 13ms/step - loss: 0.0219 - accuracy: 0.9988 - val_loss: 1.9214 - val_accuracy: 0.6292\n",
      "Epoch 173/200\n",
      "176/176 [==============================] - 2s 13ms/step - loss: 0.0218 - accuracy: 0.9988 - val_loss: 1.9220 - val_accuracy: 0.6294\n",
      "Epoch 174/200\n",
      "176/176 [==============================] - 2s 13ms/step - loss: 0.0218 - accuracy: 0.9988 - val_loss: 1.9226 - val_accuracy: 0.6292\n",
      "Epoch 175/200\n",
      "176/176 [==============================] - 2s 13ms/step - loss: 0.0217 - accuracy: 0.9988 - val_loss: 1.9232 - val_accuracy: 0.6288\n",
      "Epoch 176/200\n",
      "176/176 [==============================] - 2s 13ms/step - loss: 0.0217 - accuracy: 0.9988 - val_loss: 1.9237 - val_accuracy: 0.6288\n",
      "Epoch 177/200\n",
      "176/176 [==============================] - 2s 13ms/step - loss: 0.0217 - accuracy: 0.9989 - val_loss: 1.9244 - val_accuracy: 0.6288\n",
      "Epoch 178/200\n",
      "176/176 [==============================] - 2s 13ms/step - loss: 0.0216 - accuracy: 0.9988 - val_loss: 1.9249 - val_accuracy: 0.6288\n",
      "Epoch 179/200\n",
      "176/176 [==============================] - 2s 13ms/step - loss: 0.0216 - accuracy: 0.9988 - val_loss: 1.9256 - val_accuracy: 0.6290\n",
      "Epoch 180/200\n",
      "176/176 [==============================] - 2s 13ms/step - loss: 0.0215 - accuracy: 0.9988 - val_loss: 1.9261 - val_accuracy: 0.6288\n",
      "Epoch 181/200\n",
      "176/176 [==============================] - 2s 13ms/step - loss: 0.0215 - accuracy: 0.9989 - val_loss: 1.9269 - val_accuracy: 0.6286\n",
      "Epoch 182/200\n",
      "176/176 [==============================] - 2s 13ms/step - loss: 0.0215 - accuracy: 0.9988 - val_loss: 1.9273 - val_accuracy: 0.6288\n",
      "Epoch 183/200\n",
      "176/176 [==============================] - 2s 13ms/step - loss: 0.0214 - accuracy: 0.9989 - val_loss: 1.9279 - val_accuracy: 0.6290\n",
      "Epoch 184/200\n",
      "176/176 [==============================] - 2s 13ms/step - loss: 0.0214 - accuracy: 0.9989 - val_loss: 1.9286 - val_accuracy: 0.6286\n",
      "Epoch 185/200\n",
      "176/176 [==============================] - 2s 13ms/step - loss: 0.0214 - accuracy: 0.9989 - val_loss: 1.9290 - val_accuracy: 0.6288\n",
      "Epoch 186/200\n",
      "176/176 [==============================] - 2s 13ms/step - loss: 0.0213 - accuracy: 0.9989 - val_loss: 1.9297 - val_accuracy: 0.6290\n",
      "Epoch 187/200\n",
      "176/176 [==============================] - 2s 13ms/step - loss: 0.0213 - accuracy: 0.9989 - val_loss: 1.9303 - val_accuracy: 0.6290\n",
      "Epoch 188/200\n",
      "176/176 [==============================] - 2s 13ms/step - loss: 0.0212 - accuracy: 0.9989 - val_loss: 1.9307 - val_accuracy: 0.6290\n",
      "Epoch 189/200\n",
      "176/176 [==============================] - 2s 13ms/step - loss: 0.0212 - accuracy: 0.9989 - val_loss: 1.9312 - val_accuracy: 0.6288\n",
      "Epoch 190/200\n",
      "176/176 [==============================] - 2s 13ms/step - loss: 0.0212 - accuracy: 0.9988 - val_loss: 1.9320 - val_accuracy: 0.6292\n",
      "Epoch 191/200\n",
      "176/176 [==============================] - 2s 13ms/step - loss: 0.0211 - accuracy: 0.9989 - val_loss: 1.9325 - val_accuracy: 0.6290\n",
      "Epoch 192/200\n",
      "176/176 [==============================] - 2s 13ms/step - loss: 0.0211 - accuracy: 0.9989 - val_loss: 1.9332 - val_accuracy: 0.6290\n",
      "Epoch 193/200\n",
      "176/176 [==============================] - 2s 13ms/step - loss: 0.0211 - accuracy: 0.9989 - val_loss: 1.9338 - val_accuracy: 0.6288\n",
      "Epoch 194/200\n",
      "176/176 [==============================] - 2s 13ms/step - loss: 0.0210 - accuracy: 0.9989 - val_loss: 1.9343 - val_accuracy: 0.6288\n",
      "Epoch 195/200\n",
      "176/176 [==============================] - 2s 13ms/step - loss: 0.0210 - accuracy: 0.9989 - val_loss: 1.9350 - val_accuracy: 0.6290\n",
      "Epoch 196/200\n",
      "176/176 [==============================] - 2s 13ms/step - loss: 0.0210 - accuracy: 0.9989 - val_loss: 1.9356 - val_accuracy: 0.6290\n",
      "Epoch 197/200\n",
      "176/176 [==============================] - 2s 13ms/step - loss: 0.0209 - accuracy: 0.9989 - val_loss: 1.9360 - val_accuracy: 0.6290\n",
      "Epoch 198/200\n",
      "176/176 [==============================] - 2s 13ms/step - loss: 0.0209 - accuracy: 0.9989 - val_loss: 1.9367 - val_accuracy: 0.6292\n",
      "Epoch 199/200\n",
      "176/176 [==============================] - 2s 13ms/step - loss: 0.0209 - accuracy: 0.9989 - val_loss: 1.9373 - val_accuracy: 0.6290\n",
      "Epoch 200/200\n",
      "176/176 [==============================] - 2s 13ms/step - loss: 0.0208 - accuracy: 0.9989 - val_loss: 1.9378 - val_accuracy: 0.6288\n"
     ]
    },
    {
     "data": {
      "text/plain": [
       "<tensorflow.python.keras.callbacks.History at 0x7f4d80511080>"
      ]
     },
     "execution_count": 34,
     "metadata": {},
     "output_type": "execute_result"
    }
   ],
   "source": [
    "model.fit(x_train_all, y_train_all, batch_size=batch_size, epochs=200, validation_split=0.1, callbacks=[callback])"
   ]
  },
  {
   "cell_type": "code",
   "execution_count": 19,
   "metadata": {},
   "outputs": [],
   "source": [
    "model.load_weights('./model_weights/simple_cnn.h5')"
   ]
  },
  {
   "cell_type": "code",
   "execution_count": 20,
   "metadata": {},
   "outputs": [],
   "source": [
    "# model.load_weights('./simple_cnn_mse.h5')"
   ]
  },
  {
   "cell_type": "code",
   "execution_count": 21,
   "metadata": {},
   "outputs": [],
   "source": [
    "ce_loss = tf.keras.losses.CategoricalCrossentropy(from_logits=True)"
   ]
  },
  {
   "cell_type": "code",
   "execution_count": 22,
   "metadata": {},
   "outputs": [],
   "source": [
    "@tf.function\n",
    "def targeted_fgsm(x, y_target, model, eps):\n",
    "    with tf.GradientTape() as tp:\n",
    "        tp.watch(x)\n",
    "        y = model(x)\n",
    "        loss = ce_loss(y_target, y)\n",
    "    grad = tp.gradient(loss, x)\n",
    "    return tf.clip_by_value(x - eps * tf.sign(grad), 0, 1)\n",
    "\n",
    "@tf.function\n",
    "def untargeted_fgsm(x, y_true, model, eps):\n",
    "    with tf.GradientTape() as tp:\n",
    "        tp.watch(x)\n",
    "        y = model(x)\n",
    "        loss = ce_loss(y_true, y)\n",
    "    grad = tp.gradient(loss, x)\n",
    "    return tf.clip_by_value(x + eps * tf.sign(grad), 0, 1)"
   ]
  },
  {
   "cell_type": "code",
   "execution_count": null,
   "metadata": {},
   "outputs": [],
   "source": [
    "targeted_fgsm(x, y_target, model, eps)"
   ]
  },
  {
   "cell_type": "code",
   "execution_count": 32,
   "metadata": {},
   "outputs": [],
   "source": [
    "# tmp = untargeted_fgsm(tf.convert_to_tensor(clean_x), clean_y, model, 0.03)"
   ]
  },
  {
   "cell_type": "code",
   "execution_count": 33,
   "metadata": {},
   "outputs": [],
   "source": [
    "clean_x = onp.load('./cifar-clean-x.npy')\n",
    "clean_y = onp.load('./cifar-clean-y.npy')"
   ]
  },
  {
   "cell_type": "code",
   "execution_count": 34,
   "metadata": {},
   "outputs": [],
   "source": [
    "tmp = onp.load('./cifar-eps-time-any-npy/cifar-fgsm-eps-0.03-time-None.npy')"
   ]
  },
  {
   "cell_type": "code",
   "execution_count": 42,
   "metadata": {},
   "outputs": [
    {
     "name": "stdout",
     "output_type": "stream",
     "text": [
      "4/4 [==============================] - 0s 2ms/step - loss: 1.2249 - accuracy: 0.6719\n"
     ]
    },
    {
     "data": {
      "text/plain": [
       "[1.2249499559402466, 0.671875]"
      ]
     },
     "execution_count": 42,
     "metadata": {},
     "output_type": "execute_result"
    }
   ],
   "source": [
    "model.evaluate(clean_x, clean_y)"
   ]
  },
  {
   "cell_type": "code",
   "execution_count": 43,
   "metadata": {},
   "outputs": [
    {
     "name": "stdout",
     "output_type": "stream",
     "text": [
      "4/4 [==============================] - 0s 2ms/step - loss: 2.6337 - accuracy: 0.3359\n"
     ]
    },
    {
     "data": {
      "text/plain": [
       "[2.6336843967437744, 0.3359375]"
      ]
     },
     "execution_count": 43,
     "metadata": {},
     "output_type": "execute_result"
    }
   ],
   "source": [
    "model.evaluate(tmp, clean_y)"
   ]
  },
  {
   "cell_type": "code",
   "execution_count": 20,
   "metadata": {},
   "outputs": [],
   "source": [
    "tmp = targeted_fgsm(tf.convert_to_tensor(x_test), onp.tile(onp.eye(10)[0], 4096).reshape(-1, 10), model, 0.03)"
   ]
  },
  {
   "cell_type": "code",
   "execution_count": 21,
   "metadata": {},
   "outputs": [],
   "source": [
    "itmp = targeted_ifgsm(tf.convert_to_tensor(x_test), onp.tile(onp.eye(10)[0], 4096).reshape(-1, 10), model, 0.0003*1.1, 100)"
   ]
  },
  {
   "cell_type": "code",
   "execution_count": 41,
   "metadata": {},
   "outputs": [
    {
     "data": {
      "text/plain": [
       "0.9648183556405354"
      ]
     },
     "execution_count": 41,
     "metadata": {},
     "output_type": "execute_result"
    }
   ],
   "source": [
    "sum(onp.argmax(model(itmp), axis=1)[onp.argmax(model(x_test), axis=1) == onp.argmax(y_test, axis=1)]==0) /\\\n",
    "sum(onp.argmax(model(x_test), axis=1) == onp.argmax(y_test, axis=1))"
   ]
  },
  {
   "cell_type": "code",
   "execution_count": 35,
   "metadata": {},
   "outputs": [
    {
     "ename": "NameError",
     "evalue": "name 'itmp' is not defined",
     "output_type": "error",
     "traceback": [
      "\u001b[0;31m---------------------------------------------------------------------------\u001b[0m",
      "\u001b[0;31mNameError\u001b[0m                                 Traceback (most recent call last)",
      "\u001b[0;32m<ipython-input-35-33da0470c5ae>\u001b[0m in \u001b[0;36m<module>\u001b[0;34m\u001b[0m\n\u001b[0;32m----> 1\u001b[0;31m \u001b[0monp\u001b[0m\u001b[0;34m.\u001b[0m\u001b[0msave\u001b[0m\u001b[0;34m(\u001b[0m\u001b[0;34m'cifar-tageted-simple-cnn-ifgsm.npy'\u001b[0m \u001b[0;34m,\u001b[0m\u001b[0mitmp\u001b[0m\u001b[0;34m)\u001b[0m\u001b[0;34m\u001b[0m\u001b[0;34m\u001b[0m\u001b[0m\n\u001b[0m",
      "\u001b[0;31mNameError\u001b[0m: name 'itmp' is not defined"
     ]
    }
   ],
   "source": [
    "onp.save('cifar-tageted-simple-cnn-ifgsm.npy' ,itmp)"
   ]
  },
  {
   "cell_type": "code",
   "execution_count": null,
   "metadata": {},
   "outputs": [],
   "source": []
  }
 ],
 "metadata": {
  "kernelspec": {
   "display_name": "Python 3",
   "language": "python",
   "name": "python3"
  },
  "language_info": {
   "codemirror_mode": {
    "name": "ipython",
    "version": 3
   },
   "file_extension": ".py",
   "mimetype": "text/x-python",
   "name": "python",
   "nbconvert_exporter": "python",
   "pygments_lexer": "ipython3",
   "version": "3.6.8"
  }
 },
 "nbformat": 4,
 "nbformat_minor": 2
}
