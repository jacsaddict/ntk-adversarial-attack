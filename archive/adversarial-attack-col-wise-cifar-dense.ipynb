{
 "cells": [
  {
   "cell_type": "code",
   "execution_count": 1,
   "metadata": {},
   "outputs": [],
   "source": [
    "import numpy as onp\n",
    "import jax\n",
    "import jax.numpy as np\n",
    "\n",
    "from jax import lax, random\n",
    "from jax.api import grad, jit, vmap\n",
    "from jax.config import config\n",
    "from jax.experimental import optimizers\n",
    "\n",
    "config.update('jax_enable_x64', True)\n",
    "\n",
    "from functools import partial\n",
    "from jax import random\n",
    "\n",
    "from neural_tangents import stax\n",
    "\n",
    "# Attacking\n",
    "from jax.experimental.stax import logsoftmax\n",
    "from cleverhans.utils import clip_eta, one_hot\n",
    "\n",
    "# Plotting\n",
    "from IPython.display import set_matplotlib_formats\n",
    "set_matplotlib_formats('pdf', 'svg')\n",
    "import matplotlib.pyplot as plt\n",
    "import seaborn as sns\n",
    "from mpl_toolkits.axes_grid1 import make_axes_locatable\n",
    "\n",
    "from utils import *\n",
    "sns.set_style(style='white')\n",
    "colors = plt.rcParams['axes.prop_cycle'].by_key()['color']\n",
    "\n",
    "\"\"\"\n",
    "diag_reg:\n",
    "    a scalar representing the strength of the diagonal regularization for\n",
    "    `k_train_train`, i.e. computing `k_train_train + diag_reg * I` during\n",
    "    Cholesky factorization or eigendecomposition.\n",
    "\"\"\"\n",
    "diag_reg = 1e-5\n",
    "batch_size = 30\n",
    "\n",
    "import os\n",
    "os.environ[\"XLA_PYTHON_CLIENT_PREALLOCATE\"] = \"false\""
   ]
  },
  {
   "cell_type": "markdown",
   "metadata": {},
   "source": [
    "# data"
   ]
  },
  {
   "cell_type": "code",
   "execution_count": 5,
   "metadata": {},
   "outputs": [],
   "source": [
    "x_train_all, y_train_all, x_test_all, y_test_all = tuple(onp.array(x) for x in get_dataset('cifar10', None, None, \n",
    "                                                                                  do_flatten_and_normalize=False))\n",
    "class_num = 10"
   ]
  },
  {
   "cell_type": "code",
   "execution_count": 6,
   "metadata": {},
   "outputs": [],
   "source": [
    "# shuffle\n",
    "seed = 0\n",
    "x_train_all, y_train_all = shaffle(x_train_all, y_train_all, seed)"
   ]
  },
  {
   "cell_type": "code",
   "execution_count": 7,
   "metadata": {},
   "outputs": [],
   "source": [
    "# down sample\n",
    "\n",
    "train_size = 4096\n",
    "x_train = x_train_all[:train_size]\n",
    "y_train = y_train_all[:train_size]\n",
    "\n",
    "test_size = 512\n",
    "x_test = x_test_all[:test_size]\n",
    "y_test = y_test_all[:test_size]\n",
    "\n",
    "# shape = (x_train.shape[0], 32, 32, 3)"
   ]
  },
  {
   "cell_type": "code",
   "execution_count": 8,
   "metadata": {},
   "outputs": [],
   "source": [
    "device_id = jax.devices()[0]"
   ]
  },
  {
   "cell_type": "code",
   "execution_count": 9,
   "metadata": {},
   "outputs": [],
   "source": [
    "# move to gpu\n",
    "\n",
    "x_train = jax.device_put(x_train, device=device_id)\n",
    "y_train = jax.device_put(y_train, device=device_id)\n",
    "\n",
    "x_test = jax.device_put(x_test, device=device_id)\n",
    "y_test = jax.device_put(y_test, device=device_id)"
   ]
  },
  {
   "cell_type": "markdown",
   "metadata": {},
   "source": [
    "# model"
   ]
  },
  {
   "cell_type": "code",
   "execution_count": 10,
   "metadata": {},
   "outputs": [],
   "source": [
    "def accuracy(mean, ys):\n",
    "    return np.mean(np.argmax(mean, axis=-1) == np.argmax(ys, axis=-1))"
   ]
  },
  {
   "cell_type": "code",
   "execution_count": 11,
   "metadata": {},
   "outputs": [],
   "source": [
    "def DenseBlock(neurons, W_std, b_std):\n",
    "    return stax.serial(stax.Dense(neurons, W_std, b_std), \n",
    "                       stax.Erf())\n",
    "\n",
    "def DenseGroup(n, neurons, W_std, b_std):\n",
    "    blocks = []\n",
    "    for _ in range(n):\n",
    "        blocks += [DenseBlock(neurons, W_std, b_std)]\n",
    "    # final layer    \n",
    "    blocks += [stax.Dense(class_num, W_std, b_std)]\n",
    "    return stax.serial(*blocks)"
   ]
  },
  {
   "cell_type": "code",
   "execution_count": 12,
   "metadata": {},
   "outputs": [],
   "source": [
    "b = 0.18\n",
    "W = 1.76\n",
    "\n",
    "phase_list = 'Critical'\n",
    "\n",
    "layer = 3\n",
    "num_classes = 10\n",
    "\n",
    "key = random.PRNGKey(0)\n",
    "\n",
    "b_std = np.sqrt(b)\n",
    "W_std = np.sqrt(W)\n",
    "\n",
    "init_fn, apply_fn, kernel_fn = stax.serial(DenseGroup(layer, 1024, W_std, b_std))\n",
    "    \n",
    "# Inference with a single infinite width / linearized network\n",
    "# kernel_fn(x_train, x_test, 'ntk' or 'nngp')\n",
    "kernel_fn = jit(kernel_fn, static_argnums=(2,))"
   ]
  },
  {
   "cell_type": "code",
   "execution_count": 13,
   "metadata": {},
   "outputs": [],
   "source": [
    "def model_fn(kernel_fn, obj_fn, x_train=None, x_test=None, fx_train_0=0., fx_test_0=0., t=None):\n",
    "    # Kernel\n",
    "    ntk_train_train = kernel_fn(x_train, x_train, 'ntk')\n",
    "    \n",
    "    if obj_fn == 'train':\n",
    "        return ntk_train_train\n",
    "    elif obj_fn == 'test':\n",
    "        ntk_test_train = kernel_fn(x_test, x_train, 'ntk')\n",
    "        # Prediction\n",
    "        predict_fn = nt.predict.gradient_descent_mse(ntk_train_train, y_train, diag_reg=diag_reg) # no convariance\n",
    "        return predict_fn(t, fx_train_0, fx_test_0, ntk_test_train) # fx_train_0, fx_test_0 = (0, 0) for infinite width\n",
    "    else:\n",
    "        raise ValueError(\"Objective function must be either train(ntk_train_train) or test(predict_fn)\")"
   ]
  },
  {
   "cell_type": "code",
   "execution_count": 14,
   "metadata": {},
   "outputs": [],
   "source": [
    "def inv(k):\n",
    "        #inverse with diag_reg\n",
    "        return np.linalg.inv(k + diag_reg * np.eye(k.shape[0]))\n",
    "\n",
    "ntk_train_train = kernel_fn(x_train, x_train, 'ntk')\n",
    "ntk_train_train_inv = inv(ntk_train_train)"
   ]
  },
  {
   "cell_type": "markdown",
   "metadata": {},
   "source": [
    "# loss"
   ]
  },
  {
   "cell_type": "code",
   "execution_count": 15,
   "metadata": {},
   "outputs": [],
   "source": [
    "@jit\n",
    "def l2_loss_v1(logits, labels, weighting=1):\n",
    "    \"\"\"\n",
    "    Tensorflow version of L2 loss (without sqrt)\n",
    "    \"\"\"\n",
    "    return np.sum(((logits - labels)**2) * weighting) / 2\n",
    "    \n",
    "@jit\n",
    "def l2_loss_v2(logits, lables):\n",
    "    \"\"\"\n",
    "    Normal L2 loss\n",
    "    \"\"\"\n",
    "    return np.linalg.norm(logits - labels)\n",
    "\n",
    "@jit\n",
    "def cross_entropy_loss(logits, lables):\n",
    "    return -np.sum(logsoftmax(logits) * lables)\n",
    "    \n",
    "@jit\n",
    "def mse_loss(logits, lables):\n",
    "    return 0.5 * np.mean((logits - lables) ** 2)"
   ]
  },
  {
   "cell_type": "code",
   "execution_count": 16,
   "metadata": {},
   "outputs": [],
   "source": [
    "def test_loss_adv_matrix(x_train, x_test, kernel_fn, c, t=None, \n",
    "                         ntk_train_train_inv=ntk_train_train_inv):\n",
    "    # Kernel -> matrix of constant c\n",
    "    assert type(c) == int\n",
    "    \n",
    "    ntk_test_train = kernel_fn(x_test, x_train, 'ntk')\n",
    "    # Θ(test, train)Θ(train, train)^-1\n",
    "    # def inv(k):\n",
    "        #inverse with diag_reg\n",
    "    #    return np.linalg.inv(k + diag_reg * np.eye(k.shape[0]))\n",
    "    \n",
    "    mean_predictor = np.einsum('ij,jk->ik', ntk_test_train, ntk_train_train_inv)\n",
    "    \n",
    "    # Loss\n",
    "    loss = - l2_loss_v1(mean_predictor, np.ones_like(mean_predictor)*c)\n",
    "    return loss\n",
    "\n",
    "# grad for x_test\n",
    "test_grads_fn = jit(grad(test_loss_adv_matrix, argnums=1), static_argnums=(0, 2))\n",
    "test_c_grads_fn = jit(grad(test_loss_adv_matrix, argnums=3), static_argnums=(0, 2))"
   ]
  },
  {
   "cell_type": "code",
   "execution_count": 17,
   "metadata": {},
   "outputs": [],
   "source": [
    "def test_loss_adv_col(x_train, x_test, kernel_fn, c, t=None,\n",
    "                     ntk_train_train_inv=ntk_train_train_inv):\n",
    "    \"\"\"\n",
    "    Kernel -> matrix with constant cols\n",
    "    \n",
    "    c is a vector of constant. c.shape should be (1, test_size)\n",
    "    \n",
    "    \"\"\" \n",
    "    assert c.shape[0] == 1\n",
    "    assert len(c.shape) == 2\n",
    "    \n",
    "    # ntk_train_train = kernel_fn(x_train, x_train, 'ntk')\n",
    "    ntk_test_train = kernel_fn(x_test, x_train, 'ntk')\n",
    "    \n",
    "    # Θ(test, train)Θ(train, train)^-1\n",
    "    # inverse with diag_reg\n",
    "    # def inv(k):\n",
    "    #    return np.linalg.inv(k + diag_reg * np.eye(k.shape[0]))\n",
    "    \n",
    "    mean_predictor = np.einsum('ij,jk->ik', ntk_test_train, ntk_train_train_inv)\n",
    "    \n",
    "    # Loss\n",
    "    loss = - l2_loss_v1(mean_predictor, np.ones_like(mean_predictor)*c.T)\n",
    "    return loss\n",
    "\n",
    "# grad for x_test\n",
    "test_col_wise_grads_fn = jit(grad(test_loss_adv_col, argnums=1), static_argnums=(2,))\n",
    "test_col_wise_c_grads_fn = jit(grad(test_loss_adv_col, argnums=3), static_argnums=(2,))"
   ]
  },
  {
   "cell_type": "code",
   "execution_count": 18,
   "metadata": {},
   "outputs": [],
   "source": [
    "def test_loss_adv_row(x_train, x_test, kernel_fn, c, t=None,\n",
    "                     ntk_train_train_inv=ntk_train_train_inv):\n",
    "    \"\"\"\n",
    "    Kernel -> matrix with constant rows\n",
    "    \n",
    "    c is a vector of constant. c.shape should be (1, train_size)\n",
    "    \n",
    "    \"\"\" \n",
    "    assert c.shape[0] == 1\n",
    "    assert len(c.shape) == 2\n",
    "    \n",
    "    # ntk_train_train = kernel_fn(x_train, x_train, 'ntk')\n",
    "    ntk_test_train = kernel_fn(x_test, x_train, 'ntk')\n",
    "    \n",
    "    # Θ(test, train)Θ(train, train)^-1\n",
    "    # inverse with diag_reg\n",
    "    # def inv(k):\n",
    "    #    return np.linalg.inv(k + diag_reg * np.eye(k.shape[0]))\n",
    "    \n",
    "    mean_predictor = np.einsum('ij,jk->ik', ntk_test_train, ntk_train_train_inv)\n",
    "    \n",
    "    # Loss\n",
    "    loss = - l2_loss_v1(mean_predictor, np.ones_like(mean_predictor)*c)\n",
    "    return loss\n",
    "\n",
    "# grad for x_test\n",
    "test_row_wise_grads_fn = jit(grad(test_loss_adv_row, argnums=1), static_argnums=(2,))\n",
    "test_row_wise_c_grads_fn = jit(grad(test_loss_adv_row, argnums=3), static_argnums=(2,))"
   ]
  },
  {
   "cell_type": "code",
   "execution_count": 19,
   "metadata": {},
   "outputs": [],
   "source": [
    "# a = np.array([\n",
    "#     [1, 1, 1],\n",
    "#     [1, 1, 1]\n",
    "# ], dtype=np.float32)\n",
    "\n",
    "# b_col = np.array([\n",
    "#     [0.1, 10.]\n",
    "# ], dtype=np.float32)\n",
    "\n",
    "# b_row = np.array([\n",
    "#     [0.1, 10., -1]\n",
    "# ], dtype=np.float32)\n",
    "\n",
    "# print(a*b_col.T)\n",
    "# print()\n",
    "# print(a*b_row)\n",
    "\n",
    "# a.shape = (2, 3) test_size=2, train_size=3\n",
    "# col broadcast -> b.shape = (1, 2), a*b.T\n",
    "# row broadcast -> b.shape = (1, 3), a*b"
   ]
  },
  {
   "cell_type": "code",
   "execution_count": 20,
   "metadata": {},
   "outputs": [],
   "source": [
    "# a.shape = (test, train)\n",
    "# col broadcast -> b.shape = (1, test), a*b.T\n",
    "# row broadcast -> b.shape = (1, train), a*b"
   ]
  },
  {
   "cell_type": "code",
   "execution_count": 21,
   "metadata": {},
   "outputs": [],
   "source": [
    "def fast_gradient_method(model_fn, kernel_fn, obj_fn, grads_fn, grads_c_fn=None, x_train=None, y_train=None, x_test=None, \n",
    "                         y=None, t=None, c=None, update_c=False, loss_weighting=None, phase=None, \n",
    "                         fx_train_0=0., fx_test_0=0., eps=0.3, norm=np.inf, clip_min=None, clip_max=None, targeted=False):\n",
    "    \"\"\"\n",
    "    JAX implementation of the Fast Gradient Method.\n",
    "    :param model_fn: a callable that takes an input tensor and returns the model logits.\n",
    "    :param x: input tensor.\n",
    "    :param eps: epsilon (input variation parameter); see https://arxiv.org/abs/1412.6572.\n",
    "    :param norm: Order of the norm (mimics NumPy). Possible values: np.inf or 2.\n",
    "    :param clip_min: (optional) float. Minimum float value for adversarial example components.\n",
    "    :param clip_max: (optional) float. Maximum float value for adversarial example components.\n",
    "    :param y: (optional) Tensor with one-hot true labels. If targeted is true, then provide the\n",
    "            target one-hot label. Otherwise, only provide this parameter if you'd like to use true\n",
    "            labels when crafting adversarial samples. Otherwise, model predictions are used\n",
    "            as labels to avoid the \"label leaking\" effect (explained in this paper:\n",
    "            https://arxiv.org/abs/1611.01236). Default is None. This argument does not have\n",
    "            to be a binary one-hot label (e.g., [0, 1, 0, 0]), it can be floating points values\n",
    "            that sum up to 1 (e.g., [0.05, 0.85, 0.05, 0.05]).\n",
    "    :param targeted: (optional) bool. Is the attack targeted or untargeted?\n",
    "            Untargeted, the default, will try to make the label incorrect.\n",
    "            Targeted will instead try to move in the direction of being more like y.\n",
    "    :return: a tensor for the adversarial example\n",
    "    \"\"\"\n",
    "    if norm not in [np.inf, 2]:\n",
    "        raise ValueError(\"Norm order must be either np.inf or 2.\")\n",
    "        \n",
    "    x = x_test\n",
    "    # Obtain y\n",
    "    # if obj_fn == 'test':\n",
    "    #   if y is None:\n",
    "    #        # Using model predictions as ground truth to avoid label leaking\n",
    "    #        x_labels = np.argmax(model_fn(kernel_fn, 'test', x_train, x_test, fx_train_0, fx_test_0)[1], 1)\n",
    "    #        y = one_hot(x_labels, 10)\n",
    "        \n",
    "    # Obj - Θ(test, train)Θ(train, train)^-1\n",
    "    # test independent\n",
    "    if obj_fn == 'test_col':\n",
    "        grads = 0\n",
    "        grads_c = 0\n",
    "        grads = grads_fn(x_train, x_test, kernel_fn, c)\n",
    "        if update_c is True:\n",
    "            grads_c += grads_c_fn(x_train, x_test, kernel_fn, c)\n",
    "        # for i in range(int(len(x_test)/batch_size)):\n",
    "        #    grads += grads_fn(x_train, x_test, kernel_fn, c)\n",
    "        #    if update_c is True:\n",
    "        #        grads_c += grads_c_fn(x_train, x_test, kernel_fn, c)\n",
    "                \n",
    "        grads_c = 1e-5 * np.sign(grads_c) # grads_c = 5e-2 * np.sign(grads_c)\n",
    "        \n",
    "        \n",
    "    # Obj - Θ(test, train)Θ(train, train)^-1 y_train\n",
    "    else:\n",
    "        raise ValueError(\"Objective function must be either train(ntk_train_train) or test(predict_fn)\")\n",
    "\n",
    "    axis = list(range(1, len(grads.shape)))\n",
    "    eps_div = 1e-12\n",
    "    \n",
    "    if norm == np.inf:\n",
    "        perturbation = eps * np.sign(grads)\n",
    "    elif norm == 1:\n",
    "        raise NotImplementedError(\"L_1 norm has not been implemented yet.\")\n",
    "    elif norm == 2:\n",
    "        square = np.maximum(eps_div, np.sum(np.square(grads), axis=axis, keepdims=True))\n",
    "        perturbation = grads / np.sqrt(square)\n",
    "    \n",
    "    # TODO\n",
    "    adv_x = x + perturbation\n",
    "    \n",
    "    # If clipping is needed, reset all values outside of [clip_min, clip_max]\n",
    "    if (clip_min is not None) or (clip_max is not None):\n",
    "        # We don't currently support one-sided clipping\n",
    "        assert clip_min is not None and clip_max is not None\n",
    "        adv_x = np.clip(adv_x, a_min=clip_min, a_max=clip_max)\n",
    "    \n",
    "    if obj_fn == 'test_c':\n",
    "        c += grads_c\n",
    "        \n",
    "        return adv_x, c\n",
    "    \n",
    "    return adv_x, c"
   ]
  },
  {
   "cell_type": "code",
   "execution_count": 22,
   "metadata": {},
   "outputs": [],
   "source": [
    "def projected_gradient_descent(model_fn, kernel_fn, obj_fn, grads_fn, grads_c_fn=None, x_train=None, y_train=None,\n",
    "                               x_test=None, y=None, t=None, c=None, update_c=None, loss_weighting=None, \n",
    "                               phase=None, fx_train_0=0., fx_test_0=0., eps=0.3, eps_iter=0.03, nb_iter=10, norm=np.inf, \n",
    "                               clip_min=None, clip_max=None, targeted=False, rand_init=None, rand_minmax=0.3):\n",
    "    \"\"\"\n",
    "    This class implements either the Basic Iterative Method\n",
    "    (Kurakin et al. 2016) when rand_init is set to 0. or the\n",
    "    Madry et al. (2017) method when rand_minmax is larger than 0.\n",
    "    Paper link (Kurakin et al. 2016): https://arxiv.org/pdf/1607.02533.pdf\n",
    "    Paper link (Madry et al. 2017): https://arxiv.org/pdf/1706.06083.pdf\n",
    "    :param model_fn: a callable that takes an input tensor and returns the model logits.\n",
    "    :param x: input tensor.\n",
    "    :param eps: epsilon (input variation parameter); see https://arxiv.org/abs/1412.6572.\n",
    "    :param eps_iter: step size for each attack iteration\n",
    "    :param nb_iter: Number of attack iterations.\n",
    "    :param norm: Order of the norm (mimics NumPy). Possible values: np.inf or 2.\n",
    "    :param clip_min: (optional) float. Minimum float value for adversarial example components.\n",
    "    :param clip_max: (optional) float. Maximum float value for adversarial example components.\n",
    "    :param y: (optional) Tensor with true labels. If targeted is true, then provide the\n",
    "            target label. Otherwise, only provide this parameter if you'd like to use true\n",
    "            labels when crafting adversarial samples. Otherwise, model predictions are used\n",
    "            as labels to avoid the \"label leaking\" effect (explained in this paper:\n",
    "            https://arxiv.org/abs/1611.01236). Default is None.\n",
    "    :param targeted: (optional) bool. Is the attack targeted or untargeted?\n",
    "            Untargeted, the default, will try to make the label incorrect.\n",
    "            Targeted will instead try to move in the direction of being more like y.\n",
    "    :return: a tensor for the adversarial example\n",
    "    \"\"\"\n",
    "\n",
    "    assert eps_iter <= eps, (eps_iter, eps)\n",
    "    if norm == 1:\n",
    "        raise NotImplementedError(\"It's not clear that FGM is a good inner loop\"\n",
    "                                  \" step for PGD when norm=1, because norm=1 FGM \"\n",
    "                                  \" changes only one pixel at a time. We need \"\n",
    "                                  \" to rigorously test a strong norm=1 PGD \"\n",
    "                                  \"before enabling this feature.\")\n",
    "    if norm not in [np.inf, 2]:\n",
    "        raise ValueError(\"Norm order must be either np.inf or 2.\")\n",
    "        \n",
    "    x = x_test\n",
    "    \n",
    "    # Initialize loop variables\n",
    "    if rand_init:\n",
    "        rand_minmax = eps\n",
    "        eta = random.uniform(new_key, x.shape, minval=-rand_minmax, maxval=rand_minmax)\n",
    "    else:\n",
    "        eta = np.zeros_like(x)\n",
    "\n",
    "    # Clip eta\n",
    "    eta = clip_eta(eta, norm, eps)\n",
    "    adv_x = x + eta\n",
    "    if clip_min is not None or clip_max is not None:\n",
    "        adv_x = np.clip(adv_x, a_min=clip_min, a_max=clip_max)\n",
    "        \n",
    "    for i in range(nb_iter):\n",
    "        if update_c is not None and (i+1) % update_c == 0:\n",
    "            adv_x = fast_gradient_method(model_fn, kernel_fn, obj_fn, grads_fn, grads_c_fn, x_train, y_train, adv_x, \n",
    "                                         y, t, c, True, loss_weighting, phase, fx_train_0, fx_test_0, eps_iter, norm, \n",
    "                                         clip_min, clip_max, targeted)\n",
    "        else:\n",
    "            adv_x = fast_gradient_method(model_fn, kernel_fn, obj_fn, grads_fn, grads_c_fn, x_train, y_train, adv_x, \n",
    "                                         y, t, c, False, loss_weighting, phase, fx_train_0, fx_test_0, eps_iter, norm, \n",
    "                                         clip_min, clip_max, targeted)\n",
    "        \n",
    "        if obj_fn == 'test_col' or obj_fn == 'test_row':\n",
    "            adv_x, c = adv_x\n",
    "\n",
    "        # Clipping perturbation eta to norm norm ball\n",
    "        eta = adv_x - x\n",
    "        eta = clip_eta(eta, norm, eps)\n",
    "        adv_x = x + eta\n",
    "\n",
    "        # Redo the clipping.\n",
    "        # FGM already did it, but subtracting and re-adding eta can add some\n",
    "        # small numerical error.\n",
    "        if clip_min is not None or clip_max is not None:\n",
    "            adv_x = np.clip(adv_x, a_min=clip_min, a_max=clip_max)\n",
    "    \n",
    "    if obj_fn == 'test_col' or obj_fn == 'test_row':\n",
    "        return adv_x, c\n",
    "    \n",
    "    return adv_x"
   ]
  },
  {
   "cell_type": "markdown",
   "metadata": {},
   "source": [
    "# Attack Hyperparameters"
   ]
  },
  {
   "cell_type": "code",
   "execution_count": 23,
   "metadata": {},
   "outputs": [],
   "source": [
    "attack_type = [\"Clean\", \"FGSM\", \"PGD-10\", \"PGD-100\"]\n",
    "\n",
    "####### MNIST #######\n",
    "# eps = 0.3\n",
    "# eps_iter_10 = 0.04\n",
    "# eps_iter_100 = 0.004\n",
    "####### MNIST #######\n",
    "\n",
    "####### CIFAR #######\n",
    "eps = 16/255\n",
    "eps_iter_10 = (eps/10)*1.1\n",
    "eps_iter_100 = (eps/100)*1.1\n",
    "####### CIFAR #######\n",
    "\n",
    "# val_size = 1200\n",
    "\n",
    "# x_train_all is on host device\n",
    "# x_val = x_train_all[train_size:train_size+val_size]\n",
    "# y_val = y_train_all[train_size:train_size+val_size]\n",
    "\n",
    "# to gpu\n",
    "# x_val = np.asarray(x_val)\n",
    "# y_val = np.asarray(y_val)"
   ]
  },
  {
   "cell_type": "markdown",
   "metadata": {},
   "source": [
    "# Variance"
   ]
  },
  {
   "cell_type": "code",
   "execution_count": 24,
   "metadata": {},
   "outputs": [],
   "source": [
    "def mean_predictor(x_train, x_test, kernel_fn, c=None, row=False, col=False, get_sample=False,\n",
    "                   ntk_train_train_inv=ntk_train_train_inv):\n",
    "    \"\"\"\n",
    "    return Θ(test, train)Θ(train, train)^-1 and \n",
    "    || # Θ(test, train)Θ(train, train)^-1 - target ||\n",
    "    \n",
    "    \"\"\"\n",
    "    if not row and not col:\n",
    "        raise ValueError(\"at least one of row or col should be true\")\n",
    "        \n",
    "    # Kernel\n",
    "    ntk_test_train = kernel_fn(x_test, x_train, 'ntk')\n",
    "    \n",
    "    # Θ(test, train)Θ(train, train)^-1\n",
    "    mean_predictor = np.einsum('ij,jk->ik', ntk_test_train, ntk_train_train_inv)\n",
    "    loss = 0.0\n",
    "    \n",
    "    if c is None:\n",
    "        if row ^ col:\n",
    "            if row:\n",
    "                c = np.mean(mean_predictor, axis=0)\n",
    "                c = np.reshape(c, (1, -1))\n",
    "                # print(c.shape)\n",
    "                # print(mean_predictor.shape)\n",
    "                loss = l2_loss_v1(mean_predictor, np.ones_like(mean_predictor)*c)\n",
    "            elif col:\n",
    "                c = np.mean(mean_predictor, axis=1)\n",
    "                c = np.reshape(c, (1, -1))\n",
    "                # print(c.shape)\n",
    "                # print(mean_predictor.shape)\n",
    "                loss = l2_loss_v1(mean_predictor, np.ones_like(mean_predictor)*c.T)\n",
    "        else:\n",
    "            raise ValueError(\"row xor col not true\")\n",
    "            \n",
    "    if get_sample:\n",
    "        return c\n",
    "    \n",
    "    return loss, mean_predictor"
   ]
  },
  {
   "cell_type": "code",
   "execution_count": 25,
   "metadata": {},
   "outputs": [],
   "source": [
    "def evaluate(x_train, x_test, model_fn, kernel_fn, t=None, c=0, attack_type=None):\n",
    "    y_train_predict, y_test_predict = model_fn(kernel_fn, 'test', x_train, x_test, t=t)\n",
    "    acc = accuracy(y_test_predict, y_test)\n",
    "    print(\"Robustness({:s}): {:.2f}\".format(attack_type, acc))\n",
    "    \n",
    "    return acc"
   ]
  },
  {
   "cell_type": "code",
   "execution_count": 26,
   "metadata": {},
   "outputs": [],
   "source": [
    "def get_matrix(adv_x, x_train=x_train, kernel_fn=kernel_fn):\n",
    "    ntk_test_train = kernel_fn(adv_x, x_train, 'ntk')\n",
    "    matrix = np.einsum('ij,jk->ik', ntk_test_train, ntk_train_train_inv)\n",
    "    return matrix"
   ]
  },
  {
   "cell_type": "markdown",
   "metadata": {},
   "source": [
    "# train list gen"
   ]
  },
  {
   "cell_type": "code",
   "execution_count": 27,
   "metadata": {},
   "outputs": [],
   "source": [
    "t = None\n",
    "d = 'col'"
   ]
  },
  {
   "cell_type": "code",
   "execution_count": 28,
   "metadata": {},
   "outputs": [
    {
     "name": "stdout",
     "output_type": "stream",
     "text": [
      "Robustness(Clean): 0.40\n"
     ]
    },
    {
     "data": {
      "text/plain": [
       "DeviceArray(0.3984375, dtype=float64)"
      ]
     },
     "execution_count": 28,
     "metadata": {},
     "output_type": "execute_result"
    }
   ],
   "source": [
    "evaluate(x_train, x_test, model_fn=model_fn, kernel_fn=kernel_fn, t=t, c=0, attack_type='Clean')"
   ]
  },
  {
   "cell_type": "code",
   "execution_count": 29,
   "metadata": {},
   "outputs": [
    {
     "data": {
      "text/plain": [
       "DeviceArray(0.01187553, dtype=float64)"
      ]
     },
     "execution_count": 29,
     "metadata": {},
     "output_type": "execute_result"
    }
   ],
   "source": [
    "m_clean = get_matrix(x_test)\n",
    "np.mean(np.std(m_clean, axis=0))"
   ]
  },
  {
   "cell_type": "code",
   "execution_count": 30,
   "metadata": {},
   "outputs": [],
   "source": [
    "if d == 'col':\n",
    "    c_sample = mean_predictor(x_train, x_test, kernel_fn, col=True, get_sample=True)\n",
    "elif d == 'row':\n",
    "    c_sample = mean_predictor(x_train, x_test, kernel_fn, row=True, get_sample=True)"
   ]
  },
  {
   "cell_type": "code",
   "execution_count": 31,
   "metadata": {},
   "outputs": [],
   "source": [
    "c = c_sample.reshape((1, -1))"
   ]
  },
  {
   "cell_type": "code",
   "execution_count": 32,
   "metadata": {},
   "outputs": [
    {
     "name": "stdout",
     "output_type": "stream",
     "text": [
      "Robustness(FGSM): 0.27\n"
     ]
    },
    {
     "data": {
      "text/plain": [
       "DeviceArray(0.26757812, dtype=float64)"
      ]
     },
     "execution_count": 32,
     "metadata": {},
     "output_type": "execute_result"
    }
   ],
   "source": [
    "# FGSM\n",
    "adv_x_FGSM, c = fast_gradient_method(model_fn=model_fn, kernel_fn=kernel_fn, obj_fn='test_col', \n",
    "                                     grads_fn=test_col_wise_grads_fn, grads_c_fn=test_col_wise_c_grads_fn,\n",
    "                                     x_train=x_train, y_train=y_train, x_test=x_test, y=y_test, t=t, c=c,\n",
    "                                     eps=eps, clip_min=0, clip_max=1)\n",
    "\n",
    "evaluate(x_train, adv_x_FGSM, model_fn=model_fn, kernel_fn=kernel_fn, t=t, c=c, attack_type='FGSM')"
   ]
  },
  {
   "cell_type": "code",
   "execution_count": 33,
   "metadata": {},
   "outputs": [
    {
     "data": {
      "text/plain": [
       "DeviceArray(0.01194893, dtype=float64)"
      ]
     },
     "execution_count": 33,
     "metadata": {},
     "output_type": "execute_result"
    }
   ],
   "source": [
    "m_FGSM = get_matrix(adv_x_FGSM)\n",
    "np.mean(np.std(m_FGSM, axis=0))"
   ]
  },
  {
   "cell_type": "code",
   "execution_count": 34,
   "metadata": {},
   "outputs": [
    {
     "name": "stdout",
     "output_type": "stream",
     "text": [
      "Robustness(PGD-10): 0.43\n"
     ]
    },
    {
     "data": {
      "text/plain": [
       "DeviceArray(0.42578125, dtype=float64)"
      ]
     },
     "execution_count": 34,
     "metadata": {},
     "output_type": "execute_result"
    }
   ],
   "source": [
    "# PGD 10\n",
    "key, new_key = random.split(key)\n",
    "c = c_sample.reshape((1, -1))\n",
    "adv_x_PGD_10 , c = projected_gradient_descent(model_fn=model_fn, kernel_fn=kernel_fn, obj_fn='test_col', \n",
    "                                              grads_fn=test_col_wise_grads_fn, grads_c_fn=test_col_wise_c_grads_fn,\n",
    "                                              x_train=x_train, y_train=y_train, x_test=x_test, y=y_test, t=t, c=c, update_c=3, \n",
    "                                              eps=eps, eps_iter=eps_iter_10, nb_iter=10, \n",
    "                                              clip_min=0, clip_max=1, rand_init=None, rand_minmax=eps)\n",
    "\n",
    "evaluate(x_train, adv_x_PGD_10, model_fn=model_fn, kernel_fn=kernel_fn, t=t, c=c, attack_type='PGD-10')"
   ]
  },
  {
   "cell_type": "code",
   "execution_count": 35,
   "metadata": {},
   "outputs": [
    {
     "data": {
      "text/plain": [
       "DeviceArray(0.0087033, dtype=float64)"
      ]
     },
     "execution_count": 35,
     "metadata": {},
     "output_type": "execute_result"
    }
   ],
   "source": [
    "m_PGD_10 = get_matrix(adv_x_PGD_10)\n",
    "np.mean(np.std(m_PGD_10, axis=0))"
   ]
  },
  {
   "cell_type": "code",
   "execution_count": 36,
   "metadata": {},
   "outputs": [
    {
     "name": "stdout",
     "output_type": "stream",
     "text": [
      "Robustness(PGD-100): 0.43\n"
     ]
    },
    {
     "data": {
      "text/plain": [
       "DeviceArray(0.42773438, dtype=float64)"
      ]
     },
     "execution_count": 36,
     "metadata": {},
     "output_type": "execute_result"
    }
   ],
   "source": [
    "# PGD 100\n",
    "key, new_key = random.split(key)\n",
    "c = c_sample.reshape((1, -1))\n",
    "adv_x_PGD_100, c = projected_gradient_descent(model_fn=model_fn, kernel_fn=kernel_fn, obj_fn='test_col', \n",
    "                                              grads_fn=test_col_wise_grads_fn, grads_c_fn=test_col_wise_c_grads_fn,\n",
    "                                              x_train=x_train, y_train=y_train, x_test=x_test, y=y_test, t=t, c=c, update_c=3, \n",
    "                                              eps=eps, eps_iter=eps_iter_100, nb_iter=100, \n",
    "                                              clip_min=0, clip_max=1, rand_init=None, rand_minmax=eps)\n",
    "\n",
    "evaluate(x_train, adv_x_PGD_100, model_fn=model_fn, kernel_fn=kernel_fn, t=t, c=c, attack_type='PGD-100')"
   ]
  },
  {
   "cell_type": "code",
   "execution_count": 37,
   "metadata": {},
   "outputs": [
    {
     "data": {
      "text/plain": [
       "DeviceArray(0.00803576, dtype=float64)"
      ]
     },
     "execution_count": 37,
     "metadata": {},
     "output_type": "execute_result"
    }
   ],
   "source": [
    "m_PGD_100 = get_matrix(adv_x_PGD_100)\n",
    "np.mean(np.std(m_PGD_100, axis=0))"
   ]
  },
  {
   "cell_type": "code",
   "execution_count": 38,
   "metadata": {},
   "outputs": [
    {
     "name": "stdout",
     "output_type": "stream",
     "text": [
      "Robustness(PGD-1000): 0.42\n"
     ]
    },
    {
     "data": {
      "text/plain": [
       "DeviceArray(0.42382812, dtype=float64)"
      ]
     },
     "execution_count": 38,
     "metadata": {},
     "output_type": "execute_result"
    }
   ],
   "source": [
    "# PGD 1000\n",
    "key, new_key = random.split(key)\n",
    "c = c_sample.reshape((1, -1))\n",
    "adv_x_PGD_1000, c = projected_gradient_descent(model_fn=model_fn, kernel_fn=kernel_fn, obj_fn='test_col', \n",
    "                                              grads_fn=test_col_wise_grads_fn, grads_c_fn=test_col_wise_c_grads_fn,\n",
    "                                              x_train=x_train, y_train=y_train, x_test=x_test, y=y_test, t=t, c=c, update_c=3, \n",
    "                                              eps=eps, eps_iter=eps_iter_100, nb_iter=1000, \n",
    "                                              clip_min=0, clip_max=1, rand_init=None, rand_minmax=eps)\n",
    "\n",
    "evaluate(x_train, adv_x_PGD_1000, model_fn=model_fn, kernel_fn=kernel_fn, t=t, c=c, attack_type='PGD-1000')"
   ]
  },
  {
   "cell_type": "code",
   "execution_count": 40,
   "metadata": {},
   "outputs": [
    {
     "data": {
      "text/plain": [
       "DeviceArray(0.00789338, dtype=float64)"
      ]
     },
     "execution_count": 40,
     "metadata": {},
     "output_type": "execute_result"
    }
   ],
   "source": [
    "m_PGD_1000 = get_matrix(adv_x_PGD_1000)\n",
    "np.mean(np.std(m_PGD_1000, axis=0))"
   ]
  },
  {
   "cell_type": "markdown",
   "metadata": {},
   "source": [
    "# transfer"
   ]
  },
  {
   "cell_type": "code",
   "execution_count": 41,
   "metadata": {
    "scrolled": true
   },
   "outputs": [
    {
     "name": "stdout",
     "output_type": "stream",
     "text": [
      "***********\n",
      "layer:  0\n",
      "Robustness(Clean): 0.20\n",
      "Robustness(FGSM): 0.09\n",
      "Robustness(PGD-10): 0.12\n",
      "Robustness(PGD-100): 0.11\n",
      "Robustness(PGD-1000): 0.11\n",
      "***********\n",
      "layer:  1\n",
      "Robustness(Clean): 0.35\n",
      "Robustness(FGSM): 0.18\n",
      "Robustness(PGD-10): 0.37\n",
      "Robustness(PGD-100): 0.34\n",
      "Robustness(PGD-1000): 0.33\n",
      "***********\n",
      "layer:  2\n",
      "Robustness(Clean): 0.38\n",
      "Robustness(FGSM): 0.22\n",
      "Robustness(PGD-10): 0.41\n",
      "Robustness(PGD-100): 0.41\n",
      "Robustness(PGD-1000): 0.41\n",
      "***********\n",
      "layer:  3\n",
      "Robustness(Clean): 0.40\n",
      "Robustness(FGSM): 0.27\n",
      "Robustness(PGD-10): 0.43\n",
      "Robustness(PGD-100): 0.43\n",
      "Robustness(PGD-1000): 0.42\n",
      "***********\n",
      "layer:  4\n",
      "Robustness(Clean): 0.41\n",
      "Robustness(FGSM): 0.30\n",
      "Robustness(PGD-10): 0.44\n",
      "Robustness(PGD-100): 0.43\n",
      "Robustness(PGD-1000): 0.42\n",
      "***********\n",
      "layer:  5\n",
      "Robustness(Clean): 0.42\n",
      "Robustness(FGSM): 0.32\n",
      "Robustness(PGD-10): 0.44\n",
      "Robustness(PGD-100): 0.43\n",
      "Robustness(PGD-1000): 0.42\n",
      "***********\n",
      "layer:  6\n",
      "Robustness(Clean): 0.43\n",
      "Robustness(FGSM): 0.33\n",
      "Robustness(PGD-10): 0.44\n",
      "Robustness(PGD-100): 0.43\n",
      "Robustness(PGD-1000): 0.43\n",
      "***********\n",
      "layer:  7\n",
      "Robustness(Clean): 0.43\n",
      "Robustness(FGSM): 0.35\n",
      "Robustness(PGD-10): 0.44\n",
      "Robustness(PGD-100): 0.43\n",
      "Robustness(PGD-1000): 0.43\n",
      "***********\n",
      "layer:  8\n",
      "Robustness(Clean): 0.44\n",
      "Robustness(FGSM): 0.37\n",
      "Robustness(PGD-10): 0.44\n",
      "Robustness(PGD-100): 0.43\n",
      "Robustness(PGD-1000): 0.43\n",
      "***********\n",
      "layer:  9\n",
      "Robustness(Clean): 0.43\n",
      "Robustness(FGSM): 0.38\n",
      "Robustness(PGD-10): 0.44\n",
      "Robustness(PGD-100): 0.43\n",
      "Robustness(PGD-1000): 0.43\n",
      "***********\n",
      "layer:  10\n",
      "Robustness(Clean): 0.44\n",
      "Robustness(FGSM): 0.39\n",
      "Robustness(PGD-10): 0.44\n",
      "Robustness(PGD-100): 0.44\n",
      "Robustness(PGD-1000): 0.44\n",
      "***********\n",
      "layer:  11\n",
      "Robustness(Clean): 0.44\n",
      "Robustness(FGSM): 0.40\n",
      "Robustness(PGD-10): 0.44\n",
      "Robustness(PGD-100): 0.44\n",
      "Robustness(PGD-1000): 0.44\n",
      "***********\n",
      "layer:  12\n",
      "Robustness(Clean): 0.44\n",
      "Robustness(FGSM): 0.41\n",
      "Robustness(PGD-10): 0.44\n",
      "Robustness(PGD-100): 0.44\n",
      "Robustness(PGD-1000): 0.44\n",
      "***********\n",
      "layer:  13\n",
      "Robustness(Clean): 0.44\n",
      "Robustness(FGSM): 0.41\n",
      "Robustness(PGD-10): 0.44\n",
      "Robustness(PGD-100): 0.44\n",
      "Robustness(PGD-1000): 0.44\n",
      "***********\n",
      "layer:  14\n",
      "Robustness(Clean): 0.44\n",
      "Robustness(FGSM): 0.42\n",
      "Robustness(PGD-10): 0.44\n",
      "Robustness(PGD-100): 0.44\n",
      "Robustness(PGD-1000): 0.45\n",
      "***********\n",
      "layer:  15\n",
      "Robustness(Clean): 0.44\n",
      "Robustness(FGSM): 0.44\n",
      "Robustness(PGD-10): 0.44\n",
      "Robustness(PGD-100): 0.44\n",
      "Robustness(PGD-1000): 0.44\n",
      "***********\n",
      "layer:  16\n",
      "Robustness(Clean): 0.44\n",
      "Robustness(FGSM): 0.44\n",
      "Robustness(PGD-10): 0.44\n",
      "Robustness(PGD-100): 0.45\n",
      "Robustness(PGD-1000): 0.44\n",
      "***********\n",
      "layer:  17\n",
      "Robustness(Clean): 0.45\n",
      "Robustness(FGSM): 0.44\n",
      "Robustness(PGD-10): 0.45\n",
      "Robustness(PGD-100): 0.45\n",
      "Robustness(PGD-1000): 0.44\n",
      "***********\n",
      "layer:  18\n",
      "Robustness(Clean): 0.45\n",
      "Robustness(FGSM): 0.44\n",
      "Robustness(PGD-10): 0.45\n",
      "Robustness(PGD-100): 0.45\n",
      "Robustness(PGD-1000): 0.44\n",
      "***********\n",
      "layer:  19\n",
      "Robustness(Clean): 0.45\n",
      "Robustness(FGSM): 0.44\n",
      "Robustness(PGD-10): 0.46\n",
      "Robustness(PGD-100): 0.44\n",
      "Robustness(PGD-1000): 0.44\n",
      "***********\n",
      "layer:  20\n",
      "Robustness(Clean): 0.46\n",
      "Robustness(FGSM): 0.45\n",
      "Robustness(PGD-10): 0.46\n",
      "Robustness(PGD-100): 0.44\n",
      "Robustness(PGD-1000): 0.44\n",
      "***********\n",
      "layer:  21\n",
      "Robustness(Clean): 0.46\n",
      "Robustness(FGSM): 0.45\n",
      "Robustness(PGD-10): 0.46\n",
      "Robustness(PGD-100): 0.45\n",
      "Robustness(PGD-1000): 0.44\n",
      "***********\n",
      "layer:  22\n",
      "Robustness(Clean): 0.45\n",
      "Robustness(FGSM): 0.45\n",
      "Robustness(PGD-10): 0.46\n",
      "Robustness(PGD-100): 0.45\n",
      "Robustness(PGD-1000): 0.45\n",
      "***********\n",
      "layer:  23\n",
      "Robustness(Clean): 0.46\n",
      "Robustness(FGSM): 0.45\n",
      "Robustness(PGD-10): 0.46\n",
      "Robustness(PGD-100): 0.45\n",
      "Robustness(PGD-1000): 0.45\n",
      "***********\n",
      "layer:  24\n",
      "Robustness(Clean): 0.46\n",
      "Robustness(FGSM): 0.45\n",
      "Robustness(PGD-10): 0.47\n",
      "Robustness(PGD-100): 0.45\n",
      "Robustness(PGD-1000): 0.45\n",
      "***********\n",
      "layer:  25\n",
      "Robustness(Clean): 0.46\n",
      "Robustness(FGSM): 0.45\n",
      "Robustness(PGD-10): 0.46\n",
      "Robustness(PGD-100): 0.45\n",
      "Robustness(PGD-1000): 0.45\n",
      "***********\n",
      "layer:  26\n",
      "Robustness(Clean): 0.46\n",
      "Robustness(FGSM): 0.45\n",
      "Robustness(PGD-10): 0.46\n",
      "Robustness(PGD-100): 0.45\n",
      "Robustness(PGD-1000): 0.45\n",
      "***********\n",
      "layer:  27\n",
      "Robustness(Clean): 0.46\n",
      "Robustness(FGSM): 0.46\n",
      "Robustness(PGD-10): 0.46\n",
      "Robustness(PGD-100): 0.45\n",
      "Robustness(PGD-1000): 0.45\n",
      "***********\n",
      "layer:  28\n",
      "Robustness(Clean): 0.46\n",
      "Robustness(FGSM): 0.46\n",
      "Robustness(PGD-10): 0.46\n",
      "Robustness(PGD-100): 0.45\n",
      "Robustness(PGD-1000): 0.45\n",
      "***********\n",
      "layer:  29\n",
      "Robustness(Clean): 0.46\n",
      "Robustness(FGSM): 0.46\n",
      "Robustness(PGD-10): 0.46\n",
      "Robustness(PGD-100): 0.45\n",
      "Robustness(PGD-1000): 0.45\n",
      "***********\n",
      "layer:  30\n",
      "Robustness(Clean): 0.46\n",
      "Robustness(FGSM): 0.45\n",
      "Robustness(PGD-10): 0.46\n",
      "Robustness(PGD-100): 0.45\n",
      "Robustness(PGD-1000): 0.45\n",
      "***********\n",
      "layer:  31\n",
      "Robustness(Clean): 0.46\n",
      "Robustness(FGSM): 0.46\n",
      "Robustness(PGD-10): 0.47\n",
      "Robustness(PGD-100): 0.45\n",
      "Robustness(PGD-1000): 0.45\n",
      "***********\n",
      "layer:  32\n",
      "Robustness(Clean): 0.46\n",
      "Robustness(FGSM): 0.46\n",
      "Robustness(PGD-10): 0.46\n",
      "Robustness(PGD-100): 0.45\n",
      "Robustness(PGD-1000): 0.45\n",
      "***********\n",
      "layer:  33\n",
      "Robustness(Clean): 0.46\n",
      "Robustness(FGSM): 0.46\n",
      "Robustness(PGD-10): 0.46\n",
      "Robustness(PGD-100): 0.45\n",
      "Robustness(PGD-1000): 0.45\n",
      "***********\n",
      "layer:  34\n",
      "Robustness(Clean): 0.46\n",
      "Robustness(FGSM): 0.46\n",
      "Robustness(PGD-10): 0.46\n",
      "Robustness(PGD-100): 0.45\n",
      "Robustness(PGD-1000): 0.45\n",
      "***********\n",
      "layer:  35\n",
      "Robustness(Clean): 0.46\n",
      "Robustness(FGSM): 0.46\n",
      "Robustness(PGD-10): 0.46\n",
      "Robustness(PGD-100): 0.46\n",
      "Robustness(PGD-1000): 0.45\n",
      "***********\n",
      "layer:  36\n",
      "Robustness(Clean): 0.46\n",
      "Robustness(FGSM): 0.46\n",
      "Robustness(PGD-10): 0.46\n",
      "Robustness(PGD-100): 0.46\n",
      "Robustness(PGD-1000): 0.45\n",
      "***********\n",
      "layer:  37\n",
      "Robustness(Clean): 0.46\n",
      "Robustness(FGSM): 0.46\n",
      "Robustness(PGD-10): 0.46\n",
      "Robustness(PGD-100): 0.46\n",
      "Robustness(PGD-1000): 0.45\n",
      "***********\n",
      "layer:  38\n",
      "Robustness(Clean): 0.46\n",
      "Robustness(FGSM): 0.46\n",
      "Robustness(PGD-10): 0.46\n",
      "Robustness(PGD-100): 0.46\n",
      "Robustness(PGD-1000): 0.46\n",
      "***********\n",
      "layer:  39\n",
      "Robustness(Clean): 0.46\n",
      "Robustness(FGSM): 0.46\n",
      "Robustness(PGD-10): 0.47\n",
      "Robustness(PGD-100): 0.46\n",
      "Robustness(PGD-1000): 0.46\n",
      "***********\n",
      "layer:  40\n",
      "Robustness(Clean): 0.46\n",
      "Robustness(FGSM): 0.45\n",
      "Robustness(PGD-10): 0.46\n",
      "Robustness(PGD-100): 0.46\n",
      "Robustness(PGD-1000): 0.46\n",
      "***********\n",
      "layer:  41\n",
      "Robustness(Clean): 0.46\n",
      "Robustness(FGSM): 0.45\n",
      "Robustness(PGD-10): 0.46\n",
      "Robustness(PGD-100): 0.46\n",
      "Robustness(PGD-1000): 0.45\n",
      "***********\n",
      "layer:  42\n",
      "Robustness(Clean): 0.46\n",
      "Robustness(FGSM): 0.46\n",
      "Robustness(PGD-10): 0.46\n",
      "Robustness(PGD-100): 0.46\n",
      "Robustness(PGD-1000): 0.45\n",
      "***********\n",
      "layer:  43\n",
      "Robustness(Clean): 0.46\n",
      "Robustness(FGSM): 0.45\n",
      "Robustness(PGD-10): 0.46\n",
      "Robustness(PGD-100): 0.46\n",
      "Robustness(PGD-1000): 0.45\n",
      "***********\n",
      "layer:  44\n",
      "Robustness(Clean): 0.46\n",
      "Robustness(FGSM): 0.46\n",
      "Robustness(PGD-10): 0.46\n",
      "Robustness(PGD-100): 0.46\n",
      "Robustness(PGD-1000): 0.45\n",
      "***********\n",
      "layer:  45\n",
      "Robustness(Clean): 0.46\n",
      "Robustness(FGSM): 0.46\n",
      "Robustness(PGD-10): 0.46\n",
      "Robustness(PGD-100): 0.46\n",
      "Robustness(PGD-1000): 0.45\n",
      "***********\n",
      "layer:  46\n",
      "Robustness(Clean): 0.46\n",
      "Robustness(FGSM): 0.46\n",
      "Robustness(PGD-10): 0.46\n",
      "Robustness(PGD-100): 0.46\n",
      "Robustness(PGD-1000): 0.45\n",
      "***********\n",
      "layer:  47\n",
      "Robustness(Clean): 0.46\n",
      "Robustness(FGSM): 0.46\n",
      "Robustness(PGD-10): 0.46\n",
      "Robustness(PGD-100): 0.46\n",
      "Robustness(PGD-1000): 0.45\n",
      "***********\n",
      "layer:  48\n",
      "Robustness(Clean): 0.46\n",
      "Robustness(FGSM): 0.46\n",
      "Robustness(PGD-10): 0.46\n",
      "Robustness(PGD-100): 0.46\n",
      "Robustness(PGD-1000): 0.45\n",
      "***********\n",
      "layer:  49\n",
      "Robustness(Clean): 0.46\n",
      "Robustness(FGSM): 0.46\n",
      "Robustness(PGD-10): 0.46\n",
      "Robustness(PGD-100): 0.46\n",
      "Robustness(PGD-1000): 0.45\n"
     ]
    }
   ],
   "source": [
    "b = 0.18\n",
    "W = 1.76\n",
    "\n",
    "clean_acc    = []\n",
    "fgsm_acc     = []\n",
    "pgd_10_acc   = []\n",
    "pgd_100_acc  = []\n",
    "pgd_1000_acc = []\n",
    "\n",
    "for layer in range(50):\n",
    "    print(\"***********\")\n",
    "    print(\"layer: \", layer)\n",
    "    num_classes = 10\n",
    "    key = random.PRNGKey(0)\n",
    "\n",
    "    b_std = np.sqrt(b)\n",
    "    W_std = np.sqrt(W)\n",
    "\n",
    "    init_fn, apply_fn, kernel_fn_trans = stax.serial(DenseGroup(layer, 1024, W_std, b_std))\n",
    "    kernel_fn_trans = jit(kernel_fn_trans, static_argnums=(2,))\n",
    "\n",
    "    ntk_train_train_trans = kernel_fn_trans(x_train, x_train, 'ntk')\n",
    "    ntk_train_train_inv_trans = inv(ntk_train_train_trans)\n",
    "\n",
    "    clean_acc.append(evaluate(x_train, x_test, model_fn=model_fn, kernel_fn=kernel_fn_trans, t=t, c=0, attack_type='Clean'))\n",
    "    fgsm_acc.append(evaluate(x_train, adv_x_FGSM, model_fn=model_fn, kernel_fn=kernel_fn_trans, t=t, c=0, attack_type='FGSM'))\n",
    "    pgd_10_acc.append(evaluate(x_train, adv_x_PGD_10, model_fn=model_fn, kernel_fn=kernel_fn_trans, t=t, c=0, attack_type='PGD-10'))\n",
    "    pgd_100_acc.append(evaluate(x_train, adv_x_PGD_100, model_fn=model_fn, kernel_fn=kernel_fn_trans, t=t, c=0, attack_type='PGD-100'))\n",
    "    pgd_100_acc.append(evaluate(x_train, adv_x_PGD_1000, model_fn=model_fn, kernel_fn=kernel_fn_trans, t=t, c=0, attack_type='PGD-1000'))"
   ]
  },
  {
   "cell_type": "code",
   "execution_count": 29,
   "metadata": {},
   "outputs": [],
   "source": [
    "import matplotlib.pyplot as plt"
   ]
  },
  {
   "cell_type": "code",
   "execution_count": 30,
   "metadata": {},
   "outputs": [
    {
     "data": {
      "text/plain": [
       "<matplotlib.image.AxesImage at 0x7f7bb1e1b880>"
      ]
     },
     "execution_count": 30,
     "metadata": {},
     "output_type": "execute_result"
    },
    {
     "data": {
      "image/png": "[encoded data removed]",
      "text/plain": [
       "<Figure size 432x288 with 1 Axes>"
      ]
     },
     "metadata": {},
     "output_type": "display_data"
    }
   ],
   "source": [
    "plt.imshow(x_test[0].reshape((32 ,32, 3)), vmin=0, vmax=1)"
   ]
  },
  {
   "cell_type": "code",
   "execution_count": 31,
   "metadata": {},
   "outputs": [
    {
     "data": {
      "text/plain": [
       "<matplotlib.image.AxesImage at 0x7f7bada173d0>"
      ]
     },
     "execution_count": 31,
     "metadata": {},
     "output_type": "execute_result"
    },
    {
     "data": {
      "image/png": "[encoded data removed]",
      "text/plain": [
       "<Figure size 432x288 with 1 Axes>"
      ]
     },
     "metadata": {},
     "output_type": "display_data"
    }
   ],
   "source": [
    "plt.imshow(adv_x_FGSM[0].reshape((32, 32, 3)), vmin=0, vmax=1)"
   ]
  },
  {
   "cell_type": "code",
   "execution_count": 32,
   "metadata": {},
   "outputs": [
    {
     "data": {
      "text/plain": [
       "<matplotlib.image.AxesImage at 0x7f7bad9ec9d0>"
      ]
     },
     "execution_count": 32,
     "metadata": {},
     "output_type": "execute_result"
    },
    {
     "data": {
      "image/png": "[encoded data removed]",
      "text/plain": [
       "<Figure size 432x288 with 1 Axes>"
      ]
     },
     "metadata": {},
     "output_type": "display_data"
    }
   ],
   "source": [
    "plt.imshow(adv_x_PGD_10[0].reshape((32, 32, 3)), vmin=0, vmax=1)"
   ]
  },
  {
   "cell_type": "code",
   "execution_count": 33,
   "metadata": {},
   "outputs": [
    {
     "data": {
      "text/plain": [
       "<matplotlib.image.AxesImage at 0x7f7bad9405e0>"
      ]
     },
     "execution_count": 33,
     "metadata": {},
     "output_type": "execute_result"
    },
    {
     "data": {
      "image/png": "[encoded data removed]",
      "text/plain": [
       "<Figure size 432x288 with 1 Axes>"
      ]
     },
     "metadata": {},
     "output_type": "display_data"
    }
   ],
   "source": [
    "plt.imshow(adv_x_PGD_100[0].reshape((32, 32, 3)), vmin=0, vmax=1)"
   ]
  },
  {
   "cell_type": "code",
   "execution_count": 59,
   "metadata": {},
   "outputs": [
    {
     "data": {
      "text/plain": [
       "<matplotlib.image.AxesImage at 0x7f7ba2e9fe50>"
      ]
     },
     "execution_count": 59,
     "metadata": {},
     "output_type": "execute_result"
    },
    {
     "data": {
      "image/png": "[encoded data removed]",
      "text/plain": [
       "<Figure size 432x288 with 1 Axes>"
      ]
     },
     "metadata": {},
     "output_type": "display_data"
    }
   ],
   "source": [
    "plt.imshow(adv_x_PGD_1000[0].reshape((32, 32, 3)), vmin=0, vmax=1)"
   ]
  },
  {
   "cell_type": "code",
   "execution_count": 34,
   "metadata": {},
   "outputs": [
    {
     "ename": "NameError",
     "evalue": "name 'kernel_list' is not defined",
     "output_type": "error",
     "traceback": [
      "\u001b[0;31m---------------------------------------------------------------------------\u001b[0m",
      "\u001b[0;31mNameError\u001b[0m                                 Traceback (most recent call last)",
      "\u001b[0;32m<ipython-input-34-7fc5ad6c9cf0>\u001b[0m in \u001b[0;36m<module>\u001b[0;34m\u001b[0m\n\u001b[1;32m      9\u001b[0m \u001b[0;34m\u001b[0m\u001b[0m\n\u001b[1;32m     10\u001b[0m \u001b[0;31m# Clean\u001b[0m\u001b[0;34m\u001b[0m\u001b[0;34m\u001b[0m\u001b[0;34m\u001b[0m\u001b[0m\n\u001b[0;32m---> 11\u001b[0;31m \u001b[0mevaluate\u001b[0m\u001b[0;34m(\u001b[0m\u001b[0mx_train\u001b[0m\u001b[0;34m,\u001b[0m \u001b[0mx_test\u001b[0m\u001b[0;34m,\u001b[0m \u001b[0mmodel_fn\u001b[0m\u001b[0;34m=\u001b[0m\u001b[0mmodel_fn\u001b[0m\u001b[0;34m,\u001b[0m \u001b[0mkernel_fn\u001b[0m\u001b[0;34m=\u001b[0m\u001b[0mkernel_list\u001b[0m\u001b[0;34m[\u001b[0m\u001b[0;36m1\u001b[0m\u001b[0;34m]\u001b[0m\u001b[0;34m,\u001b[0m \u001b[0mt\u001b[0m\u001b[0;34m=\u001b[0m\u001b[0mt\u001b[0m\u001b[0;34m,\u001b[0m \u001b[0mc\u001b[0m\u001b[0;34m=\u001b[0m\u001b[0;36m0\u001b[0m\u001b[0;34m,\u001b[0m \u001b[0mattack_type\u001b[0m\u001b[0;34m=\u001b[0m\u001b[0;34m'Clean'\u001b[0m\u001b[0;34m)\u001b[0m\u001b[0;34m\u001b[0m\u001b[0;34m\u001b[0m\u001b[0m\n\u001b[0m\u001b[1;32m     12\u001b[0m \u001b[0mx_test_list\u001b[0m\u001b[0;34m.\u001b[0m\u001b[0mappend\u001b[0m\u001b[0;34m(\u001b[0m\u001b[0mx_test\u001b[0m\u001b[0;34m)\u001b[0m\u001b[0;34m\u001b[0m\u001b[0;34m\u001b[0m\u001b[0m\n\u001b[1;32m     13\u001b[0m \u001b[0mc_list\u001b[0m\u001b[0;34m.\u001b[0m\u001b[0mappend\u001b[0m\u001b[0;34m(\u001b[0m\u001b[0mc\u001b[0m\u001b[0;34m)\u001b[0m\u001b[0;34m\u001b[0m\u001b[0;34m\u001b[0m\u001b[0m\n",
      "\u001b[0;31mNameError\u001b[0m: name 'kernel_list' is not defined"
     ]
    }
   ],
   "source": [
    "t = None\n",
    "c = np.zeros((1, train_size)) + 0.00387526\n",
    "update_c_list = [1, 2, 4, 8, 16, 32, 64]\n",
    "loss_type = ['cross-entropy', 'mse']\n",
    "\n",
    "x_test_list = []\n",
    "c_list = []\n",
    "    \n",
    "\n",
    "# Clean    \n",
    "evaluate(x_train, x_test, model_fn=model_fn, kernel_fn=kernel_list[1], t=t, c=0, attack_type='Clean')\n",
    "x_test_list.append(x_test)\n",
    "c_list.append(c)\n",
    "\n",
    "\n",
    "# FGSM\n",
    "adv_x, c = fast_gradient_method(model_fn=model_fn, kernel_fn=kernel_list[1], obj_fn='test_c', \n",
    "                                grads_fn=test_col_wise_grads_fn, grads_c_fn=test_col_wise_c_grads_fn,\n",
    "                                x_train=x_train, y_train=y_train, x_test=x_test, y=y_test, t=t, c=c,\n",
    "                                loss=loss_type[0], eps=eps, clip_min=0, clip_max=1)\n",
    "\n",
    "evaluate(x_train, adv_x, model_fn=model_fn, kernel_fn=kernel_list[1], t=t, c=c, attack_type='FGSM')\n",
    "x_test_list.append(adv_x)\n",
    "c_list.append(c)\n",
    "\n",
    "for update_c in update_c_list:\n",
    "    # PGD 10\n",
    "    print('update_c:', update_c)\n",
    "    key, new_key = random.split(key)\n",
    "    c = np.zeros((1, train_size)) + 0.00387526\n",
    "    adv_x, c = projected_gradient_descent(model_fn=model_fn, kernel_fn=kernel_list[1], obj_fn='test_c', \n",
    "                                          grads_fn=test_col_wise_grads_fn, grads_c_fn=test_col_wise_c_grads_fn,\n",
    "                                          x_train=x_train, y_train=y_train, x_test=x_test, y=y_test, t=t, c=c, update_c=update_c, \n",
    "                                          loss=loss_type[0], eps=eps, eps_iter=eps_iter_10, nb_iter=10, \n",
    "                                          clip_min=0, clip_max=1, rand_init=None, rand_minmax=eps)\n",
    "    \n",
    "    evaluate(x_train, adv_x, model_fn=model_fn, kernel_fn=kernel_list[1], t=t, c=c, attack_type='PGD-10')\n",
    "    x_test_list.append(adv_x)\n",
    "    c_list.append(c)\n",
    "\n",
    "for update_c in update_c_list:\n",
    "    # PGD 100\n",
    "    print('update_c:', update_c)\n",
    "    key, new_key = random.split(key)\n",
    "    c = np.zeros((1, train_size)) + 0.00387526\n",
    "    adv_x, c = projected_gradient_descent(model_fn=model_fn, kernel_fn=kernel_list[1], obj_fn='test_c', \n",
    "                                          grads_fn=test_col_wise_grads_fn, grads_c_fn=test_col_wise_c_grads_fn,\n",
    "                                          x_train=x_train, y_train=y_train, x_test=x_test, y=y_test, t=t, c=c, update_c=update_c, \n",
    "                                          loss=loss_type[0], eps=eps, eps_iter=eps_iter_100, nb_iter=100, \n",
    "                                          clip_min=0, clip_max=1, rand_init=None, rand_minmax=eps)\n",
    "    \n",
    "    evaluate(x_train, adv_x, model_fn=model_fn, kernel_fn=kernel_list[1], t=t, c=c, attack_type='PGD-100')\n",
    "    x_test_list.append(adv_x)\n",
    "    c_list.append(c)"
   ]
  },
  {
   "cell_type": "code",
   "execution_count": null,
   "metadata": {},
   "outputs": [],
   "source": []
  }
 ],
 "metadata": {
  "kernelspec": {
   "display_name": "jax",
   "language": "python",
   "name": "jax"
  },
  "language_info": {
   "codemirror_mode": {
    "name": "ipython",
    "version": 3
   },
   "file_extension": ".py",
   "mimetype": "text/x-python",
   "name": "python",
   "nbconvert_exporter": "python",
   "pygments_lexer": "ipython3",
   "version": "3.8.5"
  }
 },
 "nbformat": 4,
 "nbformat_minor": 4
}
