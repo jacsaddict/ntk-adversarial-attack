{
 "cells": [
  {
   "cell_type": "code",
   "execution_count": 1,
   "metadata": {},
   "outputs": [],
   "source": [
    "import numpy as onp\n",
    "import tensorflow as tf\n",
    "import matplotlib.pyplot as plt\n",
    "\n",
    "from utils import *"
   ]
  },
  {
   "cell_type": "code",
   "execution_count": 2,
   "metadata": {},
   "outputs": [
    {
     "name": "stdout",
     "output_type": "stream",
     "text": [
      "2 Physical GPUs, 1 Logical GPU\n"
     ]
    }
   ],
   "source": [
    "gpus = tf.config.experimental.list_physical_devices('GPU')\n",
    "if gpus:\n",
    "  # Restrict TensorFlow to only use the first GPU\n",
    "    try:\n",
    "        tf.config.experimental.set_visible_devices(gpus[1], 'GPU')\n",
    "        logical_gpus = tf.config.experimental.list_logical_devices('GPU')\n",
    "        print(len(gpus), \"Physical GPUs,\", len(logical_gpus), \"Logical GPU\")\n",
    "    except RuntimeError as e:\n",
    "    # Visible devices must be set before GPUs have been initialized\n",
    "        print(e)"
   ]
  },
  {
   "cell_type": "markdown",
   "metadata": {},
   "source": [
    "# hyperparameters"
   ]
  },
  {
   "cell_type": "code",
   "execution_count": 3,
   "metadata": {},
   "outputs": [],
   "source": [
    "#data\n",
    "DATASET = 'cifar10'\n",
    "class_num   = 10\n",
    "test_size   = 2048\n",
    "train_size  = 4096\n",
    "image_shape = None\n",
    "\n",
    "if DATASET =='mnist':\n",
    "    image_shape = (28, 28, 1)\n",
    "elif DATASET == 'cifar10':\n",
    "    image_shape = (32, 32, 3)\n",
    "\n",
    "#training\n",
    "run = 10\n",
    "batch_size = 256\n",
    "epochs = 200"
   ]
  },
  {
   "cell_type": "code",
   "execution_count": 4,
   "metadata": {
    "scrolled": true
   },
   "outputs": [
    {
     "name": "stdout",
     "output_type": "stream",
     "text": [
      "WARNING:tensorflow:The operation `tf.image.convert_image_dtype` will be skipped since the input and output dtypes are identical.\n"
     ]
    },
    {
     "name": "stderr",
     "output_type": "stream",
     "text": [
      "WARNING:tensorflow:The operation `tf.image.convert_image_dtype` will be skipped since the input and output dtypes are identical.\n"
     ]
    },
    {
     "name": "stdout",
     "output_type": "stream",
     "text": [
      "WARNING:tensorflow:The operation `tf.image.convert_image_dtype` will be skipped since the input and output dtypes are identical.\n"
     ]
    },
    {
     "name": "stderr",
     "output_type": "stream",
     "text": [
      "WARNING:tensorflow:The operation `tf.image.convert_image_dtype` will be skipped since the input and output dtypes are identical.\n"
     ]
    },
    {
     "name": "stdout",
     "output_type": "stream",
     "text": [
      "WARNING:tensorflow:The operation `tf.image.convert_image_dtype` will be skipped since the input and output dtypes are identical.\n"
     ]
    },
    {
     "name": "stderr",
     "output_type": "stream",
     "text": [
      "WARNING:tensorflow:The operation `tf.image.convert_image_dtype` will be skipped since the input and output dtypes are identical.\n"
     ]
    },
    {
     "name": "stdout",
     "output_type": "stream",
     "text": [
      "WARNING:tensorflow:The operation `tf.image.convert_image_dtype` will be skipped since the input and output dtypes are identical.\n"
     ]
    },
    {
     "name": "stderr",
     "output_type": "stream",
     "text": [
      "WARNING:tensorflow:The operation `tf.image.convert_image_dtype` will be skipped since the input and output dtypes are identical.\n"
     ]
    },
    {
     "name": "stdout",
     "output_type": "stream",
     "text": [
      "WARNING:tensorflow:The operation `tf.image.convert_image_dtype` will be skipped since the input and output dtypes are identical.\n"
     ]
    },
    {
     "name": "stderr",
     "output_type": "stream",
     "text": [
      "WARNING:tensorflow:The operation `tf.image.convert_image_dtype` will be skipped since the input and output dtypes are identical.\n"
     ]
    },
    {
     "name": "stdout",
     "output_type": "stream",
     "text": [
      "WARNING:tensorflow:The operation `tf.image.convert_image_dtype` will be skipped since the input and output dtypes are identical.\n"
     ]
    },
    {
     "name": "stderr",
     "output_type": "stream",
     "text": [
      "WARNING:tensorflow:The operation `tf.image.convert_image_dtype` will be skipped since the input and output dtypes are identical.\n"
     ]
    },
    {
     "name": "stdout",
     "output_type": "stream",
     "text": [
      "WARNING:tensorflow:The operation `tf.image.convert_image_dtype` will be skipped since the input and output dtypes are identical.\n"
     ]
    },
    {
     "name": "stderr",
     "output_type": "stream",
     "text": [
      "WARNING:tensorflow:The operation `tf.image.convert_image_dtype` will be skipped since the input and output dtypes are identical.\n"
     ]
    },
    {
     "name": "stdout",
     "output_type": "stream",
     "text": [
      "WARNING:tensorflow:The operation `tf.image.convert_image_dtype` will be skipped since the input and output dtypes are identical.\n"
     ]
    },
    {
     "name": "stderr",
     "output_type": "stream",
     "text": [
      "WARNING:tensorflow:The operation `tf.image.convert_image_dtype` will be skipped since the input and output dtypes are identical.\n"
     ]
    }
   ],
   "source": [
    "x_train_all, y_train_all, x_test_all, y_test_all = tuple(onp.array(x) for x in get_dataset(DATASET, None, None, \n",
    "                                                                                  do_flatten_and_normalize=False))"
   ]
  },
  {
   "cell_type": "code",
   "execution_count": 5,
   "metadata": {},
   "outputs": [],
   "source": [
    "# shuffle\n",
    "seed = 0\n",
    "x_train_all, y_train_all = shaffle(x_train_all, y_train_all, seed)"
   ]
  },
  {
   "cell_type": "code",
   "execution_count": 6,
   "metadata": {},
   "outputs": [],
   "source": [
    "# down sample\n",
    "x_train = x_train_all[:train_size]\n",
    "y_train = y_train_all[:train_size]\n",
    "\n",
    "x_test = x_test_all[:test_size]\n",
    "y_test = y_test_all[:test_size]"
   ]
  },
  {
   "cell_type": "code",
   "execution_count": 7,
   "metadata": {},
   "outputs": [],
   "source": [
    "x_train, x_test = x_train.reshape((-1, *image_shape)), x_test.reshape((-1, *image_shape))"
   ]
  },
  {
   "cell_type": "code",
   "execution_count": 8,
   "metadata": {},
   "outputs": [],
   "source": [
    "layers = tf.keras.layers"
   ]
  },
  {
   "cell_type": "code",
   "execution_count": 9,
   "metadata": {},
   "outputs": [],
   "source": [
    "gaussian_initializer=tf.keras.initializers.GlorotNormal()"
   ]
  },
  {
   "cell_type": "code",
   "execution_count": 10,
   "metadata": {},
   "outputs": [],
   "source": [
    "img_input = layers.Input(shape=image_shape)\n",
    "x = layers.Conv2D(64,  (3, 3), activation='relu', padding='same', kernel_initializer=gaussian_initializer)(img_input)\n",
    "x = layers.Conv2D(64,  (3, 3), activation='relu', padding='same', kernel_initializer=gaussian_initializer)(x)\n",
    "x = layers.MaxPool2D()(x)\n",
    "x = layers.Conv2D(128, (3, 3), activation='relu', padding='same', kernel_initializer=gaussian_initializer)(x)\n",
    "x = layers.Conv2D(128, (3, 3), activation='relu', padding='same', kernel_initializer=gaussian_initializer)(x)\n",
    "x = layers.MaxPool2D()(x)\n",
    "x = layers.Conv2D(256, (3, 3), activation='relu', padding='same', kernel_initializer=gaussian_initializer)(x)\n",
    "x = layers.Conv2D(256, (3, 3), activation='relu', padding='same', kernel_initializer=gaussian_initializer)(x)\n",
    "x = layers.MaxPool2D()(x)\n",
    "x = layers.Conv2D(512, (3, 3), activation='relu', padding='same', kernel_initializer=gaussian_initializer)(x)\n",
    "x = layers.Conv2D(512, (3, 3), activation='relu', padding='same', kernel_initializer=gaussian_initializer)(x)\n",
    "x = layers.Conv2D(512, (3, 3), activation='relu', padding='same', kernel_initializer=gaussian_initializer)(x)\n",
    "x = layers.Conv2D(512, (3, 3), activation='relu', padding='same', kernel_initializer=gaussian_initializer)(x)\n",
    "x = layers.MaxPool2D()(x)\n",
    "x = layers.Conv2D(512, (3, 3), activation='relu', padding='same', kernel_initializer=gaussian_initializer)(x)\n",
    "x = layers.Conv2D(512, (3, 3), activation='relu', padding='same', kernel_initializer=gaussian_initializer)(x)\n",
    "x = layers.Conv2D(512, (3, 3), activation='relu', padding='same', kernel_initializer=gaussian_initializer)(x)\n",
    "x = layers.Conv2D(512, (3, 3), activation='relu', padding='same', kernel_initializer=gaussian_initializer)(x)\n",
    "x = layers.MaxPool2D()(x)\n",
    "x = layers.Flatten()(x)\n",
    "x = layers.Dense(256, activation='relu', kernel_initializer=gaussian_initializer)(x)\n",
    "x = layers.Dense(256, activation='relu', kernel_initializer=gaussian_initializer)(x)\n",
    "x = layers.Dense(256, activation='relu', kernel_initializer=gaussian_initializer)(x)\n",
    "out = layers.Dense(10, kernel_initializer=gaussian_initializer)(x)\n",
    "\n",
    "model = tf.keras.Model(inputs=img_input, outputs=out)"
   ]
  },
  {
   "cell_type": "code",
   "execution_count": 11,
   "metadata": {},
   "outputs": [],
   "source": [
    "def scheduler(epoch, lr):\n",
    "    if epoch < 5:\n",
    "        return 1e-4\n",
    "    elif epoch < 55:\n",
    "        return 1e-2\n",
    "    elif epoch < 105:\n",
    "        return 1e-2\n",
    "    else:\n",
    "        return 1e-4"
   ]
  },
  {
   "cell_type": "code",
   "execution_count": 12,
   "metadata": {},
   "outputs": [],
   "source": [
    "model.compile(optimizer=tf.keras.optimizers.SGD(0.01),\n",
    "              loss=tf.keras.losses.MSE,\n",
    "              metrics=['accuracy'])"
   ]
  },
  {
   "cell_type": "code",
   "execution_count": 13,
   "metadata": {},
   "outputs": [],
   "source": [
    "callback = tf.keras.callbacks.LearningRateScheduler(scheduler)"
   ]
  },
  {
   "cell_type": "code",
   "execution_count": 14,
   "metadata": {
    "scrolled": true
   },
   "outputs": [
    {
     "name": "stdout",
     "output_type": "stream",
     "text": [
      "Epoch 1/200\n",
      "15/15 [==============================] - 7s 459ms/step - loss: 0.1000 - accuracy: 0.1072 - val_loss: 0.1000 - val_accuracy: 0.1366\n",
      "Epoch 2/200\n",
      "15/15 [==============================] - 1s 66ms/step - loss: 0.1000 - accuracy: 0.1099 - val_loss: 0.1000 - val_accuracy: 0.1415\n",
      "Epoch 3/200\n",
      "15/15 [==============================] - 3s 203ms/step - loss: 0.1000 - accuracy: 0.1093 - val_loss: 0.0999 - val_accuracy: 0.1341\n",
      "Epoch 4/200\n",
      "15/15 [==============================] - 0s 30ms/step - loss: 0.0999 - accuracy: 0.1069 - val_loss: 0.0999 - val_accuracy: 0.1415\n",
      "Epoch 5/200\n",
      "15/15 [==============================] - 0s 30ms/step - loss: 0.0999 - accuracy: 0.1077 - val_loss: 0.0999 - val_accuracy: 0.1268\n",
      "Epoch 6/200\n",
      "15/15 [==============================] - 0s 30ms/step - loss: 0.0993 - accuracy: 0.1017 - val_loss: 0.0986 - val_accuracy: 0.1463\n",
      "Epoch 7/200\n",
      "15/15 [==============================] - 0s 30ms/step - loss: 0.0981 - accuracy: 0.1047 - val_loss: 0.0974 - val_accuracy: 0.1463\n",
      "Epoch 8/200\n",
      "15/15 [==============================] - 0s 30ms/step - loss: 0.0970 - accuracy: 0.1047 - val_loss: 0.0963 - val_accuracy: 0.1463\n",
      "Epoch 9/200\n",
      "15/15 [==============================] - 0s 30ms/step - loss: 0.0960 - accuracy: 0.1047 - val_loss: 0.0955 - val_accuracy: 0.1463\n",
      "Epoch 10/200\n",
      "15/15 [==============================] - 0s 30ms/step - loss: 0.0952 - accuracy: 0.1047 - val_loss: 0.0947 - val_accuracy: 0.1463\n",
      "Epoch 11/200\n",
      "15/15 [==============================] - 0s 30ms/step - loss: 0.0945 - accuracy: 0.1047 - val_loss: 0.0940 - val_accuracy: 0.1463\n",
      "Epoch 12/200\n",
      "15/15 [==============================] - 0s 30ms/step - loss: 0.0939 - accuracy: 0.1047 - val_loss: 0.0935 - val_accuracy: 0.1463\n",
      "Epoch 13/200\n",
      "15/15 [==============================] - 0s 30ms/step - loss: 0.0934 - accuracy: 0.1047 - val_loss: 0.0930 - val_accuracy: 0.1463\n",
      "Epoch 14/200\n",
      "15/15 [==============================] - 0s 32ms/step - loss: 0.0929 - accuracy: 0.1047 - val_loss: 0.0926 - val_accuracy: 0.1463\n",
      "Epoch 15/200\n",
      "15/15 [==============================] - 0s 30ms/step - loss: 0.0925 - accuracy: 0.1047 - val_loss: 0.0922 - val_accuracy: 0.1463\n",
      "Epoch 16/200\n",
      "15/15 [==============================] - 0s 30ms/step - loss: 0.0922 - accuracy: 0.1047 - val_loss: 0.0919 - val_accuracy: 0.1463\n",
      "Epoch 17/200\n",
      "15/15 [==============================] - 0s 30ms/step - loss: 0.0919 - accuracy: 0.1047 - val_loss: 0.0916 - val_accuracy: 0.1463\n",
      "Epoch 18/200\n",
      "15/15 [==============================] - 0s 30ms/step - loss: 0.0916 - accuracy: 0.1047 - val_loss: 0.0914 - val_accuracy: 0.1463\n",
      "Epoch 19/200\n",
      "15/15 [==============================] - 0s 30ms/step - loss: 0.0914 - accuracy: 0.1047 - val_loss: 0.0912 - val_accuracy: 0.1463\n",
      "Epoch 20/200\n",
      "15/15 [==============================] - 0s 30ms/step - loss: 0.0912 - accuracy: 0.1047 - val_loss: 0.0910 - val_accuracy: 0.1463\n",
      "Epoch 21/200\n",
      "15/15 [==============================] - 1s 34ms/step - loss: 0.0911 - accuracy: 0.1047 - val_loss: 0.0909 - val_accuracy: 0.1463\n",
      "Epoch 22/200\n",
      "15/15 [==============================] - 0s 30ms/step - loss: 0.0909 - accuracy: 0.1047 - val_loss: 0.0908 - val_accuracy: 0.1463\n",
      "Epoch 23/200\n",
      "15/15 [==============================] - 0s 30ms/step - loss: 0.0908 - accuracy: 0.1047 - val_loss: 0.0906 - val_accuracy: 0.1463\n",
      "Epoch 24/200\n",
      "15/15 [==============================] - 0s 30ms/step - loss: 0.0907 - accuracy: 0.1047 - val_loss: 0.0905 - val_accuracy: 0.1463\n",
      "Epoch 25/200\n",
      "15/15 [==============================] - 0s 30ms/step - loss: 0.0906 - accuracy: 0.1047 - val_loss: 0.0905 - val_accuracy: 0.1463\n",
      "Epoch 26/200\n",
      "15/15 [==============================] - 0s 30ms/step - loss: 0.0905 - accuracy: 0.1047 - val_loss: 0.0904 - val_accuracy: 0.1463\n",
      "Epoch 27/200\n",
      "15/15 [==============================] - 0s 30ms/step - loss: 0.0905 - accuracy: 0.1047 - val_loss: 0.0903 - val_accuracy: 0.1463\n",
      "Epoch 28/200\n",
      "15/15 [==============================] - 0s 30ms/step - loss: 0.0904 - accuracy: 0.1047 - val_loss: 0.0903 - val_accuracy: 0.1463\n",
      "Epoch 29/200\n",
      "15/15 [==============================] - 0s 30ms/step - loss: 0.0904 - accuracy: 0.1047 - val_loss: 0.0902 - val_accuracy: 0.1463\n",
      "Epoch 30/200\n",
      "15/15 [==============================] - 0s 30ms/step - loss: 0.0903 - accuracy: 0.1047 - val_loss: 0.0902 - val_accuracy: 0.1463\n",
      "Epoch 31/200\n",
      "15/15 [==============================] - 0s 30ms/step - loss: 0.0903 - accuracy: 0.1047 - val_loss: 0.0902 - val_accuracy: 0.1463\n",
      "Epoch 32/200\n",
      "15/15 [==============================] - 0s 30ms/step - loss: 0.0902 - accuracy: 0.1047 - val_loss: 0.0901 - val_accuracy: 0.1463\n",
      "Epoch 33/200\n",
      "15/15 [==============================] - 0s 30ms/step - loss: 0.0902 - accuracy: 0.1047 - val_loss: 0.0901 - val_accuracy: 0.1463\n",
      "Epoch 34/200\n",
      "15/15 [==============================] - 0s 30ms/step - loss: 0.0902 - accuracy: 0.1047 - val_loss: 0.0901 - val_accuracy: 0.1463\n",
      "Epoch 35/200\n",
      "15/15 [==============================] - 0s 30ms/step - loss: 0.0902 - accuracy: 0.1047 - val_loss: 0.0901 - val_accuracy: 0.1463\n",
      "Epoch 36/200\n",
      "15/15 [==============================] - 0s 30ms/step - loss: 0.0901 - accuracy: 0.1047 - val_loss: 0.0900 - val_accuracy: 0.1463\n",
      "Epoch 37/200\n",
      "15/15 [==============================] - 0s 30ms/step - loss: 0.0901 - accuracy: 0.1047 - val_loss: 0.0900 - val_accuracy: 0.1463\n",
      "Epoch 38/200\n",
      "15/15 [==============================] - 0s 30ms/step - loss: 0.0901 - accuracy: 0.1047 - val_loss: 0.0900 - val_accuracy: 0.1463\n",
      "Epoch 39/200\n",
      "15/15 [==============================] - 0s 30ms/step - loss: 0.0901 - accuracy: 0.1047 - val_loss: 0.0900 - val_accuracy: 0.1463\n",
      "Epoch 40/200\n",
      "15/15 [==============================] - 0s 31ms/step - loss: 0.0901 - accuracy: 0.1047 - val_loss: 0.0900 - val_accuracy: 0.1463\n",
      "Epoch 41/200\n",
      "15/15 [==============================] - 0s 30ms/step - loss: 0.0901 - accuracy: 0.1047 - val_loss: 0.0900 - val_accuracy: 0.1463\n",
      "Epoch 42/200\n",
      "15/15 [==============================] - 0s 30ms/step - loss: 0.0901 - accuracy: 0.1047 - val_loss: 0.0900 - val_accuracy: 0.1463\n",
      "Epoch 43/200\n",
      "15/15 [==============================] - 0s 30ms/step - loss: 0.0900 - accuracy: 0.1047 - val_loss: 0.0900 - val_accuracy: 0.1463\n",
      "Epoch 44/200\n",
      "15/15 [==============================] - 0s 30ms/step - loss: 0.0900 - accuracy: 0.1047 - val_loss: 0.0900 - val_accuracy: 0.1463\n",
      "Epoch 45/200\n",
      "15/15 [==============================] - 0s 30ms/step - loss: 0.0900 - accuracy: 0.1047 - val_loss: 0.0900 - val_accuracy: 0.1463\n",
      "Epoch 46/200\n",
      "15/15 [==============================] - 0s 30ms/step - loss: 0.0900 - accuracy: 0.1047 - val_loss: 0.0900 - val_accuracy: 0.1463\n",
      "Epoch 47/200\n",
      "15/15 [==============================] - 1s 34ms/step - loss: 0.0900 - accuracy: 0.1047 - val_loss: 0.0900 - val_accuracy: 0.1463\n",
      "Epoch 48/200\n",
      "15/15 [==============================] - 0s 30ms/step - loss: 0.0900 - accuracy: 0.1047 - val_loss: 0.0900 - val_accuracy: 0.1463\n",
      "Epoch 49/200\n",
      "15/15 [==============================] - 0s 30ms/step - loss: 0.0900 - accuracy: 0.1047 - val_loss: 0.0900 - val_accuracy: 0.1463\n",
      "Epoch 50/200\n",
      "15/15 [==============================] - 0s 30ms/step - loss: 0.0900 - accuracy: 0.1047 - val_loss: 0.0900 - val_accuracy: 0.1463\n",
      "Epoch 51/200\n",
      "15/15 [==============================] - 0s 30ms/step - loss: 0.0900 - accuracy: 0.1047 - val_loss: 0.0900 - val_accuracy: 0.1463\n",
      "Epoch 52/200\n",
      "15/15 [==============================] - 0s 30ms/step - loss: 0.0900 - accuracy: 0.1047 - val_loss: 0.0900 - val_accuracy: 0.1463\n",
      "Epoch 53/200\n",
      "15/15 [==============================] - 0s 30ms/step - loss: 0.0900 - accuracy: 0.1047 - val_loss: 0.0900 - val_accuracy: 0.1463\n",
      "Epoch 54/200\n",
      "15/15 [==============================] - 1s 34ms/step - loss: 0.0900 - accuracy: 0.1047 - val_loss: 0.0900 - val_accuracy: 0.1463\n",
      "Epoch 55/200\n",
      "15/15 [==============================] - 0s 30ms/step - loss: 0.0900 - accuracy: 0.1047 - val_loss: 0.0900 - val_accuracy: 0.1463\n",
      "Epoch 56/200\n",
      "15/15 [==============================] - 0s 30ms/step - loss: 0.0900 - accuracy: 0.1047 - val_loss: 0.0900 - val_accuracy: 0.1463\n",
      "Epoch 57/200\n",
      "15/15 [==============================] - 0s 30ms/step - loss: 0.0900 - accuracy: 0.1047 - val_loss: 0.0900 - val_accuracy: 0.1463\n",
      "Epoch 58/200\n"
     ]
    },
    {
     "name": "stdout",
     "output_type": "stream",
     "text": [
      "15/15 [==============================] - 0s 30ms/step - loss: 0.0900 - accuracy: 0.1047 - val_loss: 0.0900 - val_accuracy: 0.1463\n",
      "Epoch 59/200\n",
      "15/15 [==============================] - 0s 30ms/step - loss: 0.0900 - accuracy: 0.1047 - val_loss: 0.0900 - val_accuracy: 0.1463\n",
      "Epoch 60/200\n",
      "15/15 [==============================] - 0s 30ms/step - loss: 0.0900 - accuracy: 0.1047 - val_loss: 0.0900 - val_accuracy: 0.1463\n",
      "Epoch 61/200\n",
      "15/15 [==============================] - 1s 34ms/step - loss: 0.0900 - accuracy: 0.1047 - val_loss: 0.0900 - val_accuracy: 0.1463\n",
      "Epoch 62/200\n",
      "15/15 [==============================] - 0s 30ms/step - loss: 0.0900 - accuracy: 0.1047 - val_loss: 0.0900 - val_accuracy: 0.1463\n",
      "Epoch 63/200\n",
      "15/15 [==============================] - 0s 30ms/step - loss: 0.0900 - accuracy: 0.1047 - val_loss: 0.0900 - val_accuracy: 0.1463\n",
      "Epoch 64/200\n",
      "15/15 [==============================] - 0s 30ms/step - loss: 0.0900 - accuracy: 0.1047 - val_loss: 0.0900 - val_accuracy: 0.1463\n",
      "Epoch 65/200\n",
      "15/15 [==============================] - 0s 30ms/step - loss: 0.0900 - accuracy: 0.1047 - val_loss: 0.0900 - val_accuracy: 0.1463\n",
      "Epoch 66/200\n",
      "15/15 [==============================] - 0s 30ms/step - loss: 0.0900 - accuracy: 0.1047 - val_loss: 0.0900 - val_accuracy: 0.1463\n",
      "Epoch 67/200\n",
      "15/15 [==============================] - 0s 30ms/step - loss: 0.0900 - accuracy: 0.1047 - val_loss: 0.0900 - val_accuracy: 0.1463\n",
      "Epoch 68/200\n",
      "15/15 [==============================] - 1s 34ms/step - loss: 0.0900 - accuracy: 0.1047 - val_loss: 0.0900 - val_accuracy: 0.1463\n",
      "Epoch 69/200\n",
      "15/15 [==============================] - 0s 30ms/step - loss: 0.0900 - accuracy: 0.1050 - val_loss: 0.0900 - val_accuracy: 0.1463\n",
      "Epoch 70/200\n",
      "15/15 [==============================] - 0s 30ms/step - loss: 0.0900 - accuracy: 0.1047 - val_loss: 0.0900 - val_accuracy: 0.1463\n",
      "Epoch 71/200\n",
      "15/15 [==============================] - 0s 30ms/step - loss: 0.0900 - accuracy: 0.1047 - val_loss: 0.0900 - val_accuracy: 0.1463\n",
      "Epoch 72/200\n",
      "15/15 [==============================] - 0s 30ms/step - loss: 0.0900 - accuracy: 0.1047 - val_loss: 0.0900 - val_accuracy: 0.1463\n",
      "Epoch 73/200\n",
      "15/15 [==============================] - 0s 30ms/step - loss: 0.0900 - accuracy: 0.1058 - val_loss: 0.0900 - val_accuracy: 0.1463\n",
      "Epoch 74/200\n",
      "15/15 [==============================] - 0s 30ms/step - loss: 0.0900 - accuracy: 0.1047 - val_loss: 0.0900 - val_accuracy: 0.1463\n",
      "Epoch 75/200\n",
      "15/15 [==============================] - 1s 34ms/step - loss: 0.0900 - accuracy: 0.1047 - val_loss: 0.0900 - val_accuracy: 0.1463\n",
      "Epoch 76/200\n",
      "15/15 [==============================] - 0s 30ms/step - loss: 0.0900 - accuracy: 0.1047 - val_loss: 0.0900 - val_accuracy: 0.1463\n",
      "Epoch 77/200\n",
      "15/15 [==============================] - 0s 30ms/step - loss: 0.0900 - accuracy: 0.1047 - val_loss: 0.0900 - val_accuracy: 0.1463\n",
      "Epoch 78/200\n",
      "15/15 [==============================] - 0s 30ms/step - loss: 0.0900 - accuracy: 0.1142 - val_loss: 0.0900 - val_accuracy: 0.1463\n",
      "Epoch 79/200\n",
      "15/15 [==============================] - 0s 30ms/step - loss: 0.0900 - accuracy: 0.1055 - val_loss: 0.0900 - val_accuracy: 0.1463\n",
      "Epoch 80/200\n",
      "15/15 [==============================] - 0s 30ms/step - loss: 0.0900 - accuracy: 0.1047 - val_loss: 0.0900 - val_accuracy: 0.1463\n",
      "Epoch 81/200\n",
      "15/15 [==============================] - 0s 30ms/step - loss: 0.0900 - accuracy: 0.1047 - val_loss: 0.0900 - val_accuracy: 0.1463\n",
      "Epoch 82/200\n",
      "15/15 [==============================] - 1s 34ms/step - loss: 0.0900 - accuracy: 0.1082 - val_loss: 0.0900 - val_accuracy: 0.1463\n",
      "Epoch 83/200\n",
      "15/15 [==============================] - 0s 30ms/step - loss: 0.0900 - accuracy: 0.1047 - val_loss: 0.0900 - val_accuracy: 0.1463\n",
      "Epoch 84/200\n",
      "15/15 [==============================] - 0s 30ms/step - loss: 0.0900 - accuracy: 0.1047 - val_loss: 0.0900 - val_accuracy: 0.1463\n",
      "Epoch 85/200\n",
      "15/15 [==============================] - 0s 30ms/step - loss: 0.0900 - accuracy: 0.1047 - val_loss: 0.0900 - val_accuracy: 0.1463\n",
      "Epoch 86/200\n",
      "15/15 [==============================] - 0s 30ms/step - loss: 0.0900 - accuracy: 0.1047 - val_loss: 0.0900 - val_accuracy: 0.1463\n",
      "Epoch 87/200\n",
      "15/15 [==============================] - 0s 30ms/step - loss: 0.0900 - accuracy: 0.1047 - val_loss: 0.0900 - val_accuracy: 0.1463\n",
      "Epoch 88/200\n",
      "15/15 [==============================] - 0s 30ms/step - loss: 0.0900 - accuracy: 0.1047 - val_loss: 0.0900 - val_accuracy: 0.1463\n",
      "Epoch 89/200\n",
      "15/15 [==============================] - 1s 34ms/step - loss: 0.0900 - accuracy: 0.1047 - val_loss: 0.0900 - val_accuracy: 0.1463\n",
      "Epoch 90/200\n",
      "15/15 [==============================] - 0s 30ms/step - loss: 0.0900 - accuracy: 0.1047 - val_loss: 0.0900 - val_accuracy: 0.1463\n",
      "Epoch 91/200\n",
      "15/15 [==============================] - 0s 30ms/step - loss: 0.0900 - accuracy: 0.1047 - val_loss: 0.0900 - val_accuracy: 0.1463\n",
      "Epoch 92/200\n",
      "15/15 [==============================] - 0s 30ms/step - loss: 0.0900 - accuracy: 0.1047 - val_loss: 0.0900 - val_accuracy: 0.1463\n",
      "Epoch 93/200\n",
      "15/15 [==============================] - 0s 30ms/step - loss: 0.0900 - accuracy: 0.1047 - val_loss: 0.0900 - val_accuracy: 0.1463\n",
      "Epoch 94/200\n",
      "15/15 [==============================] - 0s 30ms/step - loss: 0.0900 - accuracy: 0.1047 - val_loss: 0.0900 - val_accuracy: 0.1463\n",
      "Epoch 95/200\n",
      "15/15 [==============================] - 0s 30ms/step - loss: 0.0900 - accuracy: 0.1047 - val_loss: 0.0900 - val_accuracy: 0.1463\n",
      "Epoch 96/200\n",
      "15/15 [==============================] - 0s 33ms/step - loss: 0.0900 - accuracy: 0.1066 - val_loss: 0.0900 - val_accuracy: 0.1463\n",
      "Epoch 97/200\n",
      "15/15 [==============================] - 0s 30ms/step - loss: 0.0900 - accuracy: 0.1047 - val_loss: 0.0900 - val_accuracy: 0.1463\n",
      "Epoch 98/200\n",
      "15/15 [==============================] - 0s 30ms/step - loss: 0.0900 - accuracy: 0.1047 - val_loss: 0.0900 - val_accuracy: 0.1463\n",
      "Epoch 99/200\n",
      "15/15 [==============================] - 0s 30ms/step - loss: 0.0900 - accuracy: 0.1047 - val_loss: 0.0900 - val_accuracy: 0.1463\n",
      "Epoch 100/200\n",
      "15/15 [==============================] - 0s 30ms/step - loss: 0.0900 - accuracy: 0.1047 - val_loss: 0.0900 - val_accuracy: 0.1463\n",
      "Epoch 101/200\n",
      "15/15 [==============================] - 0s 30ms/step - loss: 0.0900 - accuracy: 0.1047 - val_loss: 0.0900 - val_accuracy: 0.1463\n",
      "Epoch 102/200\n",
      "15/15 [==============================] - 0s 30ms/step - loss: 0.0900 - accuracy: 0.1047 - val_loss: 0.0900 - val_accuracy: 0.1463\n",
      "Epoch 103/200\n",
      "15/15 [==============================] - 1s 34ms/step - loss: 0.0900 - accuracy: 0.1047 - val_loss: 0.0900 - val_accuracy: 0.1463\n",
      "Epoch 104/200\n",
      "15/15 [==============================] - 0s 30ms/step - loss: 0.0900 - accuracy: 0.1047 - val_loss: 0.0900 - val_accuracy: 0.1463\n",
      "Epoch 105/200\n",
      "15/15 [==============================] - 0s 30ms/step - loss: 0.0900 - accuracy: 0.1047 - val_loss: 0.0900 - val_accuracy: 0.1463\n",
      "Epoch 106/200\n",
      "15/15 [==============================] - 0s 30ms/step - loss: 0.0900 - accuracy: 0.1047 - val_loss: 0.0900 - val_accuracy: 0.1463\n",
      "Epoch 107/200\n",
      "15/15 [==============================] - 0s 30ms/step - loss: 0.0900 - accuracy: 0.1047 - val_loss: 0.0900 - val_accuracy: 0.1463\n",
      "Epoch 108/200\n",
      "15/15 [==============================] - 0s 30ms/step - loss: 0.0900 - accuracy: 0.1047 - val_loss: 0.0900 - val_accuracy: 0.1463\n",
      "Epoch 109/200\n",
      "15/15 [==============================] - 0s 30ms/step - loss: 0.0900 - accuracy: 0.1047 - val_loss: 0.0900 - val_accuracy: 0.1463\n",
      "Epoch 110/200\n",
      "15/15 [==============================] - 1s 34ms/step - loss: 0.0900 - accuracy: 0.1047 - val_loss: 0.0900 - val_accuracy: 0.1463\n",
      "Epoch 111/200\n",
      "15/15 [==============================] - 0s 30ms/step - loss: 0.0900 - accuracy: 0.1047 - val_loss: 0.0900 - val_accuracy: 0.1463\n",
      "Epoch 112/200\n",
      "15/15 [==============================] - 0s 30ms/step - loss: 0.0900 - accuracy: 0.1047 - val_loss: 0.0900 - val_accuracy: 0.1463\n",
      "Epoch 113/200\n",
      "15/15 [==============================] - 0s 30ms/step - loss: 0.0900 - accuracy: 0.1047 - val_loss: 0.0900 - val_accuracy: 0.1463\n",
      "Epoch 114/200\n",
      "15/15 [==============================] - 0s 30ms/step - loss: 0.0900 - accuracy: 0.1047 - val_loss: 0.0900 - val_accuracy: 0.1463\n",
      "Epoch 115/200\n"
     ]
    },
    {
     "name": "stdout",
     "output_type": "stream",
     "text": [
      "15/15 [==============================] - 0s 30ms/step - loss: 0.0900 - accuracy: 0.1047 - val_loss: 0.0900 - val_accuracy: 0.1463\n",
      "Epoch 116/200\n",
      "15/15 [==============================] - 0s 30ms/step - loss: 0.0900 - accuracy: 0.1047 - val_loss: 0.0900 - val_accuracy: 0.1463\n",
      "Epoch 117/200\n",
      "15/15 [==============================] - 0s 30ms/step - loss: 0.0900 - accuracy: 0.1047 - val_loss: 0.0900 - val_accuracy: 0.1463\n",
      "Epoch 118/200\n",
      "15/15 [==============================] - 0s 30ms/step - loss: 0.0900 - accuracy: 0.1047 - val_loss: 0.0900 - val_accuracy: 0.1463\n",
      "Epoch 119/200\n",
      "15/15 [==============================] - 0s 30ms/step - loss: 0.0900 - accuracy: 0.1047 - val_loss: 0.0900 - val_accuracy: 0.1463\n",
      "Epoch 120/200\n",
      "15/15 [==============================] - 0s 30ms/step - loss: 0.0900 - accuracy: 0.1047 - val_loss: 0.0900 - val_accuracy: 0.1463\n",
      "Epoch 121/200\n",
      "15/15 [==============================] - 0s 30ms/step - loss: 0.0900 - accuracy: 0.1047 - val_loss: 0.0900 - val_accuracy: 0.1463\n",
      "Epoch 122/200\n",
      "15/15 [==============================] - 0s 30ms/step - loss: 0.0900 - accuracy: 0.1047 - val_loss: 0.0900 - val_accuracy: 0.1463\n",
      "Epoch 123/200\n",
      "15/15 [==============================] - 0s 30ms/step - loss: 0.0900 - accuracy: 0.1047 - val_loss: 0.0900 - val_accuracy: 0.1463\n",
      "Epoch 124/200\n",
      "15/15 [==============================] - 0s 30ms/step - loss: 0.0900 - accuracy: 0.1047 - val_loss: 0.0900 - val_accuracy: 0.1463\n",
      "Epoch 125/200\n",
      "15/15 [==============================] - 0s 30ms/step - loss: 0.0900 - accuracy: 0.1047 - val_loss: 0.0900 - val_accuracy: 0.1463\n",
      "Epoch 126/200\n",
      "15/15 [==============================] - 0s 30ms/step - loss: 0.0900 - accuracy: 0.1047 - val_loss: 0.0900 - val_accuracy: 0.1463\n",
      "Epoch 127/200\n",
      "15/15 [==============================] - 0s 30ms/step - loss: 0.0900 - accuracy: 0.1047 - val_loss: 0.0900 - val_accuracy: 0.1463\n",
      "Epoch 128/200\n",
      "15/15 [==============================] - 0s 30ms/step - loss: 0.0900 - accuracy: 0.1047 - val_loss: 0.0900 - val_accuracy: 0.1463\n",
      "Epoch 129/200\n",
      "15/15 [==============================] - 0s 33ms/step - loss: 0.0900 - accuracy: 0.1047 - val_loss: 0.0900 - val_accuracy: 0.1463\n",
      "Epoch 130/200\n",
      "15/15 [==============================] - 0s 30ms/step - loss: 0.0900 - accuracy: 0.1047 - val_loss: 0.0900 - val_accuracy: 0.1463\n",
      "Epoch 131/200\n",
      "15/15 [==============================] - 0s 30ms/step - loss: 0.0900 - accuracy: 0.1047 - val_loss: 0.0900 - val_accuracy: 0.1463\n",
      "Epoch 132/200\n",
      "15/15 [==============================] - 0s 30ms/step - loss: 0.0900 - accuracy: 0.1047 - val_loss: 0.0900 - val_accuracy: 0.1463\n",
      "Epoch 133/200\n",
      "15/15 [==============================] - 0s 30ms/step - loss: 0.0900 - accuracy: 0.1047 - val_loss: 0.0900 - val_accuracy: 0.1463\n",
      "Epoch 134/200\n",
      "15/15 [==============================] - 0s 30ms/step - loss: 0.0900 - accuracy: 0.1047 - val_loss: 0.0900 - val_accuracy: 0.1463\n",
      "Epoch 135/200\n",
      "15/15 [==============================] - 0s 30ms/step - loss: 0.0900 - accuracy: 0.1047 - val_loss: 0.0900 - val_accuracy: 0.1463\n",
      "Epoch 136/200\n",
      "15/15 [==============================] - 1s 34ms/step - loss: 0.0900 - accuracy: 0.1047 - val_loss: 0.0900 - val_accuracy: 0.1463\n",
      "Epoch 137/200\n",
      "15/15 [==============================] - 0s 30ms/step - loss: 0.0900 - accuracy: 0.1047 - val_loss: 0.0900 - val_accuracy: 0.1463\n",
      "Epoch 138/200\n",
      "15/15 [==============================] - 0s 30ms/step - loss: 0.0900 - accuracy: 0.1047 - val_loss: 0.0900 - val_accuracy: 0.1463\n",
      "Epoch 139/200\n",
      "15/15 [==============================] - 0s 30ms/step - loss: 0.0900 - accuracy: 0.1047 - val_loss: 0.0900 - val_accuracy: 0.1463\n",
      "Epoch 140/200\n",
      "15/15 [==============================] - 0s 30ms/step - loss: 0.0900 - accuracy: 0.1047 - val_loss: 0.0900 - val_accuracy: 0.1463\n",
      "Epoch 141/200\n",
      "15/15 [==============================] - 0s 30ms/step - loss: 0.0900 - accuracy: 0.1047 - val_loss: 0.0900 - val_accuracy: 0.1463\n",
      "Epoch 142/200\n",
      "15/15 [==============================] - 0s 30ms/step - loss: 0.0900 - accuracy: 0.1047 - val_loss: 0.0900 - val_accuracy: 0.1463\n",
      "Epoch 143/200\n",
      "15/15 [==============================] - 1s 34ms/step - loss: 0.0900 - accuracy: 0.1047 - val_loss: 0.0900 - val_accuracy: 0.1463\n",
      "Epoch 144/200\n",
      "15/15 [==============================] - 0s 30ms/step - loss: 0.0900 - accuracy: 0.1047 - val_loss: 0.0900 - val_accuracy: 0.1463\n",
      "Epoch 145/200\n",
      "15/15 [==============================] - 0s 30ms/step - loss: 0.0900 - accuracy: 0.1047 - val_loss: 0.0900 - val_accuracy: 0.1463\n",
      "Epoch 146/200\n",
      "15/15 [==============================] - 0s 30ms/step - loss: 0.0900 - accuracy: 0.1047 - val_loss: 0.0900 - val_accuracy: 0.1463\n",
      "Epoch 147/200\n",
      "15/15 [==============================] - 0s 30ms/step - loss: 0.0900 - accuracy: 0.1047 - val_loss: 0.0900 - val_accuracy: 0.1463\n",
      "Epoch 148/200\n",
      "15/15 [==============================] - 0s 30ms/step - loss: 0.0900 - accuracy: 0.1047 - val_loss: 0.0900 - val_accuracy: 0.1463\n",
      "Epoch 149/200\n",
      "15/15 [==============================] - 0s 30ms/step - loss: 0.0900 - accuracy: 0.1047 - val_loss: 0.0900 - val_accuracy: 0.1463\n",
      "Epoch 150/200\n",
      "15/15 [==============================] - 1s 34ms/step - loss: 0.0900 - accuracy: 0.1047 - val_loss: 0.0900 - val_accuracy: 0.1463\n",
      "Epoch 151/200\n",
      "15/15 [==============================] - 0s 30ms/step - loss: 0.0900 - accuracy: 0.1047 - val_loss: 0.0900 - val_accuracy: 0.1463\n",
      "Epoch 152/200\n",
      "15/15 [==============================] - 0s 30ms/step - loss: 0.0900 - accuracy: 0.1047 - val_loss: 0.0900 - val_accuracy: 0.1463\n",
      "Epoch 153/200\n",
      "15/15 [==============================] - 0s 30ms/step - loss: 0.0900 - accuracy: 0.1047 - val_loss: 0.0900 - val_accuracy: 0.1463\n",
      "Epoch 154/200\n",
      "15/15 [==============================] - 0s 30ms/step - loss: 0.0900 - accuracy: 0.1047 - val_loss: 0.0900 - val_accuracy: 0.1463\n",
      "Epoch 155/200\n",
      "15/15 [==============================] - 0s 30ms/step - loss: 0.0900 - accuracy: 0.1047 - val_loss: 0.0900 - val_accuracy: 0.1463\n",
      "Epoch 156/200\n",
      "15/15 [==============================] - 0s 30ms/step - loss: 0.0900 - accuracy: 0.1047 - val_loss: 0.0900 - val_accuracy: 0.1463\n",
      "Epoch 157/200\n",
      "15/15 [==============================] - 1s 34ms/step - loss: 0.0900 - accuracy: 0.1047 - val_loss: 0.0900 - val_accuracy: 0.1463\n",
      "Epoch 158/200\n",
      "15/15 [==============================] - 0s 30ms/step - loss: 0.0900 - accuracy: 0.1047 - val_loss: 0.0900 - val_accuracy: 0.1463\n",
      "Epoch 159/200\n",
      "15/15 [==============================] - 0s 30ms/step - loss: 0.0900 - accuracy: 0.1047 - val_loss: 0.0900 - val_accuracy: 0.1463\n",
      "Epoch 160/200\n",
      "15/15 [==============================] - 0s 30ms/step - loss: 0.0900 - accuracy: 0.1047 - val_loss: 0.0900 - val_accuracy: 0.1463\n",
      "Epoch 161/200\n",
      "15/15 [==============================] - 0s 30ms/step - loss: 0.0900 - accuracy: 0.1047 - val_loss: 0.0900 - val_accuracy: 0.1463\n",
      "Epoch 162/200\n",
      "15/15 [==============================] - 0s 30ms/step - loss: 0.0900 - accuracy: 0.1047 - val_loss: 0.0900 - val_accuracy: 0.1463\n",
      "Epoch 163/200\n",
      "15/15 [==============================] - 0s 30ms/step - loss: 0.0900 - accuracy: 0.1047 - val_loss: 0.0900 - val_accuracy: 0.1463\n",
      "Epoch 164/200\n",
      "15/15 [==============================] - 1s 34ms/step - loss: 0.0900 - accuracy: 0.1047 - val_loss: 0.0900 - val_accuracy: 0.1463\n",
      "Epoch 165/200\n",
      "15/15 [==============================] - 0s 30ms/step - loss: 0.0900 - accuracy: 0.1047 - val_loss: 0.0900 - val_accuracy: 0.1463\n",
      "Epoch 166/200\n",
      "15/15 [==============================] - 0s 30ms/step - loss: 0.0900 - accuracy: 0.1047 - val_loss: 0.0900 - val_accuracy: 0.1463\n",
      "Epoch 167/200\n",
      "15/15 [==============================] - 0s 30ms/step - loss: 0.0900 - accuracy: 0.1047 - val_loss: 0.0900 - val_accuracy: 0.1463\n",
      "Epoch 168/200\n",
      "15/15 [==============================] - 0s 30ms/step - loss: 0.0900 - accuracy: 0.1047 - val_loss: 0.0900 - val_accuracy: 0.1463\n",
      "Epoch 169/200\n",
      "15/15 [==============================] - 0s 30ms/step - loss: 0.0900 - accuracy: 0.1047 - val_loss: 0.0900 - val_accuracy: 0.1463\n",
      "Epoch 170/200\n",
      "15/15 [==============================] - 0s 30ms/step - loss: 0.0900 - accuracy: 0.1047 - val_loss: 0.0900 - val_accuracy: 0.1463\n",
      "Epoch 171/200\n",
      "15/15 [==============================] - 1s 34ms/step - loss: 0.0900 - accuracy: 0.1047 - val_loss: 0.0900 - val_accuracy: 0.1463\n"
     ]
    },
    {
     "name": "stdout",
     "output_type": "stream",
     "text": [
      "Epoch 172/200\n",
      "15/15 [==============================] - 0s 30ms/step - loss: 0.0900 - accuracy: 0.1047 - val_loss: 0.0900 - val_accuracy: 0.1463\n",
      "Epoch 173/200\n",
      "15/15 [==============================] - 0s 30ms/step - loss: 0.0900 - accuracy: 0.1047 - val_loss: 0.0900 - val_accuracy: 0.1463\n",
      "Epoch 174/200\n",
      "15/15 [==============================] - 0s 30ms/step - loss: 0.0900 - accuracy: 0.1047 - val_loss: 0.0900 - val_accuracy: 0.1463\n",
      "Epoch 175/200\n",
      "15/15 [==============================] - 0s 30ms/step - loss: 0.0900 - accuracy: 0.1047 - val_loss: 0.0900 - val_accuracy: 0.1463\n",
      "Epoch 176/200\n",
      "15/15 [==============================] - 0s 30ms/step - loss: 0.0900 - accuracy: 0.1047 - val_loss: 0.0900 - val_accuracy: 0.1463\n",
      "Epoch 177/200\n",
      "15/15 [==============================] - 0s 30ms/step - loss: 0.0900 - accuracy: 0.1047 - val_loss: 0.0900 - val_accuracy: 0.1463\n",
      "Epoch 178/200\n",
      "15/15 [==============================] - 1s 34ms/step - loss: 0.0900 - accuracy: 0.1047 - val_loss: 0.0900 - val_accuracy: 0.1463\n",
      "Epoch 179/200\n",
      "15/15 [==============================] - 0s 30ms/step - loss: 0.0900 - accuracy: 0.1047 - val_loss: 0.0900 - val_accuracy: 0.1463\n",
      "Epoch 180/200\n",
      "15/15 [==============================] - 0s 30ms/step - loss: 0.0900 - accuracy: 0.1047 - val_loss: 0.0900 - val_accuracy: 0.1463\n",
      "Epoch 181/200\n",
      "15/15 [==============================] - 0s 30ms/step - loss: 0.0900 - accuracy: 0.1047 - val_loss: 0.0900 - val_accuracy: 0.1463\n",
      "Epoch 182/200\n",
      "15/15 [==============================] - 0s 30ms/step - loss: 0.0900 - accuracy: 0.1047 - val_loss: 0.0900 - val_accuracy: 0.1463\n",
      "Epoch 183/200\n",
      "15/15 [==============================] - 0s 30ms/step - loss: 0.0900 - accuracy: 0.1047 - val_loss: 0.0900 - val_accuracy: 0.1463\n",
      "Epoch 184/200\n",
      "15/15 [==============================] - 0s 30ms/step - loss: 0.0900 - accuracy: 0.1047 - val_loss: 0.0900 - val_accuracy: 0.1463\n",
      "Epoch 185/200\n",
      "15/15 [==============================] - 0s 30ms/step - loss: 0.0900 - accuracy: 0.1047 - val_loss: 0.0900 - val_accuracy: 0.1463\n",
      "Epoch 186/200\n",
      "15/15 [==============================] - 0s 30ms/step - loss: 0.0900 - accuracy: 0.1047 - val_loss: 0.0900 - val_accuracy: 0.1463\n",
      "Epoch 187/200\n",
      "15/15 [==============================] - 0s 30ms/step - loss: 0.0900 - accuracy: 0.1047 - val_loss: 0.0900 - val_accuracy: 0.1463\n",
      "Epoch 188/200\n",
      "15/15 [==============================] - 0s 31ms/step - loss: 0.0900 - accuracy: 0.1047 - val_loss: 0.0900 - val_accuracy: 0.1463\n",
      "Epoch 189/200\n",
      "15/15 [==============================] - 0s 30ms/step - loss: 0.0900 - accuracy: 0.1047 - val_loss: 0.0900 - val_accuracy: 0.1463\n",
      "Epoch 190/200\n",
      "15/15 [==============================] - 0s 30ms/step - loss: 0.0900 - accuracy: 0.1047 - val_loss: 0.0900 - val_accuracy: 0.1463\n",
      "Epoch 191/200\n",
      "15/15 [==============================] - 0s 30ms/step - loss: 0.0900 - accuracy: 0.1047 - val_loss: 0.0900 - val_accuracy: 0.1463\n",
      "Epoch 192/200\n",
      "15/15 [==============================] - 0s 30ms/step - loss: 0.0900 - accuracy: 0.1047 - val_loss: 0.0900 - val_accuracy: 0.1463\n",
      "Epoch 193/200\n",
      "15/15 [==============================] - 0s 30ms/step - loss: 0.0900 - accuracy: 0.1047 - val_loss: 0.0900 - val_accuracy: 0.1463\n",
      "Epoch 194/200\n",
      "15/15 [==============================] - 0s 30ms/step - loss: 0.0900 - accuracy: 0.1047 - val_loss: 0.0900 - val_accuracy: 0.1463\n",
      "Epoch 195/200\n",
      "15/15 [==============================] - 0s 30ms/step - loss: 0.0900 - accuracy: 0.1047 - val_loss: 0.0900 - val_accuracy: 0.1463\n",
      "Epoch 196/200\n",
      "15/15 [==============================] - 0s 30ms/step - loss: 0.0900 - accuracy: 0.1047 - val_loss: 0.0900 - val_accuracy: 0.1463\n",
      "Epoch 197/200\n",
      "15/15 [==============================] - 0s 30ms/step - loss: 0.0900 - accuracy: 0.1047 - val_loss: 0.0900 - val_accuracy: 0.1463\n",
      "Epoch 198/200\n",
      "15/15 [==============================] - 0s 30ms/step - loss: 0.0900 - accuracy: 0.1047 - val_loss: 0.0900 - val_accuracy: 0.1463\n",
      "Epoch 199/200\n",
      "15/15 [==============================] - 0s 31ms/step - loss: 0.0900 - accuracy: 0.1047 - val_loss: 0.0900 - val_accuracy: 0.1463\n",
      "Epoch 200/200\n",
      "15/15 [==============================] - 0s 30ms/step - loss: 0.0900 - accuracy: 0.1047 - val_loss: 0.0900 - val_accuracy: 0.1463\n"
     ]
    },
    {
     "data": {
      "text/plain": [
       "<tensorflow.python.keras.callbacks.History at 0x7ff0ec1ac0b8>"
      ]
     },
     "execution_count": 14,
     "metadata": {},
     "output_type": "execute_result"
    }
   ],
   "source": [
    "model.fit(x_train, y_train, batch_size=batch_size, epochs=epochs, validation_split=0.1, callbacks=[callback])"
   ]
  },
  {
   "cell_type": "code",
   "execution_count": 15,
   "metadata": {},
   "outputs": [],
   "source": [
    "model.save('./model_weights/vgg_19_train=4096_mse_init=gaussian.h5')"
   ]
  },
  {
   "cell_type": "code",
   "execution_count": null,
   "metadata": {},
   "outputs": [],
   "source": []
  }
 ],
 "metadata": {
  "kernelspec": {
   "display_name": "Python 3",
   "language": "python",
   "name": "python3"
  },
  "language_info": {
   "codemirror_mode": {
    "name": "ipython",
    "version": 3
   },
   "file_extension": ".py",
   "mimetype": "text/x-python",
   "name": "python",
   "nbconvert_exporter": "python",
   "pygments_lexer": "ipython3",
   "version": "3.6.9"
  }
 },
 "nbformat": 4,
 "nbformat_minor": 2
}
