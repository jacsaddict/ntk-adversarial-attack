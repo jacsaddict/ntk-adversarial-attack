{
 "cells": [
  {
   "cell_type": "code",
   "execution_count": 1,
   "metadata": {},
   "outputs": [],
   "source": [
    "import numpy as onp\n",
    "import tensorflow as tf\n",
    "import matplotlib.pyplot as plt\n",
    "\n",
    "from utils import *"
   ]
  },
  {
   "cell_type": "code",
   "execution_count": 2,
   "metadata": {},
   "outputs": [
    {
     "name": "stdout",
     "output_type": "stream",
     "text": [
      "1 Physical GPUs, 1 Logical GPU\n"
     ]
    }
   ],
   "source": [
    "gpus = tf.config.experimental.list_physical_devices('GPU')\n",
    "if gpus:\n",
    "  # Restrict TensorFlow to only use the first GPU\n",
    "    try:\n",
    "        tf.config.experimental.set_visible_devices(gpus[0], 'GPU')\n",
    "        logical_gpus = tf.config.experimental.list_logical_devices('GPU')\n",
    "        print(len(gpus), \"Physical GPUs,\", len(logical_gpus), \"Logical GPU\")\n",
    "    except RuntimeError as e:\n",
    "    # Visible devices must be set before GPUs have been initialized\n",
    "        print(e)"
   ]
  },
  {
   "cell_type": "markdown",
   "metadata": {},
   "source": [
    "# hyperparameters"
   ]
  },
  {
   "cell_type": "code",
   "execution_count": 3,
   "metadata": {},
   "outputs": [],
   "source": [
    "#data\n",
    "DATASET = 'cifar10'\n",
    "class_num   = 10\n",
    "test_size   = None\n",
    "train_size  = 45000\n",
    "image_shape = None\n",
    "\n",
    "if DATASET =='mnist':\n",
    "    image_shape = (28, 28, 1)\n",
    "elif DATASET == 'cifar10':\n",
    "    image_shape = (32, 32, 3)\n",
    "\n",
    "#training\n",
    "batch_size = 256\n",
    "epochs = 200"
   ]
  },
  {
   "cell_type": "code",
   "execution_count": 4,
   "metadata": {
    "scrolled": true
   },
   "outputs": [],
   "source": [
    "x_train_all, y_train_all, x_test_all, y_test_all = tuple(onp.array(x) for x in get_dataset(DATASET, None, None, \n",
    "                                                                                  do_flatten_and_normalize=False))"
   ]
  },
  {
   "cell_type": "code",
   "execution_count": 5,
   "metadata": {},
   "outputs": [],
   "source": [
    "# shuffle\n",
    "seed = 0\n",
    "x_train_all, y_train_all = shaffle(x_train_all, y_train_all, seed)"
   ]
  },
  {
   "cell_type": "code",
   "execution_count": 6,
   "metadata": {},
   "outputs": [],
   "source": [
    "# down sample\n",
    "x_train = x_train_all[:train_size]\n",
    "y_train = y_train_all[:train_size]\n",
    "\n",
    "x_valid = x_train_all[train_size:]\n",
    "y_valid = y_train_all[train_size:]\n",
    "\n",
    "x_test = x_test_all[:test_size]\n",
    "y_test = y_test_all[:test_size]"
   ]
  },
  {
   "cell_type": "code",
   "execution_count": 7,
   "metadata": {},
   "outputs": [],
   "source": [
    "x_train, x_valid, x_test = x_train.reshape((-1, *image_shape)), x_valid.reshape((-1, *image_shape)), x_test.reshape((-1, *image_shape))"
   ]
  },
  {
   "cell_type": "code",
   "execution_count": 8,
   "metadata": {},
   "outputs": [],
   "source": [
    "train_ds = tf.data.Dataset.from_tensor_slices((x_train, y_train))\n",
    "train_ds = train_ds.shuffle(\n",
    "    100000\n",
    ").batch(\n",
    "    batch_size\n",
    ").prefetch(10)"
   ]
  },
  {
   "cell_type": "code",
   "execution_count": 9,
   "metadata": {},
   "outputs": [],
   "source": [
    "valid_ds = tf.data.Dataset.from_tensor_slices((x_valid, y_valid)).batch(batch_size)"
   ]
  },
  {
   "cell_type": "code",
   "execution_count": 10,
   "metadata": {},
   "outputs": [],
   "source": [
    "layers = tf.keras.layers"
   ]
  },
  {
   "cell_type": "code",
   "execution_count": 11,
   "metadata": {},
   "outputs": [],
   "source": [
    "img_input = layers.Input(shape=image_shape)\n",
    "x = layers.Conv2D(64, (3, 3), activation='relu', padding='same', \n",
    "                  kernel_initializer=tf.keras.initializers.GlorotNormal())(img_input)\n",
    "x = layers.Conv2D(64, (3, 3), activation='relu', padding='same',\n",
    "                 kernel_initializer=tf.keras.initializers.GlorotNormal())(x)\n",
    "x = layers.MaxPooling2D()(x)\n",
    "x = layers.Conv2D(128, (3, 3), activation='relu', padding='same', \n",
    "                  kernel_initializer=tf.keras.initializers.GlorotNormal())(x)\n",
    "x = layers.Conv2D(128, (3, 3), activation='relu', padding='same',\n",
    "                 kernel_initializer=tf.keras.initializers.GlorotNormal())(x)\n",
    "x = layers.MaxPooling2D()(x)\n",
    "x = layers.Conv2D(256, (3, 3), activation='relu', padding='same', \n",
    "                  kernel_initializer=tf.keras.initializers.GlorotNormal())(x)\n",
    "x = layers.Conv2D(256, (3, 3), activation='relu', padding='same',\n",
    "                 kernel_initializer=tf.keras.initializers.GlorotNormal())(x)\n",
    "x = layers.Conv2D(256, (3, 3), activation='relu', padding='same',\n",
    "                 kernel_initializer=tf.keras.initializers.GlorotNormal())(x)\n",
    "x = layers.Conv2D(256, (3, 3), activation='relu', padding='same',\n",
    "                 kernel_initializer=tf.keras.initializers.GlorotNormal())(x)\n",
    "x = layers.MaxPooling2D()(x)\n",
    "x = layers.Conv2D(512, (3, 3), activation='relu', padding='same', \n",
    "                  kernel_initializer=tf.keras.initializers.GlorotNormal())(x)\n",
    "x = layers.Conv2D(512, (3, 3), activation='relu', padding='same',\n",
    "                 kernel_initializer=tf.keras.initializers.GlorotNormal())(x)\n",
    "x = layers.Conv2D(512, (3, 3), activation='relu', padding='same',\n",
    "                 kernel_initializer=tf.keras.initializers.GlorotNormal())(x)\n",
    "x = layers.Conv2D(512, (3, 3), activation='relu', padding='same',\n",
    "                 kernel_initializer=tf.keras.initializers.GlorotNormal())(x)\n",
    "x = layers.MaxPooling2D()(x)\n",
    "x = layers.Conv2D(512, (3, 3), activation='relu', padding='same', \n",
    "                  kernel_initializer=tf.keras.initializers.GlorotNormal())(x)\n",
    "x = layers.Conv2D(512, (3, 3), activation='relu', padding='same',\n",
    "                 kernel_initializer=tf.keras.initializers.GlorotNormal())(x)\n",
    "x = layers.Conv2D(512, (3, 3), activation='relu', padding='same',\n",
    "                 kernel_initializer=tf.keras.initializers.GlorotNormal())(x)\n",
    "x = layers.Conv2D(512, (3, 3), activation='relu', padding='same',\n",
    "                 kernel_initializer=tf.keras.initializers.GlorotNormal())(x)\n",
    "x = layers.MaxPooling2D()(x)\n",
    "x = layers.Flatten()(x)\n",
    "x = layers.Dense(512, activation='relu', kernel_initializer=tf.keras.initializers.GlorotNormal())(x)\n",
    "out = layers.Dense(10, kernel_initializer=tf.keras.initializers.GlorotNormal())(x)\n",
    "\n",
    "model = tf.keras.Model(inputs=img_input, outputs=out)"
   ]
  },
  {
   "cell_type": "code",
   "execution_count": 12,
   "metadata": {},
   "outputs": [],
   "source": [
    "def scheduler(epoch, lr):\n",
    "    if epoch < 10:\n",
    "        return 1e-3\n",
    "    elif epoch < 90:\n",
    "        return 1e-2\n",
    "    elif epoch < 150:\n",
    "        return 1e-3\n",
    "    else:\n",
    "        return 1e-4"
   ]
  },
  {
   "cell_type": "code",
   "execution_count": 13,
   "metadata": {},
   "outputs": [],
   "source": [
    "model.compile(optimizer=tf.keras.optimizers.SGD(momentum=0.9),\n",
    "              loss=tf.keras.losses.CategoricalCrossentropy(from_logits=True),\n",
    "              metrics=['accuracy'])"
   ]
  },
  {
   "cell_type": "code",
   "execution_count": 14,
   "metadata": {},
   "outputs": [],
   "source": [
    "callback = tf.keras.callbacks.LearningRateScheduler(scheduler)"
   ]
  },
  {
   "cell_type": "code",
   "execution_count": 15,
   "metadata": {
    "scrolled": true
   },
   "outputs": [
    {
     "name": "stdout",
     "output_type": "stream",
     "text": [
      "Epoch 1/200\n",
      "176/176 [==============================] - 12s 68ms/step - loss: 2.3026 - accuracy: 0.1002 - val_loss: 0.0000e+00 - val_accuracy: 0.0000e+00\n",
      "Epoch 2/200\n",
      "176/176 [==============================] - 8s 47ms/step - loss: 2.3026 - accuracy: 0.0997 - val_loss: 2.3026 - val_accuracy: 0.0994\n",
      "Epoch 3/200\n",
      "176/176 [==============================] - 4s 25ms/step - loss: 2.3025 - accuracy: 0.1051 - val_loss: 2.3026 - val_accuracy: 0.1066\n",
      "Epoch 4/200\n",
      "176/176 [==============================] - 4s 25ms/step - loss: 2.3025 - accuracy: 0.1018 - val_loss: 2.3026 - val_accuracy: 0.1276\n",
      "Epoch 5/200\n",
      "176/176 [==============================] - 4s 25ms/step - loss: 2.3025 - accuracy: 0.1048 - val_loss: 2.3026 - val_accuracy: 0.0930\n",
      "Epoch 6/200\n",
      "176/176 [==============================] - 4s 24ms/step - loss: 2.3025 - accuracy: 0.1076 - val_loss: 2.3026 - val_accuracy: 0.0930\n",
      "Epoch 7/200\n",
      "176/176 [==============================] - 4s 24ms/step - loss: 2.3025 - accuracy: 0.1053 - val_loss: 2.3026 - val_accuracy: 0.0930\n",
      "Epoch 8/200\n",
      "176/176 [==============================] - 4s 24ms/step - loss: 2.3025 - accuracy: 0.1008 - val_loss: 2.3026 - val_accuracy: 0.1150\n",
      "Epoch 9/200\n",
      "176/176 [==============================] - 4s 24ms/step - loss: 2.3025 - accuracy: 0.1017 - val_loss: 2.3026 - val_accuracy: 0.0964\n",
      "Epoch 10/200\n",
      "176/176 [==============================] - 4s 24ms/step - loss: 2.3024 - accuracy: 0.1093 - val_loss: 2.3026 - val_accuracy: 0.1040\n",
      "Epoch 11/200\n",
      "176/176 [==============================] - 4s 24ms/step - loss: 2.3026 - accuracy: 0.1004 - val_loss: 2.3025 - val_accuracy: 0.0998\n",
      "Epoch 12/200\n",
      "176/176 [==============================] - 4s 24ms/step - loss: 2.3021 - accuracy: 0.1038 - val_loss: 2.3018 - val_accuracy: 0.0980\n",
      "Epoch 13/200\n",
      "176/176 [==============================] - 4s 24ms/step - loss: 2.2950 - accuracy: 0.1447 - val_loss: 2.2654 - val_accuracy: 0.1756\n",
      "Epoch 14/200\n",
      "176/176 [==============================] - 4s 24ms/step - loss: 2.2886 - accuracy: 0.1152 - val_loss: 2.3028 - val_accuracy: 0.1048\n",
      "Epoch 15/200\n",
      "176/176 [==============================] - 4s 25ms/step - loss: 2.3028 - accuracy: 0.1001 - val_loss: 2.3026 - val_accuracy: 0.0998\n",
      "Epoch 16/200\n",
      "176/176 [==============================] - 4s 23ms/step - loss: 2.3028 - accuracy: 0.1000 - val_loss: 2.3030 - val_accuracy: 0.0994\n",
      "Epoch 17/200\n",
      "176/176 [==============================] - 4s 24ms/step - loss: 2.3027 - accuracy: 0.0984 - val_loss: 2.3032 - val_accuracy: 0.0938\n",
      "Epoch 18/200\n",
      "176/176 [==============================] - 4s 23ms/step - loss: 2.3027 - accuracy: 0.1001 - val_loss: 2.3030 - val_accuracy: 0.0938\n",
      "Epoch 19/200\n",
      "176/176 [==============================] - 4s 23ms/step - loss: 2.3026 - accuracy: 0.0979 - val_loss: 2.3026 - val_accuracy: 0.1020\n",
      "Epoch 20/200\n",
      "176/176 [==============================] - 4s 25ms/step - loss: 2.3019 - accuracy: 0.1047 - val_loss: 2.3015 - val_accuracy: 0.1050\n",
      "Epoch 21/200\n",
      "176/176 [==============================] - 4s 25ms/step - loss: 2.2903 - accuracy: 0.1317 - val_loss: 2.2793 - val_accuracy: 0.1068\n",
      "Epoch 22/200\n",
      "176/176 [==============================] - 4s 24ms/step - loss: 2.1406 - accuracy: 0.1992 - val_loss: 1.9868 - val_accuracy: 0.2614\n",
      "Epoch 23/200\n",
      "176/176 [==============================] - 4s 25ms/step - loss: 1.9733 - accuracy: 0.2680 - val_loss: 1.9278 - val_accuracy: 0.2814\n",
      "Epoch 24/200\n",
      "176/176 [==============================] - 4s 24ms/step - loss: 1.9031 - accuracy: 0.2918 - val_loss: 1.8185 - val_accuracy: 0.3218\n",
      "Epoch 25/200\n",
      "176/176 [==============================] - 4s 23ms/step - loss: 1.7942 - accuracy: 0.3234 - val_loss: 1.8215 - val_accuracy: 0.3148\n",
      "Epoch 26/200\n",
      "176/176 [==============================] - 4s 24ms/step - loss: 1.6860 - accuracy: 0.3649 - val_loss: 1.5905 - val_accuracy: 0.4064\n",
      "Epoch 27/200\n",
      "176/176 [==============================] - 4s 24ms/step - loss: 1.5987 - accuracy: 0.4031 - val_loss: 1.5614 - val_accuracy: 0.4118\n",
      "Epoch 28/200\n",
      "176/176 [==============================] - 4s 24ms/step - loss: 1.4938 - accuracy: 0.4414 - val_loss: 1.4666 - val_accuracy: 0.4522\n",
      "Epoch 29/200\n",
      "176/176 [==============================] - 4s 25ms/step - loss: 1.3727 - accuracy: 0.4917 - val_loss: 1.3880 - val_accuracy: 0.4862\n",
      "Epoch 30/200\n",
      "176/176 [==============================] - 4s 24ms/step - loss: 1.2599 - accuracy: 0.5371 - val_loss: 1.2148 - val_accuracy: 0.5576\n",
      "Epoch 31/200\n",
      "176/176 [==============================] - 4s 25ms/step - loss: 1.1332 - accuracy: 0.5858 - val_loss: 1.0825 - val_accuracy: 0.6084\n",
      "Epoch 32/200\n",
      "176/176 [==============================] - 4s 24ms/step - loss: 1.0291 - accuracy: 0.6304 - val_loss: 1.1008 - val_accuracy: 0.6034\n",
      "Epoch 33/200\n",
      "176/176 [==============================] - 4s 25ms/step - loss: 0.9262 - accuracy: 0.6679 - val_loss: 0.9857 - val_accuracy: 0.6404\n",
      "Epoch 34/200\n",
      "176/176 [==============================] - 4s 24ms/step - loss: 0.8308 - accuracy: 0.7032 - val_loss: 0.8981 - val_accuracy: 0.6800\n",
      "Epoch 35/200\n",
      "176/176 [==============================] - 4s 23ms/step - loss: 0.7604 - accuracy: 0.7299 - val_loss: 0.8620 - val_accuracy: 0.6940\n",
      "Epoch 36/200\n",
      "176/176 [==============================] - 4s 25ms/step - loss: 0.6624 - accuracy: 0.7661 - val_loss: 0.9252 - val_accuracy: 0.6802\n",
      "Epoch 37/200\n",
      "176/176 [==============================] - 4s 24ms/step - loss: 0.5894 - accuracy: 0.7904 - val_loss: 0.8275 - val_accuracy: 0.7138\n",
      "Epoch 38/200\n",
      "176/176 [==============================] - 4s 25ms/step - loss: 0.5109 - accuracy: 0.8226 - val_loss: 0.8583 - val_accuracy: 0.7162\n",
      "Epoch 39/200\n",
      "176/176 [==============================] - 4s 25ms/step - loss: 0.4496 - accuracy: 0.8415 - val_loss: 0.8573 - val_accuracy: 0.7196\n",
      "Epoch 40/200\n",
      "176/176 [==============================] - 4s 24ms/step - loss: 0.3891 - accuracy: 0.8642 - val_loss: 0.8830 - val_accuracy: 0.7198\n",
      "Epoch 41/200\n",
      "176/176 [==============================] - 4s 25ms/step - loss: 0.3333 - accuracy: 0.8834 - val_loss: 0.9464 - val_accuracy: 0.7140\n",
      "Epoch 42/200\n",
      "176/176 [==============================] - 4s 25ms/step - loss: 0.2828 - accuracy: 0.9019 - val_loss: 0.8685 - val_accuracy: 0.7454\n",
      "Epoch 43/200\n",
      "176/176 [==============================] - 4s 24ms/step - loss: 0.2277 - accuracy: 0.9210 - val_loss: 0.9960 - val_accuracy: 0.7322\n",
      "Epoch 44/200\n",
      "176/176 [==============================] - 4s 25ms/step - loss: 0.2014 - accuracy: 0.9292 - val_loss: 0.9591 - val_accuracy: 0.7410\n",
      "Epoch 45/200\n",
      "176/176 [==============================] - 4s 24ms/step - loss: 0.1722 - accuracy: 0.9405 - val_loss: 1.1420 - val_accuracy: 0.7224\n",
      "Epoch 46/200\n",
      "176/176 [==============================] - 4s 25ms/step - loss: 0.1493 - accuracy: 0.9484 - val_loss: 1.0073 - val_accuracy: 0.7392\n",
      "Epoch 47/200\n",
      "176/176 [==============================] - 4s 24ms/step - loss: 0.1181 - accuracy: 0.9592 - val_loss: 1.0521 - val_accuracy: 0.7376\n",
      "Epoch 48/200\n",
      "176/176 [==============================] - 4s 25ms/step - loss: 0.1060 - accuracy: 0.9634 - val_loss: 1.1402 - val_accuracy: 0.7364\n",
      "Epoch 49/200\n",
      "176/176 [==============================] - 4s 25ms/step - loss: 0.0891 - accuracy: 0.9690 - val_loss: 1.2129 - val_accuracy: 0.7356\n",
      "Epoch 50/200\n",
      "176/176 [==============================] - 4s 24ms/step - loss: 0.0829 - accuracy: 0.9720 - val_loss: 1.1477 - val_accuracy: 0.7462\n",
      "Epoch 51/200\n",
      "176/176 [==============================] - 4s 24ms/step - loss: 0.0578 - accuracy: 0.9801 - val_loss: 1.2704 - val_accuracy: 0.7490\n",
      "Epoch 52/200\n",
      "176/176 [==============================] - 4s 24ms/step - loss: 0.0591 - accuracy: 0.9803 - val_loss: 1.2808 - val_accuracy: 0.7590\n",
      "Epoch 53/200\n",
      "176/176 [==============================] - 4s 24ms/step - loss: 0.0621 - accuracy: 0.9784 - val_loss: 1.1381 - val_accuracy: 0.7520\n",
      "Epoch 54/200\n",
      "176/176 [==============================] - 4s 24ms/step - loss: 0.0498 - accuracy: 0.9834 - val_loss: 1.2479 - val_accuracy: 0.7540\n",
      "Epoch 55/200\n",
      "176/176 [==============================] - 4s 25ms/step - loss: 0.0488 - accuracy: 0.9832 - val_loss: 1.2983 - val_accuracy: 0.7490\n",
      "Epoch 56/200\n",
      "176/176 [==============================] - 4s 24ms/step - loss: 0.0397 - accuracy: 0.9871 - val_loss: 1.2841 - val_accuracy: 0.7562\n",
      "Epoch 57/200\n"
     ]
    },
    {
     "name": "stdout",
     "output_type": "stream",
     "text": [
      "176/176 [==============================] - 4s 25ms/step - loss: 0.0442 - accuracy: 0.9845 - val_loss: 1.3054 - val_accuracy: 0.7456\n",
      "Epoch 58/200\n",
      "176/176 [==============================] - 4s 24ms/step - loss: 0.0455 - accuracy: 0.9845 - val_loss: 1.2809 - val_accuracy: 0.7484\n",
      "Epoch 59/200\n",
      "176/176 [==============================] - 4s 25ms/step - loss: 0.0348 - accuracy: 0.9882 - val_loss: 1.3310 - val_accuracy: 0.7554\n",
      "Epoch 60/200\n",
      "176/176 [==============================] - 4s 23ms/step - loss: 0.0308 - accuracy: 0.9897 - val_loss: 1.4557 - val_accuracy: 0.7560\n",
      "Epoch 61/200\n",
      "176/176 [==============================] - 4s 23ms/step - loss: 0.0309 - accuracy: 0.9900 - val_loss: 1.3444 - val_accuracy: 0.7480\n",
      "Epoch 62/200\n",
      "176/176 [==============================] - 4s 24ms/step - loss: 0.0298 - accuracy: 0.9895 - val_loss: 1.3198 - val_accuracy: 0.7510\n",
      "Epoch 63/200\n",
      "176/176 [==============================] - 4s 25ms/step - loss: 0.0236 - accuracy: 0.9922 - val_loss: 1.3868 - val_accuracy: 0.7626\n",
      "Epoch 64/200\n",
      "176/176 [==============================] - 4s 24ms/step - loss: 0.0239 - accuracy: 0.9916 - val_loss: 1.3508 - val_accuracy: 0.7566\n",
      "Epoch 65/200\n",
      "176/176 [==============================] - 4s 25ms/step - loss: 0.0280 - accuracy: 0.9904 - val_loss: 1.3451 - val_accuracy: 0.7502\n",
      "Epoch 66/200\n",
      "176/176 [==============================] - 4s 24ms/step - loss: 0.0223 - accuracy: 0.9922 - val_loss: 1.4209 - val_accuracy: 0.7556\n",
      "Epoch 67/200\n",
      "176/176 [==============================] - 4s 25ms/step - loss: 0.0192 - accuracy: 0.9935 - val_loss: 1.6143 - val_accuracy: 0.7430\n",
      "Epoch 68/200\n",
      "176/176 [==============================] - 4s 24ms/step - loss: 0.0178 - accuracy: 0.9943 - val_loss: 1.4990 - val_accuracy: 0.7548\n",
      "Epoch 69/200\n",
      "176/176 [==============================] - 4s 25ms/step - loss: 0.0184 - accuracy: 0.9940 - val_loss: 1.3486 - val_accuracy: 0.7652\n",
      "Epoch 70/200\n",
      "176/176 [==============================] - 4s 24ms/step - loss: 0.0253 - accuracy: 0.9910 - val_loss: 1.4084 - val_accuracy: 0.7608\n",
      "Epoch 71/200\n",
      "176/176 [==============================] - 4s 23ms/step - loss: 0.0177 - accuracy: 0.9940 - val_loss: 1.4260 - val_accuracy: 0.7680\n",
      "Epoch 72/200\n",
      "176/176 [==============================] - 4s 24ms/step - loss: 0.0193 - accuracy: 0.9937 - val_loss: 1.4466 - val_accuracy: 0.7524\n",
      "Epoch 73/200\n",
      "176/176 [==============================] - 4s 24ms/step - loss: 0.0164 - accuracy: 0.9944 - val_loss: 1.3790 - val_accuracy: 0.7662\n",
      "Epoch 74/200\n",
      "176/176 [==============================] - 4s 25ms/step - loss: 0.0093 - accuracy: 0.9971 - val_loss: 1.4855 - val_accuracy: 0.7688\n",
      "Epoch 75/200\n",
      "176/176 [==============================] - 4s 25ms/step - loss: 0.0139 - accuracy: 0.9953 - val_loss: 1.4808 - val_accuracy: 0.7608\n",
      "Epoch 76/200\n",
      "176/176 [==============================] - 4s 23ms/step - loss: 0.0208 - accuracy: 0.9931 - val_loss: 1.5384 - val_accuracy: 0.7590\n",
      "Epoch 77/200\n",
      "176/176 [==============================] - 4s 24ms/step - loss: 0.0145 - accuracy: 0.9953 - val_loss: 1.3856 - val_accuracy: 0.7688\n",
      "Epoch 78/200\n",
      "176/176 [==============================] - 4s 23ms/step - loss: 0.0121 - accuracy: 0.9959 - val_loss: 1.5636 - val_accuracy: 0.7550\n",
      "Epoch 79/200\n",
      "176/176 [==============================] - 4s 24ms/step - loss: 0.0137 - accuracy: 0.9952 - val_loss: 1.5052 - val_accuracy: 0.7696\n",
      "Epoch 80/200\n",
      "176/176 [==============================] - 4s 24ms/step - loss: 0.0166 - accuracy: 0.9948 - val_loss: 1.4085 - val_accuracy: 0.7734\n",
      "Epoch 81/200\n",
      "176/176 [==============================] - 4s 25ms/step - loss: 0.0049 - accuracy: 0.9983 - val_loss: 1.5659 - val_accuracy: 0.7650\n",
      "Epoch 82/200\n",
      "176/176 [==============================] - 4s 24ms/step - loss: 0.0058 - accuracy: 0.9982 - val_loss: 1.6289 - val_accuracy: 0.7660\n",
      "Epoch 83/200\n",
      "176/176 [==============================] - 4s 25ms/step - loss: 0.0110 - accuracy: 0.9966 - val_loss: 1.6930 - val_accuracy: 0.7568\n",
      "Epoch 84/200\n",
      "176/176 [==============================] - 4s 24ms/step - loss: 0.0114 - accuracy: 0.9962 - val_loss: 1.5471 - val_accuracy: 0.7578\n",
      "Epoch 85/200\n",
      "176/176 [==============================] - 4s 25ms/step - loss: 0.0075 - accuracy: 0.9976 - val_loss: 1.6173 - val_accuracy: 0.7582\n",
      "Epoch 86/200\n",
      "176/176 [==============================] - 4s 23ms/step - loss: 0.0146 - accuracy: 0.9951 - val_loss: 1.4894 - val_accuracy: 0.7512\n",
      "Epoch 87/200\n",
      "176/176 [==============================] - 4s 24ms/step - loss: 0.0139 - accuracy: 0.9953 - val_loss: 1.4852 - val_accuracy: 0.7672\n",
      "Epoch 88/200\n",
      "176/176 [==============================] - 4s 23ms/step - loss: 0.0058 - accuracy: 0.9981 - val_loss: 1.6730 - val_accuracy: 0.7650\n",
      "Epoch 89/200\n",
      "176/176 [==============================] - 4s 24ms/step - loss: 0.0139 - accuracy: 0.9954 - val_loss: 1.4401 - val_accuracy: 0.7582\n",
      "Epoch 90/200\n",
      "176/176 [==============================] - 4s 23ms/step - loss: 0.0086 - accuracy: 0.9971 - val_loss: 1.5691 - val_accuracy: 0.7632\n",
      "Epoch 91/200\n",
      "176/176 [==============================] - 4s 23ms/step - loss: 0.0033 - accuracy: 0.9990 - val_loss: 1.5482 - val_accuracy: 0.7738\n",
      "Epoch 92/200\n",
      "176/176 [==============================] - 4s 24ms/step - loss: 2.5834e-04 - accuracy: 1.0000 - val_loss: 1.5587 - val_accuracy: 0.7742\n",
      "Epoch 93/200\n",
      "176/176 [==============================] - 4s 23ms/step - loss: 1.7429e-04 - accuracy: 1.0000 - val_loss: 1.5683 - val_accuracy: 0.7748\n",
      "Epoch 94/200\n",
      "176/176 [==============================] - 4s 24ms/step - loss: 1.4556e-04 - accuracy: 1.0000 - val_loss: 1.5772 - val_accuracy: 0.7744\n",
      "Epoch 95/200\n",
      "176/176 [==============================] - 4s 24ms/step - loss: 1.2633e-04 - accuracy: 1.0000 - val_loss: 1.5855 - val_accuracy: 0.7740\n",
      "Epoch 96/200\n",
      "176/176 [==============================] - 4s 24ms/step - loss: 1.1331e-04 - accuracy: 1.0000 - val_loss: 1.5931 - val_accuracy: 0.7738\n",
      "Epoch 97/200\n",
      "176/176 [==============================] - 4s 23ms/step - loss: 1.0271e-04 - accuracy: 1.0000 - val_loss: 1.6002 - val_accuracy: 0.7736\n",
      "Epoch 98/200\n",
      "176/176 [==============================] - 4s 25ms/step - loss: 9.3397e-05 - accuracy: 1.0000 - val_loss: 1.6067 - val_accuracy: 0.7734\n",
      "Epoch 99/200\n",
      "176/176 [==============================] - 4s 24ms/step - loss: 8.6724e-05 - accuracy: 1.0000 - val_loss: 1.6131 - val_accuracy: 0.7732\n",
      "Epoch 100/200\n",
      "176/176 [==============================] - 4s 23ms/step - loss: 8.1164e-05 - accuracy: 1.0000 - val_loss: 1.6192 - val_accuracy: 0.7734\n",
      "Epoch 101/200\n",
      "176/176 [==============================] - 4s 23ms/step - loss: 7.5647e-05 - accuracy: 1.0000 - val_loss: 1.6249 - val_accuracy: 0.7738\n",
      "Epoch 102/200\n",
      "176/176 [==============================] - 4s 23ms/step - loss: 7.1462e-05 - accuracy: 1.0000 - val_loss: 1.6302 - val_accuracy: 0.7740\n",
      "Epoch 103/200\n",
      "176/176 [==============================] - 4s 23ms/step - loss: 6.7166e-05 - accuracy: 1.0000 - val_loss: 1.6356 - val_accuracy: 0.7736\n",
      "Epoch 104/200\n",
      "176/176 [==============================] - 4s 24ms/step - loss: 6.3790e-05 - accuracy: 1.0000 - val_loss: 1.6405 - val_accuracy: 0.7738\n",
      "Epoch 105/200\n",
      "176/176 [==============================] - 4s 23ms/step - loss: 6.0564e-05 - accuracy: 1.0000 - val_loss: 1.6451 - val_accuracy: 0.7734\n",
      "Epoch 106/200\n",
      "176/176 [==============================] - 4s 24ms/step - loss: 5.7850e-05 - accuracy: 1.0000 - val_loss: 1.6497 - val_accuracy: 0.7736\n",
      "Epoch 107/200\n",
      "176/176 [==============================] - 4s 23ms/step - loss: 5.5383e-05 - accuracy: 1.0000 - val_loss: 1.6541 - val_accuracy: 0.7736\n",
      "Epoch 108/200\n",
      "176/176 [==============================] - 4s 24ms/step - loss: 5.3100e-05 - accuracy: 1.0000 - val_loss: 1.6583 - val_accuracy: 0.7740\n",
      "Epoch 109/200\n",
      "176/176 [==============================] - 4s 25ms/step - loss: 5.0792e-05 - accuracy: 1.0000 - val_loss: 1.6625 - val_accuracy: 0.7738\n",
      "Epoch 110/200\n",
      "176/176 [==============================] - 4s 24ms/step - loss: 4.8819e-05 - accuracy: 1.0000 - val_loss: 1.6666 - val_accuracy: 0.7736\n",
      "Epoch 111/200\n",
      "176/176 [==============================] - 4s 25ms/step - loss: 4.6994e-05 - accuracy: 1.0000 - val_loss: 1.6705 - val_accuracy: 0.7734\n",
      "Epoch 112/200\n",
      "176/176 [==============================] - 4s 24ms/step - loss: 4.5148e-05 - accuracy: 1.0000 - val_loss: 1.6742 - val_accuracy: 0.7736\n"
     ]
    },
    {
     "name": "stdout",
     "output_type": "stream",
     "text": [
      "Epoch 113/200\n",
      "176/176 [==============================] - 4s 25ms/step - loss: 4.3912e-05 - accuracy: 1.0000 - val_loss: 1.6779 - val_accuracy: 0.7736\n",
      "Epoch 114/200\n",
      "176/176 [==============================] - 4s 24ms/step - loss: 4.2285e-05 - accuracy: 1.0000 - val_loss: 1.6814 - val_accuracy: 0.7732\n",
      "Epoch 115/200\n",
      "176/176 [==============================] - 4s 25ms/step - loss: 4.1018e-05 - accuracy: 1.0000 - val_loss: 1.6849 - val_accuracy: 0.7736\n",
      "Epoch 116/200\n",
      "176/176 [==============================] - 4s 23ms/step - loss: 3.9845e-05 - accuracy: 1.0000 - val_loss: 1.6882 - val_accuracy: 0.7732\n",
      "Epoch 117/200\n",
      "176/176 [==============================] - 4s 23ms/step - loss: 3.8637e-05 - accuracy: 1.0000 - val_loss: 1.6915 - val_accuracy: 0.7732\n",
      "Epoch 118/200\n",
      "176/176 [==============================] - 4s 24ms/step - loss: 3.7362e-05 - accuracy: 1.0000 - val_loss: 1.6947 - val_accuracy: 0.7732\n",
      "Epoch 119/200\n",
      "176/176 [==============================] - 4s 23ms/step - loss: 3.6465e-05 - accuracy: 1.0000 - val_loss: 1.6978 - val_accuracy: 0.7734\n",
      "Epoch 120/200\n",
      "176/176 [==============================] - 4s 24ms/step - loss: 3.5494e-05 - accuracy: 1.0000 - val_loss: 1.7008 - val_accuracy: 0.7734\n",
      "Epoch 121/200\n",
      "176/176 [==============================] - 4s 25ms/step - loss: 3.4477e-05 - accuracy: 1.0000 - val_loss: 1.7037 - val_accuracy: 0.7734\n",
      "Epoch 122/200\n",
      "176/176 [==============================] - 4s 23ms/step - loss: 3.3557e-05 - accuracy: 1.0000 - val_loss: 1.7066 - val_accuracy: 0.7732\n",
      "Epoch 123/200\n",
      "176/176 [==============================] - 4s 24ms/step - loss: 3.2737e-05 - accuracy: 1.0000 - val_loss: 1.7095 - val_accuracy: 0.7734\n",
      "Epoch 124/200\n",
      "176/176 [==============================] - 4s 25ms/step - loss: 3.1843e-05 - accuracy: 1.0000 - val_loss: 1.7123 - val_accuracy: 0.7734\n",
      "Epoch 125/200\n",
      "176/176 [==============================] - 4s 24ms/step - loss: 3.1076e-05 - accuracy: 1.0000 - val_loss: 1.7150 - val_accuracy: 0.7734\n",
      "Epoch 126/200\n",
      "176/176 [==============================] - 4s 23ms/step - loss: 3.0505e-05 - accuracy: 1.0000 - val_loss: 1.7176 - val_accuracy: 0.7732\n",
      "Epoch 127/200\n",
      "176/176 [==============================] - 4s 23ms/step - loss: 2.9773e-05 - accuracy: 1.0000 - val_loss: 1.7202 - val_accuracy: 0.7732\n",
      "Epoch 128/200\n",
      "176/176 [==============================] - 4s 24ms/step - loss: 2.9131e-05 - accuracy: 1.0000 - val_loss: 1.7228 - val_accuracy: 0.7730\n",
      "Epoch 129/200\n",
      "176/176 [==============================] - 4s 25ms/step - loss: 2.8491e-05 - accuracy: 1.0000 - val_loss: 1.7253 - val_accuracy: 0.7732\n",
      "Epoch 130/200\n",
      "176/176 [==============================] - 4s 24ms/step - loss: 2.7845e-05 - accuracy: 1.0000 - val_loss: 1.7277 - val_accuracy: 0.7734\n",
      "Epoch 131/200\n",
      "176/176 [==============================] - 4s 25ms/step - loss: 2.7330e-05 - accuracy: 1.0000 - val_loss: 1.7301 - val_accuracy: 0.7732\n",
      "Epoch 132/200\n",
      "176/176 [==============================] - 4s 25ms/step - loss: 2.6611e-05 - accuracy: 1.0000 - val_loss: 1.7325 - val_accuracy: 0.7732\n",
      "Epoch 133/200\n",
      "176/176 [==============================] - 4s 25ms/step - loss: 2.6209e-05 - accuracy: 1.0000 - val_loss: 1.7347 - val_accuracy: 0.7732\n",
      "Epoch 134/200\n",
      "176/176 [==============================] - 4s 23ms/step - loss: 2.5762e-05 - accuracy: 1.0000 - val_loss: 1.7370 - val_accuracy: 0.7730\n",
      "Epoch 135/200\n",
      "176/176 [==============================] - 4s 23ms/step - loss: 2.5194e-05 - accuracy: 1.0000 - val_loss: 1.7392 - val_accuracy: 0.7732\n",
      "Epoch 136/200\n",
      "176/176 [==============================] - 4s 23ms/step - loss: 2.4789e-05 - accuracy: 1.0000 - val_loss: 1.7414 - val_accuracy: 0.7732\n",
      "Epoch 137/200\n",
      "176/176 [==============================] - 4s 24ms/step - loss: 2.4247e-05 - accuracy: 1.0000 - val_loss: 1.7435 - val_accuracy: 0.7732\n",
      "Epoch 138/200\n",
      "176/176 [==============================] - 4s 23ms/step - loss: 2.3896e-05 - accuracy: 1.0000 - val_loss: 1.7456 - val_accuracy: 0.7734\n",
      "Epoch 139/200\n",
      "176/176 [==============================] - 4s 24ms/step - loss: 2.3443e-05 - accuracy: 1.0000 - val_loss: 1.7476 - val_accuracy: 0.7732\n",
      "Epoch 140/200\n",
      "176/176 [==============================] - 4s 24ms/step - loss: 2.2999e-05 - accuracy: 1.0000 - val_loss: 1.7496 - val_accuracy: 0.7734\n",
      "Epoch 141/200\n",
      "176/176 [==============================] - 4s 25ms/step - loss: 2.2644e-05 - accuracy: 1.0000 - val_loss: 1.7517 - val_accuracy: 0.7732\n",
      "Epoch 142/200\n",
      "176/176 [==============================] - 4s 24ms/step - loss: 2.2295e-05 - accuracy: 1.0000 - val_loss: 1.7535 - val_accuracy: 0.7734\n",
      "Epoch 143/200\n",
      "176/176 [==============================] - 4s 23ms/step - loss: 2.1967e-05 - accuracy: 1.0000 - val_loss: 1.7556 - val_accuracy: 0.7738\n",
      "Epoch 144/200\n",
      "176/176 [==============================] - 4s 24ms/step - loss: 2.1556e-05 - accuracy: 1.0000 - val_loss: 1.7574 - val_accuracy: 0.7738\n",
      "Epoch 145/200\n",
      "176/176 [==============================] - 4s 23ms/step - loss: 2.1207e-05 - accuracy: 1.0000 - val_loss: 1.7593 - val_accuracy: 0.7736\n",
      "Epoch 146/200\n",
      "176/176 [==============================] - 4s 24ms/step - loss: 2.0937e-05 - accuracy: 1.0000 - val_loss: 1.7612 - val_accuracy: 0.7738\n",
      "Epoch 147/200\n",
      "176/176 [==============================] - 4s 24ms/step - loss: 2.0614e-05 - accuracy: 1.0000 - val_loss: 1.7631 - val_accuracy: 0.7738\n",
      "Epoch 148/200\n",
      "176/176 [==============================] - 4s 25ms/step - loss: 2.0185e-05 - accuracy: 1.0000 - val_loss: 1.7649 - val_accuracy: 0.7736\n",
      "Epoch 149/200\n",
      "176/176 [==============================] - 4s 24ms/step - loss: 1.9946e-05 - accuracy: 1.0000 - val_loss: 1.7667 - val_accuracy: 0.7738\n",
      "Epoch 150/200\n",
      "176/176 [==============================] - 4s 23ms/step - loss: 1.9636e-05 - accuracy: 1.0000 - val_loss: 1.7684 - val_accuracy: 0.7738\n",
      "Epoch 151/200\n",
      "176/176 [==============================] - 4s 25ms/step - loss: 1.9465e-05 - accuracy: 1.0000 - val_loss: 1.7685 - val_accuracy: 0.7738\n",
      "Epoch 152/200\n",
      "176/176 [==============================] - 4s 24ms/step - loss: 1.9525e-05 - accuracy: 1.0000 - val_loss: 1.7686 - val_accuracy: 0.7738\n",
      "Epoch 153/200\n",
      "176/176 [==============================] - 4s 25ms/step - loss: 1.9486e-05 - accuracy: 1.0000 - val_loss: 1.7687 - val_accuracy: 0.7738\n",
      "Epoch 154/200\n",
      "176/176 [==============================] - 4s 24ms/step - loss: 1.9439e-05 - accuracy: 1.0000 - val_loss: 1.7687 - val_accuracy: 0.7738\n",
      "Epoch 155/200\n",
      "176/176 [==============================] - 4s 25ms/step - loss: 1.9398e-05 - accuracy: 1.0000 - val_loss: 1.7687 - val_accuracy: 0.7738\n",
      "Epoch 156/200\n",
      "176/176 [==============================] - 4s 25ms/step - loss: 1.9418e-05 - accuracy: 1.0000 - val_loss: 1.7688 - val_accuracy: 0.7738\n",
      "Epoch 157/200\n",
      "176/176 [==============================] - 4s 24ms/step - loss: 1.9438e-05 - accuracy: 1.0000 - val_loss: 1.7688 - val_accuracy: 0.7738\n",
      "Epoch 158/200\n",
      "176/176 [==============================] - 4s 25ms/step - loss: 1.9435e-05 - accuracy: 1.0000 - val_loss: 1.7689 - val_accuracy: 0.7738\n",
      "Epoch 159/200\n",
      "176/176 [==============================] - 4s 24ms/step - loss: 1.9422e-05 - accuracy: 1.0000 - val_loss: 1.7690 - val_accuracy: 0.7738\n",
      "Epoch 160/200\n",
      "176/176 [==============================] - 4s 25ms/step - loss: 1.9383e-05 - accuracy: 1.0000 - val_loss: 1.7691 - val_accuracy: 0.7738\n",
      "Epoch 161/200\n",
      "176/176 [==============================] - 4s 25ms/step - loss: 1.9398e-05 - accuracy: 1.0000 - val_loss: 1.7691 - val_accuracy: 0.7738\n",
      "Epoch 162/200\n",
      "176/176 [==============================] - 4s 25ms/step - loss: 1.9318e-05 - accuracy: 1.0000 - val_loss: 1.7692 - val_accuracy: 0.7738\n",
      "Epoch 163/200\n",
      "176/176 [==============================] - 4s 24ms/step - loss: 1.9359e-05 - accuracy: 1.0000 - val_loss: 1.7692 - val_accuracy: 0.7738\n",
      "Epoch 164/200\n",
      "176/176 [==============================] - 4s 24ms/step - loss: 1.9374e-05 - accuracy: 1.0000 - val_loss: 1.7693 - val_accuracy: 0.7738\n",
      "Epoch 165/200\n",
      "176/176 [==============================] - 4s 23ms/step - loss: 1.9287e-05 - accuracy: 1.0000 - val_loss: 1.7693 - val_accuracy: 0.7736\n",
      "Epoch 166/200\n",
      "176/176 [==============================] - 4s 24ms/step - loss: 1.9335e-05 - accuracy: 1.0000 - val_loss: 1.7693 - val_accuracy: 0.7736\n",
      "Epoch 167/200\n"
     ]
    },
    {
     "name": "stdout",
     "output_type": "stream",
     "text": [
      "176/176 [==============================] - 4s 23ms/step - loss: 1.9247e-05 - accuracy: 1.0000 - val_loss: 1.7694 - val_accuracy: 0.7738\n",
      "Epoch 168/200\n",
      "176/176 [==============================] - 4s 24ms/step - loss: 1.9321e-05 - accuracy: 1.0000 - val_loss: 1.7695 - val_accuracy: 0.7738\n",
      "Epoch 169/200\n",
      "176/176 [==============================] - 4s 23ms/step - loss: 1.9252e-05 - accuracy: 1.0000 - val_loss: 1.7696 - val_accuracy: 0.7738\n",
      "Epoch 170/200\n",
      "176/176 [==============================] - 4s 23ms/step - loss: 1.9218e-05 - accuracy: 1.0000 - val_loss: 1.7696 - val_accuracy: 0.7738\n",
      "Epoch 171/200\n",
      "176/176 [==============================] - 4s 25ms/step - loss: 1.9240e-05 - accuracy: 1.0000 - val_loss: 1.7697 - val_accuracy: 0.7738\n",
      "Epoch 172/200\n",
      "176/176 [==============================] - 4s 23ms/step - loss: 1.9223e-05 - accuracy: 1.0000 - val_loss: 1.7697 - val_accuracy: 0.7738\n",
      "Epoch 173/200\n",
      "176/176 [==============================] - 4s 24ms/step - loss: 1.9203e-05 - accuracy: 1.0000 - val_loss: 1.7698 - val_accuracy: 0.7738\n",
      "Epoch 174/200\n",
      "176/176 [==============================] - 4s 24ms/step - loss: 1.9204e-05 - accuracy: 1.0000 - val_loss: 1.7699 - val_accuracy: 0.7738\n",
      "Epoch 175/200\n",
      "176/176 [==============================] - 4s 23ms/step - loss: 1.9165e-05 - accuracy: 1.0000 - val_loss: 1.7700 - val_accuracy: 0.7738\n",
      "Epoch 176/200\n",
      "176/176 [==============================] - 4s 24ms/step - loss: 1.9202e-05 - accuracy: 1.0000 - val_loss: 1.7699 - val_accuracy: 0.7738\n",
      "Epoch 177/200\n",
      "176/176 [==============================] - 4s 25ms/step - loss: 1.9186e-05 - accuracy: 1.0000 - val_loss: 1.7700 - val_accuracy: 0.7738\n",
      "Epoch 178/200\n",
      "176/176 [==============================] - 4s 24ms/step - loss: 1.9135e-05 - accuracy: 1.0000 - val_loss: 1.7701 - val_accuracy: 0.7738\n",
      "Epoch 179/200\n",
      "176/176 [==============================] - 4s 25ms/step - loss: 1.9187e-05 - accuracy: 1.0000 - val_loss: 1.7702 - val_accuracy: 0.7738\n",
      "Epoch 180/200\n",
      "176/176 [==============================] - 4s 24ms/step - loss: 1.9152e-05 - accuracy: 1.0000 - val_loss: 1.7702 - val_accuracy: 0.7738\n",
      "Epoch 181/200\n",
      "176/176 [==============================] - 4s 25ms/step - loss: 1.9150e-05 - accuracy: 1.0000 - val_loss: 1.7703 - val_accuracy: 0.7738\n",
      "Epoch 182/200\n",
      "176/176 [==============================] - 4s 25ms/step - loss: 1.9110e-05 - accuracy: 1.0000 - val_loss: 1.7704 - val_accuracy: 0.7738\n",
      "Epoch 183/200\n",
      "176/176 [==============================] - 4s 24ms/step - loss: 1.9131e-05 - accuracy: 1.0000 - val_loss: 1.7705 - val_accuracy: 0.7740\n",
      "Epoch 184/200\n",
      "176/176 [==============================] - 4s 23ms/step - loss: 1.9081e-05 - accuracy: 1.0000 - val_loss: 1.7705 - val_accuracy: 0.7738\n",
      "Epoch 185/200\n",
      "176/176 [==============================] - 4s 23ms/step - loss: 1.9105e-05 - accuracy: 1.0000 - val_loss: 1.7705 - val_accuracy: 0.7738\n",
      "Epoch 186/200\n",
      "176/176 [==============================] - 4s 23ms/step - loss: 1.9113e-05 - accuracy: 1.0000 - val_loss: 1.7706 - val_accuracy: 0.7738\n",
      "Epoch 187/200\n",
      "176/176 [==============================] - 4s 23ms/step - loss: 1.9058e-05 - accuracy: 1.0000 - val_loss: 1.7707 - val_accuracy: 0.7738\n",
      "Epoch 188/200\n",
      "176/176 [==============================] - 4s 26ms/step - loss: 1.9023e-05 - accuracy: 1.0000 - val_loss: 1.7707 - val_accuracy: 0.7736\n",
      "Epoch 189/200\n",
      "176/176 [==============================] - 4s 25ms/step - loss: 1.9053e-05 - accuracy: 1.0000 - val_loss: 1.7708 - val_accuracy: 0.7738\n",
      "Epoch 190/200\n",
      "176/176 [==============================] - 4s 24ms/step - loss: 1.9027e-05 - accuracy: 1.0000 - val_loss: 1.7708 - val_accuracy: 0.7740\n",
      "Epoch 191/200\n",
      "176/176 [==============================] - 4s 24ms/step - loss: 1.9000e-05 - accuracy: 1.0000 - val_loss: 1.7709 - val_accuracy: 0.7738\n",
      "Epoch 192/200\n",
      "176/176 [==============================] - 4s 24ms/step - loss: 1.9037e-05 - accuracy: 1.0000 - val_loss: 1.7709 - val_accuracy: 0.7736\n",
      "Epoch 193/200\n",
      "176/176 [==============================] - 4s 24ms/step - loss: 1.9035e-05 - accuracy: 1.0000 - val_loss: 1.7710 - val_accuracy: 0.7738\n",
      "Epoch 194/200\n",
      "176/176 [==============================] - 4s 25ms/step - loss: 1.9048e-05 - accuracy: 1.0000 - val_loss: 1.7711 - val_accuracy: 0.7736\n",
      "Epoch 195/200\n",
      "176/176 [==============================] - 4s 24ms/step - loss: 1.8962e-05 - accuracy: 1.0000 - val_loss: 1.7711 - val_accuracy: 0.7736\n",
      "Epoch 196/200\n",
      "176/176 [==============================] - 4s 25ms/step - loss: 1.8956e-05 - accuracy: 1.0000 - val_loss: 1.7712 - val_accuracy: 0.7738\n",
      "Epoch 197/200\n",
      "176/176 [==============================] - 4s 25ms/step - loss: 1.8957e-05 - accuracy: 1.0000 - val_loss: 1.7713 - val_accuracy: 0.7738\n",
      "Epoch 198/200\n",
      "176/176 [==============================] - 4s 24ms/step - loss: 1.8979e-05 - accuracy: 1.0000 - val_loss: 1.7713 - val_accuracy: 0.7738\n",
      "Epoch 199/200\n",
      "176/176 [==============================] - 4s 24ms/step - loss: 1.8937e-05 - accuracy: 1.0000 - val_loss: 1.7714 - val_accuracy: 0.7736\n",
      "Epoch 200/200\n",
      "176/176 [==============================] - 4s 25ms/step - loss: 1.8940e-05 - accuracy: 1.0000 - val_loss: 1.7714 - val_accuracy: 0.7736\n"
     ]
    },
    {
     "data": {
      "text/plain": [
       "<tensorflow.python.keras.callbacks.History at 0x7fbc20121358>"
      ]
     },
     "execution_count": 15,
     "metadata": {},
     "output_type": "execute_result"
    }
   ],
   "source": [
    "model.fit(x=train_ds, validation_data=valid_ds, epochs=epochs, callbacks=[callback])"
   ]
  },
  {
   "cell_type": "code",
   "execution_count": 17,
   "metadata": {},
   "outputs": [],
   "source": [
    "# model.save_weights('./model_weights/vgg19_train_without_DA=all_ce.h5')"
   ]
  },
  {
   "cell_type": "code",
   "execution_count": 18,
   "metadata": {},
   "outputs": [
    {
     "data": {
      "text/plain": [
       "[1.892935385608673, 0.7679]"
      ]
     },
     "execution_count": 18,
     "metadata": {},
     "output_type": "execute_result"
    }
   ],
   "source": [
    "model.evaluate(x=x_test, y=y_test_all, verbose=0)"
   ]
  },
  {
   "cell_type": "code",
   "execution_count": 19,
   "metadata": {},
   "outputs": [
    {
     "name": "stdout",
     "output_type": "stream",
     "text": [
      "evaluating file: batch_NTK_simple_decrease_variance.npy\n",
      "[2.8453345438465476, 0.6621094]\n",
      "evaluating file: batch_NTK_simple_increase_variance.npy\n",
      "[2.83843188919127, 0.6586914]\n",
      "evaluating file: batch_NTK_CNN10_decrease_variance.npy\n",
      "[2.6379560194909573, 0.67626953]\n",
      "evaluating file: batch_NTK_CNN10_increase_variance.npy\n",
      "[2.6244671512395144, 0.67578125]\n"
     ]
    }
   ],
   "source": [
    "file_list = ['batch_NTK_simple_decrease_variance.npy',\n",
    "             'batch_NTK_simple_increase_variance.npy',\n",
    "             'batch_NTK_CNN10_decrease_variance.npy',\n",
    "             'batch_NTK_CNN10_increase_variance.npy']\n",
    "\n",
    "for f in file_list:\n",
    "    tmp = onp.load(f)\n",
    "    print('evaluating file: %s'%(f))\n",
    "    result = model.evaluate(tmp, y_test[:2048], verbose=0)\n",
    "    print(result)"
   ]
  },
  {
   "cell_type": "code",
   "execution_count": 17,
   "metadata": {},
   "outputs": [],
   "source": [
    "# model.save('./model_weights/simple_cnn_train=all_ce.h5')"
   ]
  },
  {
   "cell_type": "code",
   "execution_count": null,
   "metadata": {},
   "outputs": [],
   "source": [
    "# with pooling, acc can reach 72.2%\n",
    "# w.o. pooling, acc is at most 67%"
   ]
  },
  {
   "cell_type": "code",
   "execution_count": 18,
   "metadata": {},
   "outputs": [
    {
     "name": "stdout",
     "output_type": "stream",
     "text": [
      "==========NTK============\n"
     ]
    },
    {
     "data": {
      "text/plain": [
       "[1.721642017364502, 0.796875]"
      ]
     },
     "execution_count": 18,
     "metadata": {},
     "output_type": "execute_result"
    }
   ],
   "source": [
    "tmp = onp.load('./npy/cifar-eps-time-any-npy/cifar-fgsm-eps-0.03-time-None.npy')\n",
    "print(\"==========NTK============\")\n",
    "model.evaluate(tmp, y_test[:128], verbose=0)"
   ]
  },
  {
   "cell_type": "code",
   "execution_count": 19,
   "metadata": {},
   "outputs": [
    {
     "name": "stdout",
     "output_type": "stream",
     "text": [
      "==========CE============\n"
     ]
    },
    {
     "data": {
      "text/plain": [
       "[1.4565632166631985, 0.82714844]"
      ]
     },
     "execution_count": 19,
     "metadata": {},
     "output_type": "execute_result"
    }
   ],
   "source": [
    "tmp = onp.load('./npy/cifar-untargeted-cifar-nn-grey-box-train=4096-ce.npy')\n",
    "print(\"==========CE============\")\n",
    "model.evaluate(tmp, y_test[:2048], verbose=0)"
   ]
  },
  {
   "cell_type": "code",
   "execution_count": 20,
   "metadata": {},
   "outputs": [
    {
     "data": {
      "text/plain": [
       "[1.5229312479496002, 0.828125]"
      ]
     },
     "execution_count": 20,
     "metadata": {},
     "output_type": "execute_result"
    }
   ],
   "source": [
    "tmp = onp.load('./npy/cifar-fgsm-eps-0.03-time-None-nngp.npy')\n",
    "model.evaluate(tmp, y_test[:128], verbose=0)"
   ]
  },
  {
   "cell_type": "code",
   "execution_count": 21,
   "metadata": {},
   "outputs": [
    {
     "data": {
      "text/plain": [
       "[1.5229312479496002, 0.828125]"
      ]
     },
     "execution_count": 21,
     "metadata": {},
     "output_type": "execute_result"
    }
   ],
   "source": [
    "tmp = onp.load('./npy/cifar-fgsm-eps-0.03-time-None-nngp.npy')\n",
    "model.evaluate(tmp, y_test[:128], verbose=0)"
   ]
  },
  {
   "cell_type": "code",
   "execution_count": 19,
   "metadata": {},
   "outputs": [
    {
     "data": {
      "text/plain": [
       "[2.5074403285980225, 0.71826171875]"
      ]
     },
     "execution_count": 19,
     "metadata": {},
     "output_type": "execute_result"
    }
   ],
   "source": [
    "tmp = onp.load('./batch_NTK_cnn_19.npy')\n",
    "model.evaluate(tmp, y_test[:2048], verbose=0)"
   ]
  },
  {
   "cell_type": "code",
   "execution_count": 20,
   "metadata": {},
   "outputs": [
    {
     "data": {
      "text/plain": [
       "[2.7732131481170654, 0.6923828125]"
      ]
     },
     "execution_count": 20,
     "metadata": {},
     "output_type": "execute_result"
    }
   ],
   "source": [
    "tmp = onp.load('./batch_NTK_simple.npy')\n",
    "model.evaluate(tmp, y_test[:2048], verbose=0)"
   ]
  },
  {
   "cell_type": "code",
   "execution_count": 21,
   "metadata": {},
   "outputs": [
    {
     "data": {
      "text/plain": [
       "[2.5643069744110107, 0.7158203125]"
      ]
     },
     "execution_count": 21,
     "metadata": {},
     "output_type": "execute_result"
    }
   ],
   "source": [
    "tmp = onp.load('./npy/cifar-untargeted-cifar-nn-grey-box-cnn19-train=all-ce.npy')\n",
    "model.evaluate(tmp, y_test[:2048], verbose=0)"
   ]
  },
  {
   "cell_type": "code",
   "execution_count": 22,
   "metadata": {},
   "outputs": [
    {
     "name": "stdout",
     "output_type": "stream",
     "text": [
      "==========small============\n"
     ]
    },
    {
     "data": {
      "text/plain": [
       "[3.2448506355285645, 0.6474609375]"
      ]
     },
     "execution_count": 22,
     "metadata": {},
     "output_type": "execute_result"
    }
   ],
   "source": [
    "tmp = onp.load('./npy/cifar-untargeted-cifar-nn-grey-box-train=all-ce.npy')\n",
    "print(\"==========small============\")\n",
    "model.evaluate(tmp, y_test[:2048], verbose=0)"
   ]
  },
  {
   "cell_type": "code",
   "execution_count": null,
   "metadata": {},
   "outputs": [],
   "source": []
  }
 ],
 "metadata": {
  "kernelspec": {
   "display_name": "Python 3",
   "language": "python",
   "name": "python3"
  },
  "language_info": {
   "codemirror_mode": {
    "name": "ipython",
    "version": 3
   },
   "file_extension": ".py",
   "mimetype": "text/x-python",
   "name": "python",
   "nbconvert_exporter": "python",
   "pygments_lexer": "ipython3",
   "version": "3.6.8"
  }
 },
 "nbformat": 4,
 "nbformat_minor": 2
}
