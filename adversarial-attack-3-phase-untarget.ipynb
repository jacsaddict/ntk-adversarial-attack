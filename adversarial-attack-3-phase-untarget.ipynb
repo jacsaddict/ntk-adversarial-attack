{
 "cells": [
  {
   "cell_type": "code",
   "execution_count": 1,
   "metadata": {},
   "outputs": [],
   "source": [
    "import jax\n",
    "import jax.numpy as np\n",
    "\n",
    "from jax import lax, random\n",
    "from jax.api import grad, jit, vmap\n",
    "from jax.config import config\n",
    "from jax.experimental import optimizers\n",
    "from jax.experimental.stax import logsoftmax\n",
    "\n",
    "import neural_tangents as nt\n",
    "import neural_tangents.stax as stax\n",
    "\n",
    "from functools import partial\n",
    "from cleverhans.utils import clip_eta, one_hot\n",
    "from utils import *"
   ]
  },
  {
   "cell_type": "code",
   "execution_count": 2,
   "metadata": {},
   "outputs": [
    {
     "name": "stdout",
     "output_type": "stream",
     "text": [
      "gpu\n"
     ]
    }
   ],
   "source": [
    "from jax.lib import xla_bridge\n",
    "print(xla_bridge.get_backend().platform)"
   ]
  },
  {
   "cell_type": "markdown",
   "metadata": {},
   "source": [
    "## minist down sample"
   ]
  },
  {
   "cell_type": "code",
   "execution_count": 3,
   "metadata": {},
   "outputs": [],
   "source": [
    "# x_train, y_train, x_test, y_test = tuple(np.array(x) for x in get_dataset('mnist', 256, 10000))\n",
    "x_train, y_train, x_test, y_test = tuple(np.array(x) for x in get_dataset('mnist', 256, 512, \n",
    "                                                                          do_flatten_and_normalize=False))"
   ]
  },
  {
   "cell_type": "code",
   "execution_count": 4,
   "metadata": {},
   "outputs": [],
   "source": [
    "diag_reg_default = 1e-4 # for inverse solve\n",
    "config.update('jax_enable_x64', True) # for inverse precision"
   ]
  },
  {
   "cell_type": "code",
   "execution_count": 5,
   "metadata": {},
   "outputs": [],
   "source": [
    "def accuracy(mean, ys):\n",
    "    return np.mean(np.argmax(mean, axis=-1) == np.argmax(ys, axis=-1))"
   ]
  },
  {
   "cell_type": "code",
   "execution_count": 6,
   "metadata": {},
   "outputs": [],
   "source": [
    "def WideDenseBlock(output_dim, W_std=1.0, b_std=0.0):\n",
    "    return stax.serial(stax.Dense(output_dim, W_std=W_std, b_std=b_std),\n",
    "                       stax.Erf())\n",
    "\n",
    "def WideDenseGroup(layer_num, output_dim, W_std, b_std):\n",
    "    blocks = []\n",
    "    blocks += [WideDenseBlock(output_dim, W_std, b_std)]\n",
    "    for _ in range(layer_num - 1):\n",
    "        blocks += [WideDenseBlock(output_dim, W_std, b_std)]\n",
    "        \n",
    "    return stax.serial(*blocks)"
   ]
  },
  {
   "cell_type": "code",
   "execution_count": 7,
   "metadata": {},
   "outputs": [],
   "source": [
    "l2_loss = lambda x1, x2, weight: ((x1 - x2)**2*weight)*0.5 # tf version\n",
    "cross_entropy = lambda fx, y_hat: -np.mean(stax.logsoftmax(fx) * y_hat)"
   ]
  },
  {
   "cell_type": "code",
   "execution_count": 8,
   "metadata": {},
   "outputs": [],
   "source": [
    "# x1 = random.normal(k[1], (10 ,1))\n",
    "# x2 = random.normal(k[2], (10 ,1))"
   ]
  },
  {
   "cell_type": "code",
   "execution_count": 9,
   "metadata": {},
   "outputs": [],
   "source": [
    "def train_loss_adv(x_train, y, kernel_fn, weight):\n",
    "    # Compute NTK on training data\n",
    "    ntk_train_train = kernel_fn(x_train, x_train, 'ntk')\n",
    "    loss = - l2_loss(ntk_train_train, y, weight) # y = matrix of 1 / diagnal\n",
    "    return loss\n",
    "\n",
    "# train_grads_fn = grad(train_loss_adv)\n",
    "train_grads_fn = jit(grad(train_loss_adv), static_argnums=(2,)) # static arg: expanding {if / else} loops for graph mode"
   ]
  },
  {
   "cell_type": "code",
   "execution_count": 10,
   "metadata": {},
   "outputs": [
    {
     "data": {
      "text/plain": [
       "(256, 784)"
      ]
     },
     "execution_count": 10,
     "metadata": {},
     "output_type": "execute_result"
    }
   ],
   "source": [
    "x_train.shape"
   ]
  },
  {
   "cell_type": "code",
   "execution_count": 11,
   "metadata": {},
   "outputs": [
    {
     "data": {
      "text/plain": [
       "(1, 512, 784)"
      ]
     },
     "execution_count": 11,
     "metadata": {},
     "output_type": "execute_result"
    }
   ],
   "source": [
    "x_test[None].shape"
   ]
  },
  {
   "cell_type": "code",
   "execution_count": 12,
   "metadata": {},
   "outputs": [],
   "source": [
    "def test_loss_adv_mse(x_train, x_test, y_train, y, kernel_fn, diag_reg=diag_reg_default):\n",
    "    \"\"\"\n",
    "    x_train: training set of input\n",
    "    x_test:  testing set of input\n",
    "    y_train: training labels\n",
    "    y:       target kernel\n",
    "    kernel_fn: fn space of kernels\n",
    "    \n",
    "    This function calculate L2 loss between T_{M,N}, T_{N,N} and y (c*I)\n",
    "    \"\"\"\n",
    "    # Kernel\n",
    "    ntk_train_train = kernel_fn(x_train, x_train, 'ntk')\n",
    "    ntk_test_train = kernel_fn(x_test[None], x_train, 'ntk')\n",
    "    # ntk_test_train = kernel_fn(x_test, x_train, 'ntk')\n",
    "    \n",
    "    # Prediction\n",
    "    predict_fn = nt.predict.gradient_descent_mse(ntk_train_train, y_train, diag_reg=diag_reg) # diag_reg: add to easier inverse\n",
    "    # predict_fn(t, train_0, test_0, kernel_matrix)\n",
    "    # t = training step\n",
    "    # train_y_0 = init mean of y in training set\n",
    "    pred = predict_fn(None, 0., 0., ntk_test_train)[1]\n",
    "    \n",
    "    # cross entropy\n",
    "    loss = -np.sum(logsoftmax(pred) * y)\n",
    "    return loss\n",
    "\n",
    "test_mse_grads_fn = jit(vmap(grad(test_loss_adv_mse, argnums=1), in_axes=(None, 0, None, 0, None), out_axes=0), static_argnums=(4,))"
   ]
  },
  {
   "cell_type": "code",
   "execution_count": 13,
   "metadata": {},
   "outputs": [],
   "source": [
    "def test_loss_adv_cross_entropy(x_train, x_test, y_train, y, kernel_fn, diag_reg=diag_reg_default):\n",
    "    # Kernel\n",
    "    ntk_train_train = kernel_fn(x_train, x_train, 'ntk')\n",
    "    ntk_test_train = kernel_fn(x_test[None], x_train, 'ntk')\n",
    "    # ntk_test_train = kernel_fn(x_test, x_train, 'ntk')\n",
    "\n",
    "    \n",
    "    # Prediction\n",
    "    predict_fn = nt.predict.gradient_descent(cross_entropy, ntk_train_train, y_train, diag_reg=diag_reg_default) # diag_reg: add to easier inverse\n",
    "    pred = predict_fn(None, 0., 0., ntk_test_train)[1]\n",
    "    \n",
    "    loss = - np.sum(logsoftmax(pred) * y)\n",
    "    return loss\n",
    "\n",
    "test_cross_entropy_grads_fn = jit(vmap(grad(test_loss_adv_cross_entropy, argnums=1), in_axes=(None, 0, None, 0, None), out_axes=0), static_argnums=(4,))"
   ]
  },
  {
   "cell_type": "code",
   "execution_count": 14,
   "metadata": {},
   "outputs": [],
   "source": [
    "def model_mse_fn(kernel_fn, obj_fn, x_train=None, x_test=None, fx_train_0=0., fx_test_0=0., diag_reg=diag_reg_default):\n",
    "    # Kernel\n",
    "    ntk_train_train = kernel_fn(x_train, x_train, 'ntk')\n",
    "    \n",
    "    if obj_fn == 'train':\n",
    "        return ntk_train_train\n",
    "    elif obj_fn == 'test':\n",
    "        ntk_test_train = kernel_fn(x_test, x_train, 'ntk')\n",
    "        # Prediction\n",
    "        predict_fn = nt.predict.gradient_descent_mse(ntk_train_train, y_train, diag_reg=diag_reg) # no convariance\n",
    "        return predict_fn(None, fx_train_0, fx_test_0, ntk_test_train) # fx_train_0, diag_reg_default = (0, 0) for infinite width\n",
    "    else:\n",
    "        raise ValueError(\"Objective function must be either train(ntk_train_train) or test(predict_fn)\")"
   ]
  },
  {
   "cell_type": "code",
   "execution_count": 15,
   "metadata": {},
   "outputs": [],
   "source": [
    "def model_cross_entropy_fn(kernel_fn, obj_fn, x_train=None, x_test=None, fx_train_0=0., fx_test_0=0., diag_reg=diag_reg_default):\n",
    "    # Kernel\n",
    "    ntk_train_train = kernel_fn(x_train, x_train, 'ntk')\n",
    "    \n",
    "    if obj_fn == 'train':\n",
    "        return ntk_train_train\n",
    "    elif obj_fn == 'test':\n",
    "        ntk_test_train = kernel_fn(x_test, x_train, 'ntk')\n",
    "        # Prediction\n",
    "        predict_fn = nt.predict.gradient_descent(cross_entropy, ntk_train_train, y_train, diag_reg=diag_reg_default) # no convariance\n",
    "        return predict_fn(None, fx_train_0, fx_test_0, ntk_test_train) # fx_train_0, fx_test_0 = (0, 0) for infinite width\n",
    "    else:\n",
    "        raise ValueError(\"Objective function must be either train(ntk_train_train) or test(predict_fn)\")"
   ]
  },
  {
   "cell_type": "code",
   "execution_count": 16,
   "metadata": {},
   "outputs": [],
   "source": [
    "def fast_gradient_method(model_fn, kernel_fn, obj_fn, grads_fn, loss_weighting, phase, x_train, x_test, \n",
    "                         fx_train_0=0.0, fx_test_0=0.0, eps=0.3, norm=np.inf, clip_min=None, clip_max=None, \n",
    "                         y_train=None, y=None, targeted=False):\n",
    "    \"\"\"\n",
    "    JAX implementation of the Fast Gradient Method.\n",
    "    :param model_fn: a callable that takes an input tensor and returns the model logits.\n",
    "    :param x: input tensor.\n",
    "    :param obj_fn: test or train.\n",
    "    :param grads_fn: grads of loss function.\n",
    "    :param phase: direction of the corrupted data. one of chaotic or ordered.\n",
    "    :param eps: epsilon (input variation parameter); see https://arxiv.org/abs/1412.6572.\n",
    "    :param norm: Order of the norm (mimics NumPy). Possible values: np.inf or 2.\n",
    "    :param clip_min: (optional) float. Minimum float value for adversarial example components.\n",
    "    :param clip_max: (optional) float. Maximum float value for adversarial example components.\n",
    "    :param y: (optional) Tensor with one-hot true labels. If targeted is true, then provide the\n",
    "            target one-hot label. Otherwise, only provide this parameter if you'd like to use true\n",
    "            labels when crafting adversarial samples. Otherwise, model predictions are used\n",
    "            as labels to avoid the \"label leaking\" effect (explained in this paper:\n",
    "            https://arxiv.org/abs/1611.01236). Default is None. This argument does not have\n",
    "            to be a binary one-hot label (e.g., [0, 1, 0, 0]), it can be floating points values\n",
    "            that sum up to 1 (e.g., [0.05, 0.85, 0.05, 0.05]).\n",
    "    :param targeted: (optional) bool. Is the attack targeted or untargeted?\n",
    "            Untargeted, the default, will try to make the label incorrect.\n",
    "            Targeted will instead try to move in the direction of being more like y.\n",
    "            \n",
    "    :return: a tensor for the adversarial example\n",
    "    \"\"\"\n",
    "    if norm not in [np.inf, 2]:\n",
    "        raise ValueError(\"Norm order must be either np.inf or 2.\")\n",
    "        \n",
    "    # define y if y is none\n",
    "    if obj_fn == 'train':\n",
    "        x = x_train\n",
    "        if y is None:\n",
    "            # Compute NTK on training data\n",
    "            ntk_train_train = model_fn(kernel_fn=kernel_fn, obj_fn='train', x_train=x_train)\n",
    "            \n",
    "            # Construct diagonal\n",
    "            if phase == 'ordered':\n",
    "                y = np.ones(ntk_train_train.shape)*100\n",
    "            elif phase == 'chaotic':\n",
    "                y = np.eye(ntk_train_train.shape[0])*100\n",
    "            else:\n",
    "                raise ValueError(\"Phase must be either 'ordered' or 'critical'\")\n",
    "                \n",
    "    elif obj_fn == 'test':\n",
    "        x = x_test\n",
    "        if y is None:\n",
    "            # Using model predictions as ground truth to avoid label leaking\n",
    "            x_labels = np.argmax(model_fn(kernel_fn, 'test', x_train, x_test, fx_train_0, fx_test_0)[1], 1)\n",
    "            y = one_hot(x_labels, 10)\n",
    "            \n",
    "        if y_train is None:\n",
    "            x_labels = np.argmax(model_fn(kernel_fn, 'test', x_train, x_train, fx_train_0, fx_test_0)[1], 1)\n",
    "            y_train = one_hot(x_labels, 10)\n",
    "    \n",
    "    if obj_fn == 'train':\n",
    "        grads = grads_fn(x_train, y, kernel_fn, loss_weighting)\n",
    "    elif obj_fn == 'test':\n",
    "        grads = grads_fn(x_train, x_test, y_train, y, kernel_fn)\n",
    "    else:\n",
    "        raise ValueError(\"Objective function must be either train(ntk_train_train) or test(predict_fn)\")\n",
    "\n",
    "    axis = list(range(1, len(grads.shape)))\n",
    "    avoid_zero_div = 1e-12\n",
    "    if norm == np.inf:\n",
    "        perturbation = eps * np.sign(grads)\n",
    "    elif norm == 1:\n",
    "        raise NotImplementedError(\"L_1 norm has not been implemented yet.\")\n",
    "    elif norm == 2:\n",
    "        square = np.maximum(avoid_zero_div, np.sum(np.square(grads), axis=axis, keepdims=True))\n",
    "        perturbation = grads / np.sqrt(square)\n",
    "\n",
    "    adv_x = x + perturbation\n",
    "\n",
    "    # If clipping is needed, reset all values outside of [clip_min, clip_max]\n",
    "    if (clip_min is not None) or (clip_max is not None):\n",
    "        # We don't currently support one-sided clipping\n",
    "        assert clip_min is not None and clip_max is not None\n",
    "        adv_x = np.clip(adv_x, a_min=clip_min, a_max=clip_max)\n",
    "        \n",
    "    return adv_x"
   ]
  },
  {
   "cell_type": "code",
   "execution_count": 17,
   "metadata": {},
   "outputs": [],
   "source": [
    "def projected_gradient_descent(model_fn, kernel_fn, obj_fn, grads_fn, loss_weighting, phase, x_train, x_test,\n",
    "                               fx_train_0=0., fx_test_0=0., eps=0.3, eps_iter=0.03, nb_iter=10, norm=np.inf, \n",
    "                               clip_min=None, clip_max=None, y_train=None, y=None, targeted=False, \n",
    "                               rand_init=None, rand_minmax=0.3):\n",
    "    \"\"\"\n",
    "    This class implements either the Basic Iterative Method\n",
    "    (Kurakin et al. 2016) when rand_init is set to 0. or the\n",
    "    Madry et al. (2017) method when rand_minmax is larger than 0.\n",
    "    Paper link (Kurakin et al. 2016): https://arxiv.org/pdf/1607.02533.pdf\n",
    "    Paper link (Madry et al. 2017): https://arxiv.org/pdf/1706.06083.pdf\n",
    "    :param model_fn: a callable that takes an input tensor and returns the model logits.\n",
    "    :param x: input tensor.\n",
    "    :param obj_fn: test or train.\n",
    "    :param grads_fn: grads of loss function.\n",
    "    :param phase: direction of the corrupted data. one of chaotic or ordered.\n",
    "    :param eps: epsilon (input variation parameter); see https://arxiv.org/abs/1412.6572.\n",
    "    :param eps_iter: step size for each attack iteration\n",
    "    :param nb_iter: Number of attack iterations.\n",
    "    :param norm: Order of the norm (mimics NumPy). Possible values: np.inf or 2.\n",
    "    :param clip_min: (optional) float. Minimum float value for adversarial example components.\n",
    "    :param clip_max: (optional) float. Maximum float value for adversarial example components.\n",
    "    :param y: (optional) Tensor with true labels. If targeted is true, then provide the\n",
    "            target label. Otherwise, only provide this parameter if you'd like to use true\n",
    "            labels when crafting adversarial samples. Otherwise, model predictions are used\n",
    "            as labels to avoid the \"label leaking\" effect (explained in this paper:\n",
    "            https://arxiv.org/abs/1611.01236). Default is None.\n",
    "    :param targeted: (optional) bool. Is the attack targeted or untargeted?\n",
    "            Untargeted, the default, will try to make the label incorrect.\n",
    "            Targeted will instead try to move in the direction of being more like y.\n",
    "    :return: a tensor for the adversarial example\n",
    "    \"\"\"\n",
    "\n",
    "    assert eps_iter <= eps, (eps_iter, eps)\n",
    "    if norm == 1:\n",
    "        raise NotImplementedError(\"It's not clear that FGM is a good inner loop\"\n",
    "                                  \" step for PGD when norm=1, because norm=1 FGM \"\n",
    "                                  \" changes only one pixel at a time. We need \"\n",
    "                                  \" to rigorously test a strong norm=1 PGD \"\n",
    "                                  \"before enabling this feature.\")\n",
    "    if norm not in [np.inf, 2]:\n",
    "        raise ValueError(\"Norm order must be either np.inf or 2.\")\n",
    "        \n",
    "    \n",
    "    if obj_fn == 'train':\n",
    "        x = x_train\n",
    "        if y is None:\n",
    "            # Compute NTK on training data\n",
    "            ntk_train_train = model_fn(kernel_fn=kernel_fn, obj_fn='train', x_train=x_train)\n",
    "            \n",
    "            # Construct diagonal\n",
    "            if phase == 'ordered':\n",
    "                y = np.ones(ntk_train_train.shape)*100\n",
    "            elif phase == 'chaotic':\n",
    "                y = np.eye(ntk_train_train.shape[0])*100\n",
    "            else:\n",
    "                raise ValueError(\"Phase must be either 'ordered' or 'critical'\")\n",
    "                \n",
    "    elif obj_fn == 'test':\n",
    "        x = x_test\n",
    "        if y is None:\n",
    "            # Using model predictions as ground truth to avoid label leaking\n",
    "            x_labels = np.argmax(model_fn(kernel_fn, 'test', x_train, x_test, fx_train_0, fx_test_0)[1], 1)\n",
    "            y = one_hot(x_labels, 10)\n",
    "            \n",
    "        if y_train is None:\n",
    "            x_labels = np.argmax(model_fn(kernel_fn, 'test', x_train, x_train, fx_train_0, fx_test_0)[1], 1)\n",
    "            y_train = one_hot(x_labels, 10)\n",
    "            \n",
    "    else:\n",
    "        raise ValueError(\"Objective function must be either train(ntk_train_train) or test(predict_fn)\")\n",
    "        \n",
    "    # Initialize loop variables\n",
    "    if rand_init:\n",
    "        rand_minmax = eps\n",
    "        eta = random.uniform(new_key, x.shape, minval=-rand_minmax, maxval=rand_minmax)\n",
    "    else:\n",
    "        eta = np.zeros_like(x)\n",
    "\n",
    "    # Clip eta\n",
    "    eta = clip_eta(eta, norm, eps)\n",
    "    adv_x = x + eta\n",
    "    if clip_min is not None or clip_max is not None:\n",
    "        adv_x = np.clip(adv_x, a_min=clip_min, a_max=clip_max)\n",
    "        \n",
    "    for _ in range(nb_iter):\n",
    "        if obj_fn == 'test':\n",
    "            adv_x = fast_gradient_method(model_fn, kernel_fn, obj_fn, grads_fn, loss_weighting, phase, x_train, adv_x, \n",
    "                                         fx_train_0=0., fx_test_0=0., eps=eps_iter, norm=np.inf, clip_min=clip_min, \n",
    "                                         clip_max=clip_max, y_train=y_train, y=y, targeted=targeted)\n",
    "        elif obj_fn == 'train':\n",
    "            adv_x = fast_gradient_method(model_fn, kernel_fn, obj_fn, grads_fn, loss_weighting, phase, adv_x, x_test, \n",
    "                                         fx_train_0=0., fx_test_0=0., eps=eps_iter, norm=np.inf, clip_min=clip_min, \n",
    "                                         clip_max=clip_max, y_train=y_train, y=y, targeted=targeted)\n",
    "\n",
    "        # Clipping perturbation eta to norm norm ball\n",
    "        eta = adv_x - x\n",
    "        eta = clip_eta(eta, norm, eps)\n",
    "        adv_x = x + eta\n",
    "\n",
    "        # Redo the clipping.\n",
    "        # FGM already did it, but subtracting and re-adding eta can add some\n",
    "        # small numerical error.\n",
    "        if clip_min is not None or clip_max is not None:\n",
    "            adv_x = np.clip(adv_x, a_min=clip_min, a_max=clip_max)\n",
    "\n",
    "    return adv_x"
   ]
  },
  {
   "cell_type": "markdown",
   "metadata": {},
   "source": [
    "## the three phases"
   ]
  },
  {
   "cell_type": "code",
   "execution_count": 18,
   "metadata": {},
   "outputs": [],
   "source": [
    "variance_b = 0.18\n",
    "variance_w = np.asarray([1., 1.76, 2.5])\n",
    "phase_list = ['Ordered', 'Critical', 'Chaotic']\n",
    "\n",
    "layer_num = 50\n",
    "num_classes = 10\n",
    "\n",
    "kernel_list = []\n",
    "fx_train_0_list = []\n",
    "fx_test_0_list = []\n",
    "\n",
    "key = random.PRNGKey(0)\n",
    "\n",
    "b_std = np.sqrt(variance_b)\n",
    "\n",
    "for w_std in np.sqrt(variance_w):\n",
    "    init_fn, apply_fn, kernel_fn = stax.serial(WideDenseGroup(layer_num=layer_num, output_dim=1024, \n",
    "                                                              W_std=w_std, b_std=b_std), \n",
    "                                               stax.Dense(num_classes, W_std=w_std, b_std=b_std))\n",
    "    \n",
    "    # Inference with a single infinite width / linearized network\n",
    "    apply_fn = jit(apply_fn)\n",
    "    kernel_fn = jit(kernel_fn, static_argnums=(2,))\n",
    "    kernel_list.append(kernel_fn)\n",
    "    \n",
    "#     _, params = init_fn(key, (-1, x_train.shape[1]))\n",
    "#     fx_train_0_list.append(apply_fn(params, x_train))\n",
    "#     fx_test_0_list.append(apply_fn(params, x_test))"
   ]
  },
  {
   "cell_type": "markdown",
   "metadata": {},
   "source": [
    "## model training"
   ]
  },
  {
   "cell_type": "code",
   "execution_count": 19,
   "metadata": {},
   "outputs": [],
   "source": [
    "# for phase, kernel in zip(phase_list, kernel_list):\n",
    "#     _, fx_test = model_mse_fn(kernel, 'test', x_train, x_test)\n",
    "#     acc = accuracy(fx_test, y_test)\n",
    "#     print(\"Clean Acc({:s}): {:.2f}\".format(phase, acc))"
   ]
  },
  {
   "cell_type": "markdown",
   "metadata": {},
   "source": [
    "## attck gerneration"
   ]
  },
  {
   "cell_type": "code",
   "execution_count": 20,
   "metadata": {},
   "outputs": [],
   "source": [
    "phase = 'chaotic'\n",
    "n = x_train.shape[0]\n",
    "w = n**2 - n\n",
    "w = 1e4\n",
    "d = 1\n",
    "eye = np.eye(n)\n",
    "loss_weighting = np.where(eye==0, 1/w, eye) * d"
   ]
  },
  {
   "cell_type": "code",
   "execution_count": 21,
   "metadata": {},
   "outputs": [],
   "source": [
    "attack_type = [\"Clean\", \"FGSM\", \"PGD-10\", \"PGD-100\"]\n",
    "x_test_list = []"
   ]
  },
  {
   "cell_type": "code",
   "execution_count": 22,
   "metadata": {},
   "outputs": [
    {
     "name": "stdout",
     "output_type": "stream",
     "text": [
      "diag/off-diag: 1.00000/0.00010\n",
      "Robustness(Clean): 0.85\n",
      "Robustness(FGSM): 0.19\n",
      "Robustness(PGD-10): 0.13\n",
      "Robustness(PGD-100): 0.13\n"
     ]
    }
   ],
   "source": [
    "x_test_list.append(x_test)\n",
    "\n",
    "# FGSM\n",
    "x_test_list.append(fast_gradient_method(model_fn=model_mse_fn, kernel_fn=kernel_list[1], obj_fn='test', \n",
    "                                         grads_fn=test_mse_grads_fn, loss_weighting=loss_weighting, phase=phase, \n",
    "                                         x_train=x_train, x_test=x_test, eps=0.3, clip_min=0, clip_max=1, y=None, \n",
    "                                         targeted=False))\n",
    "\n",
    "# PGD 10\n",
    "key, new_key = random.split(key)\n",
    "x_test_list.append(projected_gradient_descent(model_fn=model_mse_fn, kernel_fn=kernel_list[1], obj_fn='test', \n",
    "                                               grads_fn=test_mse_grads_fn, loss_weighting=loss_weighting, phase=phase,\n",
    "                                               x_train=x_train, x_test=x_test, eps=0.3, eps_iter=0.04, nb_iter=10, \n",
    "                                               clip_min=0, clip_max=1, y=None, targeted=False, rand_init=True, \n",
    "                                               rand_minmax=0.3))\n",
    "\n",
    "# PGD 100\n",
    "key, new_key = random.split(key)\n",
    "x_test_list.append(projected_gradient_descent(model_fn=model_mse_fn, kernel_fn=kernel_list[1], obj_fn='test', \n",
    "                                               grads_fn=test_mse_grads_fn, loss_weighting=loss_weighting, phase=phase,\n",
    "                                               x_train=x_train, x_test=x_test, eps=0.3, eps_iter=0.004, nb_iter=100, \n",
    "                                               clip_min=0, clip_max=1, y=None, targeted=False, rand_init=True, \n",
    "                                               rand_minmax=0.3))\n",
    "\n",
    "# Evaluation\n",
    "print(\"diag/off-diag: {:.5f}/{:.5f}\".format(loss_weighting[0][0], loss_weighting[0][1]))\n",
    "\n",
    "for idx, _x_test in enumerate(x_test_list):\n",
    "    _, fx_adv_test_t = model_mse_fn(kernel_list[1], 'test', x_train, _x_test)\n",
    "    acc = accuracy(fx_adv_test_t, y_test)\n",
    "    print(\"Robustness({:s}): {:.2f}\".format(attack_type[idx], acc))"
   ]
  },
  {
   "cell_type": "code",
   "execution_count": 23,
   "metadata": {},
   "outputs": [
    {
     "data": {
      "text/plain": [
       "4"
      ]
     },
     "execution_count": 23,
     "metadata": {},
     "output_type": "execute_result"
    }
   ],
   "source": [
    "len(x_test_list)"
   ]
  },
  {
   "cell_type": "code",
   "execution_count": 24,
   "metadata": {},
   "outputs": [
    {
     "data": {
      "text/plain": [
       "<matplotlib.image.AxesImage at 0x7f4a7123a8d0>"
      ]
     },
     "execution_count": 24,
     "metadata": {},
     "output_type": "execute_result"
    },
    {
     "data": {
      "image/png": "[encoded data removed]",
      "text/plain": [
       "<Figure size 432x288 with 1 Axes>"
      ]
     },
     "metadata": {
      "needs_background": "light"
     },
     "output_type": "display_data"
    }
   ],
   "source": [
    "plt.imshow(x_test[0].reshape((28,28)))"
   ]
  },
  {
   "cell_type": "code",
   "execution_count": 25,
   "metadata": {},
   "outputs": [
    {
     "data": {
      "text/plain": [
       "<matplotlib.image.AxesImage at 0x7f4a7c2b8e80>"
      ]
     },
     "execution_count": 25,
     "metadata": {},
     "output_type": "execute_result"
    },
    {
     "data": {
      "image/png": "[encoded data removed]",
      "text/plain": [
       "<Figure size 432x288 with 1 Axes>"
      ]
     },
     "metadata": {
      "needs_background": "light"
     },
     "output_type": "display_data"
    }
   ],
   "source": [
    "plt.imshow(x_test_list[1][0].reshape((28,28)))"
   ]
  },
  {
   "cell_type": "markdown",
   "metadata": {},
   "source": [
    "## questions\n",
    "\n",
    "why y_train = None ?"
   ]
  },
  {
   "cell_type": "code",
   "execution_count": null,
   "metadata": {},
   "outputs": [],
   "source": []
  }
 ],
 "metadata": {
  "anaconda-cloud": {},
  "kernelspec": {
   "display_name": "Python 3",
   "language": "python",
   "name": "python3"
  },
  "language_info": {
   "codemirror_mode": {
    "name": "ipython",
    "version": 3
   },
   "file_extension": ".py",
   "mimetype": "text/x-python",
   "name": "python",
   "nbconvert_exporter": "python",
   "pygments_lexer": "ipython3",
   "version": "3.6.8"
  }
 },
 "nbformat": 4,
 "nbformat_minor": 1
}
