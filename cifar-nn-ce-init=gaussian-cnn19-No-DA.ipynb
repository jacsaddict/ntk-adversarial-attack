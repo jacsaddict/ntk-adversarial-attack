{
 "cells": [
  {
   "cell_type": "code",
   "execution_count": 1,
   "metadata": {},
   "outputs": [],
   "source": [
    "import numpy as onp\n",
    "import tensorflow as tf\n",
    "import matplotlib.pyplot as plt\n",
    "\n",
    "from utils import *"
   ]
  },
  {
   "cell_type": "code",
   "execution_count": 2,
   "metadata": {},
   "outputs": [
    {
     "name": "stdout",
     "output_type": "stream",
     "text": [
      "1 Physical GPUs, 1 Logical GPU\n"
     ]
    }
   ],
   "source": [
    "gpus = tf.config.experimental.list_physical_devices('GPU')\n",
    "if gpus:\n",
    "  # Restrict TensorFlow to only use the first GPU\n",
    "    try:\n",
    "        tf.config.experimental.set_visible_devices(gpus[0], 'GPU')\n",
    "        logical_gpus = tf.config.experimental.list_logical_devices('GPU')\n",
    "        print(len(gpus), \"Physical GPUs,\", len(logical_gpus), \"Logical GPU\")\n",
    "    except RuntimeError as e:\n",
    "    # Visible devices must be set before GPUs have been initialized\n",
    "        print(e)"
   ]
  },
  {
   "cell_type": "markdown",
   "metadata": {},
   "source": [
    "# hyperparameters"
   ]
  },
  {
   "cell_type": "code",
   "execution_count": 3,
   "metadata": {},
   "outputs": [],
   "source": [
    "#data\n",
    "DATASET = 'cifar10'\n",
    "class_num   = 10\n",
    "test_size   = None\n",
    "train_size  = 45000\n",
    "image_shape = None\n",
    "\n",
    "if DATASET =='mnist':\n",
    "    image_shape = (28, 28, 1)\n",
    "elif DATASET == 'cifar10':\n",
    "    image_shape = (32, 32, 3)\n",
    "\n",
    "#training\n",
    "batch_size = 256\n",
    "epochs = 200"
   ]
  },
  {
   "cell_type": "code",
   "execution_count": 4,
   "metadata": {
    "scrolled": true
   },
   "outputs": [],
   "source": [
    "x_train_all, y_train_all, x_test_all, y_test_all = tuple(onp.array(x) for x in get_dataset(DATASET, None, None, \n",
    "                                                                                  do_flatten_and_normalize=False))"
   ]
  },
  {
   "cell_type": "code",
   "execution_count": 5,
   "metadata": {},
   "outputs": [],
   "source": [
    "# shuffle\n",
    "seed = 0\n",
    "x_train_all, y_train_all = shaffle(x_train_all, y_train_all, seed)"
   ]
  },
  {
   "cell_type": "code",
   "execution_count": 6,
   "metadata": {},
   "outputs": [],
   "source": [
    "# down sample\n",
    "x_train = x_train_all[:train_size]\n",
    "y_train = y_train_all[:train_size]\n",
    "\n",
    "x_valid = x_train_all[train_size:]\n",
    "y_valid = y_train_all[train_size:]\n",
    "\n",
    "x_test = x_test_all[:test_size]\n",
    "y_test = y_test_all[:test_size]"
   ]
  },
  {
   "cell_type": "code",
   "execution_count": 7,
   "metadata": {},
   "outputs": [],
   "source": [
    "x_train, x_valid, x_test = x_train.reshape((-1, *image_shape)), x_valid.reshape((-1, *image_shape)), x_test.reshape((-1, *image_shape))"
   ]
  },
  {
   "cell_type": "code",
   "execution_count": 8,
   "metadata": {},
   "outputs": [],
   "source": [
    "train_ds = tf.data.Dataset.from_tensor_slices((x_train, y_train))\n",
    "train_ds = train_ds.shuffle(\n",
    "    100000\n",
    ").batch(\n",
    "    batch_size\n",
    ").prefetch(10)"
   ]
  },
  {
   "cell_type": "code",
   "execution_count": 9,
   "metadata": {},
   "outputs": [],
   "source": [
    "valid_ds = tf.data.Dataset.from_tensor_slices((x_valid, y_valid)).batch(batch_size)"
   ]
  },
  {
   "cell_type": "code",
   "execution_count": 10,
   "metadata": {},
   "outputs": [],
   "source": [
    "layers = tf.keras.layers"
   ]
  },
  {
   "cell_type": "code",
   "execution_count": 11,
   "metadata": {},
   "outputs": [],
   "source": [
    "img_input = layers.Input(shape=image_shape)\n",
    "x = layers.Conv2D(64, (3, 3), activation='relu', padding='same', \n",
    "                  kernel_initializer=tf.keras.initializers.GlorotNormal())(img_input)\n",
    "x = layers.Conv2D(64, (3, 3), activation='relu', padding='same',\n",
    "                 kernel_initializer=tf.keras.initializers.GlorotNormal())(x)\n",
    "x = layers.Conv2D(128, (3, 3), activation='relu', padding='same', \n",
    "                  kernel_initializer=tf.keras.initializers.GlorotNormal())(x)\n",
    "x = layers.Conv2D(128, (3, 3), activation='relu', padding='same',\n",
    "                 kernel_initializer=tf.keras.initializers.GlorotNormal())(x)\n",
    "x = layers.Conv2D(256, (3, 3), activation='relu', padding='same', \n",
    "                  kernel_initializer=tf.keras.initializers.GlorotNormal())(x)\n",
    "x = layers.Conv2D(256, (3, 3), activation='relu', padding='same',\n",
    "                 kernel_initializer=tf.keras.initializers.GlorotNormal())(x)\n",
    "x = layers.Conv2D(256, (3, 3), activation='relu', padding='same',\n",
    "                 kernel_initializer=tf.keras.initializers.GlorotNormal())(x)\n",
    "x = layers.Conv2D(256, (3, 3), activation='relu', padding='same',\n",
    "                 kernel_initializer=tf.keras.initializers.GlorotNormal())(x)\n",
    "x = layers.Conv2D(512, (3, 3), activation='relu', padding='same', \n",
    "                  kernel_initializer=tf.keras.initializers.GlorotNormal())(x)\n",
    "x = layers.Conv2D(512, (3, 3), activation='relu', padding='same',\n",
    "                 kernel_initializer=tf.keras.initializers.GlorotNormal())(x)\n",
    "x = layers.Conv2D(512, (3, 3), activation='relu', padding='same',\n",
    "                 kernel_initializer=tf.keras.initializers.GlorotNormal())(x)\n",
    "x = layers.Conv2D(512, (3, 3), activation='relu', padding='same',\n",
    "                 kernel_initializer=tf.keras.initializers.GlorotNormal())(x)\n",
    "x = layers.Conv2D(512, (3, 3), activation='relu', padding='same', \n",
    "                  kernel_initializer=tf.keras.initializers.GlorotNormal())(x)\n",
    "x = layers.Conv2D(512, (3, 3), activation='relu', padding='same',\n",
    "                 kernel_initializer=tf.keras.initializers.GlorotNormal())(x)\n",
    "x = layers.Conv2D(512, (3, 3), activation='relu', padding='same',\n",
    "                 kernel_initializer=tf.keras.initializers.GlorotNormal())(x)\n",
    "x = layers.Conv2D(512, (3, 3), activation='relu', padding='same',\n",
    "                 kernel_initializer=tf.keras.initializers.GlorotNormal())(x)\n",
    "x = layers.Flatten()(x)\n",
    "x = layers.Dense(512, activation='relu', kernel_initializer=tf.keras.initializers.GlorotNormal())(x)\n",
    "out = layers.Dense(10, kernel_initializer=tf.keras.initializers.GlorotNormal())(x)\n",
    "\n",
    "model = tf.keras.Model(inputs=img_input, outputs=out)"
   ]
  },
  {
   "cell_type": "code",
   "execution_count": 12,
   "metadata": {},
   "outputs": [],
   "source": [
    "def scheduler(epoch, lr):\n",
    "    if epoch < 10:\n",
    "        return 1e-3\n",
    "    elif epoch < 90:\n",
    "        return 1e-2\n",
    "    elif epoch < 150:\n",
    "        return 1e-3\n",
    "    else:\n",
    "        return 1e-4"
   ]
  },
  {
   "cell_type": "code",
   "execution_count": 13,
   "metadata": {},
   "outputs": [],
   "source": [
    "model.compile(optimizer=tf.keras.optimizers.SGD(momentum=0.9),\n",
    "              loss=tf.keras.losses.CategoricalCrossentropy(from_logits=True),\n",
    "              metrics=['accuracy'])"
   ]
  },
  {
   "cell_type": "code",
   "execution_count": 14,
   "metadata": {},
   "outputs": [],
   "source": [
    "callback = tf.keras.callbacks.LearningRateScheduler(scheduler)"
   ]
  },
  {
   "cell_type": "code",
   "execution_count": 15,
   "metadata": {
    "scrolled": true
   },
   "outputs": [],
   "source": [
    "# model.fit(x=train_ds, validation_data=valid_ds, epochs=epochs, callbacks=[callback])"
   ]
  },
  {
   "cell_type": "code",
   "execution_count": 16,
   "metadata": {},
   "outputs": [],
   "source": [
    "model.load_weights('./model_weights/cnn_19_train=all-without-DA_ce.h5')"
   ]
  },
  {
   "cell_type": "code",
   "execution_count": 17,
   "metadata": {},
   "outputs": [
    {
     "data": {
      "text/plain": [
       "[12.426138371229172, 0.40820312]"
      ]
     },
     "execution_count": 17,
     "metadata": {},
     "output_type": "execute_result"
    }
   ],
   "source": [
    "tmp = onp.load('./npy/cifar-untargeted-cifar-nn-grey-box-train=all-ce-without-momentum.npy')\n",
    "model.evaluate(x=tmp[:512], y=y_test_all[:512], verbose=0)"
   ]
  },
  {
   "cell_type": "code",
   "execution_count": 17,
   "metadata": {},
   "outputs": [
    {
     "data": {
      "text/plain": [
       "[5.2850244560241695, 0.6234]"
      ]
     },
     "execution_count": 17,
     "metadata": {},
     "output_type": "execute_result"
    }
   ],
   "source": [
    "model.evaluate(x=x_test, y=y_test_all, verbose=0)"
   ]
  },
  {
   "cell_type": "code",
   "execution_count": 18,
   "metadata": {},
   "outputs": [],
   "source": [
    "time = [1e3, 5e3, 1e4, 2e4, 4e4, 8e4, 16e4]\n",
    "for i, t in enumerate(time):\n",
    "    time[i] = str(int(t))\n",
    "time.append('None')\n",
    "\n",
    "csv_file_name = \"cnn19\"\n",
    "table = onp.zeros((3, 8))\n",
    "\n",
    "for i, t in enumerate(time):\n",
    "    \n",
    "    tmp = onp.load('./batch_NTK_simple_time=%s.npy'%(t))\n",
    "    result = model.evaluate(tmp, y_test[:512], verbose=0)\n",
    "    table[0][i] = result[1]\n",
    "    \n",
    "    tmp = onp.load('./batch_NTK_simple_no_dense_time=%s.npy'%(t))\n",
    "    result = model.evaluate(tmp, y_test[:512], verbose=0)\n",
    "    table[1][i] = result[1]\n",
    "    \n",
    "    tmp = onp.load('./batch_NTK_simple_stride_no_dense_time=%s.npy'%(t))\n",
    "    result = model.evaluate(tmp, y_test[:512], verbose=0)\n",
    "    table[2][i] = result[1]\n",
    "    \n",
    "onp.savetxt(csv_file_name+\".csv\", table, delimiter=\",\", fmt='%.3f')"
   ]
  },
  {
   "cell_type": "code",
   "execution_count": 18,
   "metadata": {},
   "outputs": [],
   "source": [
    "csv_file_name = \"cnn19_decrease\"\n",
    "table = onp.zeros((4, 8))\n",
    "lambd = [\"0.00\", \"0.25\", \"0.50\", \"0.75\"]\n",
    "for l in range(4):\n",
    "    lamb = lambd[l]\n",
    "    for idx, t in enumerate(np.load('time.npy')):\n",
    "        file = './variance-and-time/decrease/batch_NTK_simple_decrease_variance_lambda=' + lamb + '_time=%d.npy'%(t)\n",
    "        tmp = onp.load(file)\n",
    "        # print('evaluating file: %s'%(file))\n",
    "        result = model.evaluate(tmp, y_test[:512], verbose=0)\n",
    "        table[l][idx] = result[1]\n",
    "        # print(result)\n",
    "onp.savetxt(csv_file_name+\".csv\", table, delimiter=\",\", fmt='%.3f')"
   ]
  },
  {
   "cell_type": "code",
   "execution_count": 20,
   "metadata": {},
   "outputs": [],
   "source": [
    "csv_file_name = \"cnn19_increase\"\n",
    "table = onp.zeros((4, 8))\n",
    "lambd = [\"0.00\", \"0.25\", \"0.50\", \"0.75\"]\n",
    "for l in range(4):\n",
    "    lamb = lambd[l]\n",
    "    for idx, t in enumerate(np.load('time.npy')):\n",
    "        file = './variance-and-time/increase/batch_NTK_simple_increase_variance_lambda=' + lamb + '_time=%d.npy'%(t)\n",
    "        tmp = onp.load(file)\n",
    "        # print('evaluating file: %s'%(file))\n",
    "        result = model.evaluate(tmp, y_test[:512], verbose=0)\n",
    "        table[l][idx] = result[1]\n",
    "        # print(result)\n",
    "onp.savetxt(csv_file_name+\".csv\", table, delimiter=\",\", fmt='%.3f')"
   ]
  },
  {
   "cell_type": "code",
   "execution_count": 18,
   "metadata": {},
   "outputs": [],
   "source": [
    "csv_file_name = \"cnn19_decrease\"\n",
    "table = onp.zeros((8, 4))\n",
    "for l in range(8):\n",
    "    lamb = 10**l\n",
    "    for idx, t in enumerate([1e5, 5e5, 1e6, 2.3e6]):\n",
    "        file = './batch_NTK_simple_increase_variance_lambda=%d_time=%d.npy'%(lamb, t)\n",
    "        tmp = onp.load(file)\n",
    "        # print('evaluating file: %s'%(file))\n",
    "        result = model.evaluate(tmp, y_test[:512], verbose=0)\n",
    "        table[l][idx] = result[1]\n",
    "        # print(result)\n",
    "onp.savetxt(csv_file_name+\".csv\", table, delimiter=\",\", fmt='%.3f')"
   ]
  },
  {
   "cell_type": "code",
   "execution_count": 28,
   "metadata": {},
   "outputs": [
    {
     "name": "stdout",
     "output_type": "stream",
     "text": [
      "evaluating file: ./variance-and-time/cifar-fgsm-eps-0.03-time-500000.npy\n",
      "[7.637354135513306, 0.5449219]\n",
      "evaluating file: ./variance-and-time/cifar-fgsm-eps-0.03-time-100000.npy\n",
      "[7.636732697486877, 0.5449219]\n",
      "evaluating file: ./variance-and-time/cifar-fgsm-eps-0.03-time-1000000.npy\n",
      "[7.637354135513306, 0.5449219]\n",
      "evaluating file: ./variance-and-time/cifar-fgsm-eps-0.03-time-2300000.npy\n",
      "[7.637354135513306, 0.5449219]\n",
      "evaluating file: ./npy/batch_NTK_simple.npy\n",
      "[7.637354135513306, 0.5449219]\n",
      "evaluating file: ./npy/cifar-untargeted-cifar-nn-grey-box-train=all-ce.npy\n",
      "[11.395404875278473, 0.41601562]\n",
      "evaluating file: ./npy/batch_NTK_cnn19.npy\n",
      "[7.081207990646362, 0.56640625]\n",
      "evaluating file: ./npy/cifar-untargeted-cifar-nn-grey-box-cnn19-train=all-ce.npy\n",
      "[59.88153052330017, 0.060546875]\n"
     ]
    }
   ],
   "source": [
    "file_list = ['./variance-and-time/cifar-fgsm-eps-0.03-time-500000.npy',\n",
    "             './variance-and-time/cifar-fgsm-eps-0.03-time-100000.npy',\n",
    "             './variance-and-time/cifar-fgsm-eps-0.03-time-1000000.npy',\n",
    "             './variance-and-time/cifar-fgsm-eps-0.03-time-2300000.npy',\n",
    "             './npy/batch_NTK_simple.npy',\n",
    "             './npy/cifar-untargeted-cifar-nn-grey-box-train=all-ce.npy',\n",
    "             './npy/batch_NTK_cnn19.npy',\n",
    "             './npy/cifar-untargeted-cifar-nn-grey-box-cnn19-train=all-ce.npy']\n",
    "\n",
    "for f in file_list:\n",
    "    tmp = onp.load(f)\n",
    "    print('evaluating file: %s'%(f))\n",
    "    result = model.evaluate(tmp[:512], y_test[:512], verbose=0)\n",
    "    print(result)"
   ]
  },
  {
   "cell_type": "code",
   "execution_count": null,
   "metadata": {},
   "outputs": [
    {
     "name": "stdout",
     "output_type": "stream",
     "text": [
      "evaluating file: ./batch_NTK_simple-targeted-fgsm-x-t=100000.npy\n",
      "WARNING:tensorflow:Layer conv2d is casting an input tensor from dtype float64 to the layer's dtype of float32, which is new behavior in TensorFlow 2.  The layer has dtype float32 because it's dtype defaults to floatx.\n",
      "\n",
      "If you intended to run this layer in float32, you can safely ignore this warning. If in doubt, this warning is likely only an issue if you are porting a TensorFlow 1.X model to TensorFlow 2.\n",
      "\n",
      "To change all layers to have dtype float64 by default, call `tf.keras.backend.set_floatx('float64')`. To change just this layer, pass dtype='float64' to the layer constructor. If you are the author of this layer, you can disable autocasting by passing autocast=False to the base Layer constructor.\n",
      "\n"
     ]
    },
    {
     "name": "stderr",
     "output_type": "stream",
     "text": [
      "WARNING:tensorflow:Layer conv2d is casting an input tensor from dtype float64 to the layer's dtype of float32, which is new behavior in TensorFlow 2.  The layer has dtype float32 because it's dtype defaults to floatx.\n",
      "\n",
      "If you intended to run this layer in float32, you can safely ignore this warning. If in doubt, this warning is likely only an issue if you are porting a TensorFlow 1.X model to TensorFlow 2.\n",
      "\n",
      "To change all layers to have dtype float64 by default, call `tf.keras.backend.set_floatx('float64')`. To change just this layer, pass dtype='float64' to the layer constructor. If you are the author of this layer, you can disable autocasting by passing autocast=False to the base Layer constructor.\n",
      "\n"
     ]
    }
   ],
   "source": [
    "# targted\n",
    "targeted_clean_x = onp.load('./cifar-targeted-clean-x.npy')\n",
    "targeted_clean_y = onp.load('./cifar-targeted-clean-y.npy')\n",
    "\n",
    "file_list = ['./batch_NTK_simple-targeted-fgsm-x-t=100000.npy',\n",
    "             './batch_NTK_simple-targeted-fgsm-x-t=500000.npy',\n",
    "             './batch_NTK_simple-targeted-fgsm-x-t=1000000.npy',\n",
    "             './batch_NTK_simple-targeted-fgsm-x-t=2300000.npy',\n",
    "             './npy/cifar-targeted-simple-cnn-fgsm.npy'\n",
    "            ]\n",
    "\n",
    "for f in file_list:\n",
    "    tmp = onp.load(f)\n",
    "    print('evaluating file: %s'%(f))\n",
    "    correct = onp.argmax(model(targeted_clean_x), axis=1) == onp.argmax(targeted_clean_y, axis=1)\n",
    "    adv_example = onp.load(f)[:512]\n",
    "    attack_targeted = onp.argmax(model(adv_example), axis=1) == 0\n",
    "    success = correct & attack_targeted\n",
    "    print(onp.mean(success))"
   ]
  },
  {
   "cell_type": "code",
   "execution_count": null,
   "metadata": {},
   "outputs": [],
   "source": [
    "# model.save('./model_weights/cnn_19_train=all-without-DA_ce.h5')"
   ]
  },
  {
   "cell_type": "code",
   "execution_count": 16,
   "metadata": {},
   "outputs": [],
   "source": [
    "ce_loss = tf.keras.losses.CategoricalCrossentropy(from_logits=True)\n",
    "\n",
    "@tf.function\n",
    "def targeted_fgsm(x, y_target, model, eps):\n",
    "    with tf.GradientTape() as tp:\n",
    "        tp.watch(x)\n",
    "        y = model(x)\n",
    "        loss = ce_loss(y_target, y)\n",
    "    grad = tp.gradient(loss, x)\n",
    "    return tf.clip_by_value(x - eps * tf.sign(grad), 0, 1)\n",
    "\n",
    "@tf.function\n",
    "def untargeted_fgsm(x, y_true, model, eps):\n",
    "    with tf.GradientTape() as tp:\n",
    "        tp.watch(x)\n",
    "        y = model(x)\n",
    "        loss = ce_loss(y_true, y)\n",
    "    grad = tp.gradient(loss, x)\n",
    "    return tf.clip_by_value(x + eps * tf.sign(grad), 0, 1)"
   ]
  },
  {
   "cell_type": "code",
   "execution_count": 25,
   "metadata": {},
   "outputs": [],
   "source": [
    "num_iter = 2048 // batch_size\n",
    "tmp = []\n",
    "for i in range(num_iter):\n",
    "    tmp.append(onp.asarray(untargeted_fgsm(x_test[i*batch_size:(i+1)*batch_size], \n",
    "                                           y_test[i*batch_size:(i+1)*batch_size], model, 0.03)))"
   ]
  },
  {
   "cell_type": "code",
   "execution_count": null,
   "metadata": {},
   "outputs": [],
   "source": [
    "#　tmp = untargeted_fgsm(x_test[:2048], y_test[:2048], model, 0.03)\n",
    "model.evaluate(tmp[:2048], y_test[:2048])"
   ]
  },
  {
   "cell_type": "code",
   "execution_count": 19,
   "metadata": {},
   "outputs": [
    {
     "name": "stdout",
     "output_type": "stream",
     "text": [
      "evaluating file: batch_NTK_simple_decrease_variance.npy\n",
      "[7.852622307837009, 0.49951172]\n",
      "evaluating file: batch_NTK_simple_increase_variance.npy\n",
      "[7.7636863514781, 0.49951172]\n",
      "evaluating file: batch_NTK_CNN10_decrease_variance.npy\n",
      "[7.327017351984978, 0.52001953]\n",
      "evaluating file: batch_NTK_CNN10_increase_variance.npy\n",
      "[7.319987915456295, 0.51708984]\n"
     ]
    }
   ],
   "source": [
    "file_list = ['batch_NTK_simple_decrease_variance.npy',\n",
    "             'batch_NTK_simple_increase_variance.npy',\n",
    "             'batch_NTK_CNN10_decrease_variance.npy',\n",
    "             'batch_NTK_CNN10_increase_variance.npy']\n",
    "\n",
    "for f in file_list:\n",
    "    tmp = onp.load(f)\n",
    "    print('evaluating file: %s'%(f))\n",
    "    result = model.evaluate(tmp, y_test[:2048], verbose=0)\n",
    "    print(result)"
   ]
  },
  {
   "cell_type": "code",
   "execution_count": 34,
   "metadata": {},
   "outputs": [],
   "source": [
    "onp.save('./npy/cifar-untargeted-cifar-nn-grey-box-cnn19-train=all-ce.npy', tmp)"
   ]
  },
  {
   "cell_type": "code",
   "execution_count": 35,
   "metadata": {},
   "outputs": [
    {
     "name": "stdout",
     "output_type": "stream",
     "text": [
      "==========small============\n"
     ]
    },
    {
     "data": {
      "text/plain": [
       "[11.794343948364258, 0.390625]"
      ]
     },
     "execution_count": 35,
     "metadata": {},
     "output_type": "execute_result"
    }
   ],
   "source": [
    "tmp = onp.load('./npy/cifar-untargeted-cifar-nn-grey-box-train=all-ce.npy')\n",
    "print(\"==========small============\")\n",
    "model.evaluate(tmp, y_test[:2048], verbose=0)"
   ]
  },
  {
   "cell_type": "code",
   "execution_count": 31,
   "metadata": {},
   "outputs": [
    {
     "name": "stdout",
     "output_type": "stream",
     "text": [
      "==========NTK============\n"
     ]
    },
    {
     "data": {
      "text/plain": [
       "[5.813302040100098, 0.53125]"
      ]
     },
     "execution_count": 31,
     "metadata": {},
     "output_type": "execute_result"
    }
   ],
   "source": [
    "tmp = onp.load('./npy/cifar-eps-time-any-npy/cifar-fgsm-eps-0.03-time-None.npy')\n",
    "print(\"==========NTK============\")\n",
    "model.evaluate(tmp, y_test[:128], verbose=0)"
   ]
  },
  {
   "cell_type": "code",
   "execution_count": 20,
   "metadata": {},
   "outputs": [
    {
     "name": "stdout",
     "output_type": "stream",
     "text": [
      "==========CE============\n"
     ]
    },
    {
     "data": {
      "text/plain": [
       "[7.306795120239258, 0.5166015625]"
      ]
     },
     "execution_count": 20,
     "metadata": {},
     "output_type": "execute_result"
    }
   ],
   "source": [
    "tmp = onp.load('./npy/cifar-untargeted-cifar-nn-grey-box-train=4096-ce.npy')\n",
    "print(\"==========CE============\")\n",
    "model.evaluate(tmp, y_test[:2048], verbose=0)"
   ]
  },
  {
   "cell_type": "code",
   "execution_count": 21,
   "metadata": {},
   "outputs": [
    {
     "name": "stdout",
     "output_type": "stream",
     "text": [
      "==========MSE============\n"
     ]
    },
    {
     "data": {
      "text/plain": [
       "[7.127355575561523, 0.52099609375]"
      ]
     },
     "execution_count": 21,
     "metadata": {},
     "output_type": "execute_result"
    }
   ],
   "source": [
    "tmp = onp.load('./npy/cifar-untargeted-cifar-nn-grey-box-train=4096-mse.npy')\n",
    "print(\"==========MSE============\")\n",
    "model.evaluate(tmp, y_test[:2048], verbose=0)"
   ]
  },
  {
   "cell_type": "code",
   "execution_count": 23,
   "metadata": {},
   "outputs": [
    {
     "data": {
      "text/plain": [
       "[5.009244918823242, 0.5859375]"
      ]
     },
     "execution_count": 23,
     "metadata": {},
     "output_type": "execute_result"
    }
   ],
   "source": [
    "tmp = onp.load('./npy/cifar-fgsm-eps-0.03-time-None-nngp.npy')\n",
    "model.evaluate(tmp, y_test[:128], verbose=0)"
   ]
  },
  {
   "cell_type": "code",
   "execution_count": 18,
   "metadata": {},
   "outputs": [
    {
     "data": {
      "text/plain": [
       "[7.822888374328613, 0.5009765625]"
      ]
     },
     "execution_count": 18,
     "metadata": {},
     "output_type": "execute_result"
    }
   ],
   "source": [
    "tmp = onp.load('./batch_NTK_simple.npy')\n",
    "model.evaluate(tmp, y_test[:2048], verbose=0)"
   ]
  },
  {
   "cell_type": "code",
   "execution_count": 16,
   "metadata": {},
   "outputs": [
    {
     "data": {
      "text/plain": [
       "[7.321274280548096, 0.51806640625]"
      ]
     },
     "execution_count": 16,
     "metadata": {},
     "output_type": "execute_result"
    }
   ],
   "source": [
    "tmp = onp.load('./batch_NTK_cnn_19.npy')\n",
    "model.evaluate(tmp, y_test[:2048], verbose=0)"
   ]
  },
  {
   "cell_type": "code",
   "execution_count": null,
   "metadata": {},
   "outputs": [],
   "source": []
  }
 ],
 "metadata": {
  "kernelspec": {
   "display_name": "Python 3",
   "language": "python",
   "name": "python3"
  },
  "language_info": {
   "codemirror_mode": {
    "name": "ipython",
    "version": 3
   },
   "file_extension": ".py",
   "mimetype": "text/x-python",
   "name": "python",
   "nbconvert_exporter": "python",
   "pygments_lexer": "ipython3",
   "version": "3.6.8"
  }
 },
 "nbformat": 4,
 "nbformat_minor": 2
}
