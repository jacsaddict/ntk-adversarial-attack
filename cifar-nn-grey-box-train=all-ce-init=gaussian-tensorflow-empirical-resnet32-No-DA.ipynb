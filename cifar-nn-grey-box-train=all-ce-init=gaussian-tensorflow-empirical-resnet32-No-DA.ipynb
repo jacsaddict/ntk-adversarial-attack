{
 "cells": [
  {
   "cell_type": "code",
   "execution_count": 1,
   "metadata": {},
   "outputs": [],
   "source": [
    "import numpy as onp\n",
    "import tensorflow as tf\n",
    "import matplotlib.pyplot as plt\n",
    "\n",
    "from utils import *"
   ]
  },
  {
   "cell_type": "code",
   "execution_count": 2,
   "metadata": {},
   "outputs": [
    {
     "name": "stdout",
     "output_type": "stream",
     "text": [
      "1 Physical GPUs, 1 Logical GPU\n"
     ]
    }
   ],
   "source": [
    "gpus = tf.config.experimental.list_physical_devices('GPU')\n",
    "if gpus:\n",
    "  # Restrict TensorFlow to only use the first GPU\n",
    "    try:\n",
    "        tf.config.experimental.set_visible_devices(gpus[0], 'GPU')\n",
    "        logical_gpus = tf.config.experimental.list_logical_devices('GPU')\n",
    "        print(len(gpus), \"Physical GPUs,\", len(logical_gpus), \"Logical GPU\")\n",
    "    except RuntimeError as e:\n",
    "    # Visible devices must be set before GPUs have been initialized\n",
    "        print(e)"
   ]
  },
  {
   "cell_type": "markdown",
   "metadata": {},
   "source": [
    "# hyperparameters"
   ]
  },
  {
   "cell_type": "code",
   "execution_count": 3,
   "metadata": {},
   "outputs": [],
   "source": [
    "#data\n",
    "DATASET = 'cifar10'\n",
    "class_num   = 10\n",
    "test_size   = None\n",
    "train_size  = 45000\n",
    "image_shape = None\n",
    "\n",
    "if DATASET =='mnist':\n",
    "    image_shape = (28, 28, 1)\n",
    "elif DATASET == 'cifar10':\n",
    "    image_shape = (32, 32, 3)\n",
    "\n",
    "#training\n",
    "batch_size = 256\n",
    "epochs = 200"
   ]
  },
  {
   "cell_type": "code",
   "execution_count": 4,
   "metadata": {
    "scrolled": true
   },
   "outputs": [],
   "source": [
    "x_train_all, y_train_all, x_test_all, y_test_all = tuple(onp.array(x) for x in get_dataset(DATASET, None, None, \n",
    "                                                                                  do_flatten_and_normalize=False))"
   ]
  },
  {
   "cell_type": "code",
   "execution_count": 5,
   "metadata": {},
   "outputs": [],
   "source": [
    "# shuffle\n",
    "seed = 0\n",
    "x_train_all, y_train_all = shaffle(x_train_all, y_train_all, seed)"
   ]
  },
  {
   "cell_type": "code",
   "execution_count": 6,
   "metadata": {},
   "outputs": [],
   "source": [
    "# down sample\n",
    "x_train = x_train_all[:train_size]\n",
    "y_train = y_train_all[:train_size]\n",
    "\n",
    "x_valid = x_train_all[train_size:]\n",
    "y_valid = y_train_all[train_size:]\n",
    "\n",
    "x_test = x_test_all[:test_size]\n",
    "y_test = y_test_all[:test_size]"
   ]
  },
  {
   "cell_type": "code",
   "execution_count": 7,
   "metadata": {},
   "outputs": [],
   "source": [
    "x_train, x_valid, x_test = x_train.reshape((-1, *image_shape)), x_valid.reshape((-1, *image_shape)), x_test.reshape((-1, *image_shape))"
   ]
  },
  {
   "cell_type": "code",
   "execution_count": 8,
   "metadata": {},
   "outputs": [],
   "source": [
    "train_ds = tf.data.Dataset.from_tensor_slices((x_train, y_train))\n",
    "train_ds = train_ds.shuffle(\n",
    "    100000\n",
    ").batch(\n",
    "    batch_size\n",
    ").prefetch(10)"
   ]
  },
  {
   "cell_type": "code",
   "execution_count": 9,
   "metadata": {},
   "outputs": [],
   "source": [
    "valid_ds = tf.data.Dataset.from_tensor_slices((x_valid, y_valid)).batch(batch_size)"
   ]
  },
  {
   "cell_type": "code",
   "execution_count": 10,
   "metadata": {},
   "outputs": [],
   "source": [
    "layers = tf.keras.layers"
   ]
  },
  {
   "cell_type": "code",
   "execution_count": 11,
   "metadata": {},
   "outputs": [],
   "source": [
    "class BasicBlock(tf.keras.layers.Layer):\n",
    "\n",
    "    def __init__(self, filter_num, stride=1):\n",
    "        super(BasicBlock, self).__init__()\n",
    "        self.conv1 = tf.keras.layers.Conv2D(filters=filter_num,\n",
    "                                            kernel_size=(3, 3),\n",
    "                                            strides=stride,\n",
    "                                            padding=\"same\")\n",
    "        self.bn1 = tf.keras.layers.BatchNormalization()\n",
    "        self.conv2 = tf.keras.layers.Conv2D(filters=filter_num,\n",
    "                                            kernel_size=(3, 3),\n",
    "                                            strides=1,\n",
    "                                            padding=\"same\")\n",
    "        self.bn2 = tf.keras.layers.BatchNormalization()\n",
    "        if stride != 1:\n",
    "            self.downsample = tf.keras.Sequential()\n",
    "            self.downsample.add(tf.keras.layers.Conv2D(filters=filter_num,\n",
    "                                                       kernel_size=(1, 1),\n",
    "                                                       strides=stride))\n",
    "            self.downsample.add(tf.keras.layers.BatchNormalization())\n",
    "        else:\n",
    "            self.downsample = lambda x: x\n",
    "\n",
    "    def call(self, inputs, training=None, **kwargs):\n",
    "        residual = self.downsample(inputs)\n",
    "\n",
    "        x = self.conv1(inputs)\n",
    "        x = self.bn1(x, training=training)\n",
    "        x = tf.nn.relu(x)\n",
    "        x = self.conv2(x)\n",
    "        x = self.bn2(x, training=training)\n",
    "\n",
    "        output = tf.nn.relu(tf.keras.layers.add([residual, x]))\n",
    "\n",
    "        return output\n",
    "\n",
    "def make_basic_block_layer(filter_num, blocks, stride=1):\n",
    "    res_block = tf.keras.Sequential()\n",
    "    res_block.add(BasicBlock(filter_num, stride=stride))\n",
    "\n",
    "    for _ in range(1, blocks):\n",
    "        res_block.add(BasicBlock(filter_num, stride=1))\n",
    "\n",
    "    return res_block"
   ]
  },
  {
   "cell_type": "code",
   "execution_count": 12,
   "metadata": {},
   "outputs": [],
   "source": [
    "class ResNetTypeI(tf.keras.Model):\n",
    "    def __init__(self, layer_params):\n",
    "        super(ResNetTypeI, self).__init__()\n",
    "\n",
    "        self.conv1 = tf.keras.layers.Conv2D(filters=16,\n",
    "                                            kernel_size=(3, 3),\n",
    "                                            padding=\"same\")\n",
    "        self.bn1 = tf.keras.layers.BatchNormalization()\n",
    "\n",
    "        self.layer1 = make_basic_block_layer(filter_num=16,\n",
    "                                             blocks=layer_params[0])\n",
    "        self.layer2 = make_basic_block_layer(filter_num=32,\n",
    "                                             blocks=layer_params[1],\n",
    "                                             stride=2)\n",
    "        self.layer3 = make_basic_block_layer(filter_num=64,\n",
    "                                             blocks=layer_params[2],\n",
    "                                             stride=2)\n",
    "        self.avgpool = tf.keras.layers.GlobalAveragePooling2D()\n",
    "        self.fc = tf.keras.layers.Dense(10)\n",
    "\n",
    "    def call(self, inputs, training=None, mask=None):\n",
    "        x = self.conv1(inputs)\n",
    "        x = self.bn1(x, training=training)\n",
    "        x = tf.nn.relu(x)\n",
    "        x = self.layer1(x, training=training)\n",
    "        x = self.layer2(x, training=training)\n",
    "        x = self.layer3(x, training=training)\n",
    "        x = self.avgpool(x)\n",
    "        output = self.fc(x)\n",
    "\n",
    "        return output"
   ]
  },
  {
   "cell_type": "code",
   "execution_count": 13,
   "metadata": {},
   "outputs": [],
   "source": [
    "model = ResNetTypeI([5, 5, 5])"
   ]
  },
  {
   "cell_type": "code",
   "execution_count": 14,
   "metadata": {},
   "outputs": [],
   "source": [
    "model.build(input_shape=(batch_size,*image_shape))"
   ]
  },
  {
   "cell_type": "code",
   "execution_count": 15,
   "metadata": {},
   "outputs": [
    {
     "name": "stdout",
     "output_type": "stream",
     "text": [
      "Model: \"res_net_type_i\"\n",
      "_________________________________________________________________\n",
      "Layer (type)                 Output Shape              Param #   \n",
      "=================================================================\n",
      "conv2d (Conv2D)              multiple                  448       \n",
      "_________________________________________________________________\n",
      "batch_normalization (BatchNo multiple                  64        \n",
      "_________________________________________________________________\n",
      "sequential (Sequential)      multiple                  23840     \n",
      "_________________________________________________________________\n",
      "sequential_1 (Sequential)    multiple                  89824     \n",
      "_________________________________________________________________\n",
      "sequential_3 (Sequential)    multiple                  355776    \n",
      "_________________________________________________________________\n",
      "global_average_pooling2d (Gl multiple                  0         \n",
      "_________________________________________________________________\n",
      "dense (Dense)                multiple                  650       \n",
      "=================================================================\n",
      "Total params: 470,602\n",
      "Trainable params: 468,138\n",
      "Non-trainable params: 2,464\n",
      "_________________________________________________________________\n"
     ]
    }
   ],
   "source": [
    "model.summary()"
   ]
  },
  {
   "cell_type": "code",
   "execution_count": 16,
   "metadata": {},
   "outputs": [],
   "source": [
    "def scheduler(epoch, lr):\n",
    "    if epoch < 10:\n",
    "        return 1e-3\n",
    "    elif epoch < 90:\n",
    "        return 1e-2\n",
    "    elif epoch < 150:\n",
    "        return 1e-3\n",
    "    else:\n",
    "        return 1e-4"
   ]
  },
  {
   "cell_type": "code",
   "execution_count": 17,
   "metadata": {},
   "outputs": [],
   "source": [
    "model.compile(optimizer=tf.keras.optimizers.SGD(momentum=0.9),\n",
    "              loss=tf.keras.losses.CategoricalCrossentropy(from_logits=True),\n",
    "              metrics=['accuracy'])"
   ]
  },
  {
   "cell_type": "code",
   "execution_count": 18,
   "metadata": {},
   "outputs": [],
   "source": [
    "callback = tf.keras.callbacks.LearningRateScheduler(scheduler)"
   ]
  },
  {
   "cell_type": "code",
   "execution_count": 19,
   "metadata": {
    "scrolled": true
   },
   "outputs": [],
   "source": [
    "# model.fit(x=train_ds, validation_data=valid_ds, epochs=epochs, callbacks=[callback])"
   ]
  },
  {
   "cell_type": "code",
   "execution_count": 20,
   "metadata": {},
   "outputs": [],
   "source": [
    "model.load_weights('./model_weights/resnet32_train_without_DA=all_ce.h5')"
   ]
  },
  {
   "cell_type": "code",
   "execution_count": 21,
   "metadata": {},
   "outputs": [
    {
     "data": {
      "text/plain": [
       "[1.2938404957294465, 0.7832]"
      ]
     },
     "execution_count": 21,
     "metadata": {},
     "output_type": "execute_result"
    }
   ],
   "source": [
    "model.evaluate(x=x_test, y=y_test_all, verbose=0)"
   ]
  },
  {
   "cell_type": "code",
   "execution_count": 23,
   "metadata": {},
   "outputs": [
    {
     "name": "stdout",
     "output_type": "stream",
     "text": [
      "evaluating file: cifar-fgsm-eps-0.03-time-500000.npy\n",
      "[1.918043628334999, 0.68359375]\n",
      "evaluating file: cifar-fgsm-eps-0.03-time-100000.npy\n",
      "[1.9162272736430168, 0.68359375]\n",
      "evaluating file: cifar-fgsm-eps-0.03-time-1000000.npy\n",
      "[1.918043628334999, 0.68359375]\n",
      "evaluating file: cifar-fgsm-eps-0.03-time-2300000.npy\n",
      "[1.918043628334999, 0.68359375]\n",
      "evaluating file: ./npy/batch_NTK_simple.npy\n",
      "[1.918043628334999, 0.68359375]\n",
      "evaluating file: ./npy/cifar-untargeted-cifar-nn-grey-box-train=all-ce.npy\n",
      "[2.1466585397720337, 0.6816406]\n",
      "evaluating file: ./npy/batch_NTK_cnn19.npy\n",
      "[1.8007595464587212, 0.73046875]\n",
      "evaluating file: ./npy/cifar-untargeted-cifar-nn-grey-box-cnn19-train=all-ce.npy\n",
      "[1.9180336445569992, 0.7285156]\n",
      "evaluating file: ./npy/batch_NTK_cnn19_decrease_variance.npy\n",
      "[1.7933332100510597, 0.734375]\n",
      "evaluating file: ./npy/batch_NTK_cnn19_increase_variance.npy\n",
      "[1.8046077489852905, 0.73046875]\n",
      "evaluating file: ./npy/batch_NTK_simple_decrease_variance.npy\n",
      "[1.8823599740862846, 0.68359375]\n",
      "evaluating file: ./npy/batch_NTK_simple_increase_variance.npy\n",
      "[1.887383945286274, 0.7011719]\n"
     ]
    }
   ],
   "source": [
    "file_list = ['cifar-fgsm-eps-0.03-time-500000.npy',\n",
    "             'cifar-fgsm-eps-0.03-time-100000.npy',\n",
    "             'cifar-fgsm-eps-0.03-time-1000000.npy',\n",
    "             'cifar-fgsm-eps-0.03-time-2300000.npy',\n",
    "             './npy/batch_NTK_simple.npy',\n",
    "             './npy/cifar-untargeted-cifar-nn-grey-box-train=all-ce.npy',\n",
    "             './npy/batch_NTK_cnn19.npy',\n",
    "             './npy/cifar-untargeted-cifar-nn-grey-box-cnn19-train=all-ce.npy',\n",
    "             \"./npy/batch_NTK_cnn19_decrease_variance.npy\",\n",
    "             \"./npy/batch_NTK_cnn19_increase_variance.npy\",\n",
    "             \"./npy/batch_NTK_simple_decrease_variance.npy\",\n",
    "             \"./npy/batch_NTK_simple_increase_variance.npy\"]\n",
    "\n",
    "for f in file_list:\n",
    "    tmp = onp.load(f)\n",
    "    print('evaluating file: %s'%(f))\n",
    "    result = model.evaluate(tmp[:512], y_test[:512], verbose=0)\n",
    "    print(result)"
   ]
  },
  {
   "cell_type": "code",
   "execution_count": 22,
   "metadata": {},
   "outputs": [
    {
     "name": "stdout",
     "output_type": "stream",
     "text": [
      "evaluating file: batch_NTK_simple_decrease_variance.npy\n",
      "[1.8453136654570699, 0.6958008]\n",
      "evaluating file: batch_NTK_simple_increase_variance.npy\n",
      "[1.836729809641838, 0.7026367]\n",
      "evaluating file: batch_NTK_CNN10_decrease_variance.npy\n",
      "[1.7003457713872194, 0.7324219]\n",
      "evaluating file: batch_NTK_CNN10_increase_variance.npy\n",
      "[1.7083656825125217, 0.72753906]\n"
     ]
    }
   ],
   "source": [
    "file_list = ['batch_NTK_simple_decrease_variance.npy',\n",
    "             'batch_NTK_simple_increase_variance.npy',\n",
    "             'batch_NTK_CNN10_decrease_variance.npy',\n",
    "             'batch_NTK_CNN10_increase_variance.npy']\n",
    "\n",
    "for f in file_list:\n",
    "    tmp = onp.load(f)\n",
    "    print('evaluating file: %s'%(f))\n",
    "    result = model.evaluate(tmp, y_test[:2048], verbose=0)\n",
    "    print(result)"
   ]
  },
  {
   "cell_type": "code",
   "execution_count": null,
   "metadata": {},
   "outputs": [],
   "source": [
    "# with pooling, acc can reach 72.2%\n",
    "# w.o. pooling, acc is at most 67%"
   ]
  },
  {
   "cell_type": "code",
   "execution_count": 22,
   "metadata": {},
   "outputs": [
    {
     "name": "stdout",
     "output_type": "stream",
     "text": [
      "==========NTK============\n"
     ]
    },
    {
     "data": {
      "text/plain": [
       "[1.4168568849563599, 0.734375]"
      ]
     },
     "execution_count": 22,
     "metadata": {},
     "output_type": "execute_result"
    }
   ],
   "source": [
    "tmp = onp.load('./npy/cifar-eps-time-any-npy/cifar-fgsm-eps-0.03-time-None.npy')\n",
    "print(\"==========NTK============\")\n",
    "model.evaluate(tmp, y_test[:128], verbose=0)"
   ]
  },
  {
   "cell_type": "code",
   "execution_count": 23,
   "metadata": {},
   "outputs": [
    {
     "name": "stdout",
     "output_type": "stream",
     "text": [
      "==========CE============\n"
     ]
    },
    {
     "data": {
      "text/plain": [
       "[0.7829372922424227, 0.8383789]"
      ]
     },
     "execution_count": 23,
     "metadata": {},
     "output_type": "execute_result"
    }
   ],
   "source": [
    "tmp = onp.load('./npy/cifar-untargeted-cifar-nn-grey-box-train=4096-ce.npy')\n",
    "print(\"==========CE============\")\n",
    "model.evaluate(tmp, y_test[:2048], verbose=0)"
   ]
  },
  {
   "cell_type": "code",
   "execution_count": 24,
   "metadata": {},
   "outputs": [
    {
     "name": "stdout",
     "output_type": "stream",
     "text": [
      "==========MSE============\n"
     ]
    },
    {
     "data": {
      "text/plain": [
       "[0.9031526042381302, 0.8071289]"
      ]
     },
     "execution_count": 24,
     "metadata": {},
     "output_type": "execute_result"
    }
   ],
   "source": [
    "tmp = onp.load('./npy/cifar-untargeted-cifar-nn-grey-box-train=4096-mse.npy')\n",
    "print(\"==========MSE============\")\n",
    "model.evaluate(tmp, y_test[:2048], verbose=0)"
   ]
  },
  {
   "cell_type": "code",
   "execution_count": 26,
   "metadata": {},
   "outputs": [
    {
     "data": {
      "text/plain": [
       "[1.589853584766388, 0.7109375]"
      ]
     },
     "execution_count": 26,
     "metadata": {},
     "output_type": "execute_result"
    }
   ],
   "source": [
    "tmp = onp.load('./npy/cifar-fgsm-eps-0.03-time-None-nngp.npy')\n",
    "model.evaluate(tmp, y_test[:128], verbose=0)"
   ]
  },
  {
   "cell_type": "code",
   "execution_count": 23,
   "metadata": {},
   "outputs": [
    {
     "data": {
      "text/plain": [
       "[1.7031463384628296, 0.72802734375]"
      ]
     },
     "execution_count": 23,
     "metadata": {},
     "output_type": "execute_result"
    }
   ],
   "source": [
    "tmp = onp.load('./batch_NTK_cnn_19.npy')\n",
    "model.evaluate(tmp, y_test[:2048], verbose=0)"
   ]
  },
  {
   "cell_type": "code",
   "execution_count": 26,
   "metadata": {},
   "outputs": [
    {
     "data": {
      "text/plain": [
       "[1.8305855989456177, 0.70068359375]"
      ]
     },
     "execution_count": 26,
     "metadata": {},
     "output_type": "execute_result"
    }
   ],
   "source": [
    "tmp = onp.load('./batch_NTK_simple.npy')\n",
    "model.evaluate(tmp, y_test[:2048], verbose=0)"
   ]
  },
  {
   "cell_type": "code",
   "execution_count": 27,
   "metadata": {},
   "outputs": [
    {
     "name": "stdout",
     "output_type": "stream",
     "text": [
      "==========small============\n"
     ]
    },
    {
     "data": {
      "text/plain": [
       "[2.133112907409668, 0.67529296875]"
      ]
     },
     "execution_count": 27,
     "metadata": {},
     "output_type": "execute_result"
    }
   ],
   "source": [
    "tmp = onp.load('./npy/cifar-untargeted-cifar-nn-grey-box-train=all-ce.npy')\n",
    "print(\"==========small============\")\n",
    "model.evaluate(tmp, y_test[:2048], verbose=0)"
   ]
  },
  {
   "cell_type": "code",
   "execution_count": 28,
   "metadata": {},
   "outputs": [
    {
     "data": {
      "text/plain": [
       "[1.746604561805725, 0.72314453125]"
      ]
     },
     "execution_count": 28,
     "metadata": {},
     "output_type": "execute_result"
    }
   ],
   "source": [
    "tmp = onp.load('./npy/cifar-untargeted-cifar-nn-grey-box-cnn19-train=all-ce.npy')\n",
    "model.evaluate(tmp, y_test[:2048], verbose=0)"
   ]
  },
  {
   "cell_type": "code",
   "execution_count": null,
   "metadata": {},
   "outputs": [],
   "source": []
  }
 ],
 "metadata": {
  "kernelspec": {
   "display_name": "Python 3",
   "language": "python",
   "name": "python3"
  },
  "language_info": {
   "codemirror_mode": {
    "name": "ipython",
    "version": 3
   },
   "file_extension": ".py",
   "mimetype": "text/x-python",
   "name": "python",
   "nbconvert_exporter": "python",
   "pygments_lexer": "ipython3",
   "version": "3.6.8"
  }
 },
 "nbformat": 4,
 "nbformat_minor": 2
}
